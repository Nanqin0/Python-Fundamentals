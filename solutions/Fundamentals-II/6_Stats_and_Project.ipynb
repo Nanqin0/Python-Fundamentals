{
 "cells": [
  {
   "cell_type": "markdown",
   "metadata": {},
   "source": [
    "# 6 – Statistic Tests and 🚀 Project\n",
    "\n",
    "* * * \n",
    "\n",
    "### Icons used in this notebook\n",
    "🔔 **Question**: A quick question to help you understand what's going on.<br>\n",
    "🥊 **Challenge**: Interactive excersise. We'll work through these in the workshop!<br>\n",
    "💭 **Reflection**: Helping you think about programming.<br>\n",
    "⚠️ **Warning**: Heads-up about tricky stuff or common mistakes.<br>\n",
    "💡 **Tip**: How to do something a bit more efficiently or effectively.<br>\n",
    "🎬 **Demo**: Showing off something more advanced – so you know what Python can be used for!<br>\n",
    "\n",
    "### Learning Objectives\n",
    "1. [Doing Statistic Tests using `statsmodels`](#stats)\n",
    "2. [🚀 Project](#project)"
   ]
  },
  {
   "cell_type": "markdown",
   "metadata": {
    "tags": []
   },
   "source": [
    "<a id='stats'></a>\n",
    "\n",
    "# Doing Statistic Tests using `statsmodels`\n",
    "\n",
    "What if we want to perform regression or statistical tests on our data? `statsmodels` is a package that is useful for statistical analysis in Python. We will introduce two basic statistical methods available through `statsmodels` using the Gapminder dataset we have been using in the previous notebook. \n",
    "\n",
    "⚠️ **Warning**: `statsmodels` is designed to use with numerical data. If you want to use categorical variables in a model, you will often need to convert those variables from strings to numbers.\n",
    "\n",
    "💡 **Tip**: If you see an `ImportError` when trying to import statsmodels below, **uncomment** the line in the next cell that says `!pip install statsmodels`. This will install the library. "
   ]
  },
  {
   "cell_type": "code",
   "execution_count": null,
   "metadata": {},
   "outputs": [],
   "source": [
    "# Install statsmodels if necessary\n",
    "#!pip install statsmodels "
   ]
  },
  {
   "cell_type": "code",
   "execution_count": 29,
   "metadata": {},
   "outputs": [],
   "source": [
    "import statsmodels.api as sm\n",
    "import pandas as pd\n",
    "import numpy as np\n",
    "import seaborn as sns"
   ]
  },
  {
   "cell_type": "code",
   "execution_count": 3,
   "metadata": {},
   "outputs": [],
   "source": [
    "# Load in our gapminder data\n",
    "df = pd.read_csv('../../../data/gapminder-FiveYearData.csv')"
   ]
  },
  {
   "cell_type": "code",
   "execution_count": 4,
   "metadata": {},
   "outputs": [
    {
     "data": {
      "text/html": [
       "<div>\n",
       "<style scoped>\n",
       "    .dataframe tbody tr th:only-of-type {\n",
       "        vertical-align: middle;\n",
       "    }\n",
       "\n",
       "    .dataframe tbody tr th {\n",
       "        vertical-align: top;\n",
       "    }\n",
       "\n",
       "    .dataframe thead th {\n",
       "        text-align: right;\n",
       "    }\n",
       "</style>\n",
       "<table border=\"1\" class=\"dataframe\">\n",
       "  <thead>\n",
       "    <tr style=\"text-align: right;\">\n",
       "      <th></th>\n",
       "      <th>country</th>\n",
       "      <th>year</th>\n",
       "      <th>pop</th>\n",
       "      <th>continent</th>\n",
       "      <th>lifeExp</th>\n",
       "      <th>gdpPercap</th>\n",
       "    </tr>\n",
       "  </thead>\n",
       "  <tbody>\n",
       "    <tr>\n",
       "      <th>0</th>\n",
       "      <td>Afghanistan</td>\n",
       "      <td>1952</td>\n",
       "      <td>8425333.0</td>\n",
       "      <td>Asia</td>\n",
       "      <td>28.801</td>\n",
       "      <td>779.445314</td>\n",
       "    </tr>\n",
       "    <tr>\n",
       "      <th>1</th>\n",
       "      <td>Afghanistan</td>\n",
       "      <td>1957</td>\n",
       "      <td>9240934.0</td>\n",
       "      <td>Asia</td>\n",
       "      <td>30.332</td>\n",
       "      <td>820.853030</td>\n",
       "    </tr>\n",
       "    <tr>\n",
       "      <th>2</th>\n",
       "      <td>Afghanistan</td>\n",
       "      <td>1962</td>\n",
       "      <td>10267083.0</td>\n",
       "      <td>Asia</td>\n",
       "      <td>31.997</td>\n",
       "      <td>853.100710</td>\n",
       "    </tr>\n",
       "    <tr>\n",
       "      <th>3</th>\n",
       "      <td>Afghanistan</td>\n",
       "      <td>1967</td>\n",
       "      <td>11537966.0</td>\n",
       "      <td>Asia</td>\n",
       "      <td>34.020</td>\n",
       "      <td>836.197138</td>\n",
       "    </tr>\n",
       "    <tr>\n",
       "      <th>4</th>\n",
       "      <td>Afghanistan</td>\n",
       "      <td>1972</td>\n",
       "      <td>13079460.0</td>\n",
       "      <td>Asia</td>\n",
       "      <td>36.088</td>\n",
       "      <td>739.981106</td>\n",
       "    </tr>\n",
       "    <tr>\n",
       "      <th>...</th>\n",
       "      <td>...</td>\n",
       "      <td>...</td>\n",
       "      <td>...</td>\n",
       "      <td>...</td>\n",
       "      <td>...</td>\n",
       "      <td>...</td>\n",
       "    </tr>\n",
       "    <tr>\n",
       "      <th>1699</th>\n",
       "      <td>Zimbabwe</td>\n",
       "      <td>1987</td>\n",
       "      <td>9216418.0</td>\n",
       "      <td>Africa</td>\n",
       "      <td>62.351</td>\n",
       "      <td>706.157306</td>\n",
       "    </tr>\n",
       "    <tr>\n",
       "      <th>1700</th>\n",
       "      <td>Zimbabwe</td>\n",
       "      <td>1992</td>\n",
       "      <td>10704340.0</td>\n",
       "      <td>Africa</td>\n",
       "      <td>60.377</td>\n",
       "      <td>693.420786</td>\n",
       "    </tr>\n",
       "    <tr>\n",
       "      <th>1701</th>\n",
       "      <td>Zimbabwe</td>\n",
       "      <td>1997</td>\n",
       "      <td>11404948.0</td>\n",
       "      <td>Africa</td>\n",
       "      <td>46.809</td>\n",
       "      <td>792.449960</td>\n",
       "    </tr>\n",
       "    <tr>\n",
       "      <th>1702</th>\n",
       "      <td>Zimbabwe</td>\n",
       "      <td>2002</td>\n",
       "      <td>11926563.0</td>\n",
       "      <td>Africa</td>\n",
       "      <td>39.989</td>\n",
       "      <td>672.038623</td>\n",
       "    </tr>\n",
       "    <tr>\n",
       "      <th>1703</th>\n",
       "      <td>Zimbabwe</td>\n",
       "      <td>2007</td>\n",
       "      <td>12311143.0</td>\n",
       "      <td>Africa</td>\n",
       "      <td>43.487</td>\n",
       "      <td>469.709298</td>\n",
       "    </tr>\n",
       "  </tbody>\n",
       "</table>\n",
       "<p>1704 rows × 6 columns</p>\n",
       "</div>"
      ],
      "text/plain": [
       "          country  year         pop continent  lifeExp   gdpPercap\n",
       "0     Afghanistan  1952   8425333.0      Asia   28.801  779.445314\n",
       "1     Afghanistan  1957   9240934.0      Asia   30.332  820.853030\n",
       "2     Afghanistan  1962  10267083.0      Asia   31.997  853.100710\n",
       "3     Afghanistan  1967  11537966.0      Asia   34.020  836.197138\n",
       "4     Afghanistan  1972  13079460.0      Asia   36.088  739.981106\n",
       "...           ...   ...         ...       ...      ...         ...\n",
       "1699     Zimbabwe  1987   9216418.0    Africa   62.351  706.157306\n",
       "1700     Zimbabwe  1992  10704340.0    Africa   60.377  693.420786\n",
       "1701     Zimbabwe  1997  11404948.0    Africa   46.809  792.449960\n",
       "1702     Zimbabwe  2002  11926563.0    Africa   39.989  672.038623\n",
       "1703     Zimbabwe  2007  12311143.0    Africa   43.487  469.709298\n",
       "\n",
       "[1704 rows x 6 columns]"
      ]
     },
     "execution_count": 4,
     "metadata": {},
     "output_type": "execute_result"
    }
   ],
   "source": [
    "df"
   ]
  },
  {
   "cell_type": "markdown",
   "metadata": {},
   "source": [
    "## Performing a t-test\n",
    "\n",
    "A t-test is a test of the significance of the difference between two distributions. Let's look if there's a significant difference between the life expectancy of African and European countries. \n",
    "\n",
    "We proceed as follows:\n",
    "\n",
    "1. Subset to the appropriate rows and column using `df.loc[]`.\n",
    "2. Run the `ttest_ind` function, which takes two arguments, one for each series. \n",
    "3. Interpret the output. "
   ]
  },
  {
   "cell_type": "code",
   "execution_count": 5,
   "metadata": {},
   "outputs": [],
   "source": [
    "africa = df.loc[df['continent'] == 'Africa', ['lifeExp']]\n",
    "europe = df.loc[df['continent'] == 'Europe', ['lifeExp']]"
   ]
  },
  {
   "cell_type": "markdown",
   "metadata": {},
   "source": [
    "🔔 **Question**: What does each of the outputs correspond to? What is the type of the output?"
   ]
  },
  {
   "cell_type": "code",
   "execution_count": 6,
   "metadata": {
    "scrolled": true
   },
   "outputs": [
    {
     "data": {
      "text/plain": [
       "(array([-43.54269082]), array([1.62877328e-231]), 982.0)"
      ]
     },
     "execution_count": 6,
     "metadata": {},
     "output_type": "execute_result"
    }
   ],
   "source": [
    "res = sm.stats.ttest_ind(africa, europe)\n",
    "res"
   ]
  },
  {
   "cell_type": "code",
   "execution_count": 7,
   "metadata": {},
   "outputs": [
    {
     "name": "stdout",
     "output_type": "stream",
     "text": [
      "t-score: [-43.54269082]\n",
      "p-value: [1.62877328e-231]\n",
      "Degrees of Freedom: 982.0\n"
     ]
    }
   ],
   "source": [
    "print('t-score:', res[0])\n",
    "print('p-value:', res[1])\n",
    "print('Degrees of Freedom:', res[2])"
   ]
  },
  {
   "cell_type": "markdown",
   "metadata": {},
   "source": [
    "The t-score is a ratio between the difference **between** two groups and the difference **within** the groups.\n",
    "\n",
    "- Larger t-score = more difference between groups.\n",
    "- Smaller t-score = more similarity between groups.\n",
    "- Our t-score of -44 tells us that Europe and Africa are 44 times as different from each other as they are within each other. \n",
    "\n",
    "These and other statistical tests can be found in the [documentation](https://www.statsmodels.org/dev/api.html). "
   ]
  },
  {
   "cell_type": "markdown",
   "metadata": {
    "tags": []
   },
   "source": [
    "## Performing Linear Regression\n",
    "\n",
    "Regression is another useful part of the `statsmodels` package and a common statistical test to apply. We will work through an example with Ordinary Least Squares (OLS) regression, using `sm.OLS()`.\n",
    "\n",
    "For our Gapminder data, let's see whether year helps to predict life expectancy.\n",
    "\n",
    "First, let's create a violin plot using `seaborn` to check the distribution of life expectancy per year."
   ]
  },
  {
   "cell_type": "code",
   "execution_count": 30,
   "metadata": {},
   "outputs": [
    {
     "data": {
      "text/plain": [
       "<AxesSubplot:xlabel='year', ylabel='lifeExp'>"
      ]
     },
     "execution_count": 30,
     "metadata": {},
     "output_type": "execute_result"
    },
    {
     "data": {
      "image/png": "[encoded data removed]",
      "text/plain": [
       "<Figure size 640x480 with 1 Axes>"
      ]
     },
     "metadata": {},
     "output_type": "display_data"
    }
   ],
   "source": [
    "sns.violinplot(x='year', y='lifeExp', data=df)"
   ]
  },
  {
   "cell_type": "markdown",
   "metadata": {},
   "source": [
    "That looks like there's a linear relationship: the life expectancy seems to increase over time."
   ]
  },
  {
   "cell_type": "markdown",
   "metadata": {},
   "source": [
    "\n",
    "Now let's use `statsmodels` to create a regression function, which takes two inputs: \n",
    "- A matrix $X$ with the input variables (one or more columns). In this case, it will just contain the \"year\" column.\n",
    "- An array $y$ with the output variable (single column). In this case, it will be the \"lifeExp\" column.\n",
    "\n",
    "In this case, we can make `X` and `y` by simply selecting the appropriate columns."
   ]
  },
  {
   "cell_type": "code",
   "execution_count": 23,
   "metadata": {},
   "outputs": [],
   "source": [
    "# Set up X and y\n",
    "X = df['year']\n",
    "y = df['lifeExp']"
   ]
  },
  {
   "cell_type": "markdown",
   "metadata": {},
   "source": [
    "The model is set up using `sm.OLS(y, X)` which tells which data to use in the model. The `.fit()` method generates the fitted model, which is then saved to `results`. \n",
    "\n",
    "🔔 **Question**:  What happens when you print the `result` variable?"
   ]
  },
  {
   "cell_type": "code",
   "execution_count": 24,
   "metadata": {},
   "outputs": [
    {
     "data": {
      "text/plain": [
       "<statsmodels.regression.linear_model.RegressionResultsWrapper at 0x7f7f72efc190>"
      ]
     },
     "execution_count": 24,
     "metadata": {},
     "output_type": "execute_result"
    }
   ],
   "source": [
    "result = sm.OLS(y, X).fit()\n",
    "result"
   ]
  },
  {
   "cell_type": "markdown",
   "metadata": {},
   "source": [
    "`result` is actually an object containing the output of the model. This can then be used to make predictions, visualizations, etc. The`.summary()` method that gives a good overview of each coefficient and overall statistical properties of the model. Let's print the summary for this model."
   ]
  },
  {
   "cell_type": "code",
   "execution_count": 25,
   "metadata": {},
   "outputs": [
    {
     "name": "stdout",
     "output_type": "stream",
     "text": [
      "                                 OLS Regression Results                                \n",
      "=======================================================================================\n",
      "Dep. Variable:                lifeExp   R-squared (uncentered):                   0.956\n",
      "Model:                            OLS   Adj. R-squared (uncentered):              0.956\n",
      "Method:                 Least Squares   F-statistic:                          3.743e+04\n",
      "Date:                Wed, 23 Nov 2022   Prob (F-statistic):                        0.00\n",
      "Time:                        12:39:51   Log-Likelihood:                         -6748.2\n",
      "No. Observations:                1704   AIC:                                  1.350e+04\n",
      "Df Residuals:                    1703   BIC:                                  1.350e+04\n",
      "Df Model:                           1                                                  \n",
      "Covariance Type:            nonrobust                                                  \n",
      "==============================================================================\n",
      "                 coef    std err          t      P>|t|      [0.025      0.975]\n",
      "------------------------------------------------------------------------------\n",
      "year           0.0301      0.000    193.471      0.000       0.030       0.030\n",
      "==============================================================================\n",
      "Omnibus:                      963.786   Durbin-Watson:                   0.314\n",
      "Prob(Omnibus):                  0.000   Jarque-Bera (JB):              113.361\n",
      "Skew:                          -0.257   Prob(JB):                     2.42e-25\n",
      "Kurtosis:                       1.846   Cond. No.                         1.00\n",
      "==============================================================================\n",
      "\n",
      "Notes:\n",
      "[1] R² is computed without centering (uncentered) since the model does not contain a constant.\n",
      "[2] Standard Errors assume that the covariance matrix of the errors is correctly specified.\n"
     ]
    }
   ],
   "source": [
    "print(result.summary())"
   ]
  },
  {
   "cell_type": "markdown",
   "metadata": {},
   "source": [
    "🔔 **Question**: Is this model good at predicting life expectancy? How many variables are significant? If you were to improve this model, what would you add/remove/change?"
   ]
  },
  {
   "cell_type": "markdown",
   "metadata": {},
   "source": [
    "## 🥊 Challenge: Multiple Linear Regression\n",
    "\n",
    "Let's practice with some more `statsmodels` functions. Let's modify the regression above to include other columns.\n",
    "\n",
    "1. For our X, include multiple numeric columns.\n",
    "2. Fit and run a multiple linear regression on the data. \n",
    "4. Interpret the model. What does the model say now?"
   ]
  },
  {
   "cell_type": "code",
   "execution_count": 33,
   "metadata": {},
   "outputs": [
    {
     "name": "stdout",
     "output_type": "stream",
     "text": [
      "                                 OLS Regression Results                                \n",
      "=======================================================================================\n",
      "Dep. Variable:                lifeExp   R-squared (uncentered):                   0.971\n",
      "Model:                            OLS   Adj. R-squared (uncentered):              0.971\n",
      "Method:                 Least Squares   F-statistic:                          2.876e+04\n",
      "Date:                Wed, 23 Nov 2022   Prob (F-statistic):                        0.00\n",
      "Time:                        12:46:02   Log-Likelihood:                         -6394.8\n",
      "No. Observations:                1704   AIC:                                  1.279e+04\n",
      "Df Residuals:                    1702   BIC:                                  1.280e+04\n",
      "Df Model:                           2                                                  \n",
      "Covariance Type:            nonrobust                                                  \n",
      "==============================================================================\n",
      "                 coef    std err          t      P>|t|      [0.025      0.975]\n",
      "------------------------------------------------------------------------------\n",
      "year           0.0273      0.000    174.224      0.000       0.027       0.028\n",
      "gdpPercap      0.0008   2.54e-05     29.578      0.000       0.001       0.001\n",
      "==============================================================================\n",
      "Omnibus:                      474.960   Durbin-Watson:                   0.347\n",
      "Prob(Omnibus):                  0.000   Jarque-Bera (JB):             2368.222\n",
      "Skew:                          -1.225   Prob(JB):                         0.00\n",
      "Kurtosis:                       8.230   Cond. No.                         7.73\n",
      "==============================================================================\n",
      "\n",
      "Notes:\n",
      "[1] R² is computed without centering (uncentered) since the model does not contain a constant.\n",
      "[2] Standard Errors assume that the covariance matrix of the errors is correctly specified.\n"
     ]
    }
   ],
   "source": [
    "# YOUR CODE HERE\n",
    "\n",
    "X = df[['year','gdpPercap']]\n",
    "y = df['lifeExp']\n",
    "result = sm.OLS(y, X).fit()\n",
    "print(result.summary())"
   ]
  },
  {
   "cell_type": "markdown",
   "metadata": {},
   "source": [
    "# 🚀 Project\n",
    "\n",
    "* Time: 30 minutes.\n",
    "* The helper will be in a **breakout room**: Join them if you want to work there, or ask questions about the code!\n",
    "* The instructor will stay in the **main room**: Feel free to ask questions here as well.\n",
    "\n",
    "### Data: Airline Tweets\n",
    "In this section, we will go through an example analysis of tweets about airlines. We will bring together the basic programming, loading data, and statistical analysis/visualization techniques from this workshop to analyze airline tweets. \n",
    "\n",
    "First, let's import the packages to use in this analysis:"
   ]
  },
  {
   "cell_type": "code",
   "execution_count": 28,
   "metadata": {},
   "outputs": [],
   "source": [
    "import numpy as np\n",
    "import pandas as pd\n",
    "import os\n",
    "import statsmodels.api as sm"
   ]
  },
  {
   "cell_type": "markdown",
   "metadata": {},
   "source": [
    "## 1. Getting the data\n",
    "\n",
    "Before we can get our data, you should know something more about **filepaths**. \n",
    "\n",
    "A filepath is the location of a file on your system. There are two kinds of filepaths:\n",
    "\n",
    "* **absolute**: The filepath from the top level directory (or folder).\n",
    "    * For Macs, these begin with a forward slash, followed by folders separated by a **forward slash**. E.g. `/Users/[USERNAME]/directory/subdirectory/file`.\n",
    "    * For Windows, these begin with a backward slash or, more commonly, a volume, e.g. `C:\\Documents\\directory\\subdirectory\\file`. Note the **backward slash** to separate folders.\n",
    "* **relative**: The filepath relative to the current working directory (i.e. notebook location). Common locations include:\n",
    "    * File in same folder: `./file` or `file` (`.` means 'here').\n",
    "    * Subfolder: `subfolder/file`.\n",
    "    * Higher folder: `../sisterfolder/file` (`..` means 'go up one level in the directory')."
   ]
  },
  {
   "cell_type": "markdown",
   "metadata": {},
   "source": [
    "When you are figuring out what filepath to use, you can use `os.listdir([PATH])` to list all subdirectories in a path. For example, let's see what directories are available to us in the current folder (noted with a dot `.`).\n",
    "\n",
    "🔔 **Question**: In this current folder we're checking out, which items are folders and which are files? (**Hint:** You can double check by looking at the files in JupyterLab/ Jupyter Notebook)."
   ]
  },
  {
   "cell_type": "code",
   "execution_count": 1,
   "metadata": {},
   "outputs": [
    {
     "data": {
      "text/plain": [
       "['6_Project',\n",
       " '.DS_Store',\n",
       " '4_Control_Flow_and_Functions.ipynb',\n",
       " '5_Data_Analysis',\n",
       " '5_Data_Analysis.ipynb',\n",
       " '.ipynb_checkpoints',\n",
       " '6_Project.ipynb']"
      ]
     },
     "execution_count": 1,
     "metadata": {},
     "output_type": "execute_result"
    }
   ],
   "source": [
    "import os\n",
    "os.listdir('.')"
   ]
  },
  {
   "cell_type": "markdown",
   "metadata": {},
   "source": [
    "Looking up the items in the folder after moving up one level works like this:"
   ]
  },
  {
   "cell_type": "code",
   "execution_count": 2,
   "metadata": {},
   "outputs": [
    {
     "data": {
      "text/plain": [
       "['Fundamentals-II', '.DS_Store', 'Fundamentals-I', '.ipynb_checkpoints']"
      ]
     },
     "execution_count": 2,
     "metadata": {},
     "output_type": "execute_result"
    }
   ],
   "source": [
    "os.listdir('../')"
   ]
  },
  {
   "cell_type": "markdown",
   "metadata": {},
   "source": [
    "### 1.1 Our Dataset: Airline Tweets\n",
    "\n",
    "The dataset we will use is from the [Airline tweets sentiment dataset](https://www.kaggle.com/datasets/crowdflower/twitter-airline-sentiment?resource=download), which contains tweets that tag one of several major airlines. The dataset also includes information about the tweet location and time, the airline mentioned, and the sentiment of the tweet.\n",
    "\n",
    "There are several files in the \"airline\" subfolder of the \"data\" folder in our Python Fundamentals repository. \n",
    "\n",
    "🔔 **Question**: Use the File Browser to the left of your screen. Can you find the \"airline\" folder?"
   ]
  },
  {
   "cell_type": "markdown",
   "metadata": {
    "tags": []
   },
   "source": [
    "### 1.2 Import Data\n",
    "\n",
    "Use `os.listdir()` to see the files in the \"airlines\" folder. \n",
    "\n",
    "💡 **Tip**: Remember how to move up in the folder structure? `../../` goes up two folders!"
   ]
  },
  {
   "cell_type": "code",
   "execution_count": 37,
   "metadata": {},
   "outputs": [
    {
     "data": {
      "text/plain": [
       "['Delta.csv',\n",
       " 'United.csv',\n",
       " 'Southwest.csv',\n",
       " 'US-Airways.csv',\n",
       " 'Virgin-America.csv',\n",
       " 'README.txt',\n",
       " 'American.csv']"
      ]
     },
     "execution_count": 37,
     "metadata": {},
     "output_type": "execute_result"
    }
   ],
   "source": [
    "# YOUR CODE HERE\n",
    "os.listdir('../../data/airline_data')"
   ]
  },
  {
   "cell_type": "markdown",
   "metadata": {},
   "source": [
    "### 1.3 Load in a Single File\n",
    "\n",
    "First, let's load in a single file and take a look at it. \n",
    "\n",
    "1. Read in the `Delta.csv` file as a `pandas` object.\n",
    "2. How many rows are there? How many columns?\n",
    "3. Which columns seem most informative? Are there any extra or redundant columns? \n",
    "4. Where is airline represented in the csv file?"
   ]
  },
  {
   "cell_type": "code",
   "execution_count": 1,
   "metadata": {
    "scrolled": true,
    "tags": []
   },
   "outputs": [],
   "source": [
    "import pandas as pd\n",
    "\n",
    "# Load in file for Delta\n",
    "single_airline = pd.read_csv('../../data/airline_data/Delta.csv')"
   ]
  },
  {
   "cell_type": "markdown",
   "metadata": {},
   "source": [
    "It turns out that the airline column is not present in any column, but is in the title of the csv file. Let's extract that information and add it to the DataFrame in a column called `airline`. "
   ]
  },
  {
   "cell_type": "code",
   "execution_count": 24,
   "metadata": {},
   "outputs": [
    {
     "name": "stdout",
     "output_type": "stream",
     "text": [
      "Delta.csv\n",
      "Delta\n"
     ]
    }
   ],
   "source": [
    "# Example: extracting filename from path\n",
    "filename = 'airline_data/Delta.csv'.split('/')[1] \n",
    "print(filename)\n",
    "\n",
    "# Splitting the filename again to get rid of '.csv'\n",
    "filename_short = filename.split('.')[0] \n",
    "print(filename_short)\n",
    "\n",
    "# Fill in the blanks\n",
    "single_airline['airline'] = filename_short"
   ]
  },
  {
   "cell_type": "markdown",
   "metadata": {},
   "source": [
    "Let's create a function for this. We call it `process_file()`. It takes in a filepath in an argument called `filepath`, and it returns the dataframe with the airline column added. \n",
    "\n",
    "Use the example above to set `name` variable to the split of the filepath so that the airline column includes the name of the airline."
   ]
  },
  {
   "cell_type": "code",
   "execution_count": 25,
   "metadata": {},
   "outputs": [],
   "source": [
    "def process_file(filepath):\n",
    "    df = pd.read_csv(filepath)\n",
    "    # Add code to extract airline name and save it to a name variable\n",
    "    filename_short = filepath.split('/')[-1].split('.')[0]\n",
    "    df['airline'] = filename_short\n",
    "    return(df)"
   ]
  },
  {
   "cell_type": "markdown",
   "metadata": {},
   "source": [
    "🔔 **Question**: Here's another filepath: `'data/US-Airways.csv'` What will be in the airline column in the output from the function below?"
   ]
  },
  {
   "cell_type": "code",
   "execution_count": 26,
   "metadata": {},
   "outputs": [
    {
     "data": {
      "text/html": [
       "<div>\n",
       "<style scoped>\n",
       "    .dataframe tbody tr th:only-of-type {\n",
       "        vertical-align: middle;\n",
       "    }\n",
       "\n",
       "    .dataframe tbody tr th {\n",
       "        vertical-align: top;\n",
       "    }\n",
       "\n",
       "    .dataframe thead th {\n",
       "        text-align: right;\n",
       "    }\n",
       "</style>\n",
       "<table border=\"1\" class=\"dataframe\">\n",
       "  <thead>\n",
       "    <tr style=\"text-align: right;\">\n",
       "      <th></th>\n",
       "      <th>Unnamed: 0</th>\n",
       "      <th>tweet_id</th>\n",
       "      <th>airline_sentiment</th>\n",
       "      <th>airline_sentiment_confidence</th>\n",
       "      <th>negativereason</th>\n",
       "      <th>negativereason_confidence</th>\n",
       "      <th>airline_sentiment_gold</th>\n",
       "      <th>name</th>\n",
       "      <th>negativereason_gold</th>\n",
       "      <th>retweet_count</th>\n",
       "      <th>text</th>\n",
       "      <th>tweet_coord</th>\n",
       "      <th>tweet_created</th>\n",
       "      <th>tweet_location</th>\n",
       "      <th>user_timezone</th>\n",
       "      <th>airline</th>\n",
       "    </tr>\n",
       "  </thead>\n",
       "  <tbody>\n",
       "    <tr>\n",
       "      <th>0</th>\n",
       "      <td>8966</td>\n",
       "      <td>570310600460525568</td>\n",
       "      <td>negative</td>\n",
       "      <td>0.6292</td>\n",
       "      <td>Flight Booking Problems</td>\n",
       "      <td>0.3146</td>\n",
       "      <td>NaN</td>\n",
       "      <td>jhazelnut</td>\n",
       "      <td>NaN</td>\n",
       "      <td>0</td>\n",
       "      <td>@USAirways  is there a better time to call? My...</td>\n",
       "      <td>NaN</td>\n",
       "      <td>2015-02-24 11:53:37 -0800</td>\n",
       "      <td>NaN</td>\n",
       "      <td>NaN</td>\n",
       "      <td>US-Airways</td>\n",
       "    </tr>\n",
       "    <tr>\n",
       "      <th>1</th>\n",
       "      <td>8967</td>\n",
       "      <td>570310144459972608</td>\n",
       "      <td>negative</td>\n",
       "      <td>1.0000</td>\n",
       "      <td>Customer Service Issue</td>\n",
       "      <td>1.0000</td>\n",
       "      <td>NaN</td>\n",
       "      <td>GAKotsch</td>\n",
       "      <td>NaN</td>\n",
       "      <td>0</td>\n",
       "      <td>@USAirways and when will one of these agents b...</td>\n",
       "      <td>NaN</td>\n",
       "      <td>2015-02-24 11:51:48 -0800</td>\n",
       "      <td>NaN</td>\n",
       "      <td>Atlantic Time (Canada)</td>\n",
       "      <td>US-Airways</td>\n",
       "    </tr>\n",
       "    <tr>\n",
       "      <th>2</th>\n",
       "      <td>8968</td>\n",
       "      <td>570309340952993796</td>\n",
       "      <td>neutral</td>\n",
       "      <td>1.0000</td>\n",
       "      <td>NaN</td>\n",
       "      <td>NaN</td>\n",
       "      <td>NaN</td>\n",
       "      <td>DebbiMcGinnis</td>\n",
       "      <td>NaN</td>\n",
       "      <td>0</td>\n",
       "      <td>@USAirways is a DM possible if you aren't foll...</td>\n",
       "      <td>NaN</td>\n",
       "      <td>2015-02-24 11:48:37 -0800</td>\n",
       "      <td>Missourah</td>\n",
       "      <td>Hawaii</td>\n",
       "      <td>US-Airways</td>\n",
       "    </tr>\n",
       "    <tr>\n",
       "      <th>3</th>\n",
       "      <td>8969</td>\n",
       "      <td>570309000279023616</td>\n",
       "      <td>neutral</td>\n",
       "      <td>1.0000</td>\n",
       "      <td>NaN</td>\n",
       "      <td>NaN</td>\n",
       "      <td>NaN</td>\n",
       "      <td>AshleyKAtherton</td>\n",
       "      <td>NaN</td>\n",
       "      <td>0</td>\n",
       "      <td>@USAirways Fortunately you have staff like Lyn...</td>\n",
       "      <td>NaN</td>\n",
       "      <td>2015-02-24 11:47:16 -0800</td>\n",
       "      <td>NaN</td>\n",
       "      <td>Central Time (US &amp; Canada)</td>\n",
       "      <td>US-Airways</td>\n",
       "    </tr>\n",
       "    <tr>\n",
       "      <th>4</th>\n",
       "      <td>8970</td>\n",
       "      <td>570308799950692353</td>\n",
       "      <td>negative</td>\n",
       "      <td>1.0000</td>\n",
       "      <td>Customer Service Issue</td>\n",
       "      <td>0.6452</td>\n",
       "      <td>NaN</td>\n",
       "      <td>retardedlarry</td>\n",
       "      <td>NaN</td>\n",
       "      <td>0</td>\n",
       "      <td>@USAirways just hung up on me again.  Another ...</td>\n",
       "      <td>NaN</td>\n",
       "      <td>2015-02-24 11:46:28 -0800</td>\n",
       "      <td>NaN</td>\n",
       "      <td>NaN</td>\n",
       "      <td>US-Airways</td>\n",
       "    </tr>\n",
       "    <tr>\n",
       "      <th>...</th>\n",
       "      <td>...</td>\n",
       "      <td>...</td>\n",
       "      <td>...</td>\n",
       "      <td>...</td>\n",
       "      <td>...</td>\n",
       "      <td>...</td>\n",
       "      <td>...</td>\n",
       "      <td>...</td>\n",
       "      <td>...</td>\n",
       "      <td>...</td>\n",
       "      <td>...</td>\n",
       "      <td>...</td>\n",
       "      <td>...</td>\n",
       "      <td>...</td>\n",
       "      <td>...</td>\n",
       "      <td>...</td>\n",
       "    </tr>\n",
       "    <tr>\n",
       "      <th>2908</th>\n",
       "      <td>11874</td>\n",
       "      <td>567710245053407232</td>\n",
       "      <td>negative</td>\n",
       "      <td>1.0000</td>\n",
       "      <td>Customer Service Issue</td>\n",
       "      <td>0.6838</td>\n",
       "      <td>NaN</td>\n",
       "      <td>CharNewsJunkie</td>\n",
       "      <td>NaN</td>\n",
       "      <td>0</td>\n",
       "      <td>@USAirways I have been on hold with your Gold ...</td>\n",
       "      <td>NaN</td>\n",
       "      <td>2015-02-17 07:40:44 -0800</td>\n",
       "      <td>Charlotte, North Carolina</td>\n",
       "      <td>Eastern Time (US &amp; Canada)</td>\n",
       "      <td>US-Airways</td>\n",
       "    </tr>\n",
       "    <tr>\n",
       "      <th>2909</th>\n",
       "      <td>11875</td>\n",
       "      <td>567698031081160704</td>\n",
       "      <td>negative</td>\n",
       "      <td>1.0000</td>\n",
       "      <td>Customer Service Issue</td>\n",
       "      <td>0.6963</td>\n",
       "      <td>NaN</td>\n",
       "      <td>MarkKersten</td>\n",
       "      <td>NaN</td>\n",
       "      <td>0</td>\n",
       "      <td>.@USAirways we have no choice but to pay anoth...</td>\n",
       "      <td>NaN</td>\n",
       "      <td>2015-02-17 06:52:12 -0800</td>\n",
       "      <td>London, UK</td>\n",
       "      <td>Quito</td>\n",
       "      <td>US-Airways</td>\n",
       "    </tr>\n",
       "    <tr>\n",
       "      <th>2910</th>\n",
       "      <td>11876</td>\n",
       "      <td>567679487383699456</td>\n",
       "      <td>negative</td>\n",
       "      <td>1.0000</td>\n",
       "      <td>Customer Service Issue</td>\n",
       "      <td>0.7188</td>\n",
       "      <td>NaN</td>\n",
       "      <td>DonnyYardas</td>\n",
       "      <td>NaN</td>\n",
       "      <td>0</td>\n",
       "      <td>@USAirways reservations had me on hold for 2 h...</td>\n",
       "      <td>NaN</td>\n",
       "      <td>2015-02-17 05:38:31 -0800</td>\n",
       "      <td>Somewhere Creating</td>\n",
       "      <td>Eastern Time (US &amp; Canada)</td>\n",
       "      <td>US-Airways</td>\n",
       "    </tr>\n",
       "    <tr>\n",
       "      <th>2911</th>\n",
       "      <td>11877</td>\n",
       "      <td>567670985403285504</td>\n",
       "      <td>negative</td>\n",
       "      <td>1.0000</td>\n",
       "      <td>Customer Service Issue</td>\n",
       "      <td>1.0000</td>\n",
       "      <td>NaN</td>\n",
       "      <td>sevnthstar</td>\n",
       "      <td>NaN</td>\n",
       "      <td>0</td>\n",
       "      <td>@USAirways @AmericanAir How r u supposed to ch...</td>\n",
       "      <td>NaN</td>\n",
       "      <td>2015-02-17 05:04:44 -0800</td>\n",
       "      <td>often underwater</td>\n",
       "      <td>Pacific Time (US &amp; Canada)</td>\n",
       "      <td>US-Airways</td>\n",
       "    </tr>\n",
       "    <tr>\n",
       "      <th>2912</th>\n",
       "      <td>11878</td>\n",
       "      <td>567643252753694721</td>\n",
       "      <td>neutral</td>\n",
       "      <td>1.0000</td>\n",
       "      <td>NaN</td>\n",
       "      <td>NaN</td>\n",
       "      <td>NaN</td>\n",
       "      <td>ashenfaced</td>\n",
       "      <td>NaN</td>\n",
       "      <td>0</td>\n",
       "      <td>@USAirways how's us 1797 looking today?</td>\n",
       "      <td>NaN</td>\n",
       "      <td>2015-02-17 03:14:32 -0800</td>\n",
       "      <td>Brighton</td>\n",
       "      <td>NaN</td>\n",
       "      <td>US-Airways</td>\n",
       "    </tr>\n",
       "  </tbody>\n",
       "</table>\n",
       "<p>2913 rows × 16 columns</p>\n",
       "</div>"
      ],
      "text/plain": [
       "      Unnamed: 0            tweet_id airline_sentiment  \\\n",
       "0           8966  570310600460525568          negative   \n",
       "1           8967  570310144459972608          negative   \n",
       "2           8968  570309340952993796           neutral   \n",
       "3           8969  570309000279023616           neutral   \n",
       "4           8970  570308799950692353          negative   \n",
       "...          ...                 ...               ...   \n",
       "2908       11874  567710245053407232          negative   \n",
       "2909       11875  567698031081160704          negative   \n",
       "2910       11876  567679487383699456          negative   \n",
       "2911       11877  567670985403285504          negative   \n",
       "2912       11878  567643252753694721           neutral   \n",
       "\n",
       "      airline_sentiment_confidence           negativereason  \\\n",
       "0                           0.6292  Flight Booking Problems   \n",
       "1                           1.0000   Customer Service Issue   \n",
       "2                           1.0000                      NaN   \n",
       "3                           1.0000                      NaN   \n",
       "4                           1.0000   Customer Service Issue   \n",
       "...                            ...                      ...   \n",
       "2908                        1.0000   Customer Service Issue   \n",
       "2909                        1.0000   Customer Service Issue   \n",
       "2910                        1.0000   Customer Service Issue   \n",
       "2911                        1.0000   Customer Service Issue   \n",
       "2912                        1.0000                      NaN   \n",
       "\n",
       "      negativereason_confidence airline_sentiment_gold             name  \\\n",
       "0                        0.3146                    NaN        jhazelnut   \n",
       "1                        1.0000                    NaN         GAKotsch   \n",
       "2                           NaN                    NaN    DebbiMcGinnis   \n",
       "3                           NaN                    NaN  AshleyKAtherton   \n",
       "4                        0.6452                    NaN    retardedlarry   \n",
       "...                         ...                    ...              ...   \n",
       "2908                     0.6838                    NaN   CharNewsJunkie   \n",
       "2909                     0.6963                    NaN      MarkKersten   \n",
       "2910                     0.7188                    NaN      DonnyYardas   \n",
       "2911                     1.0000                    NaN       sevnthstar   \n",
       "2912                        NaN                    NaN       ashenfaced   \n",
       "\n",
       "     negativereason_gold  retweet_count  \\\n",
       "0                    NaN              0   \n",
       "1                    NaN              0   \n",
       "2                    NaN              0   \n",
       "3                    NaN              0   \n",
       "4                    NaN              0   \n",
       "...                  ...            ...   \n",
       "2908                 NaN              0   \n",
       "2909                 NaN              0   \n",
       "2910                 NaN              0   \n",
       "2911                 NaN              0   \n",
       "2912                 NaN              0   \n",
       "\n",
       "                                                   text tweet_coord  \\\n",
       "0     @USAirways  is there a better time to call? My...         NaN   \n",
       "1     @USAirways and when will one of these agents b...         NaN   \n",
       "2     @USAirways is a DM possible if you aren't foll...         NaN   \n",
       "3     @USAirways Fortunately you have staff like Lyn...         NaN   \n",
       "4     @USAirways just hung up on me again.  Another ...         NaN   \n",
       "...                                                 ...         ...   \n",
       "2908  @USAirways I have been on hold with your Gold ...         NaN   \n",
       "2909  .@USAirways we have no choice but to pay anoth...         NaN   \n",
       "2910  @USAirways reservations had me on hold for 2 h...         NaN   \n",
       "2911  @USAirways @AmericanAir How r u supposed to ch...         NaN   \n",
       "2912            @USAirways how's us 1797 looking today?         NaN   \n",
       "\n",
       "                  tweet_created             tweet_location  \\\n",
       "0     2015-02-24 11:53:37 -0800                        NaN   \n",
       "1     2015-02-24 11:51:48 -0800                        NaN   \n",
       "2     2015-02-24 11:48:37 -0800                  Missourah   \n",
       "3     2015-02-24 11:47:16 -0800                        NaN   \n",
       "4     2015-02-24 11:46:28 -0800                        NaN   \n",
       "...                         ...                        ...   \n",
       "2908  2015-02-17 07:40:44 -0800  Charlotte, North Carolina   \n",
       "2909  2015-02-17 06:52:12 -0800                 London, UK   \n",
       "2910  2015-02-17 05:38:31 -0800         Somewhere Creating   \n",
       "2911  2015-02-17 05:04:44 -0800           often underwater   \n",
       "2912  2015-02-17 03:14:32 -0800                   Brighton   \n",
       "\n",
       "                   user_timezone     airline  \n",
       "0                            NaN  US-Airways  \n",
       "1         Atlantic Time (Canada)  US-Airways  \n",
       "2                         Hawaii  US-Airways  \n",
       "3     Central Time (US & Canada)  US-Airways  \n",
       "4                            NaN  US-Airways  \n",
       "...                          ...         ...  \n",
       "2908  Eastern Time (US & Canada)  US-Airways  \n",
       "2909                       Quito  US-Airways  \n",
       "2910  Eastern Time (US & Canada)  US-Airways  \n",
       "2911  Pacific Time (US & Canada)  US-Airways  \n",
       "2912                         NaN  US-Airways  \n",
       "\n",
       "[2913 rows x 16 columns]"
      ]
     },
     "execution_count": 26,
     "metadata": {},
     "output_type": "execute_result"
    }
   ],
   "source": [
    "process_file('../../data/airline_data/US-Airways.csv')"
   ]
  },
  {
   "cell_type": "markdown",
   "metadata": {},
   "source": [
    "### 1.4 Load in Multiple Files\n",
    "\n",
    "Now that we have a function, let's iterate through all of files in the directory. \n",
    "\n",
    "First, fill in the blanks below. Use `os.listdir` to loop through and print every file in the `airline_data` directory."
   ]
  },
  {
   "cell_type": "code",
   "execution_count": 29,
   "metadata": {},
   "outputs": [
    {
     "name": "stdout",
     "output_type": "stream",
     "text": [
      "Delta.csv\n",
      "United.csv\n",
      "Southwest.csv\n",
      "US-Airways.csv\n",
      "Virgin-America.csv\n",
      "README.txt\n",
      "American.csv\n"
     ]
    }
   ],
   "source": [
    "directory = '../../data/airline_data'\n",
    "for file in os.listdir(directory):\n",
    "    print(file)"
   ]
  },
  {
   "cell_type": "markdown",
   "metadata": {},
   "source": [
    "We notice that there is a `.txt` file in the directory, which isn't a `pandas` dataframe. This will cause an error in the dataframe processing, so let's use an `if` statement to filter out the `.txt` extension. \n",
    "\n",
    "Before implementing this, let's practice. Here's a test filename. Write a statement using the equality operator (`==`). Slice the last 3 characters of the `test_csv` variable to return `True`.\n",
    "\n",
    "💡 **Tip**: Recall slicing the last elements of a list. For instance, use `some_list[-2:]` to get the last two items."
   ]
  },
  {
   "cell_type": "code",
   "execution_count": 30,
   "metadata": {},
   "outputs": [
    {
     "data": {
      "text/plain": [
       "True"
      ]
     },
     "execution_count": 30,
     "metadata": {},
     "output_type": "execute_result"
    }
   ],
   "source": [
    "test_csv = 'delta.csv' # Expression should evaluate True\n",
    "\n",
    "# YOUR CODE HERE\n",
    "test_csv[-3:] == 'csv'"
   ]
  },
  {
   "cell_type": "markdown",
   "metadata": {},
   "source": [
    "Now that we have an expression, let's create a for-loop to check if it works over the files in our folder. "
   ]
  },
  {
   "cell_type": "code",
   "execution_count": 32,
   "metadata": {},
   "outputs": [
    {
     "name": "stdout",
     "output_type": "stream",
     "text": [
      "Delta.csv\n",
      "United.csv\n",
      "Southwest.csv\n",
      "US-Airways.csv\n",
      "Virgin-America.csv\n",
      "American.csv\n"
     ]
    }
   ],
   "source": [
    "directory = '../../data/airline_data'\n",
    "for file in os.listdir(directory):\n",
    "    if file[-3:] == 'csv': # Fill in the blank to filter for files ending with `.csv`\n",
    "        print(file)"
   ]
  },
  {
   "cell_type": "markdown",
   "metadata": {},
   "source": [
    "## 🥊 Challenge: Put it all together\n",
    "\n",
    "We've got most of the pieces. Now let's put the puzzle together:\n",
    "1) In the cell below, paste the `process_file()` function we created above.\n",
    "2) Initialize an *accumulator* list called `df_list`.\n",
    "3) Paste the `for`-loop we just created to loop over the csv files in the right folder. But in the final line, instead of `print`ing the file, `append` the output to our `df_list` list.\n",
    "\n",
    "⚠️ **Warning**: Note that when calling `process_file()` in the for-loop, you'll need to pass the **full filepath**, not just the file name! "
   ]
  },
  {
   "cell_type": "code",
   "execution_count": 143,
   "metadata": {},
   "outputs": [],
   "source": [
    "# YOUR CODE HERE\n",
    "def process_file(filepath):\n",
    "    df = pd.read_csv(filepath)\n",
    "    name_lo = filepath.split('/')[-1]\n",
    "    name_sh = name_lo.split('.')[0]\n",
    "    df['airline'] = name_sh\n",
    "    return(df)\n",
    "\n",
    "df_list = []\n",
    "\n",
    "directory = '../../data/airline_data'\n",
    "for file in os.listdir(directory):\n",
    "    if file[-3:]=='csv': \n",
    "        df_list.append(process_file(directory + '/' + file))"
   ]
  },
  {
   "cell_type": "markdown",
   "metadata": {},
   "source": [
    "Finally, look up the [documentation for Pandas](https://pandas.pydata.org/pandas-docs/stable/reference/general_functions.html), and see if you can find a function that **concatenates** the list of DataFrames we have now. We'll save the concatenated list in a variable called `df`."
   ]
  },
  {
   "cell_type": "code",
   "execution_count": 144,
   "metadata": {},
   "outputs": [],
   "source": [
    "# YOUR CODE HERE\n",
    "df = pd.concat(df_list, ignore_index=True)\n"
   ]
  },
  {
   "cell_type": "markdown",
   "metadata": {},
   "source": [
    "🔔 **Question**: Let's take a look at the final data frame.\n",
    "\n",
    "1. How many rows and columns are there in the total dataframe?\n",
    "2. How many unique airlines are in the dataset?\n",
    "3. How many numeric columns are there in the dataset?"
   ]
  },
  {
   "cell_type": "markdown",
   "metadata": {},
   "source": [
    "## 2. Data Processing\n",
    "\n",
    "Now that we have some data, let's take a look at some data processing steps.\n",
    "\n",
    "### 2.1 Nulls\n",
    "\n",
    "First, let's summarize the null values in the dataset. We want to see which columns have null values and how many. \n",
    "\n",
    "You recall that `.isnull()` is a method that returns `True` where there are null values and a `False` otherwise in a DataFrame. \n",
    "\n",
    "You look up finding the sum of null values in Pandas and find a suggestion to use `df.isnull().sum(axis=1)`. You try this out on your data set and get the output below. Is this the expected output? If not, how can you modify the code to find the number of null values in each column. \n"
   ]
  },
  {
   "cell_type": "code",
   "execution_count": 145,
   "metadata": {
    "scrolled": true
   },
   "outputs": [
    {
     "data": {
      "text/plain": [
       "0        5\n",
       "1        5\n",
       "2        5\n",
       "3        3\n",
       "4        3\n",
       "        ..\n",
       "14635    6\n",
       "14636    4\n",
       "14637    6\n",
       "14638    3\n",
       "14639    5\n",
       "Length: 14640, dtype: int64"
      ]
     },
     "execution_count": 145,
     "metadata": {},
     "output_type": "execute_result"
    }
   ],
   "source": [
    "df.isnull().sum(axis=1)"
   ]
  },
  {
   "cell_type": "markdown",
   "metadata": {},
   "source": [
    "Although there are null values in the data set, We won't be using any of the columns with null values in the analysis, so we don't need to drop any rows from this dataset. \n",
    "\n",
    "Let's drop the following columns:\n",
    "\n",
    "* `tweet_id`\n",
    "* `airline_sentiment_confidence`\n",
    "* `negativereason_confidence`\n",
    "* `airline_sentiment_gold`\n",
    "* `airline_sentiment_gold`\n",
    "* `tweet_coord`\n",
    "* `tweet_location`\n",
    "* `user_timezone`\n",
    "\n",
    "This will make the dataset more manageable for further analysis."
   ]
  },
  {
   "cell_type": "code",
   "execution_count": 146,
   "metadata": {},
   "outputs": [],
   "source": [
    "columns_to_drop = [\n",
    "    'Unnamed: 0',\n",
    "    'tweet_coord',\n",
    "    'tweet_id',\n",
    "    'user_timezone',\n",
    "    'tweet_created',\n",
    "    'tweet_location',\n",
    "    'negativereason_gold',\n",
    "    'airline_sentiment_gold']\n",
    "list(df)\n",
    "\n",
    "# YOUR CODE HERE\n",
    "df.drop(columns_to_drop,axis=1,inplace=True)"
   ]
  },
  {
   "cell_type": "markdown",
   "metadata": {},
   "source": [
    "### 2.2 Feature Extraction\n",
    "\n",
    "Now let's do some basic preprocessing on the data. First, let's look at the first few rows of the dataframe. "
   ]
  },
  {
   "cell_type": "code",
   "execution_count": 147,
   "metadata": {},
   "outputs": [
    {
     "data": {
      "text/html": [
       "<div>\n",
       "<style scoped>\n",
       "    .dataframe tbody tr th:only-of-type {\n",
       "        vertical-align: middle;\n",
       "    }\n",
       "\n",
       "    .dataframe tbody tr th {\n",
       "        vertical-align: top;\n",
       "    }\n",
       "\n",
       "    .dataframe thead th {\n",
       "        text-align: right;\n",
       "    }\n",
       "</style>\n",
       "<table border=\"1\" class=\"dataframe\">\n",
       "  <thead>\n",
       "    <tr style=\"text-align: right;\">\n",
       "      <th></th>\n",
       "      <th>airline_sentiment</th>\n",
       "      <th>airline_sentiment_confidence</th>\n",
       "      <th>negativereason</th>\n",
       "      <th>negativereason_confidence</th>\n",
       "      <th>name</th>\n",
       "      <th>retweet_count</th>\n",
       "      <th>text</th>\n",
       "      <th>airline</th>\n",
       "    </tr>\n",
       "  </thead>\n",
       "  <tbody>\n",
       "    <tr>\n",
       "      <th>0</th>\n",
       "      <td>positive</td>\n",
       "      <td>0.6469</td>\n",
       "      <td>NaN</td>\n",
       "      <td>NaN</td>\n",
       "      <td>jaxbra</td>\n",
       "      <td>0</td>\n",
       "      <td>@JetBlue Yesterday on my way from EWR to FLL j...</td>\n",
       "      <td>Delta</td>\n",
       "    </tr>\n",
       "    <tr>\n",
       "      <th>1</th>\n",
       "      <td>neutral</td>\n",
       "      <td>0.6869</td>\n",
       "      <td>NaN</td>\n",
       "      <td>NaN</td>\n",
       "      <td>Oneladyyouadore</td>\n",
       "      <td>0</td>\n",
       "      <td>@JetBlue I hope so because I fly very often an...</td>\n",
       "      <td>Delta</td>\n",
       "    </tr>\n",
       "    <tr>\n",
       "      <th>2</th>\n",
       "      <td>neutral</td>\n",
       "      <td>1.0000</td>\n",
       "      <td>NaN</td>\n",
       "      <td>NaN</td>\n",
       "      <td>Oneladyyouadore</td>\n",
       "      <td>0</td>\n",
       "      <td>@JetBlue flight 1041 to Savannah, GA</td>\n",
       "      <td>Delta</td>\n",
       "    </tr>\n",
       "  </tbody>\n",
       "</table>\n",
       "</div>"
      ],
      "text/plain": [
       "  airline_sentiment  airline_sentiment_confidence negativereason  \\\n",
       "0          positive                        0.6469            NaN   \n",
       "1           neutral                        0.6869            NaN   \n",
       "2           neutral                        1.0000            NaN   \n",
       "\n",
       "   negativereason_confidence             name  retweet_count  \\\n",
       "0                        NaN           jaxbra              0   \n",
       "1                        NaN  Oneladyyouadore              0   \n",
       "2                        NaN  Oneladyyouadore              0   \n",
       "\n",
       "                                                text airline  \n",
       "0  @JetBlue Yesterday on my way from EWR to FLL j...   Delta  \n",
       "1  @JetBlue I hope so because I fly very often an...   Delta  \n",
       "2               @JetBlue flight 1041 to Savannah, GA   Delta  "
      ]
     },
     "execution_count": 147,
     "metadata": {},
     "output_type": "execute_result"
    }
   ],
   "source": [
    "df.head(3)"
   ]
  },
  {
   "cell_type": "markdown",
   "metadata": {},
   "source": [
    "Let's do a couple of simple feature extraction on the text data, including the number of words. Let's make three new columns:\n",
    "1. `word_count`: number of words in each tweet (💡 Tip: use `.split() and .len()`).\n",
    "2. `mentions` : count number of '@' symbols (💡 Tip: use `.count()`).\n",
    "\n",
    "💡 **Tip**: Remember that you can use `Series.str` to access vectorized string functions!"
   ]
  },
  {
   "cell_type": "code",
   "execution_count": 148,
   "metadata": {},
   "outputs": [],
   "source": [
    "# YOUR CODE HERE\n",
    "df['word_count'] = df['text'].str.split(' ').str.len()\n",
    "df['mentions'] = df['text'].str.count('@')\n"
   ]
  },
  {
   "cell_type": "markdown",
   "metadata": {},
   "source": [
    "Next steps in text preprocessing would often use tokenization or vectorization on tweets, to convert the words themselves to numerical data for preprocessing. If you are interested, check out the Python Text Analysis workshop! \n"
   ]
  },
  {
   "cell_type": "markdown",
   "metadata": {},
   "source": [
    "### 2.3 Subset Tweets\n",
    "\n",
    "🔔 **Question**: How many sentiment types are there in the DataFrame? \n",
    "\n",
    "For our exploratory analysis, let's start by looking just at postive/negative tweets.\n",
    "\n",
    "1. Subset the dataframe.\n",
    "2. What proportion of the tweets have a positive sentiment?\n",
    "\n",
    "What is the condition that we would use to subset the dataframe? Subset the dataframe for non-neutral tweets and save it to a dataframe called `pos_neg_df`.\n",
    "\n",
    "💡 **Tip**: You can use `!=` to check for all values not equal to a certain value"
   ]
  },
  {
   "cell_type": "code",
   "execution_count": 188,
   "metadata": {},
   "outputs": [
    {
     "data": {
      "text/html": [
       "<div>\n",
       "<style scoped>\n",
       "    .dataframe tbody tr th:only-of-type {\n",
       "        vertical-align: middle;\n",
       "    }\n",
       "\n",
       "    .dataframe tbody tr th {\n",
       "        vertical-align: top;\n",
       "    }\n",
       "\n",
       "    .dataframe thead th {\n",
       "        text-align: right;\n",
       "    }\n",
       "</style>\n",
       "<table border=\"1\" class=\"dataframe\">\n",
       "  <thead>\n",
       "    <tr style=\"text-align: right;\">\n",
       "      <th></th>\n",
       "      <th>airline_sentiment</th>\n",
       "      <th>airline_sentiment_confidence</th>\n",
       "      <th>negativereason</th>\n",
       "      <th>negativereason_confidence</th>\n",
       "      <th>name</th>\n",
       "      <th>retweet_count</th>\n",
       "      <th>text</th>\n",
       "      <th>airline</th>\n",
       "      <th>word_count</th>\n",
       "      <th>mentions</th>\n",
       "    </tr>\n",
       "  </thead>\n",
       "  <tbody>\n",
       "    <tr>\n",
       "      <th>0</th>\n",
       "      <td>positive</td>\n",
       "      <td>0.6469</td>\n",
       "      <td>NaN</td>\n",
       "      <td>NaN</td>\n",
       "      <td>jaxbra</td>\n",
       "      <td>0</td>\n",
       "      <td>@JetBlue Yesterday on my way from EWR to FLL j...</td>\n",
       "      <td>Delta</td>\n",
       "      <td>15</td>\n",
       "      <td>1</td>\n",
       "    </tr>\n",
       "    <tr>\n",
       "      <th>3</th>\n",
       "      <td>negative</td>\n",
       "      <td>1.0000</td>\n",
       "      <td>Flight Attendant Complaints</td>\n",
       "      <td>0.6522</td>\n",
       "      <td>Oneladyyouadore</td>\n",
       "      <td>0</td>\n",
       "      <td>@JetBlue They weren't on any flight, they just...</td>\n",
       "      <td>Delta</td>\n",
       "      <td>17</td>\n",
       "      <td>1</td>\n",
       "    </tr>\n",
       "    <tr>\n",
       "      <th>4</th>\n",
       "      <td>negative</td>\n",
       "      <td>1.0000</td>\n",
       "      <td>Bad Flight</td>\n",
       "      <td>1.0000</td>\n",
       "      <td>Oneladyyouadore</td>\n",
       "      <td>0</td>\n",
       "      <td>@JetBlue everyone is here but our pilots are n...</td>\n",
       "      <td>Delta</td>\n",
       "      <td>30</td>\n",
       "      <td>1</td>\n",
       "    </tr>\n",
       "    <tr>\n",
       "      <th>7</th>\n",
       "      <td>negative</td>\n",
       "      <td>1.0000</td>\n",
       "      <td>Flight Booking Problems</td>\n",
       "      <td>0.6921</td>\n",
       "      <td>heyheyman</td>\n",
       "      <td>0</td>\n",
       "      <td>@JetBlue Hey guys, why did my last flight earn...</td>\n",
       "      <td>Delta</td>\n",
       "      <td>13</td>\n",
       "      <td>1</td>\n",
       "    </tr>\n",
       "    <tr>\n",
       "      <th>8</th>\n",
       "      <td>negative</td>\n",
       "      <td>1.0000</td>\n",
       "      <td>Can't Tell</td>\n",
       "      <td>1.0000</td>\n",
       "      <td>erinkphares</td>\n",
       "      <td>0</td>\n",
       "      <td>@JetBlue 2 aisles of empty #evermoreroom seats...</td>\n",
       "      <td>Delta</td>\n",
       "      <td>20</td>\n",
       "      <td>1</td>\n",
       "    </tr>\n",
       "    <tr>\n",
       "      <th>...</th>\n",
       "      <td>...</td>\n",
       "      <td>...</td>\n",
       "      <td>...</td>\n",
       "      <td>...</td>\n",
       "      <td>...</td>\n",
       "      <td>...</td>\n",
       "      <td>...</td>\n",
       "      <td>...</td>\n",
       "      <td>...</td>\n",
       "      <td>...</td>\n",
       "    </tr>\n",
       "    <tr>\n",
       "      <th>14633</th>\n",
       "      <td>negative</td>\n",
       "      <td>1.0000</td>\n",
       "      <td>Cancelled Flight</td>\n",
       "      <td>1.0000</td>\n",
       "      <td>RussellsWriting</td>\n",
       "      <td>0</td>\n",
       "      <td>@AmericanAir my flight was Cancelled Flightled...</td>\n",
       "      <td>American</td>\n",
       "      <td>21</td>\n",
       "      <td>1</td>\n",
       "    </tr>\n",
       "    <tr>\n",
       "      <th>14634</th>\n",
       "      <td>negative</td>\n",
       "      <td>0.6684</td>\n",
       "      <td>Late Flight</td>\n",
       "      <td>0.6684</td>\n",
       "      <td>GolfWithWoody</td>\n",
       "      <td>0</td>\n",
       "      <td>@AmericanAir right on cue with the delays👌</td>\n",
       "      <td>American</td>\n",
       "      <td>7</td>\n",
       "      <td>1</td>\n",
       "    </tr>\n",
       "    <tr>\n",
       "      <th>14635</th>\n",
       "      <td>positive</td>\n",
       "      <td>0.3487</td>\n",
       "      <td>NaN</td>\n",
       "      <td>0.0000</td>\n",
       "      <td>KristenReenders</td>\n",
       "      <td>0</td>\n",
       "      <td>@AmericanAir thank you we got on a different f...</td>\n",
       "      <td>American</td>\n",
       "      <td>11</td>\n",
       "      <td>1</td>\n",
       "    </tr>\n",
       "    <tr>\n",
       "      <th>14636</th>\n",
       "      <td>negative</td>\n",
       "      <td>1.0000</td>\n",
       "      <td>Customer Service Issue</td>\n",
       "      <td>1.0000</td>\n",
       "      <td>itsropes</td>\n",
       "      <td>0</td>\n",
       "      <td>@AmericanAir leaving over 20 minutes Late Flig...</td>\n",
       "      <td>American</td>\n",
       "      <td>23</td>\n",
       "      <td>1</td>\n",
       "    </tr>\n",
       "    <tr>\n",
       "      <th>14638</th>\n",
       "      <td>negative</td>\n",
       "      <td>1.0000</td>\n",
       "      <td>Customer Service Issue</td>\n",
       "      <td>0.6659</td>\n",
       "      <td>SraJackson</td>\n",
       "      <td>0</td>\n",
       "      <td>@AmericanAir you have my money, you change my ...</td>\n",
       "      <td>American</td>\n",
       "      <td>23</td>\n",
       "      <td>1</td>\n",
       "    </tr>\n",
       "  </tbody>\n",
       "</table>\n",
       "<p>11541 rows × 10 columns</p>\n",
       "</div>"
      ],
      "text/plain": [
       "      airline_sentiment  airline_sentiment_confidence  \\\n",
       "0              positive                        0.6469   \n",
       "3              negative                        1.0000   \n",
       "4              negative                        1.0000   \n",
       "7              negative                        1.0000   \n",
       "8              negative                        1.0000   \n",
       "...                 ...                           ...   \n",
       "14633          negative                        1.0000   \n",
       "14634          negative                        0.6684   \n",
       "14635          positive                        0.3487   \n",
       "14636          negative                        1.0000   \n",
       "14638          negative                        1.0000   \n",
       "\n",
       "                    negativereason  negativereason_confidence  \\\n",
       "0                              NaN                        NaN   \n",
       "3      Flight Attendant Complaints                     0.6522   \n",
       "4                       Bad Flight                     1.0000   \n",
       "7          Flight Booking Problems                     0.6921   \n",
       "8                       Can't Tell                     1.0000   \n",
       "...                            ...                        ...   \n",
       "14633             Cancelled Flight                     1.0000   \n",
       "14634                  Late Flight                     0.6684   \n",
       "14635                          NaN                     0.0000   \n",
       "14636       Customer Service Issue                     1.0000   \n",
       "14638       Customer Service Issue                     0.6659   \n",
       "\n",
       "                  name  retweet_count  \\\n",
       "0               jaxbra              0   \n",
       "3      Oneladyyouadore              0   \n",
       "4      Oneladyyouadore              0   \n",
       "7            heyheyman              0   \n",
       "8          erinkphares              0   \n",
       "...                ...            ...   \n",
       "14633  RussellsWriting              0   \n",
       "14634    GolfWithWoody              0   \n",
       "14635  KristenReenders              0   \n",
       "14636         itsropes              0   \n",
       "14638       SraJackson              0   \n",
       "\n",
       "                                                    text   airline  \\\n",
       "0      @JetBlue Yesterday on my way from EWR to FLL j...     Delta   \n",
       "3      @JetBlue They weren't on any flight, they just...     Delta   \n",
       "4      @JetBlue everyone is here but our pilots are n...     Delta   \n",
       "7      @JetBlue Hey guys, why did my last flight earn...     Delta   \n",
       "8      @JetBlue 2 aisles of empty #evermoreroom seats...     Delta   \n",
       "...                                                  ...       ...   \n",
       "14633  @AmericanAir my flight was Cancelled Flightled...  American   \n",
       "14634         @AmericanAir right on cue with the delays👌  American   \n",
       "14635  @AmericanAir thank you we got on a different f...  American   \n",
       "14636  @AmericanAir leaving over 20 minutes Late Flig...  American   \n",
       "14638  @AmericanAir you have my money, you change my ...  American   \n",
       "\n",
       "       word_count  mentions  \n",
       "0              15         1  \n",
       "3              17         1  \n",
       "4              30         1  \n",
       "7              13         1  \n",
       "8              20         1  \n",
       "...           ...       ...  \n",
       "14633          21         1  \n",
       "14634           7         1  \n",
       "14635          11         1  \n",
       "14636          23         1  \n",
       "14638          23         1  \n",
       "\n",
       "[11541 rows x 10 columns]"
      ]
     },
     "execution_count": 188,
     "metadata": {},
     "output_type": "execute_result"
    }
   ],
   "source": [
    "# YOUR CODE HERE\n",
    "df['airline_sentiment'].unique()\n",
    "pos_neg_df = df.loc[(df['airline_sentiment']!= 'neutral'),:]\n",
    "pos_neg_df\n"
   ]
  },
  {
   "cell_type": "markdown",
   "metadata": {
    "tags": []
   },
   "source": [
    "### 2.4 Convert column to int\n",
    "\n",
    "If we want to do exploratory analysis with the \"airline_sentiment\" column we just created, we will need to convert the categorical variables (currently in string format) into numbers. We can use `.replace()` to do so. Look up the [documentation](https://pandas.pydata.org/pandas-docs/stable/reference/api/pandas.DataFrame.replace.html) and fill in the arguments needed for `.replace()` below."
   ]
  },
  {
   "cell_type": "code",
   "execution_count": 189,
   "metadata": {},
   "outputs": [
    {
     "name": "stderr",
     "output_type": "stream",
     "text": [
      "/Users/tomvannuenen/opt/anaconda3/lib/python3.8/site-packages/pandas/core/generic.py:6619: SettingWithCopyWarning: \n",
      "A value is trying to be set on a copy of a slice from a DataFrame\n",
      "\n",
      "See the caveats in the documentation: https://pandas.pydata.org/pandas-docs/stable/user_guide/indexing.html#returning-a-view-versus-a-copy\n",
      "  return self._update_inplace(result)\n"
     ]
    }
   ],
   "source": [
    "pos_neg_df['airline_sentiment'].replace(['negative','positive'], [0, 1], inplace=True)"
   ]
  },
  {
   "cell_type": "markdown",
   "metadata": {},
   "source": [
    "## 3. Exploratory Analysis\n",
    "\n",
    "\n",
    "Now that we've done some very basic processing on the `DataFrame`, let's do some exploratory analyses on the data. \n",
    "\n",
    "###  3.1 Most Common Users, Most Frequent Airlines\n",
    "\n",
    "Let's look at the users tweeting at the airlines. Using the `DataFrame`, answer the following questions:\n",
    "\n",
    "1. How many unique users are there in the dataset? \n",
    "2. Who tweeted the most about airlines in this dataset? (**Hint**: consider `df.value_counts()`)\n",
    "3. Choose one of the users with the top five most tweets. Which airline are they tweeting about?\n",
    "\n",
    "💡 **Tip**: Users are recorded in the `name` column"
   ]
  },
  {
   "cell_type": "code",
   "execution_count": 190,
   "metadata": {
    "scrolled": true
   },
   "outputs": [
    {
     "name": "stdout",
     "output_type": "stream",
     "text": [
      "amount of users: 6431\n",
      "who tweeted most:\n",
      " name\n",
      "otisday            28\n",
      "_mhertz            27\n",
      "throthra           25\n",
      "weezerandburnie    23\n",
      "rossj987           23\n",
      "                   ..\n",
      "JennyBraueBraue     1\n",
      "cmcook              1\n",
      "cmmsft              1\n",
      "JenniferWFox17      1\n",
      "zupshawrl           1\n",
      "Length: 6431, dtype: int64\n",
      "which airline does user otisday mention most: American\n"
     ]
    }
   ],
   "source": [
    "# YOUR CODE HERE\n",
    "\n",
    "# how many users?\n",
    "print(\"amount of users:\", len(pos_neg_df['name'].unique()))\n",
    "print(\"who tweeted most:\\n\", pos_neg_df.value_counts('name'))\n",
    "print(\"which airline does user otisday mention most:\", \n",
    "      pos_neg_df.loc[pos_neg_df['name'] == 'otisday','airline'].values[0])\n"
   ]
  },
  {
   "cell_type": "markdown",
   "metadata": {},
   "source": [
    "### 3.2 Visualization\n",
    "\n",
    "Now, let's visualize some component of the data set. Use a **histogram** to visualize the `word_counts` column. Consider plotting two layers: one for negative tweets and one for positive tweets. \n"
   ]
  },
  {
   "cell_type": "code",
   "execution_count": 136,
   "metadata": {},
   "outputs": [
    {
     "data": {
      "text/plain": [
       "<AxesSubplot:>"
      ]
     },
     "execution_count": 136,
     "metadata": {},
     "output_type": "execute_result"
    },
    {
     "data": {
      "image/png": "[encoded data removed]",
      "text/plain": [
       "<Figure size 640x480 with 1 Axes>"
      ]
     },
     "metadata": {},
     "output_type": "display_data"
    }
   ],
   "source": [
    "# YOUR CODE HERE\n",
    "\n",
    "df['word_count'].hist()\n"
   ]
  },
  {
   "cell_type": "markdown",
   "metadata": {},
   "source": [
    "### 3.3 Linear Regression of Tweet Length\n",
    "\n",
    "Let's use a linear regression to look at other predictors of tweet length. Complete the steps:\n",
    "\n",
    "1. Select the numeric columns 'airline_sentiment','airline_sentiment_confidence','retweet_count','mentions', and save it as `X` (except wordcount)\n",
    "2. Select the word_count column and save as `y`\n",
    "3. Set up a linear regression and fit it to the data using `sm.OLS()`\n",
    "4. Interpret the model summary"
   ]
  },
  {
   "cell_type": "code",
   "execution_count": 137,
   "metadata": {},
   "outputs": [
    {
     "data": {
      "text/html": [
       "<div>\n",
       "<style scoped>\n",
       "    .dataframe tbody tr th:only-of-type {\n",
       "        vertical-align: middle;\n",
       "    }\n",
       "\n",
       "    .dataframe tbody tr th {\n",
       "        vertical-align: top;\n",
       "    }\n",
       "\n",
       "    .dataframe thead th {\n",
       "        text-align: right;\n",
       "    }\n",
       "</style>\n",
       "<table border=\"1\" class=\"dataframe\">\n",
       "  <thead>\n",
       "    <tr style=\"text-align: right;\">\n",
       "      <th></th>\n",
       "      <th>airline_sentiment</th>\n",
       "      <th>airline_sentiment_confidence</th>\n",
       "      <th>negativereason</th>\n",
       "      <th>negativereason_confidence</th>\n",
       "      <th>name</th>\n",
       "      <th>retweet_count</th>\n",
       "      <th>text</th>\n",
       "      <th>airline</th>\n",
       "      <th>word_count</th>\n",
       "      <th>mentions</th>\n",
       "    </tr>\n",
       "  </thead>\n",
       "  <tbody>\n",
       "    <tr>\n",
       "      <th>0</th>\n",
       "      <td>0</td>\n",
       "      <td>0.6469</td>\n",
       "      <td>NaN</td>\n",
       "      <td>NaN</td>\n",
       "      <td>jaxbra</td>\n",
       "      <td>0</td>\n",
       "      <td>@JetBlue Yesterday on my way from EWR to FLL j...</td>\n",
       "      <td>Delta</td>\n",
       "      <td>15</td>\n",
       "      <td>1</td>\n",
       "    </tr>\n",
       "    <tr>\n",
       "      <th>3</th>\n",
       "      <td>1</td>\n",
       "      <td>1.0000</td>\n",
       "      <td>Flight Attendant Complaints</td>\n",
       "      <td>0.6522</td>\n",
       "      <td>Oneladyyouadore</td>\n",
       "      <td>0</td>\n",
       "      <td>@JetBlue They weren't on any flight, they just...</td>\n",
       "      <td>Delta</td>\n",
       "      <td>17</td>\n",
       "      <td>1</td>\n",
       "    </tr>\n",
       "    <tr>\n",
       "      <th>4</th>\n",
       "      <td>1</td>\n",
       "      <td>1.0000</td>\n",
       "      <td>Bad Flight</td>\n",
       "      <td>1.0000</td>\n",
       "      <td>Oneladyyouadore</td>\n",
       "      <td>0</td>\n",
       "      <td>@JetBlue everyone is here but our pilots are n...</td>\n",
       "      <td>Delta</td>\n",
       "      <td>30</td>\n",
       "      <td>1</td>\n",
       "    </tr>\n",
       "    <tr>\n",
       "      <th>7</th>\n",
       "      <td>1</td>\n",
       "      <td>1.0000</td>\n",
       "      <td>Flight Booking Problems</td>\n",
       "      <td>0.6921</td>\n",
       "      <td>heyheyman</td>\n",
       "      <td>0</td>\n",
       "      <td>@JetBlue Hey guys, why did my last flight earn...</td>\n",
       "      <td>Delta</td>\n",
       "      <td>13</td>\n",
       "      <td>1</td>\n",
       "    </tr>\n",
       "    <tr>\n",
       "      <th>8</th>\n",
       "      <td>1</td>\n",
       "      <td>1.0000</td>\n",
       "      <td>Can't Tell</td>\n",
       "      <td>1.0000</td>\n",
       "      <td>erinkphares</td>\n",
       "      <td>0</td>\n",
       "      <td>@JetBlue 2 aisles of empty #evermoreroom seats...</td>\n",
       "      <td>Delta</td>\n",
       "      <td>20</td>\n",
       "      <td>1</td>\n",
       "    </tr>\n",
       "    <tr>\n",
       "      <th>...</th>\n",
       "      <td>...</td>\n",
       "      <td>...</td>\n",
       "      <td>...</td>\n",
       "      <td>...</td>\n",
       "      <td>...</td>\n",
       "      <td>...</td>\n",
       "      <td>...</td>\n",
       "      <td>...</td>\n",
       "      <td>...</td>\n",
       "      <td>...</td>\n",
       "    </tr>\n",
       "    <tr>\n",
       "      <th>14633</th>\n",
       "      <td>1</td>\n",
       "      <td>1.0000</td>\n",
       "      <td>Cancelled Flight</td>\n",
       "      <td>1.0000</td>\n",
       "      <td>RussellsWriting</td>\n",
       "      <td>0</td>\n",
       "      <td>@AmericanAir my flight was Cancelled Flightled...</td>\n",
       "      <td>American</td>\n",
       "      <td>21</td>\n",
       "      <td>1</td>\n",
       "    </tr>\n",
       "    <tr>\n",
       "      <th>14634</th>\n",
       "      <td>1</td>\n",
       "      <td>0.6684</td>\n",
       "      <td>Late Flight</td>\n",
       "      <td>0.6684</td>\n",
       "      <td>GolfWithWoody</td>\n",
       "      <td>0</td>\n",
       "      <td>@AmericanAir right on cue with the delays👌</td>\n",
       "      <td>American</td>\n",
       "      <td>7</td>\n",
       "      <td>1</td>\n",
       "    </tr>\n",
       "    <tr>\n",
       "      <th>14635</th>\n",
       "      <td>0</td>\n",
       "      <td>0.3487</td>\n",
       "      <td>NaN</td>\n",
       "      <td>0.0000</td>\n",
       "      <td>KristenReenders</td>\n",
       "      <td>0</td>\n",
       "      <td>@AmericanAir thank you we got on a different f...</td>\n",
       "      <td>American</td>\n",
       "      <td>11</td>\n",
       "      <td>1</td>\n",
       "    </tr>\n",
       "    <tr>\n",
       "      <th>14636</th>\n",
       "      <td>1</td>\n",
       "      <td>1.0000</td>\n",
       "      <td>Customer Service Issue</td>\n",
       "      <td>1.0000</td>\n",
       "      <td>itsropes</td>\n",
       "      <td>0</td>\n",
       "      <td>@AmericanAir leaving over 20 minutes Late Flig...</td>\n",
       "      <td>American</td>\n",
       "      <td>23</td>\n",
       "      <td>1</td>\n",
       "    </tr>\n",
       "    <tr>\n",
       "      <th>14638</th>\n",
       "      <td>1</td>\n",
       "      <td>1.0000</td>\n",
       "      <td>Customer Service Issue</td>\n",
       "      <td>0.6659</td>\n",
       "      <td>SraJackson</td>\n",
       "      <td>0</td>\n",
       "      <td>@AmericanAir you have my money, you change my ...</td>\n",
       "      <td>American</td>\n",
       "      <td>23</td>\n",
       "      <td>1</td>\n",
       "    </tr>\n",
       "  </tbody>\n",
       "</table>\n",
       "<p>11541 rows × 10 columns</p>\n",
       "</div>"
      ],
      "text/plain": [
       "       airline_sentiment  airline_sentiment_confidence  \\\n",
       "0                      0                        0.6469   \n",
       "3                      1                        1.0000   \n",
       "4                      1                        1.0000   \n",
       "7                      1                        1.0000   \n",
       "8                      1                        1.0000   \n",
       "...                  ...                           ...   \n",
       "14633                  1                        1.0000   \n",
       "14634                  1                        0.6684   \n",
       "14635                  0                        0.3487   \n",
       "14636                  1                        1.0000   \n",
       "14638                  1                        1.0000   \n",
       "\n",
       "                    negativereason  negativereason_confidence  \\\n",
       "0                              NaN                        NaN   \n",
       "3      Flight Attendant Complaints                     0.6522   \n",
       "4                       Bad Flight                     1.0000   \n",
       "7          Flight Booking Problems                     0.6921   \n",
       "8                       Can't Tell                     1.0000   \n",
       "...                            ...                        ...   \n",
       "14633             Cancelled Flight                     1.0000   \n",
       "14634                  Late Flight                     0.6684   \n",
       "14635                          NaN                     0.0000   \n",
       "14636       Customer Service Issue                     1.0000   \n",
       "14638       Customer Service Issue                     0.6659   \n",
       "\n",
       "                  name  retweet_count  \\\n",
       "0               jaxbra              0   \n",
       "3      Oneladyyouadore              0   \n",
       "4      Oneladyyouadore              0   \n",
       "7            heyheyman              0   \n",
       "8          erinkphares              0   \n",
       "...                ...            ...   \n",
       "14633  RussellsWriting              0   \n",
       "14634    GolfWithWoody              0   \n",
       "14635  KristenReenders              0   \n",
       "14636         itsropes              0   \n",
       "14638       SraJackson              0   \n",
       "\n",
       "                                                    text   airline  \\\n",
       "0      @JetBlue Yesterday on my way from EWR to FLL j...     Delta   \n",
       "3      @JetBlue They weren't on any flight, they just...     Delta   \n",
       "4      @JetBlue everyone is here but our pilots are n...     Delta   \n",
       "7      @JetBlue Hey guys, why did my last flight earn...     Delta   \n",
       "8      @JetBlue 2 aisles of empty #evermoreroom seats...     Delta   \n",
       "...                                                  ...       ...   \n",
       "14633  @AmericanAir my flight was Cancelled Flightled...  American   \n",
       "14634         @AmericanAir right on cue with the delays👌  American   \n",
       "14635  @AmericanAir thank you we got on a different f...  American   \n",
       "14636  @AmericanAir leaving over 20 minutes Late Flig...  American   \n",
       "14638  @AmericanAir you have my money, you change my ...  American   \n",
       "\n",
       "       word_count  mentions  \n",
       "0              15         1  \n",
       "3              17         1  \n",
       "4              30         1  \n",
       "7              13         1  \n",
       "8              20         1  \n",
       "...           ...       ...  \n",
       "14633          21         1  \n",
       "14634           7         1  \n",
       "14635          11         1  \n",
       "14636          23         1  \n",
       "14638          23         1  \n",
       "\n",
       "[11541 rows x 10 columns]"
      ]
     },
     "execution_count": 137,
     "metadata": {},
     "output_type": "execute_result"
    }
   ],
   "source": [
    "pos_neg_df"
   ]
  },
  {
   "cell_type": "code",
   "execution_count": 138,
   "metadata": {
    "scrolled": true
   },
   "outputs": [
    {
     "data": {
      "text/html": [
       "<table class=\"simpletable\">\n",
       "<caption>OLS Regression Results</caption>\n",
       "<tr>\n",
       "  <th>Dep. Variable:</th>            <td>y</td>        <th>  R-squared (uncentered):</th>      <td>   0.896</td> \n",
       "</tr>\n",
       "<tr>\n",
       "  <th>Model:</th>                   <td>OLS</td>       <th>  Adj. R-squared (uncentered):</th> <td>   0.896</td> \n",
       "</tr>\n",
       "<tr>\n",
       "  <th>Method:</th>             <td>Least Squares</td>  <th>  F-statistic:       </th>          <td>2.492e+04</td>\n",
       "</tr>\n",
       "<tr>\n",
       "  <th>Date:</th>             <td>Mon, 28 Nov 2022</td> <th>  Prob (F-statistic):</th>           <td>  0.00</td>  \n",
       "</tr>\n",
       "<tr>\n",
       "  <th>Time:</th>                 <td>14:21:04</td>     <th>  Log-Likelihood:    </th>          <td> -37772.</td> \n",
       "</tr>\n",
       "<tr>\n",
       "  <th>No. Observations:</th>      <td> 11541</td>      <th>  AIC:               </th>          <td>7.555e+04</td>\n",
       "</tr>\n",
       "<tr>\n",
       "  <th>Df Residuals:</th>          <td> 11537</td>      <th>  BIC:               </th>          <td>7.558e+04</td>\n",
       "</tr>\n",
       "<tr>\n",
       "  <th>Df Model:</th>              <td>     4</td>      <th>                     </th>              <td> </td>    \n",
       "</tr>\n",
       "<tr>\n",
       "  <th>Covariance Type:</th>      <td>nonrobust</td>    <th>                     </th>              <td> </td>    \n",
       "</tr>\n",
       "</table>\n",
       "<table class=\"simpletable\">\n",
       "<tr>\n",
       "   <td></td>     <th>coef</th>     <th>std err</th>      <th>t</th>      <th>P>|t|</th>  <th>[0.025</th>    <th>0.975]</th>  \n",
       "</tr>\n",
       "<tr>\n",
       "  <th>x1</th> <td>    6.0285</td> <td>    0.148</td> <td>   40.798</td> <td> 0.000</td> <td>    5.739</td> <td>    6.318</td>\n",
       "</tr>\n",
       "<tr>\n",
       "  <th>x2</th> <td>   12.3834</td> <td>    0.212</td> <td>   58.290</td> <td> 0.000</td> <td>   11.967</td> <td>   12.800</td>\n",
       "</tr>\n",
       "<tr>\n",
       "  <th>x3</th> <td>    0.1254</td> <td>    0.077</td> <td>    1.619</td> <td> 0.106</td> <td>   -0.026</td> <td>    0.277</td>\n",
       "</tr>\n",
       "<tr>\n",
       "  <th>x4</th> <td>    2.0113</td> <td>    0.138</td> <td>   14.524</td> <td> 0.000</td> <td>    1.740</td> <td>    2.283</td>\n",
       "</tr>\n",
       "</table>\n",
       "<table class=\"simpletable\">\n",
       "<tr>\n",
       "  <th>Omnibus:</th>       <td>152.860</td> <th>  Durbin-Watson:     </th> <td>   1.978</td>\n",
       "</tr>\n",
       "<tr>\n",
       "  <th>Prob(Omnibus):</th> <td> 0.000</td>  <th>  Jarque-Bera (JB):  </th> <td> 153.221</td>\n",
       "</tr>\n",
       "<tr>\n",
       "  <th>Skew:</th>          <td>-0.265</td>  <th>  Prob(JB):          </th> <td>5.35e-34</td>\n",
       "</tr>\n",
       "<tr>\n",
       "  <th>Kurtosis:</th>      <td> 2.805</td>  <th>  Cond. No.          </th> <td>    7.16</td>\n",
       "</tr>\n",
       "</table><br/><br/>Notes:<br/>[1] R² is computed without centering (uncentered) since the model does not contain a constant.<br/>[2] Standard Errors assume that the covariance matrix of the errors is correctly specified."
      ],
      "text/plain": [
       "<class 'statsmodels.iolib.summary.Summary'>\n",
       "\"\"\"\n",
       "                                 OLS Regression Results                                \n",
       "=======================================================================================\n",
       "Dep. Variable:                      y   R-squared (uncentered):                   0.896\n",
       "Model:                            OLS   Adj. R-squared (uncentered):              0.896\n",
       "Method:                 Least Squares   F-statistic:                          2.492e+04\n",
       "Date:                Mon, 28 Nov 2022   Prob (F-statistic):                        0.00\n",
       "Time:                        14:21:04   Log-Likelihood:                         -37772.\n",
       "No. Observations:               11541   AIC:                                  7.555e+04\n",
       "Df Residuals:                   11537   BIC:                                  7.558e+04\n",
       "Df Model:                           4                                                  \n",
       "Covariance Type:            nonrobust                                                  \n",
       "==============================================================================\n",
       "                 coef    std err          t      P>|t|      [0.025      0.975]\n",
       "------------------------------------------------------------------------------\n",
       "x1             6.0285      0.148     40.798      0.000       5.739       6.318\n",
       "x2            12.3834      0.212     58.290      0.000      11.967      12.800\n",
       "x3             0.1254      0.077      1.619      0.106      -0.026       0.277\n",
       "x4             2.0113      0.138     14.524      0.000       1.740       2.283\n",
       "==============================================================================\n",
       "Omnibus:                      152.860   Durbin-Watson:                   1.978\n",
       "Prob(Omnibus):                  0.000   Jarque-Bera (JB):              153.221\n",
       "Skew:                          -0.265   Prob(JB):                     5.35e-34\n",
       "Kurtosis:                       2.805   Cond. No.                         7.16\n",
       "==============================================================================\n",
       "\n",
       "Notes:\n",
       "[1] R² is computed without centering (uncentered) since the model does not contain a constant.\n",
       "[2] Standard Errors assume that the covariance matrix of the errors is correctly specified.\n",
       "\"\"\""
      ]
     },
     "execution_count": 138,
     "metadata": {},
     "output_type": "execute_result"
    }
   ],
   "source": [
    "# YOUR CODE HERE\n",
    "X = np.array(pos_neg_df[['airline_sentiment','airline_sentiment_confidence','retweet_count','mentions']],dtype=float)\n",
    "y = np.array(pos_neg_df['word_count'],dtype=float)\n",
    "\n",
    "model=sm.OLS(y,X).fit()\n",
    "model.summary()"
   ]
  },
  {
   "cell_type": "markdown",
   "metadata": {},
   "source": [
    "## Writing Files\n",
    "\n",
    "Finally, a `pd.DataFrame` can be exported to a `.csv` (or other filetype) using `df.to_csv()`. This is a method function built-in to every data frame.\n",
    "\n",
    "🔔 **Question**:  Where does `airlines_sentiment.csv` get saved? What if you wanted to save it to the \"data\" directory?"
   ]
  },
  {
   "cell_type": "code",
   "execution_count": 139,
   "metadata": {},
   "outputs": [],
   "source": [
    "pos_neg_df.to_csv('../../data/airlines_sentiment.csv') "
   ]
  },
  {
   "cell_type": "markdown",
   "metadata": {},
   "source": [
    "## 🥊 Take-home challenge: Are Negative Tweets Longer than Positive Tweets?\n",
    "\n",
    "For those who want some more practive after the workshop, here's a challenge.\n",
    "\n",
    "Take a look at the negative and positive tweets. We are interested in the whether negative tweets are longer or shorter than positive tweets. Let's test this with a t-test.\n",
    "\n",
    "1. Subset the data into positive and negative tweets.\n",
    "2. Select the `word_count` column.\n",
    "3. Calculate the mean word count for each column. Which mean is higher?\n",
    "3. Use a t-test to compare the two sets of values from (2). What is the p-value of the result? \n",
    "4. Plot a histogram layer for both positive and negative tweet word counts. What do you notice about the distribution?\n",
    "\n",
    "💡 **Tip**: Refer to the [first section](#stats) of this notebook for an example!"
   ]
  },
  {
   "cell_type": "code",
   "execution_count": 141,
   "metadata": {},
   "outputs": [
    {
     "name": "stdout",
     "output_type": "stream",
     "text": [
      "mean length of positive tweets is  19.84451950315973\n",
      "mean length of negative tweets is  14.138383410918324\n",
      "t-score: 39.63668145325772\n",
      "p-value: 0.0\n",
      "Degrees of Freedom: 11539.0\n"
     ]
    },
    {
     "data": {
      "image/png": "[encoded data removed]",
      "text/plain": [
       "<Figure size 640x480 with 1 Axes>"
      ]
     },
     "metadata": {},
     "output_type": "display_data"
    }
   ],
   "source": [
    "# Subset dataframe\n",
    "pos = pos_neg_df.loc[pos_neg_df['airline_sentiment'] == 1]\n",
    "neg = pos_neg_df.loc[pos_neg_df['airline_sentiment'] == 0]\n",
    "\n",
    "# Calculate mean\n",
    "print('mean length of positive tweets is ', pos.loc[:,'word_count'].mean())\n",
    "print('mean length of negative tweets is ', neg.loc[:,'word_count'].mean())\n",
    "\n",
    "# Run t-test\n",
    "res = sm.stats.ttest_ind(pos['word_count'], neg['word_count'])\n",
    "print('t-score:', res[0])\n",
    "print('p-value:', res[1])\n",
    "print('Degrees of Freedom:', res[2])\n",
    "\n",
    "# Plot (kind = 'hist')\n",
    "pos.loc[:,'word_count'].hist();\n",
    "neg.loc[:,'word_count'].hist();"
   ]
  },
  {
   "cell_type": "markdown",
   "metadata": {},
   "source": [
    "# 🎉 Well done!\n",
    "\n",
    "**This concludes Python Fundamentals II!**\n",
    "\n",
    "Today's project took us through importing multiple csv files, data manipulation, and some basic visualizations and analysis of data. \n",
    "\n",
    "If you were working on this dataset, what would you potentially do next? It could be either an analysis, a new feature to include, a visualization that might help represent the data, etc.\n",
    "\n",
    "### 💡 Tip: More workshops!\n",
    "\n",
    "D-Lab teaches workshops that allow you to practice more with DataFrames and visualization.\n",
    "\n",
    "- To learn more about data wrangling, check out D-Lab's [Python Data Wrangling workshop](https://github.com/dlab-berkeley/Python-Data-Wrangling).\n",
    "- To learn more about data visualization, check out D-Lab's [Python Data Visualization workshop](https://github.com/dlab-berkeley/Python-Data-Visualization)."
   ]
  }
 ],
 "metadata": {
  "kernelspec": {
   "display_name": "Python 3 (ipykernel)",
   "language": "python",
   "name": "python3"
  },
  "language_info": {
   "codemirror_mode": {
    "name": "ipython",
    "version": 3
   },
   "file_extension": ".py",
   "mimetype": "text/x-python",
   "name": "python",
   "nbconvert_exporter": "python",
   "pygments_lexer": "ipython3",
   "version": "3.8.13"
  }
 },
 "nbformat": 4,
 "nbformat_minor": 4
}
