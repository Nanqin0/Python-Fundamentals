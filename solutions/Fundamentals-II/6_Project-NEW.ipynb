{
 "cells": [
  {
   "cell_type": "markdown",
   "metadata": {},
   "source": [
    "# 🚀 Project - NEW\n",
    "\n",
    "# SOLUTIONS"
   ]
  },
  {
   "cell_type": "markdown",
   "metadata": {},
   "source": [
    "When you are figuring out what filepath to use, you can use `os.listdir([PATH])` to list all subdirectories in a path. For example, let's see what directories are available to us in the current folder (noted with a dot `.`).\n",
    "\n",
    "🔔 **Question**: In this current folder we're checking out, which items are folders and which are files? (**Hint:** You can double check by looking at the files in JupyterLab/ Jupyter Notebook)."
   ]
  },
  {
   "cell_type": "markdown",
   "metadata": {
    "tags": []
   },
   "source": [
    "### 1.1 Find the Data\n",
    "\n",
    "Use `os.listdir()` to see the files in the \"chis_data\" folder, which is in the \"data\" folder, which is in the main \"Python-Fundamentals\" folder.\n",
    "\n",
    "💡 **Tip**: Remember how to move up in the folder structure? `../../` goes up two folders!\n",
    "\n",
    "💡 **Tip**: You can use Jupyter Lab's File Browser to the left of your screen to get a sense of where the \"chis_data\" folder is."
   ]
  },
  {
   "cell_type": "code",
   "execution_count": 10,
   "metadata": {},
   "outputs": [
    {
     "data": {
      "text/plain": [
       "['chi_esp.csv', 'chi_eng.csv', 'chi_other.csv']"
      ]
     },
     "execution_count": 10,
     "metadata": {},
     "output_type": "execute_result"
    }
   ],
   "source": [
    "# YOUR CODE HERE\n",
    "\n",
    "os.listdir('../../data/chis_data')\n"
   ]
  },
  {
   "cell_type": "markdown",
   "metadata": {
    "tags": []
   },
   "source": [
    "### 1.2 Load in a single file\n",
    "\n",
    "We have 3 csv files based on the language in which the Health Interview was held.\n",
    "L\n",
    "et's load in one of these CSV files.\n",
    "\n",
    "1. Read in the `chis_esp.csv` file as a `pandas` object.\n",
    "2. How many rows are there? How many columns?"
   ]
  },
  {
   "cell_type": "code",
   "execution_count": 12,
   "metadata": {
    "scrolled": true,
    "tags": []
   },
   "outputs": [],
   "source": [
    "import pandas as pd\n",
    "\n",
    "# Load in file\n",
    "chis_esp = pd.read_csv('../../data/chis_data/chis_esp.csv')"
   ]
  },
  {
   "cell_type": "markdown",
   "metadata": {},
   "source": [
    "### 1.3 Load in Multiple Files\n",
    "\n",
    "It looks like the CSV files we have are sorted by language. We want to combine these files in one big dataframe using a loop.\n",
    "However, we notice that there is a `.txt` file in the directory, which isn't a `pandas` dataframe. This will cause an error in the dataframe processing, so let's use an `if` statement to filter out the `.txt` extension. "
   ]
  },
  {
   "cell_type": "markdown",
   "metadata": {},
   "source": [
    "Slice the last 3 characters of the `test_csv` variable and use the equality operator (`==`) to return `True`.\n",
    "\n",
    "💡 **Tip**: Recall slicing the last elements of a list. For instance, use `some_list[-2:]` to get the last two items."
   ]
  },
  {
   "cell_type": "code",
   "execution_count": 17,
   "metadata": {},
   "outputs": [
    {
     "data": {
      "text/plain": [
       "True"
      ]
     },
     "execution_count": 17,
     "metadata": {},
     "output_type": "execute_result"
    }
   ],
   "source": [
    "test_csv = 'chis_esp.csv' # Expression should evaluate True\n",
    "\n",
    "# YOUR CODE HERE\n",
    "test_csv[-3:] == 'csv'"
   ]
  },
  {
   "cell_type": "markdown",
   "metadata": {},
   "source": [
    "Now that we have an expression, let's create a for-loop to check if it works over the files in our folder. "
   ]
  },
  {
   "cell_type": "code",
   "execution_count": 37,
   "metadata": {},
   "outputs": [
    {
     "name": "stdout",
     "output_type": "stream",
     "text": [
      "chis_other.csv\n",
      "chis_eng.csv\n",
      "chis_esp.csv\n"
     ]
    }
   ],
   "source": [
    "directory = '../../data/chis_data'\n",
    "for file in os.listdir(directory):\n",
    "    if file[-3:] == 'csv': # Fill in the blank to filter for files ending with `.csv`\n",
    "        print(file)"
   ]
  },
  {
   "cell_type": "markdown",
   "metadata": {},
   "source": [
    "## 🥊 Challenge: Putting it all together\n",
    "\n",
    "We've got most of the pieces. Now let's put the puzzle together:\n",
    "1) Initialize an *accumulator* list called `df_list`.\n",
    "2) Reuse the `for`-loop we just created to loop over the csv files in the right folder. But in the final line, instead of `print`ing the file, read it as a DataFrame and `append` the output to our `df_list` list.\n",
    "\n",
    "⚠️ Warning: When calling `read_csv()`, you will need to input the **full filepath**, or the file will not be found!"
   ]
  },
  {
   "cell_type": "code",
   "execution_count": 76,
   "metadata": {},
   "outputs": [],
   "source": [
    "# YOUR CODE HERE\n",
    "df_list = []\n",
    "directory = '../../data/chis_data'\n",
    "for file in os.listdir(directory):\n",
    "    if file[-3:] == 'csv': # Fill in the blank to filter for files ending with `csv`\n",
    "        df = pd.read_csv(directory + '/' + file)\n",
    "        df_list.append(df)        \n"
   ]
  },
  {
   "cell_type": "markdown",
   "metadata": {},
   "source": [
    "Finally, look up the [documentation for Pandas](https://pandas.pydata.org/pandas-docs/stable/reference/general_functions.html), and see if you can find a function that **concatenates** the list of DataFrames we have now. We'll save the concatenated list in a variable called `df`."
   ]
  },
  {
   "cell_type": "code",
   "execution_count": 77,
   "metadata": {},
   "outputs": [],
   "source": [
    "# YOUR CODE HERE\n",
    "df = pd.concat(df_list)\n"
   ]
  },
  {
   "cell_type": "markdown",
   "metadata": {},
   "source": [
    "🔔 **Question**: Let's take a look at the final data frame.\n",
    "\n",
    "1. How many rows and columns are there in the total dataframe?\n",
    "2. How many numeric columns are there in the dataset?\n",
    "3. Which columns look interesting to you?"
   ]
  },
  {
   "cell_type": "code",
   "execution_count": 78,
   "metadata": {},
   "outputs": [
    {
     "name": "stdout",
     "output_type": "stream",
     "text": [
      "(22160, 20)\n"
     ]
    },
    {
     "data": {
      "text/html": [
       "<div>\n",
       "<style scoped>\n",
       "    .dataframe tbody tr th:only-of-type {\n",
       "        vertical-align: middle;\n",
       "    }\n",
       "\n",
       "    .dataframe tbody tr th {\n",
       "        vertical-align: top;\n",
       "    }\n",
       "\n",
       "    .dataframe thead th {\n",
       "        text-align: right;\n",
       "    }\n",
       "</style>\n",
       "<table border=\"1\" class=\"dataframe\">\n",
       "  <thead>\n",
       "    <tr style=\"text-align: right;\">\n",
       "      <th></th>\n",
       "      <th>ethnicity</th>\n",
       "      <th>age</th>\n",
       "      <th>gender</th>\n",
       "      <th>edu_attainment</th>\n",
       "      <th>fam_size</th>\n",
       "      <th>general_health</th>\n",
       "      <th>diabetes</th>\n",
       "      <th>high_blood_pr</th>\n",
       "      <th>overweight</th>\n",
       "      <th>doctor_visits_lastyear</th>\n",
       "      <th>fruit_perweek</th>\n",
       "      <th>veg_perweek</th>\n",
       "      <th>cur_insured</th>\n",
       "      <th>feel_left_out</th>\n",
       "      <th>difficult_concentrating</th>\n",
       "      <th>poverty_level</th>\n",
       "      <th>household_tenure</th>\n",
       "      <th>feel_safe_neighborhood</th>\n",
       "      <th>voting_freq_presid</th>\n",
       "      <th>interview_language</th>\n",
       "    </tr>\n",
       "  </thead>\n",
       "  <tbody>\n",
       "    <tr>\n",
       "      <th>0</th>\n",
       "      <td>ASIAN ONLY, NH</td>\n",
       "      <td>75-79 YEARS</td>\n",
       "      <td>FEMALE</td>\n",
       "      <td>NO FORMAL EDUCATION OR GRADE 1-8</td>\n",
       "      <td>1</td>\n",
       "      <td>VERY GOOD</td>\n",
       "      <td>NO</td>\n",
       "      <td>YES</td>\n",
       "      <td>YES</td>\n",
       "      <td>5 TIMES</td>\n",
       "      <td>21</td>\n",
       "      <td>21</td>\n",
       "      <td>YES</td>\n",
       "      <td>HARDLY EVER</td>\n",
       "      <td>NO</td>\n",
       "      <td>0-99% FPL</td>\n",
       "      <td>RENT/SOME OTHER ARRANGEMENT</td>\n",
       "      <td>MOST OF THE TIME</td>\n",
       "      <td>ALWAYS</td>\n",
       "      <td>OTHER LANGUAGE</td>\n",
       "    </tr>\n",
       "    <tr>\n",
       "      <th>1</th>\n",
       "      <td>ASIAN ONLY, NH</td>\n",
       "      <td>70-74 YEARS</td>\n",
       "      <td>FEMALE</td>\n",
       "      <td>NO FORMAL EDUCATION OR GRADE 1-8</td>\n",
       "      <td>1</td>\n",
       "      <td>FAIR</td>\n",
       "      <td>NO</td>\n",
       "      <td>YES</td>\n",
       "      <td>NO</td>\n",
       "      <td>2 TIMES</td>\n",
       "      <td>7</td>\n",
       "      <td>14</td>\n",
       "      <td>YES</td>\n",
       "      <td>SOME OF THE TIME</td>\n",
       "      <td>NO</td>\n",
       "      <td>0-99% FPL</td>\n",
       "      <td>RENT/SOME OTHER ARRANGEMENT</td>\n",
       "      <td>MOST OF THE TIME</td>\n",
       "      <td>INAPPLICABLE</td>\n",
       "      <td>OTHER LANGUAGE</td>\n",
       "    </tr>\n",
       "    <tr>\n",
       "      <th>2</th>\n",
       "      <td>ASIAN ONLY, NH</td>\n",
       "      <td>55-59 YEARS</td>\n",
       "      <td>MALE</td>\n",
       "      <td>GRADE 12/H.S. DIPLOMA</td>\n",
       "      <td>2</td>\n",
       "      <td>POOR</td>\n",
       "      <td>YES</td>\n",
       "      <td>YES</td>\n",
       "      <td>YES</td>\n",
       "      <td>9-12 TIMES</td>\n",
       "      <td>0</td>\n",
       "      <td>7</td>\n",
       "      <td>NO</td>\n",
       "      <td>INAPPLICABLE</td>\n",
       "      <td>NO</td>\n",
       "      <td>200-299% FPL</td>\n",
       "      <td>RENT/SOME OTHER ARRANGEMENT</td>\n",
       "      <td>ALL OF THE TIME</td>\n",
       "      <td>ALWAYS</td>\n",
       "      <td>OTHER LANGUAGE</td>\n",
       "    </tr>\n",
       "    <tr>\n",
       "      <th>3</th>\n",
       "      <td>ASIAN ONLY, NH</td>\n",
       "      <td>75-79 YEARS</td>\n",
       "      <td>MALE</td>\n",
       "      <td>GRADE 9-11</td>\n",
       "      <td>2</td>\n",
       "      <td>GOOD</td>\n",
       "      <td>YES</td>\n",
       "      <td>NO</td>\n",
       "      <td>NO</td>\n",
       "      <td>5 TIMES</td>\n",
       "      <td>7</td>\n",
       "      <td>14</td>\n",
       "      <td>YES</td>\n",
       "      <td>HARDLY EVER</td>\n",
       "      <td>NO</td>\n",
       "      <td>200-299% FPL</td>\n",
       "      <td>OWN</td>\n",
       "      <td>ALL OF THE TIME</td>\n",
       "      <td>NEVER</td>\n",
       "      <td>OTHER LANGUAGE</td>\n",
       "    </tr>\n",
       "    <tr>\n",
       "      <th>4</th>\n",
       "      <td>ASIAN ONLY, NH</td>\n",
       "      <td>75-79 YEARS</td>\n",
       "      <td>MALE</td>\n",
       "      <td>BA OR BS DEGREE/SOME GRAD SCHOOL</td>\n",
       "      <td>2</td>\n",
       "      <td>GOOD</td>\n",
       "      <td>NO</td>\n",
       "      <td>YES</td>\n",
       "      <td>YES</td>\n",
       "      <td>5 TIMES</td>\n",
       "      <td>5</td>\n",
       "      <td>7</td>\n",
       "      <td>YES</td>\n",
       "      <td>HARDLY EVER</td>\n",
       "      <td>NO</td>\n",
       "      <td>100-199% FPL</td>\n",
       "      <td>RENT/SOME OTHER ARRANGEMENT</td>\n",
       "      <td>MOST OF THE TIME</td>\n",
       "      <td>SOMETIMES</td>\n",
       "      <td>OTHER LANGUAGE</td>\n",
       "    </tr>\n",
       "  </tbody>\n",
       "</table>\n",
       "</div>"
      ],
      "text/plain": [
       "        ethnicity          age  gender                    edu_attainment  \\\n",
       "0  ASIAN ONLY, NH  75-79 YEARS  FEMALE  NO FORMAL EDUCATION OR GRADE 1-8   \n",
       "1  ASIAN ONLY, NH  70-74 YEARS  FEMALE  NO FORMAL EDUCATION OR GRADE 1-8   \n",
       "2  ASIAN ONLY, NH  55-59 YEARS    MALE             GRADE 12/H.S. DIPLOMA   \n",
       "3  ASIAN ONLY, NH  75-79 YEARS    MALE                        GRADE 9-11   \n",
       "4  ASIAN ONLY, NH  75-79 YEARS    MALE  BA OR BS DEGREE/SOME GRAD SCHOOL   \n",
       "\n",
       "   fam_size general_health diabetes high_blood_pr overweight  \\\n",
       "0         1      VERY GOOD       NO           YES        YES   \n",
       "1         1           FAIR       NO           YES         NO   \n",
       "2         2           POOR      YES           YES        YES   \n",
       "3         2           GOOD      YES            NO         NO   \n",
       "4         2           GOOD       NO           YES        YES   \n",
       "\n",
       "  doctor_visits_lastyear  fruit_perweek  veg_perweek cur_insured  \\\n",
       "0                5 TIMES             21           21         YES   \n",
       "1                2 TIMES              7           14         YES   \n",
       "2             9-12 TIMES              0            7          NO   \n",
       "3                5 TIMES              7           14         YES   \n",
       "4                5 TIMES              5            7         YES   \n",
       "\n",
       "      feel_left_out difficult_concentrating poverty_level  \\\n",
       "0       HARDLY EVER                      NO     0-99% FPL   \n",
       "1  SOME OF THE TIME                      NO     0-99% FPL   \n",
       "2      INAPPLICABLE                      NO  200-299% FPL   \n",
       "3       HARDLY EVER                      NO  200-299% FPL   \n",
       "4       HARDLY EVER                      NO  100-199% FPL   \n",
       "\n",
       "              household_tenure feel_safe_neighborhood voting_freq_presid  \\\n",
       "0  RENT/SOME OTHER ARRANGEMENT       MOST OF THE TIME             ALWAYS   \n",
       "1  RENT/SOME OTHER ARRANGEMENT       MOST OF THE TIME       INAPPLICABLE   \n",
       "2  RENT/SOME OTHER ARRANGEMENT        ALL OF THE TIME             ALWAYS   \n",
       "3                          OWN        ALL OF THE TIME              NEVER   \n",
       "4  RENT/SOME OTHER ARRANGEMENT       MOST OF THE TIME          SOMETIMES   \n",
       "\n",
       "  interview_language  \n",
       "0     OTHER LANGUAGE  \n",
       "1     OTHER LANGUAGE  \n",
       "2     OTHER LANGUAGE  \n",
       "3     OTHER LANGUAGE  \n",
       "4     OTHER LANGUAGE  "
      ]
     },
     "execution_count": 78,
     "metadata": {},
     "output_type": "execute_result"
    }
   ],
   "source": [
    "# YOUR CODE HERE\n",
    "print(df.shape)\n",
    "df.head()"
   ]
  },
  {
   "cell_type": "markdown",
   "metadata": {},
   "source": [
    "## 2. Data Processing"
   ]
  },
  {
   "cell_type": "markdown",
   "metadata": {
    "tags": []
   },
   "source": [
    "### 2.1 Exploratory Data Analysis (EDA)\n",
    "\n",
    "Now let's do some Exploratory Data Analysis. One thing we will want to do is count values of interesting features. "
   ]
  },
  {
   "cell_type": "code",
   "execution_count": 86,
   "metadata": {},
   "outputs": [
    {
     "data": {
      "text/plain": [
       "INAPPLICABLE        0.618457\n",
       "HARDLY EVER         0.298375\n",
       "SOME OF THE TIME    0.071119\n",
       "OFTEN               0.011688\n",
       "PROXY SKIPPED       0.000361\n",
       "Name: feel_left_out, dtype: float64"
      ]
     },
     "execution_count": 86,
     "metadata": {},
     "output_type": "execute_result"
    }
   ],
   "source": [
    "# YOUR CODE HERE\n",
    "df['feel_left_out'].value_counts(normalize=True)\n"
   ]
  },
  {
   "cell_type": "markdown",
   "metadata": {},
   "source": [
    "\n",
    "One thing we will want to do is look at potential correlations between features that we think might be interesting to pursue further. \n",
    "\n",
    "Pick two of them, then \n",
    "\n"
   ]
  },
  {
   "cell_type": "markdown",
   "metadata": {},
   "source": [
    "### 2.2 Cross-tabulate\n",
    "We can use the `crosstab()` method to cross-tabulate poverty level and health. "
   ]
  },
  {
   "cell_type": "code",
   "execution_count": 48,
   "metadata": {},
   "outputs": [
    {
     "data": {
      "text/html": [
       "<div>\n",
       "<style scoped>\n",
       "    .dataframe tbody tr th:only-of-type {\n",
       "        vertical-align: middle;\n",
       "    }\n",
       "\n",
       "    .dataframe tbody tr th {\n",
       "        vertical-align: top;\n",
       "    }\n",
       "\n",
       "    .dataframe thead th {\n",
       "        text-align: right;\n",
       "    }\n",
       "</style>\n",
       "<table border=\"1\" class=\"dataframe\">\n",
       "  <thead>\n",
       "    <tr style=\"text-align: right;\">\n",
       "      <th>ethnicity</th>\n",
       "      <th>AFRICAN AMERICAN ONLY, NOT HISPANIC</th>\n",
       "      <th>AMERICAN INDIAN/ALASKAN NATIVE ONLY, NH</th>\n",
       "      <th>ASIAN ONLY, NH</th>\n",
       "      <th>HISPANIC</th>\n",
       "      <th>OTHER/TWO OR MORE RACES</th>\n",
       "      <th>WHITE, NON-HISPANIC (NH)</th>\n",
       "    </tr>\n",
       "    <tr>\n",
       "      <th>poverty_level</th>\n",
       "      <th></th>\n",
       "      <th></th>\n",
       "      <th></th>\n",
       "      <th></th>\n",
       "      <th></th>\n",
       "      <th></th>\n",
       "    </tr>\n",
       "  </thead>\n",
       "  <tbody>\n",
       "    <tr>\n",
       "      <th>0-99% FPL</th>\n",
       "      <td>135</td>\n",
       "      <td>14</td>\n",
       "      <td>222</td>\n",
       "      <td>674</td>\n",
       "      <td>65</td>\n",
       "      <td>815</td>\n",
       "    </tr>\n",
       "    <tr>\n",
       "      <th>100-199% FPL</th>\n",
       "      <td>142</td>\n",
       "      <td>22</td>\n",
       "      <td>276</td>\n",
       "      <td>921</td>\n",
       "      <td>76</td>\n",
       "      <td>1386</td>\n",
       "    </tr>\n",
       "    <tr>\n",
       "      <th>200-299% FPL</th>\n",
       "      <td>111</td>\n",
       "      <td>17</td>\n",
       "      <td>288</td>\n",
       "      <td>623</td>\n",
       "      <td>61</td>\n",
       "      <td>1700</td>\n",
       "    </tr>\n",
       "    <tr>\n",
       "      <th>300% FPL AND ABOVE</th>\n",
       "      <td>450</td>\n",
       "      <td>48</td>\n",
       "      <td>1762</td>\n",
       "      <td>1826</td>\n",
       "      <td>348</td>\n",
       "      <td>10178</td>\n",
       "    </tr>\n",
       "  </tbody>\n",
       "</table>\n",
       "</div>"
      ],
      "text/plain": [
       "ethnicity           AFRICAN AMERICAN ONLY, NOT HISPANIC  \\\n",
       "poverty_level                                             \n",
       "0-99% FPL                                           135   \n",
       "100-199% FPL                                        142   \n",
       "200-299% FPL                                        111   \n",
       "300% FPL AND ABOVE                                  450   \n",
       "\n",
       "ethnicity           AMERICAN INDIAN/ALASKAN NATIVE ONLY, NH  ASIAN ONLY, NH  \\\n",
       "poverty_level                                                                 \n",
       "0-99% FPL                                                14             222   \n",
       "100-199% FPL                                             22             276   \n",
       "200-299% FPL                                             17             288   \n",
       "300% FPL AND ABOVE                                       48            1762   \n",
       "\n",
       "ethnicity           HISPANIC  OTHER/TWO OR MORE RACES  \\\n",
       "poverty_level                                           \n",
       "0-99% FPL                674                       65   \n",
       "100-199% FPL             921                       76   \n",
       "200-299% FPL             623                       61   \n",
       "300% FPL AND ABOVE      1826                      348   \n",
       "\n",
       "ethnicity           WHITE, NON-HISPANIC (NH)  \n",
       "poverty_level                                 \n",
       "0-99% FPL                                815  \n",
       "100-199% FPL                            1386  \n",
       "200-299% FPL                            1700  \n",
       "300% FPL AND ABOVE                     10178  "
      ]
     },
     "execution_count": 60,
     "metadata": {},
     "output_type": "execute_result"
    }
   ],
   "source": [
    "pd.crosstab(index=df['poverty_level'], columns=df['general_health'])"
   ]
  },
  {
   "cell_type": "markdown",
   "metadata": {},
   "source": [
    "Look at the crosstab [documentation](https://pandas.pydata.org/docs/reference/api/pandas.crosstab.html) and look for aruments that allow you to get the normalized values, and include subtotals:"
   ]
  },
  {
   "cell_type": "code",
   "execution_count": 51,
   "metadata": {},
   "outputs": [
    {
     "data": {
      "text/html": [
       "<div>\n",
       "<style scoped>\n",
       "    .dataframe tbody tr th:only-of-type {\n",
       "        vertical-align: middle;\n",
       "    }\n",
       "\n",
       "    .dataframe tbody tr th {\n",
       "        vertical-align: top;\n",
       "    }\n",
       "\n",
       "    .dataframe thead th {\n",
       "        text-align: right;\n",
       "    }\n",
       "</style>\n",
       "<table border=\"1\" class=\"dataframe\">\n",
       "  <thead>\n",
       "    <tr style=\"text-align: right;\">\n",
       "      <th>general_health</th>\n",
       "      <th>EXCELLENT</th>\n",
       "      <th>FAIR</th>\n",
       "      <th>GOOD</th>\n",
       "      <th>POOR</th>\n",
       "      <th>VERY GOOD</th>\n",
       "    </tr>\n",
       "    <tr>\n",
       "      <th>poverty_level</th>\n",
       "      <th></th>\n",
       "      <th></th>\n",
       "      <th></th>\n",
       "      <th></th>\n",
       "      <th></th>\n",
       "    </tr>\n",
       "  </thead>\n",
       "  <tbody>\n",
       "    <tr>\n",
       "      <th>0-99% FPL</th>\n",
       "      <td>0.119481</td>\n",
       "      <td>0.211429</td>\n",
       "      <td>0.339221</td>\n",
       "      <td>0.079481</td>\n",
       "      <td>0.250390</td>\n",
       "    </tr>\n",
       "    <tr>\n",
       "      <th>100-199% FPL</th>\n",
       "      <td>0.119022</td>\n",
       "      <td>0.203684</td>\n",
       "      <td>0.340418</td>\n",
       "      <td>0.059511</td>\n",
       "      <td>0.277365</td>\n",
       "    </tr>\n",
       "    <tr>\n",
       "      <th>200-299% FPL</th>\n",
       "      <td>0.134286</td>\n",
       "      <td>0.140357</td>\n",
       "      <td>0.342857</td>\n",
       "      <td>0.032143</td>\n",
       "      <td>0.350357</td>\n",
       "    </tr>\n",
       "    <tr>\n",
       "      <th>300% FPL AND ABOVE</th>\n",
       "      <td>0.222078</td>\n",
       "      <td>0.073091</td>\n",
       "      <td>0.269025</td>\n",
       "      <td>0.014919</td>\n",
       "      <td>0.420887</td>\n",
       "    </tr>\n",
       "    <tr>\n",
       "      <th>All</th>\n",
       "      <td>0.188944</td>\n",
       "      <td>0.110244</td>\n",
       "      <td>0.293547</td>\n",
       "      <td>0.028384</td>\n",
       "      <td>0.378881</td>\n",
       "    </tr>\n",
       "  </tbody>\n",
       "</table>\n",
       "</div>"
      ],
      "text/plain": [
       "general_health      EXCELLENT      FAIR      GOOD      POOR  VERY GOOD\n",
       "poverty_level                                                         \n",
       "0-99% FPL            0.119481  0.211429  0.339221  0.079481   0.250390\n",
       "100-199% FPL         0.119022  0.203684  0.340418  0.059511   0.277365\n",
       "200-299% FPL         0.134286  0.140357  0.342857  0.032143   0.350357\n",
       "300% FPL AND ABOVE   0.222078  0.073091  0.269025  0.014919   0.420887\n",
       "All                  0.188944  0.110244  0.293547  0.028384   0.378881"
      ]
     },
     "execution_count": 51,
     "metadata": {},
     "output_type": "execute_result"
    }
   ],
   "source": [
    "pd.crosstab(index=df['poverty_level'], columns=df['general_health'],\n",
    "            normalize='index',margins=True)\n"
   ]
  },
  {
   "cell_type": "markdown",
   "metadata": {},
   "source": [
    "### 2.3 `Group_by`"
   ]
  },
  {
   "cell_type": "code",
   "execution_count": 64,
   "metadata": {},
   "outputs": [
    {
     "data": {
      "text/plain": [
       "general_health\n",
       "POOR          7.871224\n",
       "FAIR          8.455997\n",
       "GOOD          9.234896\n",
       "VERY GOOD    10.466174\n",
       "EXCELLENT    11.824218\n",
       "Name: veg_perweek, dtype: float64"
      ]
     },
     "execution_count": 64,
     "metadata": {},
     "output_type": "execute_result"
    }
   ],
   "source": [
    "# vegetable eating, grouped by tenure\n",
    "df[\"veg_perweek\"].groupby(df[\"general_health\"]).mean().sort_values()\n"
   ]
  }
 ],
 "metadata": {
  "kernelspec": {
   "display_name": "Python 3 (ipykernel)",
   "language": "python",
   "name": "python3"
  },
  "language_info": {
   "codemirror_mode": {
    "name": "ipython",
    "version": 3
   },
   "file_extension": ".py",
   "mimetype": "text/x-python",
   "name": "python",
   "nbconvert_exporter": "python",
   "pygments_lexer": "ipython3",
   "version": "3.8.13"
  }
 },
 "nbformat": 4,
 "nbformat_minor": 4
}
