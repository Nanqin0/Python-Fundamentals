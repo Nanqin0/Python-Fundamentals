{
 "cells": [
  {
   "cell_type": "markdown",
   "metadata": {
    "tags": []
   },
   "source": [
    "# Final Project\n",
    "\n",
    "# SOLUTIONS"
   ]
  },
  {
   "cell_type": "markdown",
   "metadata": {},
   "source": [
    "# Getting the Data"
   ]
  },
  {
   "cell_type": "markdown",
   "metadata": {
    "tags": []
   },
   "source": [
    "## 🥊 Challenge: Find the Data\n",
    "\n",
    "Use `os.listdir()` to see the files in the \"chis_data\" folder, which is in the \"data\" folder, which is in the main \"Python-Fundamentals\" folder. Using Pandas' `read_csv()` method, read in all three data frames and assign them to the three variables defined below.\n",
    "\n",
    "💡 **Tip**: Remember how to move up in the folder structure? `../../` goes up two folders!\n",
    "\n",
    "💡 **Tip**: You can use Jupyter Lab's File Browser to the left of your screen to get a sense of where the \"chis_data\" folder is."
   ]
  },
  {
   "cell_type": "code",
   "execution_count": 1,
   "metadata": {},
   "outputs": [],
   "source": [
    "# YOUR CODE HERE\n",
    "import pandas as pd\n",
    "df_eng = pd.read_csv('../../data/chis_data/chis_eng.csv')\n",
    "df_esp = pd.read_csv('../../data/chis_data/chis_esp.csv')\n",
    "df_other = pd.read_csv('../../data/chis_data/chis_other.csv')"
   ]
  },
  {
   "cell_type": "markdown",
   "metadata": {},
   "source": [
    "## 🥊 Challenge: Concatenate\n",
    "\n",
    "Look up the [documentation for Pandas](https://pandas.pydata.org/pandas-docs/stable/reference/general_functions.html), and see if you can find a function that **concatenates** the three DataFrames we have now. Save the concatenated list in a new variable called `df`."
   ]
  },
  {
   "cell_type": "code",
   "execution_count": 2,
   "metadata": {},
   "outputs": [],
   "source": [
    "# YOUR CODE HERE\n",
    "df = pd.concat([df_eng,df_esp,df_other])\n"
   ]
  },
  {
   "cell_type": "markdown",
   "metadata": {},
   "source": [
    "🔔 **Question**: Let's take a look at the final data frame.\n",
    "\n",
    "1. How many rows and columns are there in the total dataframe?\n",
    "2. How many numeric columns are there in the dataset?\n",
    "3. Which columns look interesting to you?"
   ]
  },
  {
   "cell_type": "code",
   "execution_count": 3,
   "metadata": {},
   "outputs": [
    {
     "name": "stdout",
     "output_type": "stream",
     "text": [
      "(22160, 20)\n"
     ]
    },
    {
     "data": {
      "text/html": [
       "<div><div id=dc2bc40e-0edd-4a02-a82d-eeb5abc41387 style=\"display:none; background-color:#9D6CFF; color:white; width:200px; height:30px; padding-left:5px; border-radius:4px; flex-direction:row; justify-content:space-around; align-items:center;\" onmouseover=\"this.style.backgroundColor='#BA9BF8'\" onmouseout=\"this.style.backgroundColor='#9D6CFF'\" onclick=\"window.commands?.execute('create-mitosheet-from-dataframe-output');\">See Full Dataframe in Mito</div> <script> if (window.commands?.hasCommand('create-mitosheet-from-dataframe-output')) document.getElementById('dc2bc40e-0edd-4a02-a82d-eeb5abc41387').style.display = 'flex' </script> <table border=\"1\" class=\"dataframe\">\n",
       "  <thead>\n",
       "    <tr style=\"text-align: right;\">\n",
       "      <th></th>\n",
       "      <th>ethnicity</th>\n",
       "      <th>age</th>\n",
       "      <th>gender</th>\n",
       "      <th>edu_attainment</th>\n",
       "      <th>fam_size</th>\n",
       "      <th>general_health</th>\n",
       "      <th>diabetes</th>\n",
       "      <th>high_blood_pr</th>\n",
       "      <th>overweight</th>\n",
       "      <th>doctor_visits_lastyear</th>\n",
       "      <th>fruit_perweek</th>\n",
       "      <th>veg_perweek</th>\n",
       "      <th>cur_insured</th>\n",
       "      <th>feel_left_out</th>\n",
       "      <th>difficult_concentrating</th>\n",
       "      <th>poverty_level</th>\n",
       "      <th>household_tenure</th>\n",
       "      <th>feel_safe_neighborhood</th>\n",
       "      <th>voting_freq_presid</th>\n",
       "      <th>interview_language</th>\n",
       "    </tr>\n",
       "  </thead>\n",
       "  <tbody>\n",
       "    <tr>\n",
       "      <th>0</th>\n",
       "      <td>WHITE, NON-HISPANIC (NH)</td>\n",
       "      <td>35-39 YEARS</td>\n",
       "      <td>MALE</td>\n",
       "      <td>MA OR MS DEGREE</td>\n",
       "      <td>1</td>\n",
       "      <td>EXCELLENT</td>\n",
       "      <td>NO</td>\n",
       "      <td>NO</td>\n",
       "      <td>NO</td>\n",
       "      <td>O TIME</td>\n",
       "      <td>3</td>\n",
       "      <td>0</td>\n",
       "      <td>YES</td>\n",
       "      <td>INAPPLICABLE</td>\n",
       "      <td>NO</td>\n",
       "      <td>300% FPL AND ABOVE</td>\n",
       "      <td>RENT/SOME OTHER ARRANGEMENT</td>\n",
       "      <td>MOST OF THE TIME</td>\n",
       "      <td>ALWAYS</td>\n",
       "      <td>ENGLISH</td>\n",
       "    </tr>\n",
       "    <tr>\n",
       "      <th>1</th>\n",
       "      <td>WHITE, NON-HISPANIC (NH)</td>\n",
       "      <td>70-74 YEARS</td>\n",
       "      <td>MALE</td>\n",
       "      <td>PH.D. OR EQUIVALENT</td>\n",
       "      <td>1</td>\n",
       "      <td>VERY GOOD</td>\n",
       "      <td>NO</td>\n",
       "      <td>NO</td>\n",
       "      <td>NO</td>\n",
       "      <td>1 TIMES</td>\n",
       "      <td>4</td>\n",
       "      <td>2</td>\n",
       "      <td>YES</td>\n",
       "      <td>SOME OF THE TIME</td>\n",
       "      <td>NO</td>\n",
       "      <td>300% FPL AND ABOVE</td>\n",
       "      <td>OWN</td>\n",
       "      <td>ALL OF THE TIME</td>\n",
       "      <td>ALWAYS</td>\n",
       "      <td>ENGLISH</td>\n",
       "    </tr>\n",
       "    <tr>\n",
       "      <th>2</th>\n",
       "      <td>OTHER/TWO OR MORE RACES</td>\n",
       "      <td>30-34 YEARS</td>\n",
       "      <td>FEMALE</td>\n",
       "      <td>BA OR BS DEGREE/SOME GRAD SCHOOL</td>\n",
       "      <td>2</td>\n",
       "      <td>VERY GOOD</td>\n",
       "      <td>NO</td>\n",
       "      <td>NO</td>\n",
       "      <td>NO</td>\n",
       "      <td>9-12 TIMES</td>\n",
       "      <td>21</td>\n",
       "      <td>20</td>\n",
       "      <td>YES</td>\n",
       "      <td>INAPPLICABLE</td>\n",
       "      <td>NO</td>\n",
       "      <td>100-199% FPL</td>\n",
       "      <td>RENT/SOME OTHER ARRANGEMENT</td>\n",
       "      <td>SOME OF THE TIME</td>\n",
       "      <td>ALWAYS</td>\n",
       "      <td>ENGLISH</td>\n",
       "    </tr>\n",
       "    <tr>\n",
       "      <th>3</th>\n",
       "      <td>WHITE, NON-HISPANIC (NH)</td>\n",
       "      <td>75-79 YEARS</td>\n",
       "      <td>MALE</td>\n",
       "      <td>MA OR MS DEGREE</td>\n",
       "      <td>1</td>\n",
       "      <td>GOOD</td>\n",
       "      <td>NO</td>\n",
       "      <td>NO</td>\n",
       "      <td>YES</td>\n",
       "      <td>1 TIMES</td>\n",
       "      <td>7</td>\n",
       "      <td>4</td>\n",
       "      <td>YES</td>\n",
       "      <td>HARDLY EVER</td>\n",
       "      <td>NO</td>\n",
       "      <td>100-199% FPL</td>\n",
       "      <td>OWN</td>\n",
       "      <td>MOST OF THE TIME</td>\n",
       "      <td>INAPPLICABLE</td>\n",
       "      <td>ENGLISH</td>\n",
       "    </tr>\n",
       "    <tr>\n",
       "      <th>4</th>\n",
       "      <td>WHITE, NON-HISPANIC (NH)</td>\n",
       "      <td>35-39 YEARS</td>\n",
       "      <td>MALE</td>\n",
       "      <td>VOCATIONAL SCHOOL</td>\n",
       "      <td>2</td>\n",
       "      <td>GOOD</td>\n",
       "      <td>NO</td>\n",
       "      <td>NO</td>\n",
       "      <td>YES</td>\n",
       "      <td>O TIME</td>\n",
       "      <td>6</td>\n",
       "      <td>6</td>\n",
       "      <td>YES</td>\n",
       "      <td>INAPPLICABLE</td>\n",
       "      <td>NO</td>\n",
       "      <td>300% FPL AND ABOVE</td>\n",
       "      <td>RENT/SOME OTHER ARRANGEMENT</td>\n",
       "      <td>ALL OF THE TIME</td>\n",
       "      <td>SOMETIMES</td>\n",
       "      <td>ENGLISH</td>\n",
       "    </tr>\n",
       "  </tbody>\n",
       "</table></div>"
      ],
      "text/plain": [
       "                  ethnicity          age  gender  \\\n",
       "0  WHITE, NON-HISPANIC (NH)  35-39 YEARS    MALE   \n",
       "1  WHITE, NON-HISPANIC (NH)  70-74 YEARS    MALE   \n",
       "2   OTHER/TWO OR MORE RACES  30-34 YEARS  FEMALE   \n",
       "3  WHITE, NON-HISPANIC (NH)  75-79 YEARS    MALE   \n",
       "4  WHITE, NON-HISPANIC (NH)  35-39 YEARS    MALE   \n",
       "\n",
       "                     edu_attainment  fam_size general_health diabetes  \\\n",
       "0                   MA OR MS DEGREE         1      EXCELLENT       NO   \n",
       "1               PH.D. OR EQUIVALENT         1      VERY GOOD       NO   \n",
       "2  BA OR BS DEGREE/SOME GRAD SCHOOL         2      VERY GOOD       NO   \n",
       "3                   MA OR MS DEGREE         1           GOOD       NO   \n",
       "4                 VOCATIONAL SCHOOL         2           GOOD       NO   \n",
       "\n",
       "  high_blood_pr overweight doctor_visits_lastyear  fruit_perweek  veg_perweek  \\\n",
       "0            NO         NO                 O TIME              3            0   \n",
       "1            NO         NO                1 TIMES              4            2   \n",
       "2            NO         NO             9-12 TIMES             21           20   \n",
       "3            NO        YES                1 TIMES              7            4   \n",
       "4            NO        YES                 O TIME              6            6   \n",
       "\n",
       "  cur_insured     feel_left_out difficult_concentrating       poverty_level  \\\n",
       "0         YES      INAPPLICABLE                      NO  300% FPL AND ABOVE   \n",
       "1         YES  SOME OF THE TIME                      NO  300% FPL AND ABOVE   \n",
       "2         YES      INAPPLICABLE                      NO        100-199% FPL   \n",
       "3         YES       HARDLY EVER                      NO        100-199% FPL   \n",
       "4         YES      INAPPLICABLE                      NO  300% FPL AND ABOVE   \n",
       "\n",
       "              household_tenure feel_safe_neighborhood voting_freq_presid  \\\n",
       "0  RENT/SOME OTHER ARRANGEMENT       MOST OF THE TIME             ALWAYS   \n",
       "1                          OWN        ALL OF THE TIME             ALWAYS   \n",
       "2  RENT/SOME OTHER ARRANGEMENT       SOME OF THE TIME             ALWAYS   \n",
       "3                          OWN       MOST OF THE TIME       INAPPLICABLE   \n",
       "4  RENT/SOME OTHER ARRANGEMENT        ALL OF THE TIME          SOMETIMES   \n",
       "\n",
       "  interview_language  \n",
       "0            ENGLISH  \n",
       "1            ENGLISH  \n",
       "2            ENGLISH  \n",
       "3            ENGLISH  \n",
       "4            ENGLISH  "
      ]
     },
     "execution_count": 3,
     "metadata": {},
     "output_type": "execute_result"
    }
   ],
   "source": [
    "# YOUR CODE HERE\n",
    "print(df.shape)\n",
    "df.head()"
   ]
  },
  {
   "cell_type": "markdown",
   "metadata": {},
   "source": [
    "# Data Processing"
   ]
  },
  {
   "cell_type": "markdown",
   "metadata": {
    "tags": []
   },
   "source": [
    "## 🥊 Challenge: Exploratory Data Analysis (EDA)\n",
    "\n",
    "Now let's do some Exploratory Data Analysis. One thing we will want to do is count values of interesting features. Run `value_counts()` on the `feel_left_out` column and normalize the output.\n"
   ]
  },
  {
   "cell_type": "code",
   "execution_count": 4,
   "metadata": {},
   "outputs": [
    {
     "data": {
      "text/plain": [
       "INAPPLICABLE        0.618457\n",
       "HARDLY EVER         0.298375\n",
       "SOME OF THE TIME    0.071119\n",
       "OFTEN               0.011688\n",
       "PROXY SKIPPED       0.000361\n",
       "Name: feel_left_out, dtype: float64"
      ]
     },
     "execution_count": 4,
     "metadata": {},
     "output_type": "execute_result"
    }
   ],
   "source": [
    "# YOUR CODE HERE\n",
    "df['feel_left_out'].value_counts(normalize=True)\n"
   ]
  },
  {
   "cell_type": "markdown",
   "metadata": {},
   "source": [
    "\n",
    "One thing we will want to do is look at potential correlations between features that we think might be interesting to pursue further. \n",
    "\n",
    "Pick two of them, then \n",
    "\n"
   ]
  },
  {
   "cell_type": "markdown",
   "metadata": {
    "tags": []
   },
   "source": [
    "## 🥊 Challenge: Quantiles\n",
    "\n",
    "We can use the `quantile()` method to calculate the q-th quantile of the data along a specified axis. Try to find the amount of fruits eaten by the top 1% of respondents."
   ]
  },
  {
   "cell_type": "code",
   "execution_count": 5,
   "metadata": {},
   "outputs": [
    {
     "data": {
      "text/plain": [
       "28.0"
      ]
     },
     "execution_count": 5,
     "metadata": {},
     "output_type": "execute_result"
    }
   ],
   "source": [
    "# YOUR CODE HERE\n",
    "\n",
    "df['fruit_perweek'].quantile(0.99)"
   ]
  },
  {
   "cell_type": "markdown",
   "metadata": {},
   "source": [
    "## 🥊 Challenge: Cross-tabulate\n",
    "We can use the `crosstab()` method to cross-tabulate poverty level and health. "
   ]
  },
  {
   "cell_type": "code",
   "execution_count": 6,
   "metadata": {},
   "outputs": [
    {
     "data": {
      "text/html": [
       "<div><div id=a3d2c62a-84b0-47e9-aea0-84c550574d24 style=\"display:none; background-color:#9D6CFF; color:white; width:200px; height:30px; padding-left:5px; border-radius:4px; flex-direction:row; justify-content:space-around; align-items:center;\" onmouseover=\"this.style.backgroundColor='#BA9BF8'\" onmouseout=\"this.style.backgroundColor='#9D6CFF'\" onclick=\"window.commands?.execute('create-mitosheet-from-dataframe-output');\">See Full Dataframe in Mito</div> <script> if (window.commands?.hasCommand('create-mitosheet-from-dataframe-output')) document.getElementById('a3d2c62a-84b0-47e9-aea0-84c550574d24').style.display = 'flex' </script> <table border=\"1\" class=\"dataframe\">\n",
       "  <thead>\n",
       "    <tr style=\"text-align: right;\">\n",
       "      <th>general_health</th>\n",
       "      <th>EXCELLENT</th>\n",
       "      <th>FAIR</th>\n",
       "      <th>GOOD</th>\n",
       "      <th>POOR</th>\n",
       "      <th>VERY GOOD</th>\n",
       "    </tr>\n",
       "    <tr>\n",
       "      <th>poverty_level</th>\n",
       "      <th></th>\n",
       "      <th></th>\n",
       "      <th></th>\n",
       "      <th></th>\n",
       "      <th></th>\n",
       "    </tr>\n",
       "  </thead>\n",
       "  <tbody>\n",
       "    <tr>\n",
       "      <th>0-99% FPL</th>\n",
       "      <td>230</td>\n",
       "      <td>407</td>\n",
       "      <td>653</td>\n",
       "      <td>153</td>\n",
       "      <td>482</td>\n",
       "    </tr>\n",
       "    <tr>\n",
       "      <th>100-199% FPL</th>\n",
       "      <td>336</td>\n",
       "      <td>575</td>\n",
       "      <td>961</td>\n",
       "      <td>168</td>\n",
       "      <td>783</td>\n",
       "    </tr>\n",
       "    <tr>\n",
       "      <th>200-299% FPL</th>\n",
       "      <td>376</td>\n",
       "      <td>393</td>\n",
       "      <td>960</td>\n",
       "      <td>90</td>\n",
       "      <td>981</td>\n",
       "    </tr>\n",
       "    <tr>\n",
       "      <th>300% FPL AND ABOVE</th>\n",
       "      <td>3245</td>\n",
       "      <td>1068</td>\n",
       "      <td>3931</td>\n",
       "      <td>218</td>\n",
       "      <td>6150</td>\n",
       "    </tr>\n",
       "  </tbody>\n",
       "</table></div>"
      ],
      "text/plain": [
       "general_health      EXCELLENT  FAIR  GOOD  POOR  VERY GOOD\n",
       "poverty_level                                             \n",
       "0-99% FPL                 230   407   653   153        482\n",
       "100-199% FPL              336   575   961   168        783\n",
       "200-299% FPL              376   393   960    90        981\n",
       "300% FPL AND ABOVE       3245  1068  3931   218       6150"
      ]
     },
     "execution_count": 6,
     "metadata": {},
     "output_type": "execute_result"
    }
   ],
   "source": [
    "pd.crosstab(index=df['poverty_level'], columns=df['general_health'])"
   ]
  },
  {
   "cell_type": "markdown",
   "metadata": {},
   "source": [
    "Look at the crosstab [documentation](https://pandas.pydata.org/docs/reference/api/pandas.crosstab.html) and look for aruments that allow you to get the normalized values, and include subtotals.\n",
    "\n",
    "Get the cross tab of `poverty_level` and `general_health`. Normalize them and print the subtotals. "
   ]
  },
  {
   "cell_type": "code",
   "execution_count": 7,
   "metadata": {},
   "outputs": [
    {
     "data": {
      "text/html": [
       "<div><div id=badf04a8-f9a4-4df3-97c2-98a18e4210e7 style=\"display:none; background-color:#9D6CFF; color:white; width:200px; height:30px; padding-left:5px; border-radius:4px; flex-direction:row; justify-content:space-around; align-items:center;\" onmouseover=\"this.style.backgroundColor='#BA9BF8'\" onmouseout=\"this.style.backgroundColor='#9D6CFF'\" onclick=\"window.commands?.execute('create-mitosheet-from-dataframe-output');\">See Full Dataframe in Mito</div> <script> if (window.commands?.hasCommand('create-mitosheet-from-dataframe-output')) document.getElementById('badf04a8-f9a4-4df3-97c2-98a18e4210e7').style.display = 'flex' </script> <table border=\"1\" class=\"dataframe\">\n",
       "  <thead>\n",
       "    <tr style=\"text-align: right;\">\n",
       "      <th>general_health</th>\n",
       "      <th>EXCELLENT</th>\n",
       "      <th>FAIR</th>\n",
       "      <th>GOOD</th>\n",
       "      <th>POOR</th>\n",
       "      <th>VERY GOOD</th>\n",
       "    </tr>\n",
       "    <tr>\n",
       "      <th>poverty_level</th>\n",
       "      <th></th>\n",
       "      <th></th>\n",
       "      <th></th>\n",
       "      <th></th>\n",
       "      <th></th>\n",
       "    </tr>\n",
       "  </thead>\n",
       "  <tbody>\n",
       "    <tr>\n",
       "      <th>0-99% FPL</th>\n",
       "      <td>0.119481</td>\n",
       "      <td>0.211429</td>\n",
       "      <td>0.339221</td>\n",
       "      <td>0.079481</td>\n",
       "      <td>0.250390</td>\n",
       "    </tr>\n",
       "    <tr>\n",
       "      <th>100-199% FPL</th>\n",
       "      <td>0.119022</td>\n",
       "      <td>0.203684</td>\n",
       "      <td>0.340418</td>\n",
       "      <td>0.059511</td>\n",
       "      <td>0.277365</td>\n",
       "    </tr>\n",
       "    <tr>\n",
       "      <th>200-299% FPL</th>\n",
       "      <td>0.134286</td>\n",
       "      <td>0.140357</td>\n",
       "      <td>0.342857</td>\n",
       "      <td>0.032143</td>\n",
       "      <td>0.350357</td>\n",
       "    </tr>\n",
       "    <tr>\n",
       "      <th>300% FPL AND ABOVE</th>\n",
       "      <td>0.222078</td>\n",
       "      <td>0.073091</td>\n",
       "      <td>0.269025</td>\n",
       "      <td>0.014919</td>\n",
       "      <td>0.420887</td>\n",
       "    </tr>\n",
       "    <tr>\n",
       "      <th>All</th>\n",
       "      <td>0.188944</td>\n",
       "      <td>0.110244</td>\n",
       "      <td>0.293547</td>\n",
       "      <td>0.028384</td>\n",
       "      <td>0.378881</td>\n",
       "    </tr>\n",
       "  </tbody>\n",
       "</table></div>"
      ],
      "text/plain": [
       "general_health      EXCELLENT      FAIR      GOOD      POOR  VERY GOOD\n",
       "poverty_level                                                         \n",
       "0-99% FPL            0.119481  0.211429  0.339221  0.079481   0.250390\n",
       "100-199% FPL         0.119022  0.203684  0.340418  0.059511   0.277365\n",
       "200-299% FPL         0.134286  0.140357  0.342857  0.032143   0.350357\n",
       "300% FPL AND ABOVE   0.222078  0.073091  0.269025  0.014919   0.420887\n",
       "All                  0.188944  0.110244  0.293547  0.028384   0.378881"
      ]
     },
     "execution_count": 7,
     "metadata": {},
     "output_type": "execute_result"
    }
   ],
   "source": [
    "# YOUR CODE HERE\n",
    "\n",
    "pd.crosstab(index=df['poverty_level'], columns=df['general_health'],\n",
    "            normalize='index',margins=True)\n"
   ]
  },
  {
   "cell_type": "markdown",
   "metadata": {},
   "source": [
    "## 🥊 Challenge: Grouping\n",
    "\n",
    "Use `groupby()` to get the **means** of the amount of veggies eaten per week (`veg_perweek`) when grouping by `general_health`. Sort the mean from small to large."
   ]
  },
  {
   "cell_type": "code",
   "execution_count": 8,
   "metadata": {},
   "outputs": [
    {
     "data": {
      "text/plain": [
       "general_health\n",
       "FAIR         5.848547\n",
       "POOR         5.976153\n",
       "GOOD         6.095619\n",
       "VERY GOOD    6.506551\n",
       "EXCELLENT    7.116312\n",
       "Name: veg_perweek, dtype: float64"
      ]
     },
     "execution_count": 8,
     "metadata": {},
     "output_type": "execute_result"
    }
   ],
   "source": [
    "# YOUR CODE HERE\n",
    "df['veg_perweek'].groupby(df['general_health']).mean().sort_values()\n"
   ]
  },
  {
   "cell_type": "markdown",
   "metadata": {
    "tags": []
   },
   "source": [
    "## 🥊 Challenge: Visualizing Correlations\n",
    "\n",
    "Let's try to find out if there's a correspondence between `fruit_perweek` and `veg_perweek`.\n",
    "\n",
    "Getting the correlations between features is done using `.corr()`. Look up how it works and try it out!"
   ]
  },
  {
   "cell_type": "code",
   "execution_count": 9,
   "metadata": {},
   "outputs": [
    {
     "data": {
      "text/plain": [
       "0.7615651737599495"
      ]
     },
     "execution_count": 9,
     "metadata": {},
     "output_type": "execute_result"
    }
   ],
   "source": [
    "# YOUR CODE HERE\n",
    "df.fruit_perweek.corr(df.veg_perweek)"
   ]
  },
  {
   "cell_type": "markdown",
   "metadata": {},
   "source": [
    "Use Pandas' `.plot()` method to visualize the correlation with a scatterplot.\n",
    "\n",
    "💡 **Tip**: Use the argument `type=scatter` to get a scatterplot."
   ]
  },
  {
   "cell_type": "code",
   "execution_count": 10,
   "metadata": {},
   "outputs": [
    {
     "data": {
      "image/png": "[encoded data removed]",
      "text/plain": [
       "<Figure size 640x480 with 1 Axes>"
      ]
     },
     "metadata": {},
     "output_type": "display_data"
    }
   ],
   "source": [
    "# YOUR CODE HERE\n",
    "df.plot(kind='scatter', x='fruit_perweek', y='veg_perweek');\n"
   ]
  }
 ],
 "metadata": {
  "kernelspec": {
   "display_name": "Python 3 (ipykernel)",
   "language": "python",
   "name": "python3"
  },
  "language_info": {
   "codemirror_mode": {
    "name": "ipython",
    "version": 3
   },
   "file_extension": ".py",
   "mimetype": "text/x-python",
   "name": "python",
   "nbconvert_exporter": "python",
   "pygments_lexer": "ipython3",
   "version": "3.8.13"
  }
 },
 "nbformat": 4,
 "nbformat_minor": 4
}
