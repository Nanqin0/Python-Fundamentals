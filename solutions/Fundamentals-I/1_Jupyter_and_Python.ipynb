{
 "cells": [
  {
   "cell_type": "markdown",
   "metadata": {},
   "source": [
    "# Jupyter and Python\n",
    "# SOLUTIONS"
   ]
  },
  {
   "cell_type": "code",
   "execution_count": 55,
   "metadata": {},
   "outputs": [
    {
     "name": "stdout",
     "output_type": "stream",
     "text": [
      "Hi, I'm Tom\n"
     ]
    }
   ],
   "source": [
    "# Write your own awesome print statement here!\n",
    "print('Hi, I\\'m Tom')"
   ]
  },
  {
   "cell_type": "markdown",
   "metadata": {},
   "source": [
    "🔔 **Question:** What does the below code cell do? What does the `print(a)` statement do?"
   ]
  },
  {
   "cell_type": "code",
   "execution_count": 56,
   "metadata": {},
   "outputs": [
    {
     "name": "stdout",
     "output_type": "stream",
     "text": [
      "3\n"
     ]
    }
   ],
   "source": [
    "a = 1 + 2\n",
    "print(a)"
   ]
  },
  {
   "cell_type": "markdown",
   "metadata": {},
   "source": [
    "You can enter the same line over and over again into the interpreter."
   ]
  },
  {
   "cell_type": "markdown",
   "metadata": {},
   "source": [
    "🥊 **Challenge**:  Try using `Control/Command+Enter` to run the following cell three times. What is the output? Run the cell one more time. Is the output the same?"
   ]
  },
  {
   "cell_type": "code",
   "execution_count": 57,
   "metadata": {},
   "outputs": [
    {
     "name": "stdout",
     "output_type": "stream",
     "text": [
      "4\n"
     ]
    }
   ],
   "source": [
    "a = a + 1\n",
    "print(a)"
   ]
  },
  {
   "cell_type": "markdown",
   "metadata": {
    "tags": []
   },
   "source": [
    "## What is Markdown?\n",
    "\n",
    "This cell is written in **markdown**, a simple markup language. We use it to narrate the workshop and provide context. \n",
    "\n",
    "Markdown has its own syntax, which is fairly straighforward. Here's a [cheatsheet](https://github.com/adam-p/markdown-here/wiki/Markdown-Cheatsheet) if you want to know more. You can also double-click on any of the markdown cells in the notebook to see how they are made. Press"
   ]
  },
  {
   "cell_type": "markdown",
   "metadata": {},
   "source": [
    "🥊 **Challenge**:  Double click this text cell to see the markdown code rendering the output. What happens? Do `Shift+Enter` to go back to the formatted text."
   ]
  },
  {
   "cell_type": "markdown",
   "metadata": {
    "tags": []
   },
   "source": [
    "### 💡 Tip: Command Mode & Edit Mode \n",
    "\n",
    "If you want to create new empty cells, you can use the + button at the top of the notebook. \n",
    "\n",
    "Enter **edit mode** by pressing Enter or using the mouse to click on a cell’s editor area. Edit mode allows you to edit cells.<br>\n",
    "Enter **command mode** by pressing Esc or using the mouse to click outside a cell's editor area. Command mode allows you to use shortcut keys:\n",
    "\n",
    "a = Add cell above  \n",
    "b = Add cell below  \n",
    "dd = delete cell (also click Edit --> Undo Delete Cells if needed)\n",
    "\n",
    "m = Convert cell to Markdown  \n",
    "y = Convert cell to Code  "
   ]
  },
  {
   "cell_type": "markdown",
   "metadata": {},
   "source": [
    "🥊 **Challenge**: Create a new cell below this one!"
   ]
  },
  {
   "cell_type": "markdown",
   "metadata": {
    "tags": []
   },
   "source": [
    "## The Kernel\n",
    "\n",
    "One of the tabs in the Jupyter menu is \"Kernel\". This kernel is the computational engine that executes the code contained in a Jupyter Notebook.\n",
    " \n",
    "⚠️ **Warning:** Jupyter remembers all lines of code it executed, **even if it's not currently displayed in the notebook**. Deleting a line of code does not delete it from the notebook's memory if it has already been run! This can cause a lot of confusion."
   ]
  },
  {
   "cell_type": "markdown",
   "metadata": {},
   "source": [
    "### Clearing the Kernel\n",
    "To clear everything from Jupyter use Kernel -> Restart in the menu. The kernel is basically the program actually running the code, so if you reset the kernel, it's as if you just opened up the notebook for the first time. All of the outputs are forgotten, and the variables are reset.\n",
    "\n",
    "🔔 **Question:** First, run the cell below. What is the output?"
   ]
  },
  {
   "cell_type": "code",
   "execution_count": 58,
   "metadata": {},
   "outputs": [
    {
     "name": "stdout",
     "output_type": "stream",
     "text": [
      "And three shall be the count.\n"
     ]
    }
   ],
   "source": [
    "mystring = 'And three shall be the count.'\n",
    "\n",
    "print(mystring)"
   ]
  },
  {
   "cell_type": "markdown",
   "metadata": {},
   "source": [
    "🔔 **Question:** Now use Kernel -> Restart in the menu! Then run the code below. What happens?"
   ]
  },
  {
   "cell_type": "code",
   "execution_count": 59,
   "metadata": {},
   "outputs": [
    {
     "name": "stdout",
     "output_type": "stream",
     "text": [
      "And three shall be the count.\n"
     ]
    }
   ],
   "source": [
    "print(mystring)"
   ]
  },
  {
   "cell_type": "markdown",
   "metadata": {},
   "source": [
    "Note that the error message tells you where the error happened (with an arrow, no less!). It is telling us that `mystring` is not defined, since we just reset the kernel."
   ]
  },
  {
   "cell_type": "markdown",
   "metadata": {},
   "source": [
    "### 💡 Tip: Jupyter autocomplete\n",
    "\n",
    "Jupyter notebooks also allow for tab completion, just like many command line interpreters and text editors. If you begin typing the name of something (e.g., a variable, a file in the current directory, etc.) that already exists, you can simply hit **Tab** and Jupyter will autocomplete it for you. If there is more than one possibility, it will show them to you and you can choose from there. For example:"
   ]
  },
  {
   "cell_type": "code",
   "execution_count": 60,
   "metadata": {},
   "outputs": [],
   "source": [
    "test_me = 1\n",
    "test_me_2 = 2"
   ]
  },
  {
   "cell_type": "markdown",
   "metadata": {},
   "source": [
    "🔔 **Question:** Try typing `te`, and see what happens when you hit `TAB`! What are you seeing?"
   ]
  },
  {
   "cell_type": "code",
   "execution_count": 61,
   "metadata": {
    "tags": []
   },
   "outputs": [
    {
     "data": {
      "text/plain": [
       "1"
      ]
     },
     "execution_count": 61,
     "metadata": {},
     "output_type": "execute_result"
    }
   ],
   "source": [
    "# YOUR CODE HERE\n",
    "test_me\n"
   ]
  },
  {
   "cell_type": "markdown",
   "metadata": {
    "tags": []
   },
   "source": [
    "### Exiting Jupyter\n",
    "\n",
    "When you close your Jupyter notebook window, all of your values will be lost. But you can save your code for a later time.\n",
    "\n",
    "First go to File -> Close and Shutdown Notebook in order to shutdown the notebook you are using and close its window. Once all notebooks are shut down, you can shut down the entire Jupyter server by closing Anaconda navigator. You may get a warning dialog box alerting you that Jupyter Notebook is still running. Just click **Quit** to shut everything down."
   ]
  },
  {
   "cell_type": "markdown",
   "metadata": {},
   "source": [
    "## 🥊 Challenge: Debugging Variable Names\n",
    "\n",
    "The following two blocks of code include variable names that cause an error. For each block of code, consider the following questions:\n",
    "1. Which **rule** is being broken? Can you find this information in the error message?\n",
    "2. What **guidelines** aren't being followed? \n",
    "3. How would you change the code?"
   ]
  },
  {
   "cell_type": "code",
   "execution_count": 67,
   "metadata": {},
   "outputs": [
    {
     "name": "stdout",
     "output_type": "stream",
     "text": [
      "The capital of Washington is Olympia\n"
     ]
    }
   ],
   "source": [
    "a = 'Washington'\n",
    "b = 'Olympia'\n",
    "\n",
    "print('The capital of', a, 'is', b)"
   ]
  },
  {
   "cell_type": "markdown",
   "metadata": {},
   "source": [
    "## 🥊 Challenge: Bug Hunting\n",
    "\n",
    "See the code cell below and try to get rid of all the errors! Don't worry if you don't understand all of the code – just go through it line by line, running the code, and fixing the error that Python tells you about.\n"
   ]
  },
  {
   "cell_type": "code",
   "execution_count": 70,
   "metadata": {},
   "outputs": [
    {
     "name": "stdout",
     "output_type": "stream",
     "text": [
      "Commence the program!\n",
      "10\n",
      "20\n",
      "30\n"
     ]
    }
   ],
   "source": [
    "print('Commence the program!')\n",
    "a = [10,20,30]\n",
    "for each in a:\n",
    "    print(each)\n",
    "          "
   ]
  },
  {
   "cell_type": "markdown",
   "metadata": {},
   "source": [
    "## 🥊 Challenge: Swapping Values\n",
    "\n",
    "Let's say we have two variables and we want to swap the values for each of them. \n",
    "\n",
    "Does the following method accomplish the goal? (**Hint**: What is the value of first and last at the end of the cell?) `"
   ]
  },
  {
   "cell_type": "code",
   "execution_count": 72,
   "metadata": {},
   "outputs": [],
   "source": [
    "first = 'a'\n",
    "last = 'z'\n",
    "\n",
    "first = last\n",
    "last = first"
   ]
  },
  {
   "cell_type": "markdown",
   "metadata": {},
   "source": [
    "Using a third temporary variable (for example 'temp'), swap the first and last variables, so that `first = 'z'` and `last = 'a'`."
   ]
  },
  {
   "cell_type": "code",
   "execution_count": 73,
   "metadata": {},
   "outputs": [
    {
     "name": "stdout",
     "output_type": "stream",
     "text": [
      "z a\n"
     ]
    }
   ],
   "source": [
    "first = 'a'\n",
    "last = 'z'\n",
    "\n",
    "# YOUR CODE HERE\n",
    "temp = last\n",
    "last = first\n",
    "first = temp\n",
    "\n",
    "print(first,last)"
   ]
  }
 ],
 "metadata": {
  "kernelspec": {
   "display_name": "Python 3 (ipykernel)",
   "language": "python",
   "name": "python3"
  },
  "language_info": {
   "codemirror_mode": {
    "name": "ipython",
    "version": 3
   },
   "file_extension": ".py",
   "mimetype": "text/x-python",
   "name": "python",
   "nbconvert_exporter": "python",
   "pygments_lexer": "ipython3",
   "version": "3.8.13"
  }
 },
 "nbformat": 4,
 "nbformat_minor": 4
}
