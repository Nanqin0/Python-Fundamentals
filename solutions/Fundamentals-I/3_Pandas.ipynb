{
 "cells": [
  {
   "cell_type": "markdown",
   "metadata": {},
   "source": [
    "# Introduction to Pandas\n",
    "# SOLUTIONS"
   ]
  },
  {
   "cell_type": "markdown",
   "metadata": {},
   "source": [
    "## 🥊 Challenge: Locating the Right Library\n",
    "\n",
    "You want to select a random value from a list of data.\n",
    "\n",
    "1. What [standard library](https://docs.python.org/3/library/) would you most expect to help? Look at the documentation and find it.\n",
    "2. Which **function** would you select from that library? 💡 **Tip**: Look at \"Functions for sequences\" in the documentation.\n",
    "3. Import the library, and apply the function to the following list."
   ]
  },
  {
   "cell_type": "code",
   "execution_count": 6,
   "metadata": {},
   "outputs": [],
   "source": [
    "ids = [1, 2, 3, 4, 5, 6]"
   ]
  },
  {
   "cell_type": "code",
   "execution_count": 8,
   "metadata": {},
   "outputs": [
    {
     "data": {
      "text/plain": [
       "1"
      ]
     },
     "execution_count": 8,
     "metadata": {},
     "output_type": "execute_result"
    }
   ],
   "source": [
    "# YOUR CODE HERE\n",
    "import random\n",
    "\n",
    "random.choice(ids)\n"
   ]
  },
  {
   "cell_type": "markdown",
   "metadata": {},
   "source": [
    "## 🥊 Challenge: `.describe()`\n",
    "\n",
    "Use the `.describe()` method to find the average review score for all albums in this dataset."
   ]
  },
  {
   "cell_type": "code",
   "execution_count": 35,
   "metadata": {},
   "outputs": [
    {
     "data": {
      "text/html": [
       "<div>\n",
       "<style scoped>\n",
       "    .dataframe tbody tr th:only-of-type {\n",
       "        vertical-align: middle;\n",
       "    }\n",
       "\n",
       "    .dataframe tbody tr th {\n",
       "        vertical-align: top;\n",
       "    }\n",
       "\n",
       "    .dataframe thead th {\n",
       "        text-align: right;\n",
       "    }\n",
       "</style>\n",
       "<table border=\"1\" class=\"dataframe\">\n",
       "  <thead>\n",
       "    <tr style=\"text-align: right;\">\n",
       "      <th></th>\n",
       "      <th>score</th>\n",
       "    </tr>\n",
       "  </thead>\n",
       "  <tbody>\n",
       "    <tr>\n",
       "      <th>count</th>\n",
       "      <td>5001.000000</td>\n",
       "    </tr>\n",
       "    <tr>\n",
       "      <th>mean</th>\n",
       "      <td>72.684223</td>\n",
       "    </tr>\n",
       "    <tr>\n",
       "      <th>std</th>\n",
       "      <td>8.714896</td>\n",
       "    </tr>\n",
       "    <tr>\n",
       "      <th>min</th>\n",
       "      <td>7.400000</td>\n",
       "    </tr>\n",
       "    <tr>\n",
       "      <th>25%</th>\n",
       "      <td>68.000000</td>\n",
       "    </tr>\n",
       "    <tr>\n",
       "      <th>50%</th>\n",
       "      <td>74.000000</td>\n",
       "    </tr>\n",
       "    <tr>\n",
       "      <th>75%</th>\n",
       "      <td>79.000000</td>\n",
       "    </tr>\n",
       "    <tr>\n",
       "      <th>max</th>\n",
       "      <td>100.000000</td>\n",
       "    </tr>\n",
       "  </tbody>\n",
       "</table>\n",
       "</div>"
      ],
      "text/plain": [
       "             score\n",
       "count  5001.000000\n",
       "mean     72.684223\n",
       "std       8.714896\n",
       "min       7.400000\n",
       "25%      68.000000\n",
       "50%      74.000000\n",
       "75%      79.000000\n",
       "max     100.000000"
      ]
     },
     "execution_count": 35,
     "metadata": {},
     "output_type": "execute_result"
    }
   ],
   "source": [
    "## YOUR CODE HERE\n",
    "\n",
    "music.describe()\n",
    "# mean = 72.684223"
   ]
  },
  {
   "cell_type": "markdown",
   "metadata": {},
   "source": [
    "Rename the \"album\" column name to \"ALBUM\" and the \"body\" column name to \"Body\"."
   ]
  },
  {
   "cell_type": "code",
   "execution_count": 45,
   "metadata": {},
   "outputs": [],
   "source": [
    "## YOUR CODE HERE\n",
    "\n",
    "music.rename(columns={'album': 'ALBUM', 'body': 'Body'}, inplace=True)"
   ]
  },
  {
   "cell_type": "code",
   "execution_count": 46,
   "metadata": {},
   "outputs": [
    {
     "data": {
      "text/html": [
       "<div>\n",
       "<style scoped>\n",
       "    .dataframe tbody tr th:only-of-type {\n",
       "        vertical-align: middle;\n",
       "    }\n",
       "\n",
       "    .dataframe tbody tr th {\n",
       "        vertical-align: top;\n",
       "    }\n",
       "\n",
       "    .dataframe thead th {\n",
       "        text-align: right;\n",
       "    }\n",
       "</style>\n",
       "<table border=\"1\" class=\"dataframe\">\n",
       "  <thead>\n",
       "    <tr style=\"text-align: right;\">\n",
       "      <th></th>\n",
       "      <th>ALBUM</th>\n",
       "      <th>artist</th>\n",
       "      <th>genre</th>\n",
       "      <th>release_date</th>\n",
       "      <th>critic</th>\n",
       "      <th>score</th>\n",
       "      <th>Body</th>\n",
       "    </tr>\n",
       "  </thead>\n",
       "  <tbody>\n",
       "    <tr>\n",
       "      <th>0</th>\n",
       "      <td>Don't Panic</td>\n",
       "      <td>All Time Low</td>\n",
       "      <td>Pop/Rock</td>\n",
       "      <td>2012-10-09 00:00:00</td>\n",
       "      <td>Kerrang!</td>\n",
       "      <td>74.0</td>\n",
       "      <td>While For Baltimore proves they can still writ...</td>\n",
       "    </tr>\n",
       "    <tr>\n",
       "      <th>1</th>\n",
       "      <td>Fear and Saturday Night</td>\n",
       "      <td>Ryan Bingham</td>\n",
       "      <td>Country</td>\n",
       "      <td>2015-01-20 00:00:00</td>\n",
       "      <td>Uncut</td>\n",
       "      <td>70.0</td>\n",
       "      <td>There's nothing fake about the purgatorial nar...</td>\n",
       "    </tr>\n",
       "    <tr>\n",
       "      <th>2</th>\n",
       "      <td>The Way I'm Livin'</td>\n",
       "      <td>Lee Ann Womack</td>\n",
       "      <td>Country</td>\n",
       "      <td>2014-09-23 00:00:00</td>\n",
       "      <td>Q Magazine</td>\n",
       "      <td>84.0</td>\n",
       "      <td>All life's disastrous lows are here on a caree...</td>\n",
       "    </tr>\n",
       "    <tr>\n",
       "      <th>3</th>\n",
       "      <td>Doris</td>\n",
       "      <td>Earl Sweatshirt</td>\n",
       "      <td>Rap</td>\n",
       "      <td>2013-08-20 00:00:00</td>\n",
       "      <td>Pitchfork</td>\n",
       "      <td>82.0</td>\n",
       "      <td>With Doris, Odd Future’s Odysseus is finally b...</td>\n",
       "    </tr>\n",
       "    <tr>\n",
       "      <th>4</th>\n",
       "      <td>Giraffe</td>\n",
       "      <td>Echoboy</td>\n",
       "      <td>Rock</td>\n",
       "      <td>2003-02-25 00:00:00</td>\n",
       "      <td>AllMusic</td>\n",
       "      <td>71.0</td>\n",
       "      <td>Though Giraffe is definitely Echoboy's most im...</td>\n",
       "    </tr>\n",
       "  </tbody>\n",
       "</table>\n",
       "</div>"
      ],
      "text/plain": [
       "                     ALBUM           artist     genre         release_date  \\\n",
       "0              Don't Panic     All Time Low  Pop/Rock  2012-10-09 00:00:00   \n",
       "1  Fear and Saturday Night     Ryan Bingham   Country  2015-01-20 00:00:00   \n",
       "2       The Way I'm Livin'   Lee Ann Womack   Country  2014-09-23 00:00:00   \n",
       "3                    Doris  Earl Sweatshirt       Rap  2013-08-20 00:00:00   \n",
       "4                  Giraffe          Echoboy      Rock  2003-02-25 00:00:00   \n",
       "\n",
       "       critic  score                                               Body  \n",
       "0    Kerrang!   74.0  While For Baltimore proves they can still writ...  \n",
       "1       Uncut   70.0  There's nothing fake about the purgatorial nar...  \n",
       "2  Q Magazine   84.0  All life's disastrous lows are here on a caree...  \n",
       "3   Pitchfork   82.0  With Doris, Odd Future’s Odysseus is finally b...  \n",
       "4    AllMusic   71.0  Though Giraffe is definitely Echoboy's most im...  "
      ]
     },
     "execution_count": 46,
     "metadata": {},
     "output_type": "execute_result"
    }
   ],
   "source": [
    "# See if it worked\n",
    "music.head()"
   ]
  },
  {
   "cell_type": "markdown",
   "metadata": {},
   "source": [
    "## 🥊 Challenge: Slice It! \n",
    "\n",
    "Slice music to return just the 3rd, 4th, and 5th reviews (note that they start on 0)."
   ]
  },
  {
   "cell_type": "code",
   "execution_count": 52,
   "metadata": {},
   "outputs": [
    {
     "data": {
      "text/html": [
       "<div>\n",
       "<style scoped>\n",
       "    .dataframe tbody tr th:only-of-type {\n",
       "        vertical-align: middle;\n",
       "    }\n",
       "\n",
       "    .dataframe tbody tr th {\n",
       "        vertical-align: top;\n",
       "    }\n",
       "\n",
       "    .dataframe thead th {\n",
       "        text-align: right;\n",
       "    }\n",
       "</style>\n",
       "<table border=\"1\" class=\"dataframe\">\n",
       "  <thead>\n",
       "    <tr style=\"text-align: right;\">\n",
       "      <th></th>\n",
       "      <th>ALBUM</th>\n",
       "      <th>artist</th>\n",
       "      <th>genre</th>\n",
       "      <th>release_date</th>\n",
       "      <th>critic</th>\n",
       "      <th>score</th>\n",
       "      <th>Body</th>\n",
       "    </tr>\n",
       "  </thead>\n",
       "  <tbody>\n",
       "    <tr>\n",
       "      <th>2</th>\n",
       "      <td>The Way I'm Livin'</td>\n",
       "      <td>Lee Ann Womack</td>\n",
       "      <td>Country</td>\n",
       "      <td>2014-09-23 00:00:00</td>\n",
       "      <td>Q Magazine</td>\n",
       "      <td>84.0</td>\n",
       "      <td>All life's disastrous lows are here on a caree...</td>\n",
       "    </tr>\n",
       "    <tr>\n",
       "      <th>3</th>\n",
       "      <td>Doris</td>\n",
       "      <td>Earl Sweatshirt</td>\n",
       "      <td>Rap</td>\n",
       "      <td>2013-08-20 00:00:00</td>\n",
       "      <td>Pitchfork</td>\n",
       "      <td>82.0</td>\n",
       "      <td>With Doris, Odd Future’s Odysseus is finally b...</td>\n",
       "    </tr>\n",
       "    <tr>\n",
       "      <th>4</th>\n",
       "      <td>Giraffe</td>\n",
       "      <td>Echoboy</td>\n",
       "      <td>Rock</td>\n",
       "      <td>2003-02-25 00:00:00</td>\n",
       "      <td>AllMusic</td>\n",
       "      <td>71.0</td>\n",
       "      <td>Though Giraffe is definitely Echoboy's most im...</td>\n",
       "    </tr>\n",
       "  </tbody>\n",
       "</table>\n",
       "</div>"
      ],
      "text/plain": [
       "                ALBUM           artist    genre         release_date  \\\n",
       "2  The Way I'm Livin'   Lee Ann Womack  Country  2014-09-23 00:00:00   \n",
       "3               Doris  Earl Sweatshirt      Rap  2013-08-20 00:00:00   \n",
       "4             Giraffe          Echoboy     Rock  2003-02-25 00:00:00   \n",
       "\n",
       "       critic  score                                               Body  \n",
       "2  Q Magazine   84.0  All life's disastrous lows are here on a caree...  \n",
       "3   Pitchfork   82.0  With Doris, Odd Future’s Odysseus is finally b...  \n",
       "4    AllMusic   71.0  Though Giraffe is definitely Echoboy's most im...  "
      ]
     },
     "execution_count": 52,
     "metadata": {},
     "output_type": "execute_result"
    }
   ],
   "source": [
    "## Using loc\n",
    "music.loc[2:4]"
   ]
  },
  {
   "cell_type": "code",
   "execution_count": 53,
   "metadata": {},
   "outputs": [
    {
     "data": {
      "text/html": [
       "<div>\n",
       "<style scoped>\n",
       "    .dataframe tbody tr th:only-of-type {\n",
       "        vertical-align: middle;\n",
       "    }\n",
       "\n",
       "    .dataframe tbody tr th {\n",
       "        vertical-align: top;\n",
       "    }\n",
       "\n",
       "    .dataframe thead th {\n",
       "        text-align: right;\n",
       "    }\n",
       "</style>\n",
       "<table border=\"1\" class=\"dataframe\">\n",
       "  <thead>\n",
       "    <tr style=\"text-align: right;\">\n",
       "      <th></th>\n",
       "      <th>ALBUM</th>\n",
       "      <th>artist</th>\n",
       "      <th>genre</th>\n",
       "      <th>release_date</th>\n",
       "      <th>critic</th>\n",
       "      <th>score</th>\n",
       "      <th>Body</th>\n",
       "    </tr>\n",
       "  </thead>\n",
       "  <tbody>\n",
       "    <tr>\n",
       "      <th>2</th>\n",
       "      <td>The Way I'm Livin'</td>\n",
       "      <td>Lee Ann Womack</td>\n",
       "      <td>Country</td>\n",
       "      <td>2014-09-23 00:00:00</td>\n",
       "      <td>Q Magazine</td>\n",
       "      <td>84.0</td>\n",
       "      <td>All life's disastrous lows are here on a caree...</td>\n",
       "    </tr>\n",
       "    <tr>\n",
       "      <th>3</th>\n",
       "      <td>Doris</td>\n",
       "      <td>Earl Sweatshirt</td>\n",
       "      <td>Rap</td>\n",
       "      <td>2013-08-20 00:00:00</td>\n",
       "      <td>Pitchfork</td>\n",
       "      <td>82.0</td>\n",
       "      <td>With Doris, Odd Future’s Odysseus is finally b...</td>\n",
       "    </tr>\n",
       "    <tr>\n",
       "      <th>4</th>\n",
       "      <td>Giraffe</td>\n",
       "      <td>Echoboy</td>\n",
       "      <td>Rock</td>\n",
       "      <td>2003-02-25 00:00:00</td>\n",
       "      <td>AllMusic</td>\n",
       "      <td>71.0</td>\n",
       "      <td>Though Giraffe is definitely Echoboy's most im...</td>\n",
       "    </tr>\n",
       "  </tbody>\n",
       "</table>\n",
       "</div>"
      ],
      "text/plain": [
       "                ALBUM           artist    genre         release_date  \\\n",
       "2  The Way I'm Livin'   Lee Ann Womack  Country  2014-09-23 00:00:00   \n",
       "3               Doris  Earl Sweatshirt      Rap  2013-08-20 00:00:00   \n",
       "4             Giraffe          Echoboy     Rock  2003-02-25 00:00:00   \n",
       "\n",
       "       critic  score                                               Body  \n",
       "2  Q Magazine   84.0  All life's disastrous lows are here on a caree...  \n",
       "3   Pitchfork   82.0  With Doris, Odd Future’s Odysseus is finally b...  \n",
       "4    AllMusic   71.0  Though Giraffe is definitely Echoboy's most im...  "
      ]
     },
     "execution_count": 53,
     "metadata": {},
     "output_type": "execute_result"
    }
   ],
   "source": [
    "## Using iloc\n",
    "music.iloc[2:5]"
   ]
  },
  {
   "cell_type": "code",
   "execution_count": 54,
   "metadata": {},
   "outputs": [
    {
     "data": {
      "text/html": [
       "<div>\n",
       "<style scoped>\n",
       "    .dataframe tbody tr th:only-of-type {\n",
       "        vertical-align: middle;\n",
       "    }\n",
       "\n",
       "    .dataframe tbody tr th {\n",
       "        vertical-align: top;\n",
       "    }\n",
       "\n",
       "    .dataframe thead th {\n",
       "        text-align: right;\n",
       "    }\n",
       "</style>\n",
       "<table border=\"1\" class=\"dataframe\">\n",
       "  <thead>\n",
       "    <tr style=\"text-align: right;\">\n",
       "      <th></th>\n",
       "      <th>ALBUM</th>\n",
       "      <th>artist</th>\n",
       "      <th>genre</th>\n",
       "      <th>release_date</th>\n",
       "      <th>critic</th>\n",
       "      <th>score</th>\n",
       "      <th>Body</th>\n",
       "    </tr>\n",
       "  </thead>\n",
       "  <tbody>\n",
       "    <tr>\n",
       "      <th>2</th>\n",
       "      <td>The Way I'm Livin'</td>\n",
       "      <td>Lee Ann Womack</td>\n",
       "      <td>Country</td>\n",
       "      <td>2014-09-23 00:00:00</td>\n",
       "      <td>Q Magazine</td>\n",
       "      <td>84.0</td>\n",
       "      <td>All life's disastrous lows are here on a caree...</td>\n",
       "    </tr>\n",
       "    <tr>\n",
       "      <th>3</th>\n",
       "      <td>Doris</td>\n",
       "      <td>Earl Sweatshirt</td>\n",
       "      <td>Rap</td>\n",
       "      <td>2013-08-20 00:00:00</td>\n",
       "      <td>Pitchfork</td>\n",
       "      <td>82.0</td>\n",
       "      <td>With Doris, Odd Future’s Odysseus is finally b...</td>\n",
       "    </tr>\n",
       "    <tr>\n",
       "      <th>4</th>\n",
       "      <td>Giraffe</td>\n",
       "      <td>Echoboy</td>\n",
       "      <td>Rock</td>\n",
       "      <td>2003-02-25 00:00:00</td>\n",
       "      <td>AllMusic</td>\n",
       "      <td>71.0</td>\n",
       "      <td>Though Giraffe is definitely Echoboy's most im...</td>\n",
       "    </tr>\n",
       "  </tbody>\n",
       "</table>\n",
       "</div>"
      ],
      "text/plain": [
       "                ALBUM           artist    genre         release_date  \\\n",
       "2  The Way I'm Livin'   Lee Ann Womack  Country  2014-09-23 00:00:00   \n",
       "3               Doris  Earl Sweatshirt      Rap  2013-08-20 00:00:00   \n",
       "4             Giraffe          Echoboy     Rock  2003-02-25 00:00:00   \n",
       "\n",
       "       critic  score                                               Body  \n",
       "2  Q Magazine   84.0  All life's disastrous lows are here on a caree...  \n",
       "3   Pitchfork   82.0  With Doris, Odd Future’s Odysseus is finally b...  \n",
       "4    AllMusic   71.0  Though Giraffe is definitely Echoboy's most im...  "
      ]
     },
     "execution_count": 54,
     "metadata": {},
     "output_type": "execute_result"
    }
   ],
   "source": [
    "## Using slicing\n",
    "music[2:5]"
   ]
  },
  {
   "cell_type": "markdown",
   "metadata": {},
   "source": [
    "## 🥊 Challenge: `iloc`\n",
    "\n",
    "Use `.iloc` to return just reviews at index 1, 82, 988, 4002. Also return the last review - without looking up what the last index is!."
   ]
  },
  {
   "cell_type": "code",
   "execution_count": 57,
   "metadata": {},
   "outputs": [
    {
     "data": {
      "text/html": [
       "<div>\n",
       "<style scoped>\n",
       "    .dataframe tbody tr th:only-of-type {\n",
       "        vertical-align: middle;\n",
       "    }\n",
       "\n",
       "    .dataframe tbody tr th {\n",
       "        vertical-align: top;\n",
       "    }\n",
       "\n",
       "    .dataframe thead th {\n",
       "        text-align: right;\n",
       "    }\n",
       "</style>\n",
       "<table border=\"1\" class=\"dataframe\">\n",
       "  <thead>\n",
       "    <tr style=\"text-align: right;\">\n",
       "      <th></th>\n",
       "      <th>ALBUM</th>\n",
       "      <th>artist</th>\n",
       "      <th>genre</th>\n",
       "      <th>release_date</th>\n",
       "      <th>critic</th>\n",
       "      <th>score</th>\n",
       "      <th>Body</th>\n",
       "    </tr>\n",
       "  </thead>\n",
       "  <tbody>\n",
       "    <tr>\n",
       "      <th>1</th>\n",
       "      <td>Fear and Saturday Night</td>\n",
       "      <td>Ryan Bingham</td>\n",
       "      <td>Country</td>\n",
       "      <td>2015-01-20 00:00:00</td>\n",
       "      <td>Uncut</td>\n",
       "      <td>70.0</td>\n",
       "      <td>There's nothing fake about the purgatorial nar...</td>\n",
       "    </tr>\n",
       "    <tr>\n",
       "      <th>82</th>\n",
       "      <td>Neon Bible</td>\n",
       "      <td>Arcade Fire</td>\n",
       "      <td>Indie</td>\n",
       "      <td>2007-03-06 00:00:00</td>\n",
       "      <td>Prefix Magazine</td>\n",
       "      <td>87.0</td>\n",
       "      <td>Some Funeral devotees may be disappointed by t...</td>\n",
       "    </tr>\n",
       "    <tr>\n",
       "      <th>988</th>\n",
       "      <td>Until The Earth Begins To Part</td>\n",
       "      <td>Broken Records</td>\n",
       "      <td>Indie</td>\n",
       "      <td>2009-07-07 00:00:00</td>\n",
       "      <td>AllMusic</td>\n",
       "      <td>64.0</td>\n",
       "      <td>As far as debut albums go, Until the Earth Beg...</td>\n",
       "    </tr>\n",
       "    <tr>\n",
       "      <th>4002</th>\n",
       "      <td>Reptile</td>\n",
       "      <td>Eric Clapton</td>\n",
       "      <td>Rock</td>\n",
       "      <td>2001-03-13 00:00:00</td>\n",
       "      <td>Rolling Stone</td>\n",
       "      <td>66.0</td>\n",
       "      <td>Over the course of fourteen tracks, Clapton bl...</td>\n",
       "    </tr>\n",
       "    <tr>\n",
       "      <th>5000</th>\n",
       "      <td>And Their Refinement Of The Decline</td>\n",
       "      <td>Stars Of The Lid</td>\n",
       "      <td>Rock</td>\n",
       "      <td>2007-04-07 00:00:00</td>\n",
       "      <td>PopMatters</td>\n",
       "      <td>87.0</td>\n",
       "      <td>Their work, especially that displayed on Refin...</td>\n",
       "    </tr>\n",
       "  </tbody>\n",
       "</table>\n",
       "</div>"
      ],
      "text/plain": [
       "                                    ALBUM            artist    genre  \\\n",
       "1                 Fear and Saturday Night      Ryan Bingham  Country   \n",
       "82                             Neon Bible       Arcade Fire    Indie   \n",
       "988        Until The Earth Begins To Part    Broken Records    Indie   \n",
       "4002                              Reptile      Eric Clapton     Rock   \n",
       "5000  And Their Refinement Of The Decline  Stars Of The Lid     Rock   \n",
       "\n",
       "             release_date           critic  score  \\\n",
       "1     2015-01-20 00:00:00            Uncut   70.0   \n",
       "82    2007-03-06 00:00:00  Prefix Magazine   87.0   \n",
       "988   2009-07-07 00:00:00         AllMusic   64.0   \n",
       "4002  2001-03-13 00:00:00    Rolling Stone   66.0   \n",
       "5000  2007-04-07 00:00:00       PopMatters   87.0   \n",
       "\n",
       "                                                   Body  \n",
       "1     There's nothing fake about the purgatorial nar...  \n",
       "82    Some Funeral devotees may be disappointed by t...  \n",
       "988   As far as debut albums go, Until the Earth Beg...  \n",
       "4002  Over the course of fourteen tracks, Clapton bl...  \n",
       "5000  Their work, especially that displayed on Refin...  "
      ]
     },
     "execution_count": 57,
     "metadata": {},
     "output_type": "execute_result"
    }
   ],
   "source": [
    "## YOUR CODE HERE\n",
    "music.iloc[[1,82,988,4002,-1]]\n"
   ]
  },
  {
   "cell_type": "markdown",
   "metadata": {},
   "source": [
    "## 🥊 Challenge: `iloc` Slice and Stride\n",
    "\n",
    "Use `.iloc` to return every 40th album between reviews 20 and 200 (including the upper bound)."
   ]
  },
  {
   "cell_type": "code",
   "execution_count": 58,
   "metadata": {},
   "outputs": [
    {
     "data": {
      "text/html": [
       "<div>\n",
       "<style scoped>\n",
       "    .dataframe tbody tr th:only-of-type {\n",
       "        vertical-align: middle;\n",
       "    }\n",
       "\n",
       "    .dataframe tbody tr th {\n",
       "        vertical-align: top;\n",
       "    }\n",
       "\n",
       "    .dataframe thead th {\n",
       "        text-align: right;\n",
       "    }\n",
       "</style>\n",
       "<table border=\"1\" class=\"dataframe\">\n",
       "  <thead>\n",
       "    <tr style=\"text-align: right;\">\n",
       "      <th></th>\n",
       "      <th>ALBUM</th>\n",
       "      <th>artist</th>\n",
       "      <th>genre</th>\n",
       "      <th>release_date</th>\n",
       "      <th>critic</th>\n",
       "      <th>score</th>\n",
       "      <th>Body</th>\n",
       "    </tr>\n",
       "  </thead>\n",
       "  <tbody>\n",
       "    <tr>\n",
       "      <th>20</th>\n",
       "      <td>July Flame</td>\n",
       "      <td>Laura Veirs</td>\n",
       "      <td>Indie</td>\n",
       "      <td>2010-01-12 00:00:00</td>\n",
       "      <td>musicOMH.com</td>\n",
       "      <td>81.0</td>\n",
       "      <td>Laura Veirs makes an excellent case for hersel...</td>\n",
       "    </tr>\n",
       "    <tr>\n",
       "      <th>60</th>\n",
       "      <td>Angels &amp; Devils</td>\n",
       "      <td>The Bug</td>\n",
       "      <td>Electronic</td>\n",
       "      <td>2014-08-26 00:00:00</td>\n",
       "      <td>The Quietus</td>\n",
       "      <td>83.0</td>\n",
       "      <td>An album that's otherwise remarkably deft at u...</td>\n",
       "    </tr>\n",
       "    <tr>\n",
       "      <th>100</th>\n",
       "      <td>Pilot Talk III</td>\n",
       "      <td>Curren$y</td>\n",
       "      <td>Rap</td>\n",
       "      <td>2015-04-04 00:00:00</td>\n",
       "      <td>bossmanrwat11</td>\n",
       "      <td>78.0</td>\n",
       "      <td>Big Spitta fan here, but his remarkable consis...</td>\n",
       "    </tr>\n",
       "    <tr>\n",
       "      <th>140</th>\n",
       "      <td>A Thousand Shark's Teeth</td>\n",
       "      <td>My Brightest Diamond</td>\n",
       "      <td>Indie</td>\n",
       "      <td>2008-06-17 00:00:00</td>\n",
       "      <td>PopMatters</td>\n",
       "      <td>72.0</td>\n",
       "      <td>It’s a swooning, big-gestured album to get los...</td>\n",
       "    </tr>\n",
       "    <tr>\n",
       "      <th>180</th>\n",
       "      <td>Television Man</td>\n",
       "      <td>Naomi Punk</td>\n",
       "      <td>Pop/Rock</td>\n",
       "      <td>2014-08-05 00:00:00</td>\n",
       "      <td>Rolling Stone</td>\n",
       "      <td>71.0</td>\n",
       "      <td>Sure, the songs' formulaic stop-and-spurt atta...</td>\n",
       "    </tr>\n",
       "  </tbody>\n",
       "</table>\n",
       "</div>"
      ],
      "text/plain": [
       "                        ALBUM                artist       genre  \\\n",
       "20                 July Flame           Laura Veirs       Indie   \n",
       "60            Angels & Devils               The Bug  Electronic   \n",
       "100            Pilot Talk III              Curren$y         Rap   \n",
       "140  A Thousand Shark's Teeth  My Brightest Diamond       Indie   \n",
       "180            Television Man            Naomi Punk    Pop/Rock   \n",
       "\n",
       "            release_date         critic  score  \\\n",
       "20   2010-01-12 00:00:00   musicOMH.com   81.0   \n",
       "60   2014-08-26 00:00:00    The Quietus   83.0   \n",
       "100  2015-04-04 00:00:00  bossmanrwat11   78.0   \n",
       "140  2008-06-17 00:00:00     PopMatters   72.0   \n",
       "180  2014-08-05 00:00:00  Rolling Stone   71.0   \n",
       "\n",
       "                                                  Body  \n",
       "20   Laura Veirs makes an excellent case for hersel...  \n",
       "60   An album that's otherwise remarkably deft at u...  \n",
       "100  Big Spitta fan here, but his remarkable consis...  \n",
       "140  It’s a swooning, big-gestured album to get los...  \n",
       "180  Sure, the songs' formulaic stop-and-spurt atta...  "
      ]
     },
     "execution_count": 58,
     "metadata": {},
     "output_type": "execute_result"
    }
   ],
   "source": [
    "## YOUR CODE HERE\n",
    "\n",
    "music.iloc[20:200:40]"
   ]
  },
  {
   "cell_type": "markdown",
   "metadata": {},
   "source": [
    "## 🥊 Challenge: `iloc` Rows and Columns\n",
    "\n",
    "Use `iloc` to extract the last five rows in the music data set but only the \"artist\", \"ALBUM\", and \"score\" columns - in that order!\n",
    "\n",
    "💡 **Tip**: Remember how to select columns using `iloc`? If not, go back [here](#iloc-select)."
   ]
  },
  {
   "cell_type": "code",
   "execution_count": 61,
   "metadata": {},
   "outputs": [
    {
     "data": {
      "text/html": [
       "<div>\n",
       "<style scoped>\n",
       "    .dataframe tbody tr th:only-of-type {\n",
       "        vertical-align: middle;\n",
       "    }\n",
       "\n",
       "    .dataframe tbody tr th {\n",
       "        vertical-align: top;\n",
       "    }\n",
       "\n",
       "    .dataframe thead th {\n",
       "        text-align: right;\n",
       "    }\n",
       "</style>\n",
       "<table border=\"1\" class=\"dataframe\">\n",
       "  <thead>\n",
       "    <tr style=\"text-align: right;\">\n",
       "      <th></th>\n",
       "      <th>artist</th>\n",
       "      <th>ALBUM</th>\n",
       "      <th>score</th>\n",
       "    </tr>\n",
       "  </thead>\n",
       "  <tbody>\n",
       "    <tr>\n",
       "      <th>4996</th>\n",
       "      <td>Conor Oberst And The Mystic Valley Band</td>\n",
       "      <td>Outer South</td>\n",
       "      <td>67.0</td>\n",
       "    </tr>\n",
       "    <tr>\n",
       "      <th>4997</th>\n",
       "      <td>David Gilmour</td>\n",
       "      <td>On An Island</td>\n",
       "      <td>67.0</td>\n",
       "    </tr>\n",
       "    <tr>\n",
       "      <th>4998</th>\n",
       "      <td>Gossip</td>\n",
       "      <td>Movement</td>\n",
       "      <td>81.0</td>\n",
       "    </tr>\n",
       "    <tr>\n",
       "      <th>4999</th>\n",
       "      <td>Dr. John</td>\n",
       "      <td>Locked Down</td>\n",
       "      <td>86.0</td>\n",
       "    </tr>\n",
       "    <tr>\n",
       "      <th>5000</th>\n",
       "      <td>Stars Of The Lid</td>\n",
       "      <td>And Their Refinement Of The Decline</td>\n",
       "      <td>87.0</td>\n",
       "    </tr>\n",
       "  </tbody>\n",
       "</table>\n",
       "</div>"
      ],
      "text/plain": [
       "                                       artist  \\\n",
       "4996  Conor Oberst And The Mystic Valley Band   \n",
       "4997                            David Gilmour   \n",
       "4998                                   Gossip   \n",
       "4999                                 Dr. John   \n",
       "5000                         Stars Of The Lid   \n",
       "\n",
       "                                    ALBUM  score  \n",
       "4996                          Outer South   67.0  \n",
       "4997                         On An Island   67.0  \n",
       "4998                             Movement   81.0  \n",
       "4999                          Locked Down   86.0  \n",
       "5000  And Their Refinement Of The Decline   87.0  "
      ]
     },
     "execution_count": 61,
     "metadata": {},
     "output_type": "execute_result"
    }
   ],
   "source": [
    "## YOUR CODE HERE\n",
    "\n",
    "music.iloc[-5:,[1,0,5]]"
   ]
  },
  {
   "cell_type": "markdown",
   "metadata": {},
   "source": [
    "## 🥊 Challenge: `.loc` Rows and Columns \n",
    "\n",
    "Use `loc` to extract the first 5 rows in your DataFrame – but only the \"artist\", \"ALBUM\", and \"score\" columns - in that order!"
   ]
  },
  {
   "cell_type": "code",
   "execution_count": 65,
   "metadata": {},
   "outputs": [
    {
     "data": {
      "text/html": [
       "<div>\n",
       "<style scoped>\n",
       "    .dataframe tbody tr th:only-of-type {\n",
       "        vertical-align: middle;\n",
       "    }\n",
       "\n",
       "    .dataframe tbody tr th {\n",
       "        vertical-align: top;\n",
       "    }\n",
       "\n",
       "    .dataframe thead th {\n",
       "        text-align: right;\n",
       "    }\n",
       "</style>\n",
       "<table border=\"1\" class=\"dataframe\">\n",
       "  <thead>\n",
       "    <tr style=\"text-align: right;\">\n",
       "      <th></th>\n",
       "      <th>artist</th>\n",
       "      <th>ALBUM</th>\n",
       "      <th>score</th>\n",
       "    </tr>\n",
       "  </thead>\n",
       "  <tbody>\n",
       "    <tr>\n",
       "      <th>0</th>\n",
       "      <td>All Time Low</td>\n",
       "      <td>Don't Panic</td>\n",
       "      <td>74.0</td>\n",
       "    </tr>\n",
       "    <tr>\n",
       "      <th>1</th>\n",
       "      <td>Ryan Bingham</td>\n",
       "      <td>Fear and Saturday Night</td>\n",
       "      <td>70.0</td>\n",
       "    </tr>\n",
       "    <tr>\n",
       "      <th>2</th>\n",
       "      <td>Lee Ann Womack</td>\n",
       "      <td>The Way I'm Livin'</td>\n",
       "      <td>84.0</td>\n",
       "    </tr>\n",
       "    <tr>\n",
       "      <th>3</th>\n",
       "      <td>Earl Sweatshirt</td>\n",
       "      <td>Doris</td>\n",
       "      <td>82.0</td>\n",
       "    </tr>\n",
       "    <tr>\n",
       "      <th>4</th>\n",
       "      <td>Echoboy</td>\n",
       "      <td>Giraffe</td>\n",
       "      <td>71.0</td>\n",
       "    </tr>\n",
       "  </tbody>\n",
       "</table>\n",
       "</div>"
      ],
      "text/plain": [
       "            artist                    ALBUM  score\n",
       "0     All Time Low              Don't Panic   74.0\n",
       "1     Ryan Bingham  Fear and Saturday Night   70.0\n",
       "2   Lee Ann Womack       The Way I'm Livin'   84.0\n",
       "3  Earl Sweatshirt                    Doris   82.0\n",
       "4          Echoboy                  Giraffe   71.0"
      ]
     },
     "execution_count": 65,
     "metadata": {},
     "output_type": "execute_result"
    }
   ],
   "source": [
    "## YOUR CODE HERE\n",
    "\n",
    "music.loc[:4, ['artist','ALBUM','score']]"
   ]
  },
  {
   "cell_type": "markdown",
   "metadata": {},
   "source": [
    "## 🥊 Challenge: Create New Column\n",
    "\n",
    "Create a new column in your DataFrame named \"score_int\" that is a copy of \"score\" - but converted to an integer. \n",
    "\n",
    "💡 **Tip**: Look up a Pandas method to change the datatype of a column!"
   ]
  },
  {
   "cell_type": "code",
   "execution_count": 68,
   "metadata": {},
   "outputs": [],
   "source": [
    "## YOUR CODE HERE\n",
    "\n",
    "music['score_int'] = music['score'].astype(int)"
   ]
  },
  {
   "cell_type": "markdown",
   "metadata": {},
   "source": [
    "## 🥊 Challenge: Create New Column with Calculation\n",
    "\n",
    "Create a new column in your DataFrame named \"decimal\" that is a copy of \"score_int\" but that is divided by 100."
   ]
  },
  {
   "cell_type": "code",
   "execution_count": 69,
   "metadata": {
    "scrolled": true
   },
   "outputs": [],
   "source": [
    "## YOUR CODE HERE\n",
    "\n",
    "music['decimal'] = music['score_int'] / 100"
   ]
  },
  {
   "cell_type": "markdown",
   "metadata": {},
   "source": [
    "## 🥊 Challenge: `.value_counts()`\n",
    "\n",
    "Use `.value_counts()` to sum the total number of reviews for each critic. Return only the top 20. \n",
    "\n",
    "💡 **Tip**: Have another look at the original DataFrame if you need to remind yourself which column can be useful here!"
   ]
  },
  {
   "cell_type": "code",
   "execution_count": 78,
   "metadata": {},
   "outputs": [
    {
     "data": {
      "text/plain": [
       "AllMusic                     282\n",
       "PopMatters                   228\n",
       "Pitchfork                    207\n",
       "Q Magazine                   178\n",
       "Uncut                        171\n",
       "Mojo                         137\n",
       "Drowned In Sound             132\n",
       "New Musical Express (NME)    127\n",
       "The A.V. Club                121\n",
       "Rolling Stone                112\n",
       "Under The Radar              100\n",
       "Spin                          97\n",
       "The Guardian                  96\n",
       "musicOMH.com                  88\n",
       "Entertainment Weekly          87\n",
       "Slant Magazine                83\n",
       "Paste Magazine                72\n",
       "Alternative Press             69\n",
       "Consequence of Sound          69\n",
       "Prefix Magazine               68\n",
       "Name: critic, dtype: int64"
      ]
     },
     "execution_count": 78,
     "metadata": {},
     "output_type": "execute_result"
    }
   ],
   "source": [
    "## YOUR CODE HERE\n",
    "\n",
    "music['critic'].value_counts()[:20]"
   ]
  },
  {
   "cell_type": "markdown",
   "metadata": {
    "tags": []
   },
   "source": [
    "## 🥊 <span style=\"color:red\">Bonus Challenge:</span> `.value_counts()`\n",
    "\n",
    "If you are done and still have time, go have a look at the [`groupby()` method](https://pandas.pydata.org/pandas-docs/stable/reference/api/pandas.DataFrame.groupby.html). Try to use it in order to answer the following question:\n",
    "\n",
    "#### *Which genre has the highest score?*\n",
    "\n",
    "💡 **Tip**: \n",
    "* Use the `.groupby()` method on your DataFrame to sort it by `genre`. Save it in a variable.\n",
    "* Subset this variable (use the square brackets!) to get the `score` column.\n",
    "* Use the `.mean()` method on this subset to get the **average score** per genre.\n"
   ]
  },
  {
   "cell_type": "code",
   "execution_count": 80,
   "metadata": {},
   "outputs": [
    {
     "data": {
      "text/plain": [
       "genre\n",
       "Alternative/Indie Rock    73.928571\n",
       "Country                   74.071429\n",
       "Dance                     70.146341\n",
       "Electronic                73.140351\n",
       "Folk                      75.900000\n",
       "Indie                     74.400897\n",
       "Jazz                      77.631579\n",
       "Pop                       64.608054\n",
       "Pop/Rock                  73.033782\n",
       "R&B;                      72.366071\n",
       "Rap                       72.173554\n",
       "Rock                      70.754292\n",
       "Name: score, dtype: float64"
      ]
     },
     "execution_count": 80,
     "metadata": {},
     "output_type": "execute_result"
    }
   ],
   "source": [
    "# YOUR CODE HERE\n",
    "genre = music.groupby('genre')\n",
    "genre['score'].mean()"
   ]
  }
 ],
 "metadata": {
  "kernelspec": {
   "display_name": "Python 3 (ipykernel)",
   "language": "python",
   "name": "python3"
  },
  "language_info": {
   "codemirror_mode": {
    "name": "ipython",
    "version": 3
   },
   "file_extension": ".py",
   "mimetype": "text/x-python",
   "name": "python",
   "nbconvert_exporter": "python",
   "pygments_lexer": "ipython3",
   "version": "3.8.13"
  },
  "toc": {
   "base_numbering": 1,
   "nav_menu": {},
   "number_sections": false,
   "sideBar": true,
   "skip_h1_title": false,
   "title_cell": "Table of Contents",
   "title_sidebar": "Contents",
   "toc_cell": false,
   "toc_position": {},
   "toc_section_display": true,
   "toc_window_display": false
  },
  "varInspector": {
   "cols": {
    "lenName": 16,
    "lenType": 16,
    "lenVar": 40
   },
   "kernels_config": {
    "python": {
     "delete_cmd_postfix": "",
     "delete_cmd_prefix": "del ",
     "library": "var_list.py",
     "varRefreshCmd": "print(var_dic_list())"
    },
    "r": {
     "delete_cmd_postfix": ") ",
     "delete_cmd_prefix": "rm(",
     "library": "var_list.r",
     "varRefreshCmd": "cat(var_dic_list()) "
    }
   },
   "types_to_exclude": [
    "module",
    "function",
    "builtin_function_or_method",
    "instance",
    "_Feature"
   ],
   "window_display": false
  }
 },
 "nbformat": 4,
 "nbformat_minor": 4
}
