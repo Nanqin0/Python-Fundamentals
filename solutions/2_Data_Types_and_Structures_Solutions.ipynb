{
 "cells": [
  {
   "cell_type": "markdown",
   "metadata": {},
   "source": [
    "# Python Fundamentals: Data Types and Structures \n",
    "# SOLUTIONS"
   ]
  },
  {
   "cell_type": "markdown",
   "metadata": {},
   "source": [
    "## 🥊 Challenge 1: String to Integer\n",
    "\n",
    "Try converting `pi` to an int type. Do you run into an error? How do you fix it?\n",
    "\n",
    "💡 **Tip**: consider using multiple conversion functions."
   ]
  },
  {
   "cell_type": "code",
   "execution_count": 13,
   "metadata": {},
   "outputs": [
    {
     "data": {
      "text/plain": [
       "3"
      ]
     },
     "execution_count": 13,
     "metadata": {},
     "output_type": "execute_result"
    }
   ],
   "source": [
    "pi = '3.14'\n",
    "\n",
    "# YOUR CODE HERE\n",
    "pi_f = float(pi)\n",
    "pi_i = int(pi_f)\n",
    "pi_i"
   ]
  },
  {
   "cell_type": "markdown",
   "metadata": {},
   "source": [
    "## 🥊 Challenge 2: Using a Function\n",
    "\n",
    "Google `Python len()` and find a resource that tells you how to use it. Come back here and use `len()` on the variable we have set below."
   ]
  },
  {
   "cell_type": "code",
   "execution_count": 1,
   "metadata": {},
   "outputs": [
    {
     "data": {
      "text/plain": [
       "8"
      ]
     },
     "execution_count": 1,
     "metadata": {},
     "output_type": "execute_result"
    }
   ],
   "source": [
    "country = 'Zimbabwe'\n",
    "\n",
    "# YOUR CODE HERE\n",
    "len(country)\n",
    "\n",
    "# len() gives us the amount of characters in this string"
   ]
  },
  {
   "cell_type": "markdown",
   "metadata": {
    "tags": []
   },
   "source": [
    "## 🥊 Challenge 3: Chaining Methods\n",
    "\n",
    "Methods can be **chained** in a single line. This is fine, as long as the output of one method directly feeds into the input of the next. These lines can be read sequentially left to right. \n",
    "\n",
    "Don't run the next code cell yet! Use your search enginge to look up the two methods that `country` goes through first. What do you think the final output will be?"
   ]
  },
  {
   "cell_type": "code",
   "execution_count": 3,
   "metadata": {},
   "outputs": [
    {
     "data": {
      "text/plain": [
       "False"
      ]
     },
     "execution_count": 3,
     "metadata": {},
     "output_type": "execute_result"
    }
   ],
   "source": [
    "# lower() turns country into lowercase\n",
    "# startswith() checks whether it starts with the character that is entered as an argument\n",
    "\n",
    "country.lower().startswith('g')"
   ]
  },
  {
   "cell_type": "markdown",
   "metadata": {},
   "source": [
    "## 🥊 Challenge 4: Time to Split\n",
    "\n",
    "Let's use another method called `.split()` on `sentence1`. Try it now - what do you think is going on with this function?"
   ]
  },
  {
   "cell_type": "code",
   "execution_count": 8,
   "metadata": {},
   "outputs": [
    {
     "data": {
      "text/plain": [
       "['The',\n",
       " 'capital',\n",
       " 'of',\n",
       " 'Brazil',\n",
       " 'is',\n",
       " 'Brasília.',\n",
       " 'It',\n",
       " 'has',\n",
       " 'a',\n",
       " 'tropical',\n",
       " 'savanna',\n",
       " 'climate.']"
      ]
     },
     "execution_count": 8,
     "metadata": {},
     "output_type": "execute_result"
    }
   ],
   "source": [
    "sentence = 'The capital of Brazil is Brasília. It has a tropical savanna climate.'\n",
    "\n",
    "# YOUR CODE HERE\n",
    "sentence.split()"
   ]
  },
  {
   "cell_type": "code",
   "execution_count": 9,
   "metadata": {},
   "outputs": [
    {
     "data": {
      "text/plain": [
       "['The capital of Brazil is Brasília', ' It has a tropical savanna climate', '']"
      ]
     },
     "execution_count": 9,
     "metadata": {},
     "output_type": "execute_result"
    }
   ],
   "source": [
    "sentence = 'The capital of Brazil is Brasília. It has a tropical savanna climate.'\n",
    "\n",
    "# YOUR CODE HERE\n",
    "sentence.split(sep='.')"
   ]
  },
  {
   "cell_type": "markdown",
   "metadata": {
    "tags": []
   },
   "source": [
    "## 🥊 Challenge 5: Slicing Lists\n",
    "\n",
    "Look at the list below. Slice the **fourth and fifth** element from it. That's the ones with text instead of numbers!"
   ]
  },
  {
   "cell_type": "code",
   "execution_count": 11,
   "metadata": {},
   "outputs": [],
   "source": [
    "years = [1990, 1994, 2002, 'Missing', 'NaN', 2007]\n",
    "\n",
    "# YOUR CODE HERE\n"
   ]
  }
 ],
 "metadata": {
  "kernelspec": {
   "display_name": "Python 3 (ipykernel)",
   "language": "python",
   "name": "python3"
  },
  "language_info": {
   "codemirror_mode": {
    "name": "ipython",
    "version": 3
   },
   "file_extension": ".py",
   "mimetype": "text/x-python",
   "name": "python",
   "nbconvert_exporter": "python",
   "pygments_lexer": "ipython3",
   "version": "3.8.13"
  },
  "toc": {
   "base_numbering": 1,
   "nav_menu": {},
   "number_sections": false,
   "sideBar": true,
   "skip_h1_title": false,
   "title_cell": "Table of Contents",
   "title_sidebar": "Contents",
   "toc_cell": false,
   "toc_position": {},
   "toc_section_display": true,
   "toc_window_display": true
  },
  "varInspector": {
   "cols": {
    "lenName": 16,
    "lenType": 16,
    "lenVar": 40
   },
   "kernels_config": {
    "python": {
     "delete_cmd_postfix": "",
     "delete_cmd_prefix": "del ",
     "library": "var_list.py",
     "varRefreshCmd": "print(var_dic_list())"
    },
    "r": {
     "delete_cmd_postfix": ") ",
     "delete_cmd_prefix": "rm(",
     "library": "var_list.r",
     "varRefreshCmd": "cat(var_dic_list()) "
    }
   },
   "types_to_exclude": [
    "module",
    "function",
    "builtin_function_or_method",
    "instance",
    "_Feature"
   ],
   "window_display": false
  }
 },
 "nbformat": 4,
 "nbformat_minor": 4
}
