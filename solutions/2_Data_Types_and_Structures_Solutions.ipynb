{
 "cells": [
  {
   "cell_type": "markdown",
   "metadata": {},
   "source": [
    "# Python Fundamentals: Data Types and Structures \n",
    "# SOLUTIONS"
   ]
  },
  {
   "cell_type": "markdown",
   "metadata": {},
   "source": [
    "## 🥊 Challenge 1: String to Integer\n",
    "\n",
    "Try converting `pi` to an int type. Do you run into an error? How do you fix it?\n",
    "\n",
    "💡 **Tip**: consider using multiple conversion functions."
   ]
  },
  {
   "cell_type": "code",
   "execution_count": 13,
   "metadata": {},
   "outputs": [
    {
     "data": {
      "text/plain": [
       "3"
      ]
     },
     "execution_count": 13,
     "metadata": {},
     "output_type": "execute_result"
    }
   ],
   "source": [
    "pi = '3.14'\n",
    "\n",
    "# YOUR CODE HERE\n",
    "pi_f = float(pi)\n",
    "pi_i = int(pi_f)\n",
    "pi_i"
   ]
  },
  {
   "cell_type": "markdown",
   "metadata": {
    "tags": []
   },
   "source": [
    "## 🥊 Challenge 2: Chaining Methods\n",
    "\n",
    "Methods can be **chained** in a single line. This is fine, as long as the output of one method directly feeds into the input of the next. These lines can be read sequentially left to right. \n",
    "\n",
    "Don't run the next code cell yet! Use your search enginge to look up the two methods that `giraffe` goes through first. What do you think the final output will be?"
   ]
  },
  {
   "cell_type": "code",
   "execution_count": 16,
   "metadata": {},
   "outputs": [
    {
     "data": {
      "text/plain": [
       "'giraffe'"
      ]
     },
     "execution_count": 16,
     "metadata": {},
     "output_type": "execute_result"
    }
   ],
   "source": [
    "'giraffe'.upper().lower()"
   ]
  },
  {
   "cell_type": "markdown",
   "metadata": {},
   "source": [
    "## 🥊 Challenge 3: Time to Split\n",
    "\n",
    "Let's use another method called `.split()` on `sentence1`. Try it now - what do you think is going on with this function?"
   ]
  },
  {
   "cell_type": "code",
   "execution_count": 8,
   "metadata": {},
   "outputs": [
    {
     "data": {
      "text/plain": [
       "['The',\n",
       " 'capital',\n",
       " 'of',\n",
       " 'Brazil',\n",
       " 'is',\n",
       " 'Brasília.',\n",
       " 'It',\n",
       " 'has',\n",
       " 'a',\n",
       " 'tropical',\n",
       " 'savanna',\n",
       " 'climate.']"
      ]
     },
     "execution_count": 8,
     "metadata": {},
     "output_type": "execute_result"
    }
   ],
   "source": [
    "sentence = 'The capital of Brazil is Brasília. It has a tropical savanna climate.'\n",
    "\n",
    "# YOUR CODE HERE\n",
    "sentence.split()"
   ]
  },
  {
   "cell_type": "markdown",
   "metadata": {},
   "source": [
    "If we run the following cell, we'll see the documentation for the `.split()` method. Run it now!"
   ]
  },
  {
   "cell_type": "markdown",
   "metadata": {},
   "source": [
    "## 🥊 Challenge 4: Adding an Argument\n",
    "\n",
    "Try using `sep='.'` in between the parenthesis of `.split()`. What is the output?"
   ]
  },
  {
   "cell_type": "code",
   "execution_count": 9,
   "metadata": {},
   "outputs": [
    {
     "data": {
      "text/plain": [
       "['The capital of Brazil is Brasília', ' It has a tropical savanna climate', '']"
      ]
     },
     "execution_count": 9,
     "metadata": {},
     "output_type": "execute_result"
    }
   ],
   "source": [
    "sentence = 'The capital of Brazil is Brasília. It has a tropical savanna climate.'\n",
    "\n",
    "# YOUR CODE HERE\n",
    "sentence.split(sep='.')"
   ]
  },
  {
   "cell_type": "markdown",
   "metadata": {
    "tags": []
   },
   "source": [
    "## 🥊 Challenge 5: Slicing Lists\n",
    "\n",
    "Look at the list below. Slice the **fourth and fifth** element from it. That's the ones with text instead of numbers!"
   ]
  },
  {
   "cell_type": "code",
   "execution_count": 11,
   "metadata": {},
   "outputs": [],
   "source": [
    "years = [1990, 1994, 2002, 'Missing', 'NaN', 2007]\n",
    "\n",
    "# YOUR CODE HERE\n"
   ]
  },
  {
   "cell_type": "markdown",
   "metadata": {},
   "source": [
    "## 🥊 Challenge 6: Creating a Dictionary\n",
    "\n",
    "Let's create a dictionary called `country_dict` that takes in a list of items as its values.\n",
    "\n",
    "1) Use the variables we're defining below - `country`, `continent` and `life_expectancy` - as **values**. \n",
    "2) Choose an appropriately named string for each of the **keys**.\n",
    "3) Finally, print the keys in the dictionary."
   ]
  },
  {
   "cell_type": "code",
   "execution_count": 12,
   "metadata": {},
   "outputs": [],
   "source": [
    "country = ['Afghanistan', 'Greece', 'Liberia']\n",
    "continent = ['Asia', 'Europe', 'Africa']\n",
    "life_exp = [28.801, 76.670, 46.027]\n",
    "\n",
    "# YOUR CODE HERE\n",
    "country_dict = ..."
   ]
  }
 ],
 "metadata": {
  "kernelspec": {
   "display_name": "Python 3 (ipykernel)",
   "language": "python",
   "name": "python3"
  },
  "language_info": {
   "codemirror_mode": {
    "name": "ipython",
    "version": 3
   },
   "file_extension": ".py",
   "mimetype": "text/x-python",
   "name": "python",
   "nbconvert_exporter": "python",
   "pygments_lexer": "ipython3",
   "version": "3.8.13"
  },
  "toc": {
   "base_numbering": 1,
   "nav_menu": {},
   "number_sections": false,
   "sideBar": true,
   "skip_h1_title": false,
   "title_cell": "Table of Contents",
   "title_sidebar": "Contents",
   "toc_cell": false,
   "toc_position": {},
   "toc_section_display": true,
   "toc_window_display": true
  },
  "varInspector": {
   "cols": {
    "lenName": 16,
    "lenType": 16,
    "lenVar": 40
   },
   "kernels_config": {
    "python": {
     "delete_cmd_postfix": "",
     "delete_cmd_prefix": "del ",
     "library": "var_list.py",
     "varRefreshCmd": "print(var_dic_list())"
    },
    "r": {
     "delete_cmd_postfix": ") ",
     "delete_cmd_prefix": "rm(",
     "library": "var_list.r",
     "varRefreshCmd": "cat(var_dic_list()) "
    }
   },
   "types_to_exclude": [
    "module",
    "function",
    "builtin_function_or_method",
    "instance",
    "_Feature"
   ],
   "window_display": false
  }
 },
 "nbformat": 4,
 "nbformat_minor": 4
}
