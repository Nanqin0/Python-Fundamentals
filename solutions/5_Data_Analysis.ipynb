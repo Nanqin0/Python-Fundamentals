{
 "cells": [
  {
   "cell_type": "markdown",
   "metadata": {},
   "source": [
    "# Python Fundamentals II: Data Analysis and Visualization\n",
    "# SOLUTIONS"
   ]
  },
  {
   "cell_type": "markdown",
   "metadata": {},
   "source": [
    "## 🥊 Challenge 1: My First Function\n",
    "\n",
    "Write a function that converts Celsius temperatures to Fahrenheit. The formula for this conversion is:\n",
    "\n",
    "$$F = 1.8 * C + 32$$\n",
    "\n",
    "You can name this function whatever you want. But it makes sense to name it something sensible!"
   ]
  },
  {
   "cell_type": "code",
   "execution_count": 16,
   "metadata": {},
   "outputs": [
    {
     "data": {
      "text/plain": [
       "89.6"
      ]
     },
     "execution_count": 16,
     "metadata": {},
     "output_type": "execute_result"
    }
   ],
   "source": [
    "def convert_temp(celcius):\n",
    "    # write your code here\n",
    "    return(celcius * 1.8 + 32)\n",
    "\n",
    "convert_temp(32)"
   ]
  },
  {
   "cell_type": "markdown",
   "metadata": {},
   "source": [
    "## 🥊 Challenge 2: My Second Function\n",
    "\n",
    "Say you need to write a function that takes in a list of text data. We've defined a list for you here."
   ]
  },
  {
   "cell_type": "code",
   "execution_count": 2,
   "metadata": {},
   "outputs": [],
   "source": [
    "sent_list = ['When I wake up, the other side of the bed is cold.', \n",
    "             'My fingers stretch out, seeking Prim’s warmth but finding only the rough canvas cover of the mattress.',\n",
    "             'She must have had bad dreams and climbed in with our mother.']"
   ]
  },
  {
   "cell_type": "markdown",
   "metadata": {},
   "source": [
    "Your function is supposed to loop through this list, and for each item, split the words on whitespace, lowercase all items in the list. The function must return all lowercased words in a new list. \n",
    "**Use the discussed strategies** to write your code:\n",
    "\n",
    "1. Use comments to indicate what your code is doing.\n",
    "2. Use short lines.\n",
    "3. Make use of Pythonic coding when splitting and lowercasing.\n",
    "4. Use the common naming conventions we define above.\n",
    "5. Plan ahead: write down your goals in comments before you write the code!\n",
    "\n",
    "💡 **Tip**: This function will require two (nested) for-loops!"
   ]
  },
  {
   "cell_type": "code",
   "execution_count": 3,
   "metadata": {},
   "outputs": [
    {
     "data": {
      "text/plain": [
       "['when',\n",
       " 'i',\n",
       " 'wake',\n",
       " 'up,',\n",
       " 'the',\n",
       " 'other',\n",
       " 'side',\n",
       " 'of',\n",
       " 'the',\n",
       " 'bed',\n",
       " 'is',\n",
       " 'cold.',\n",
       " 'my',\n",
       " 'fingers',\n",
       " 'stretch',\n",
       " 'out,',\n",
       " 'seeking',\n",
       " 'prim’s',\n",
       " 'warmth',\n",
       " 'but',\n",
       " 'finding',\n",
       " 'only',\n",
       " 'the',\n",
       " 'rough',\n",
       " 'canvas',\n",
       " 'cover',\n",
       " 'of',\n",
       " 'the',\n",
       " 'mattress.',\n",
       " 'she',\n",
       " 'must',\n",
       " 'have',\n",
       " 'had',\n",
       " 'bad',\n",
       " 'dreams',\n",
       " 'and',\n",
       " 'climbed',\n",
       " 'in',\n",
       " 'with',\n",
       " 'our',\n",
       " 'mother.']"
      ]
     },
     "execution_count": 3,
     "metadata": {},
     "output_type": "execute_result"
    }
   ],
   "source": [
    "# YOUR CODE HERE\n",
    "def words(l):\n",
    "    lowers = []\n",
    "    for each in l:\n",
    "        words = each.split()\n",
    "        for w in words:\n",
    "            lowers.append(w.lower())\n",
    "    return lowers\n",
    "\n",
    "words(sent_list)\n"
   ]
  },
  {
   "cell_type": "markdown",
   "metadata": {},
   "source": [
    "## 🥊 Challenge 3: Checking Method Output\n",
    "\n",
    "For each of the following methods, what type is the output?"
   ]
  },
  {
   "cell_type": "code",
   "execution_count": 6,
   "metadata": {},
   "outputs": [],
   "source": [
    "import pandas as pd\n",
    "df = pd.read_csv('../../data/gapminder-FiveYearData.csv')"
   ]
  },
  {
   "cell_type": "code",
   "execution_count": 8,
   "metadata": {},
   "outputs": [
    {
     "data": {
      "text/plain": [
       "pandas.core.series.Series"
      ]
     },
     "execution_count": 8,
     "metadata": {},
     "output_type": "execute_result"
    }
   ],
   "source": [
    "# This is a Series\n",
    "type(df['lifeExp'].value_counts(ascending=True))"
   ]
  },
  {
   "cell_type": "code",
   "execution_count": 10,
   "metadata": {},
   "outputs": [
    {
     "data": {
      "text/plain": [
       "pandas.core.frame.DataFrame"
      ]
     },
     "execution_count": 10,
     "metadata": {},
     "output_type": "execute_result"
    }
   ],
   "source": [
    "# This is a DataFrame\n",
    "type(df.isnull())"
   ]
  },
  {
   "cell_type": "code",
   "execution_count": 11,
   "metadata": {},
   "outputs": [
    {
     "data": {
      "text/plain": [
       "pandas.core.frame.DataFrame"
      ]
     },
     "execution_count": 11,
     "metadata": {},
     "output_type": "execute_result"
    }
   ],
   "source": [
    "# This is also a dataframe\n",
    "type(df.dropna())"
   ]
  },
  {
   "cell_type": "code",
   "execution_count": 12,
   "metadata": {},
   "outputs": [
    {
     "data": {
      "text/plain": [
       "pandas.core.series.Series"
      ]
     },
     "execution_count": 12,
     "metadata": {},
     "output_type": "execute_result"
    }
   ],
   "source": [
    "# This is a Series\n",
    "type(df['country'].str[:4])"
   ]
  },
  {
   "cell_type": "markdown",
   "metadata": {},
   "source": [
    "## 🥊 Challenge 4: Categorical to Numeric data\n",
    "\n",
    "Recall that in our dataset, we have a 'continent' column that includes the values 'Asia', 'Europe', 'Africa', 'Americas', and 'Oceania'. Let's say that for a model, we want to replace these string values with numbers that will serve as input to the model. There are several ways to do this. Look at the [documentation](https://pandas.pydata.org/docs/reference/api/pandas.Series.html) and see if you can `replace` the strings with a corresponding number."
   ]
  },
  {
   "cell_type": "code",
   "execution_count": 51,
   "metadata": {
    "tags": []
   },
   "outputs": [
    {
     "data": {
      "text/plain": [
       "0       1\n",
       "1       1\n",
       "2       1\n",
       "3       1\n",
       "4       1\n",
       "       ..\n",
       "1699    3\n",
       "1700    3\n",
       "1701    3\n",
       "1702    3\n",
       "1703    3\n",
       "Name: continent, Length: 1704, dtype: int64"
      ]
     },
     "execution_count": 51,
     "metadata": {},
     "output_type": "execute_result"
    }
   ],
   "source": [
    "#YOUR CODE HERE\n",
    "df.continent.replace(df['continent'].unique(), [1,2,3,4,5])\n"
   ]
  }
 ],
 "metadata": {
  "kernelspec": {
   "display_name": "Python 3 (ipykernel)",
   "language": "python",
   "name": "python3"
  },
  "language_info": {
   "codemirror_mode": {
    "name": "ipython",
    "version": 3
   },
   "file_extension": ".py",
   "mimetype": "text/x-python",
   "name": "python",
   "nbconvert_exporter": "python",
   "pygments_lexer": "ipython3",
   "version": "3.8.13"
  }
 },
 "nbformat": 4,
 "nbformat_minor": 4
}
