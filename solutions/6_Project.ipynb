{
 "cells": [
  {
   "cell_type": "markdown",
   "metadata": {
    "tags": []
   },
   "source": [
    "# Python Intermediate: Project\n",
    "\n",
    "# SOLUTIONS"
   ]
  },
  {
   "cell_type": "markdown",
   "metadata": {
    "tags": []
   },
   "source": [
    "## Locating the Data\n",
    "\n",
    "Try to locate the files in the \"chis_data\" folder, which is in the \"data\" folder, which is in the main \"Python-Fundamentals\" folder. Using `pd.read_csv()`, read in all three data frames and assign them to the three variables defined below.\n",
    "\n",
    "💡 **Tip**: You can use Jupyter Lab's File Browser to the left of your screen to get a sense of where the \"chis_data\" folder is.\n",
    "\n",
    "💡 **Tip**: As a reminder, here's how we loaded in data in the previous notebook:\n",
    "\n",
    "```pd.read_csv('../data/gapminder-FiveYearData.csv')```"
   ]
  },
  {
   "cell_type": "code",
   "execution_count": 148,
   "metadata": {},
   "outputs": [],
   "source": [
    "# YOUR CODE HERE\n",
    "import pandas as pd\n",
    "df_eng = pd.read_csv('../data/chis_data/chis_eng.csv')\n",
    "df_esp = pd.read_csv('../data/chis_data/chis_esp.csv')\n",
    "df_other = pd.read_csv('../data/chis_data/chis_other.csv')"
   ]
  },
  {
   "cell_type": "code",
   "execution_count": 158,
   "metadata": {},
   "outputs": [
    {
     "data": {
      "text/plain": [
       "Index(['general_health', 'veg_perweek', 'feel_left_out', 'poverty_level',\n",
       "       'household_tenure', 'interview_language'],\n",
       "      dtype='object')"
      ]
     },
     "execution_count": 158,
     "metadata": {},
     "output_type": "execute_result"
    }
   ],
   "source": [
    "df_eng.columns"
   ]
  },
  {
   "cell_type": "markdown",
   "metadata": {
    "tags": []
   },
   "source": [
    "## Concatenating DataFrames\n",
    "\n",
    "Look up the [documentation for Pandas](https://pandas.pydata.org/pandas-docs/stable/reference/general_functions.html), and see if you can find a function that **concatenates** the three DataFrames we have now. Save the concatenated list in a new variable called `df`."
   ]
  },
  {
   "cell_type": "code",
   "execution_count": 130,
   "metadata": {},
   "outputs": [],
   "source": [
    "# YOUR CODE HERE\n",
    "df = pd.concat([df_eng,df_esp,df_other])\n"
   ]
  },
  {
   "cell_type": "markdown",
   "metadata": {},
   "source": [
    "🔔 **Question**: Let's take a look at the final data frame.\n",
    "\n",
    "1. How many rows and columns are there in the total dataframe?\n",
    "2. How many numeric columns are there in the dataset?\n",
    "3. Which columns look interesting to you?"
   ]
  },
  {
   "cell_type": "code",
   "execution_count": 159,
   "metadata": {},
   "outputs": [
    {
     "name": "stdout",
     "output_type": "stream",
     "text": [
      "(22160, 7)\n",
      "Index(['general_health', 'fruit_perweek', 'veg_perweek', 'feel_left_out',\n",
      "       'poverty_level', 'household_tenure', 'interview_language'],\n",
      "      dtype='object')\n"
     ]
    },
    {
     "data": {
      "text/html": [
       "<div><div id=70e3309f-5624-4c6d-b8da-fcc7c1bf5607 style=\"display:none; background-color:#9D6CFF; color:white; width:200px; height:30px; padding-left:5px; border-radius:4px; flex-direction:row; justify-content:space-around; align-items:center;\" onmouseover=\"this.style.backgroundColor='#BA9BF8'\" onmouseout=\"this.style.backgroundColor='#9D6CFF'\" onclick=\"window.commands?.execute('create-mitosheet-from-dataframe-output');\">See Full Dataframe in Mito</div> <script> if (window.commands?.hasCommand('create-mitosheet-from-dataframe-output')) document.getElementById('70e3309f-5624-4c6d-b8da-fcc7c1bf5607').style.display = 'flex' </script> <table border=\"1\" class=\"dataframe\">\n",
       "  <thead>\n",
       "    <tr style=\"text-align: right;\">\n",
       "      <th></th>\n",
       "      <th>general_health</th>\n",
       "      <th>fruit_perweek</th>\n",
       "      <th>veg_perweek</th>\n",
       "      <th>feel_left_out</th>\n",
       "      <th>poverty_level</th>\n",
       "      <th>household_tenure</th>\n",
       "      <th>interview_language</th>\n",
       "    </tr>\n",
       "  </thead>\n",
       "  <tbody>\n",
       "    <tr>\n",
       "      <th>0</th>\n",
       "      <td>NaN</td>\n",
       "      <td>3</td>\n",
       "      <td>0</td>\n",
       "      <td>NaN</td>\n",
       "      <td>300% FPL AND ABOVE</td>\n",
       "      <td>RENT/SOME OTHER ARRANGEMENT</td>\n",
       "      <td>ENGLISH</td>\n",
       "    </tr>\n",
       "    <tr>\n",
       "      <th>1</th>\n",
       "      <td>VERY GOOD</td>\n",
       "      <td>4</td>\n",
       "      <td>2</td>\n",
       "      <td>SOME OF THE TIME</td>\n",
       "      <td>300% FPL AND ABOVE</td>\n",
       "      <td>OWN</td>\n",
       "      <td>ENGLISH</td>\n",
       "    </tr>\n",
       "    <tr>\n",
       "      <th>2</th>\n",
       "      <td>VERY GOOD</td>\n",
       "      <td>21</td>\n",
       "      <td>20</td>\n",
       "      <td>NaN</td>\n",
       "      <td>100-199% FPL</td>\n",
       "      <td>RENT/SOME OTHER ARRANGEMENT</td>\n",
       "      <td>ENGLISH</td>\n",
       "    </tr>\n",
       "    <tr>\n",
       "      <th>3</th>\n",
       "      <td>GOOD</td>\n",
       "      <td>7</td>\n",
       "      <td>4</td>\n",
       "      <td>HARDLY EVER</td>\n",
       "      <td>100-199% FPL</td>\n",
       "      <td>OWN</td>\n",
       "      <td>ENGLISH</td>\n",
       "    </tr>\n",
       "    <tr>\n",
       "      <th>4</th>\n",
       "      <td>GOOD</td>\n",
       "      <td>6</td>\n",
       "      <td>6</td>\n",
       "      <td>NaN</td>\n",
       "      <td>300% FPL AND ABOVE</td>\n",
       "      <td>RENT/SOME OTHER ARRANGEMENT</td>\n",
       "      <td>ENGLISH</td>\n",
       "    </tr>\n",
       "  </tbody>\n",
       "</table></div>"
      ],
      "text/plain": [
       "  general_health  fruit_perweek  veg_perweek     feel_left_out  \\\n",
       "0            NaN              3            0               NaN   \n",
       "1      VERY GOOD              4            2  SOME OF THE TIME   \n",
       "2      VERY GOOD             21           20               NaN   \n",
       "3           GOOD              7            4       HARDLY EVER   \n",
       "4           GOOD              6            6               NaN   \n",
       "\n",
       "        poverty_level             household_tenure interview_language  \n",
       "0  300% FPL AND ABOVE  RENT/SOME OTHER ARRANGEMENT            ENGLISH  \n",
       "1  300% FPL AND ABOVE                          OWN            ENGLISH  \n",
       "2        100-199% FPL  RENT/SOME OTHER ARRANGEMENT            ENGLISH  \n",
       "3        100-199% FPL                          OWN            ENGLISH  \n",
       "4  300% FPL AND ABOVE  RENT/SOME OTHER ARRANGEMENT            ENGLISH  "
      ]
     },
     "execution_count": 159,
     "metadata": {},
     "output_type": "execute_result"
    }
   ],
   "source": [
    "# YOUR CODE HERE\n",
    "\n",
    "# Print shape to get amount of rows and columns \n",
    "print(df.shape)\n",
    "# Check out DF to see which columns are numeric\n",
    "df.head()"
   ]
  },
  {
   "cell_type": "markdown",
   "metadata": {},
   "source": [
    "<a id='clean'></a>\n",
    "\n",
    "# Step 2: Data Cleaning"
   ]
  },
  {
   "cell_type": "markdown",
   "metadata": {},
   "source": [
    "Often, we will want to remove some missing values in a data frame. Have a look at the `general_health` column and find the missing values using the `.isna()` method. Then, use `.sum()` to sum the amount of undefined (NaN) values."
   ]
  },
  {
   "cell_type": "code",
   "execution_count": 4,
   "metadata": {},
   "outputs": [
    {
     "data": {
      "text/plain": [
       "885"
      ]
     },
     "execution_count": 4,
     "metadata": {},
     "output_type": "execute_result"
    }
   ],
   "source": [
    "# YOUR CODE HERE\n",
    "df['general_health'].isna().sum()"
   ]
  },
  {
   "cell_type": "markdown",
   "metadata": {},
   "source": [
    "Get rid of the non-existent values in this column with the `.dropna()` method. Look through the [documentation](https://pandas.pydata.org/docs/reference/api/pandas.DataFrame.dropna.html) to see how to do this.\n",
    "\n",
    "💡 **Tip**: Use the `subset` argument to select a specific column to remove values from. "
   ]
  },
  {
   "cell_type": "code",
   "execution_count": 5,
   "metadata": {},
   "outputs": [],
   "source": [
    "# YOUR CODE HERE\n",
    "df = df.dropna(subset=['general_health'])"
   ]
  },
  {
   "cell_type": "markdown",
   "metadata": {},
   "source": [
    "<a id='eda'></a>\n",
    "\n",
    "# Step 3: Data Analysis\n",
    "\n",
    "Now that we have preprocessed data, we want to analyze it. Recall that our goal is to visualize a relationship between poverty level and general health. Before we do this, we should get a better grasp of what is in our data.\n",
    "\n",
    "## Counting Values\n",
    "The first thing we will want to do is count values of poverty levels: we want to see how many levels there are, and how the data are distributed. \n",
    "1. Run `value_counts()` on the `poverty_level` column. \n",
    "2. Look through the [documentation](https://pandas.pydata.org/docs/reference/api/pandas.Series.value_counts.html) and **normalize** the output of `value_counts()`."
   ]
  },
  {
   "cell_type": "code",
   "execution_count": 162,
   "metadata": {},
   "outputs": [
    {
     "data": {
      "text/plain": [
       "300% FPL AND ABOVE    0.659386\n",
       "100-199% FPL          0.127392\n",
       "200-299% FPL          0.126354\n",
       "0-99% FPL             0.086868\n",
       "Name: poverty_level, dtype: float64"
      ]
     },
     "execution_count": 162,
     "metadata": {},
     "output_type": "execute_result"
    }
   ],
   "source": [
    "# YOUR CODE HERE\n",
    "df['poverty_level'].value_counts(normalize=True)\n"
   ]
  },
  {
   "cell_type": "markdown",
   "metadata": {
    "tags": []
   },
   "source": [
    "## Creating a Function\n",
    "\n",
    "It turns out that poverty is expressed \"as Times of 100% Federal Poverty Line (FPL)\". One approach to this could be to see if we can find differences in general health for people **below and above the poverty line**. \n",
    "\n",
    "To do this, we can create a function that takes in values of the `poverty_level` column and outputs whether that value is above or below the poverty line.\n",
    "\n",
    "1. Create a new function called `assign_level`. It takes one parameter, which we'll call `i`.\n",
    "2. If `i` is `0-99% FPL`, return 0. In all other cases, return 1."
   ]
  },
  {
   "cell_type": "code",
   "execution_count": null,
   "metadata": {},
   "outputs": [],
   "source": [
    "# YOUR CODE HERE\n",
    "def assign_level(i):\n",
    "    if i == '0-99% FPL':\n",
    "        return 0\n",
    "    else: \n",
    "        return 1"
   ]
  },
  {
   "cell_type": "markdown",
   "metadata": {},
   "source": [
    "## Applying a Function\n",
    "\n",
    "Recall that we can use the `apply()` method in Pandas to apply our new function to the `poverty_level` column of our DataFrame. We also want to save the output of this `apply()` method to a new column in our DataFrame. \n",
    "\n",
    "1. Use the `apply()` method on the `poverty_level` column. Pass your `assign_level` function as the argument.\n",
    "3. Save the result of this operation in a new column in your `df`, called `above_poverty_line`."
   ]
  },
  {
   "cell_type": "code",
   "execution_count": null,
   "metadata": {},
   "outputs": [],
   "source": [
    "# YOUR CODE HERE\n",
    "df['above_poverty_line'] = df['poverty_level'].apply(assign_level)"
   ]
  },
  {
   "cell_type": "markdown",
   "metadata": {},
   "source": [
    "## Subsetting a DataFrame\n",
    "\n",
    "In order to create two bar plots of general health – for people above and below the poverty line – we can create two DataFrames for these groups. We can then plot the values in these DataFrames in a barplot.\n",
    "\n",
    "Recall that we can subset DataFrames with Boolean masks. For instance, say we have a DataFrame `counts` with a column `A`. If we want to create a new DataFrame called `above_800`, which only contains the values over 800 in column `A` of `counts`, we would write:\n",
    "\n",
    "```\n",
    "above_800 = counts[counts['A'] > 800]\n",
    "```\n",
    "\n",
    "Let's perform the same operation on our data.\n",
    "\n",
    "1. Create a new DataFrame, `df_below`. It will be a subset of our `df`, based on the condition that the value in `above_poverty_line` is 0.\n",
    "2. Create a new DataFrame, `df_above`. It will be a subset of our `df`, based on the condition that the value in `above_poverty_line` is 1."
   ]
  },
  {
   "cell_type": "code",
   "execution_count": null,
   "metadata": {},
   "outputs": [],
   "source": [
    "# YOUR CODE HERE\n",
    "df_below = df[df['above_poverty_line'] == 0]\n",
    "df_above = df[df['above_poverty_line'] == 1]"
   ]
  },
  {
   "cell_type": "markdown",
   "metadata": {},
   "source": [
    "## Creating the Visualization\n",
    "\n",
    "Finally, let's create our bar plots. We will create 2 plots in 1 cell, which will be plotted on top of one another. \n",
    "\n",
    "Fill in the blanks below, following the steps. \n",
    "\n",
    "1. Run a **normalized** `value_counts()` on the `general_health` column of `df_above` and `df_below`.\n",
    "2. Run `plot()` on the output of the resulting DataFrame. Enter the values for two arguments: `kind` must be set to `bar`, and `alpha` must be set to `.5`.\n"
   ]
  },
  {
   "cell_type": "code",
   "execution_count": 165,
   "metadata": {},
   "outputs": [
    {
     "data": {
      "image/png": "[encoded data removed]",
      "text/plain": [
       "<Figure size 640x480 with 1 Axes>"
      ]
     },
     "metadata": {},
     "output_type": "display_data"
    }
   ],
   "source": [
    "# USE FOR VIS\n",
    "df_above['general_health'].value_counts(normalize=True).plot(kind='bar', alpha=.5);\n",
    "df_below['general_health'].value_counts(normalize=True).plot(kind='bar',alpha=.5, color='maroon');"
   ]
  }
 ],
 "metadata": {
  "kernelspec": {
   "display_name": "Python 3 (ipykernel)",
   "language": "python",
   "name": "python3"
  },
  "language_info": {
   "codemirror_mode": {
    "name": "ipython",
    "version": 3
   },
   "file_extension": ".py",
   "mimetype": "text/x-python",
   "name": "python",
   "nbconvert_exporter": "python",
   "pygments_lexer": "ipython3",
   "version": "3.8.13"
  }
 },
 "nbformat": 4,
 "nbformat_minor": 4
}
