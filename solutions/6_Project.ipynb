{
 "cells": [
  {
   "cell_type": "markdown",
   "metadata": {
    "tags": []
   },
   "source": [
    "# Python Fundamentals II: Project\n",
    "\n",
    "# SOLUTIONS"
   ]
  },
  {
   "cell_type": "markdown",
   "metadata": {},
   "source": [
    "# Getting the Data"
   ]
  },
  {
   "cell_type": "markdown",
   "metadata": {
    "tags": []
   },
   "source": [
    "## 🥊 Challenge 1: Find the Data\n",
    "\n",
    "Try to locate the files in the \"chis_data\" folder, which is in the \"data\" folder, which is in the main \"Python-Fundamentals\" folder. Using `pd.read_csv()`, read in all three data frames and assign them to the three variables defined below.\n",
    "\n",
    "💡 **Tip**: You can use Jupyter Lab's File Browser to the left of your screen to get a sense of where the \"chis_data\" folder is.\n",
    "\n",
    "💡 **Tip**: As a reminder, here's how we loaded in data in the previous notebook:\n",
    "\n",
    "```pd.read_csv('../data/gapminder-FiveYearData.csv')```"
   ]
  },
  {
   "cell_type": "code",
   "execution_count": 6,
   "metadata": {},
   "outputs": [],
   "source": [
    "# YOUR CODE HERE\n",
    "import pandas as pd\n",
    "df_eng = pd.read_csv('../data/chis_data/chis_eng.csv')\n",
    "df_esp = pd.read_csv('../data/chis_data/chis_esp.csv')\n",
    "df_other = pd.read_csv('../data/chis_data/chis_other.csv')"
   ]
  },
  {
   "cell_type": "markdown",
   "metadata": {
    "tags": []
   },
   "source": [
    "## 🥊 Challenge 2: Concatenate\n",
    "\n",
    "Look up the [documentation for Pandas](https://pandas.pydata.org/pandas-docs/stable/reference/general_functions.html), and see if you can find a function that **concatenates** the three DataFrames we have now. Save the concatenated list in a new variable called `df`."
   ]
  },
  {
   "cell_type": "code",
   "execution_count": 7,
   "metadata": {},
   "outputs": [],
   "source": [
    "# YOUR CODE HERE\n",
    "df = pd.concat([df_eng,df_esp,df_other])\n"
   ]
  },
  {
   "cell_type": "markdown",
   "metadata": {},
   "source": [
    "🔔 **Question**: Let's take a look at the final data frame.\n",
    "\n",
    "1. How many rows and columns are there in the total dataframe?\n",
    "2. How many numeric columns are there in the dataset?\n",
    "3. Which columns look interesting to you?"
   ]
  },
  {
   "cell_type": "code",
   "execution_count": 4,
   "metadata": {},
   "outputs": [
    {
     "name": "stdout",
     "output_type": "stream",
     "text": [
      "(22160, 7)\n"
     ]
    },
    {
     "data": {
      "text/html": [
       "<div><div id=b4f7ce30-339c-4154-aab5-853a6f72aaa1 style=\"display:none; background-color:#9D6CFF; color:white; width:200px; height:30px; padding-left:5px; border-radius:4px; flex-direction:row; justify-content:space-around; align-items:center;\" onmouseover=\"this.style.backgroundColor='#BA9BF8'\" onmouseout=\"this.style.backgroundColor='#9D6CFF'\" onclick=\"window.commands?.execute('create-mitosheet-from-dataframe-output');\">See Full Dataframe in Mito</div> <script> if (window.commands?.hasCommand('create-mitosheet-from-dataframe-output')) document.getElementById('b4f7ce30-339c-4154-aab5-853a6f72aaa1').style.display = 'flex' </script> <table border=\"1\" class=\"dataframe\">\n",
       "  <thead>\n",
       "    <tr style=\"text-align: right;\">\n",
       "      <th></th>\n",
       "      <th>general_health</th>\n",
       "      <th>fruit_perweek</th>\n",
       "      <th>veg_perweek</th>\n",
       "      <th>feel_left_out</th>\n",
       "      <th>poverty_level</th>\n",
       "      <th>household_tenure</th>\n",
       "      <th>interview_language</th>\n",
       "    </tr>\n",
       "  </thead>\n",
       "  <tbody>\n",
       "    <tr>\n",
       "      <th>0</th>\n",
       "      <td>EXCELLENT</td>\n",
       "      <td>3</td>\n",
       "      <td>0</td>\n",
       "      <td>INAPPLICABLE</td>\n",
       "      <td>300% FPL AND ABOVE</td>\n",
       "      <td>RENT/SOME OTHER ARRANGEMENT</td>\n",
       "      <td>ENGLISH</td>\n",
       "    </tr>\n",
       "    <tr>\n",
       "      <th>1</th>\n",
       "      <td>VERY GOOD</td>\n",
       "      <td>4</td>\n",
       "      <td>2</td>\n",
       "      <td>SOME OF THE TIME</td>\n",
       "      <td>300% FPL AND ABOVE</td>\n",
       "      <td>OWN</td>\n",
       "      <td>ENGLISH</td>\n",
       "    </tr>\n",
       "    <tr>\n",
       "      <th>2</th>\n",
       "      <td>VERY GOOD</td>\n",
       "      <td>21</td>\n",
       "      <td>20</td>\n",
       "      <td>INAPPLICABLE</td>\n",
       "      <td>100-199% FPL</td>\n",
       "      <td>RENT/SOME OTHER ARRANGEMENT</td>\n",
       "      <td>ENGLISH</td>\n",
       "    </tr>\n",
       "    <tr>\n",
       "      <th>3</th>\n",
       "      <td>GOOD</td>\n",
       "      <td>7</td>\n",
       "      <td>4</td>\n",
       "      <td>HARDLY EVER</td>\n",
       "      <td>100-199% FPL</td>\n",
       "      <td>OWN</td>\n",
       "      <td>ENGLISH</td>\n",
       "    </tr>\n",
       "    <tr>\n",
       "      <th>4</th>\n",
       "      <td>GOOD</td>\n",
       "      <td>6</td>\n",
       "      <td>6</td>\n",
       "      <td>INAPPLICABLE</td>\n",
       "      <td>300% FPL AND ABOVE</td>\n",
       "      <td>RENT/SOME OTHER ARRANGEMENT</td>\n",
       "      <td>ENGLISH</td>\n",
       "    </tr>\n",
       "  </tbody>\n",
       "</table></div>"
      ],
      "text/plain": [
       "  general_health  fruit_perweek  veg_perweek     feel_left_out  \\\n",
       "0      EXCELLENT              3            0      INAPPLICABLE   \n",
       "1      VERY GOOD              4            2  SOME OF THE TIME   \n",
       "2      VERY GOOD             21           20      INAPPLICABLE   \n",
       "3           GOOD              7            4       HARDLY EVER   \n",
       "4           GOOD              6            6      INAPPLICABLE   \n",
       "\n",
       "        poverty_level             household_tenure interview_language  \n",
       "0  300% FPL AND ABOVE  RENT/SOME OTHER ARRANGEMENT            ENGLISH  \n",
       "1  300% FPL AND ABOVE                          OWN            ENGLISH  \n",
       "2        100-199% FPL  RENT/SOME OTHER ARRANGEMENT            ENGLISH  \n",
       "3        100-199% FPL                          OWN            ENGLISH  \n",
       "4  300% FPL AND ABOVE  RENT/SOME OTHER ARRANGEMENT            ENGLISH  "
      ]
     },
     "execution_count": 4,
     "metadata": {},
     "output_type": "execute_result"
    }
   ],
   "source": [
    "# YOUR CODE HERE\n",
    "print(df.shape)\n",
    "df.head()"
   ]
  },
  {
   "cell_type": "markdown",
   "metadata": {},
   "source": [
    "# Exploratory Data Analysis (EDA)"
   ]
  },
  {
   "cell_type": "markdown",
   "metadata": {},
   "source": [
    "## 🥊 Challenge 3: Data Cleaning \n",
    "\n",
    "Often, we will want to remove some missing values in a data frame. Have a look at the `general_health` column and find the missing values using the `.isna()` method. Then, use `.sum()` to sum the amount of undefined (NaN) values."
   ]
  },
  {
   "cell_type": "code",
   "execution_count": 4,
   "metadata": {},
   "outputs": [
    {
     "data": {
      "text/plain": [
       "885"
      ]
     },
     "execution_count": 4,
     "metadata": {},
     "output_type": "execute_result"
    }
   ],
   "source": [
    "df['general_health'].isna().sum()"
   ]
  },
  {
   "cell_type": "markdown",
   "metadata": {},
   "source": [
    "Get rid of the non-existent values in this column with the `.dropna()` method. Look through the [documentation](https://pandas.pydata.org/docs/reference/api/pandas.DataFrame.dropna.html) to see how to do this.\n",
    "\n",
    "💡 **Tip**: Use the `subset` argument to select a specific column to remove values from. "
   ]
  },
  {
   "cell_type": "code",
   "execution_count": 5,
   "metadata": {},
   "outputs": [],
   "source": [
    "# YOUR CODE HERE\n",
    "df = df.dropna(subset=['general_health'])"
   ]
  },
  {
   "cell_type": "markdown",
   "metadata": {
    "tags": []
   },
   "source": [
    "## 🥊 Challenge 4: Counting Values\n",
    "\n",
    "Now let's do some Exploratory Data Analysis. One thing we will want to do is count values of interesting features. Run `value_counts()` on the `feel_left_out` column and normalize the output.\n"
   ]
  },
  {
   "cell_type": "code",
   "execution_count": 6,
   "metadata": {},
   "outputs": [
    {
     "data": {
      "text/plain": [
       "INAPPLICABLE        0.618801\n",
       "HARDLY EVER         0.297626\n",
       "SOME OF THE TIME    0.071492\n",
       "OFTEN               0.011704\n",
       "PROXY SKIPPED       0.000376\n",
       "Name: feel_left_out, dtype: float64"
      ]
     },
     "execution_count": 6,
     "metadata": {},
     "output_type": "execute_result"
    }
   ],
   "source": [
    "# YOUR CODE HERE\n",
    "df['feel_left_out'].value_counts(normalize=True)\n"
   ]
  },
  {
   "cell_type": "markdown",
   "metadata": {
    "tags": []
   },
   "source": [
    "## 🥊 Challenge 5: Quantiles\n",
    "\n",
    "We can use the `quantile()` method to calculate the q-th quantile of the data along a specified axis. Try to find the amount of fruits eaten by the top 1% of respondents."
   ]
  },
  {
   "cell_type": "code",
   "execution_count": 7,
   "metadata": {},
   "outputs": [
    {
     "data": {
      "text/plain": [
       "28.0"
      ]
     },
     "execution_count": 7,
     "metadata": {},
     "output_type": "execute_result"
    }
   ],
   "source": [
    "# YOUR CODE HERE\n",
    "\n",
    "df['fruit_perweek'].quantile(0.99)"
   ]
  },
  {
   "cell_type": "markdown",
   "metadata": {
    "tags": []
   },
   "source": [
    "## 🥊 Challenge 6: String manipulation\n",
    "\n",
    "The `household_tenure` column consists of categorical string values. First, let's see what they are. Use the `.unique()` method on the column to check."
   ]
  },
  {
   "cell_type": "code",
   "execution_count": 20,
   "metadata": {},
   "outputs": [
    {
     "data": {
      "text/plain": [
       "array(['RENT/SOME OTHER ARRANGEMENT', 'OWN'], dtype=object)"
      ]
     },
     "execution_count": 20,
     "metadata": {},
     "output_type": "execute_result"
    }
   ],
   "source": [
    "# YOUR CODE HERE\n",
    "df['household_tenure'].unique()"
   ]
  },
  {
   "cell_type": "markdown",
   "metadata": {},
   "source": [
    "If we want to change the string for `RENT/SOME OTHER ARRANGEMENT`, we can do so using Pandas `str` methods. Read the [documentation](https://pandas.pydata.org/docs/user_guide/text.html) and find a way to `replace` the string to `RENT`. Make sure to assign the replaced `Series` in the data frame."
   ]
  },
  {
   "cell_type": "code",
   "execution_count": 21,
   "metadata": {},
   "outputs": [
    {
     "data": {
      "text/plain": [
       "0      RENT\n",
       "1       OWN\n",
       "2      RENT\n",
       "3       OWN\n",
       "4      RENT\n",
       "       ... \n",
       "368     OWN\n",
       "369    RENT\n",
       "370    RENT\n",
       "371    RENT\n",
       "372    RENT\n",
       "Name: household_tenure, Length: 22160, dtype: object"
      ]
     },
     "execution_count": 21,
     "metadata": {},
     "output_type": "execute_result"
    }
   ],
   "source": [
    "# YOUR CODE HERE\n",
    "df['household_tenure'] = df['household_tenure'].str.replace('RENT/SOME OTHER ARRANGEMENT', 'RENT')"
   ]
  },
  {
   "cell_type": "markdown",
   "metadata": {},
   "source": [
    "## 🥊 Challenge 7: Cross-tabulate\n",
    "We can use the `crosstab()` method to cross-tabulate poverty level and health. "
   ]
  },
  {
   "cell_type": "code",
   "execution_count": 8,
   "metadata": {},
   "outputs": [
    {
     "data": {
      "text/html": [
       "<div><div id=0530e39c-5ea0-4a37-a177-96030e7035db style=\"display:none; background-color:#9D6CFF; color:white; width:200px; height:30px; padding-left:5px; border-radius:4px; flex-direction:row; justify-content:space-around; align-items:center;\" onmouseover=\"this.style.backgroundColor='#BA9BF8'\" onmouseout=\"this.style.backgroundColor='#9D6CFF'\" onclick=\"window.commands?.execute('create-mitosheet-from-dataframe-output');\">See Full Dataframe in Mito</div> <script> if (window.commands?.hasCommand('create-mitosheet-from-dataframe-output')) document.getElementById('0530e39c-5ea0-4a37-a177-96030e7035db').style.display = 'flex' </script> <table border=\"1\" class=\"dataframe\">\n",
       "  <thead>\n",
       "    <tr style=\"text-align: right;\">\n",
       "      <th>general_health</th>\n",
       "      <th>EXCELLENT</th>\n",
       "      <th>FAIR</th>\n",
       "      <th>GOOD</th>\n",
       "      <th>POOR</th>\n",
       "      <th>VERY GOOD</th>\n",
       "    </tr>\n",
       "    <tr>\n",
       "      <th>poverty_level</th>\n",
       "      <th></th>\n",
       "      <th></th>\n",
       "      <th></th>\n",
       "      <th></th>\n",
       "      <th></th>\n",
       "    </tr>\n",
       "  </thead>\n",
       "  <tbody>\n",
       "    <tr>\n",
       "      <th>0-99% FPL</th>\n",
       "      <td>223</td>\n",
       "      <td>389</td>\n",
       "      <td>632</td>\n",
       "      <td>145</td>\n",
       "      <td>461</td>\n",
       "    </tr>\n",
       "    <tr>\n",
       "      <th>100-199% FPL</th>\n",
       "      <td>323</td>\n",
       "      <td>540</td>\n",
       "      <td>931</td>\n",
       "      <td>164</td>\n",
       "      <td>757</td>\n",
       "    </tr>\n",
       "    <tr>\n",
       "      <th>200-299% FPL</th>\n",
       "      <td>361</td>\n",
       "      <td>377</td>\n",
       "      <td>926</td>\n",
       "      <td>85</td>\n",
       "      <td>941</td>\n",
       "    </tr>\n",
       "    <tr>\n",
       "      <th>300% FPL AND ABOVE</th>\n",
       "      <td>3106</td>\n",
       "      <td>1018</td>\n",
       "      <td>3781</td>\n",
       "      <td>209</td>\n",
       "      <td>5906</td>\n",
       "    </tr>\n",
       "  </tbody>\n",
       "</table></div>"
      ],
      "text/plain": [
       "general_health      EXCELLENT  FAIR  GOOD  POOR  VERY GOOD\n",
       "poverty_level                                             \n",
       "0-99% FPL                 223   389   632   145        461\n",
       "100-199% FPL              323   540   931   164        757\n",
       "200-299% FPL              361   377   926    85        941\n",
       "300% FPL AND ABOVE       3106  1018  3781   209       5906"
      ]
     },
     "execution_count": 8,
     "metadata": {},
     "output_type": "execute_result"
    }
   ],
   "source": [
    "pd.crosstab(index=df['poverty_level'], columns=df['general_health'])"
   ]
  },
  {
   "cell_type": "markdown",
   "metadata": {},
   "source": [
    "Look at the crosstab [documentation](https://pandas.pydata.org/docs/reference/api/pandas.crosstab.html) and look for aruments that allow you to get the normalized values, and include subtotals.\n",
    "\n",
    "Get the cross tab of `poverty_level` and `general_health`. Normalize them and print the subtotals. "
   ]
  },
  {
   "cell_type": "code",
   "execution_count": 9,
   "metadata": {},
   "outputs": [
    {
     "data": {
      "text/html": [
       "<div><div id=e533e8d5-1d0f-4a44-96b0-1daee3543b0c style=\"display:none; background-color:#9D6CFF; color:white; width:200px; height:30px; padding-left:5px; border-radius:4px; flex-direction:row; justify-content:space-around; align-items:center;\" onmouseover=\"this.style.backgroundColor='#BA9BF8'\" onmouseout=\"this.style.backgroundColor='#9D6CFF'\" onclick=\"window.commands?.execute('create-mitosheet-from-dataframe-output');\">See Full Dataframe in Mito</div> <script> if (window.commands?.hasCommand('create-mitosheet-from-dataframe-output')) document.getElementById('e533e8d5-1d0f-4a44-96b0-1daee3543b0c').style.display = 'flex' </script> <table border=\"1\" class=\"dataframe\">\n",
       "  <thead>\n",
       "    <tr style=\"text-align: right;\">\n",
       "      <th>general_health</th>\n",
       "      <th>EXCELLENT</th>\n",
       "      <th>FAIR</th>\n",
       "      <th>GOOD</th>\n",
       "      <th>POOR</th>\n",
       "      <th>VERY GOOD</th>\n",
       "    </tr>\n",
       "    <tr>\n",
       "      <th>poverty_level</th>\n",
       "      <th></th>\n",
       "      <th></th>\n",
       "      <th></th>\n",
       "      <th></th>\n",
       "      <th></th>\n",
       "    </tr>\n",
       "  </thead>\n",
       "  <tbody>\n",
       "    <tr>\n",
       "      <th>0-99% FPL</th>\n",
       "      <td>0.120541</td>\n",
       "      <td>0.210270</td>\n",
       "      <td>0.341622</td>\n",
       "      <td>0.078378</td>\n",
       "      <td>0.249189</td>\n",
       "    </tr>\n",
       "    <tr>\n",
       "      <th>100-199% FPL</th>\n",
       "      <td>0.118969</td>\n",
       "      <td>0.198895</td>\n",
       "      <td>0.342910</td>\n",
       "      <td>0.060405</td>\n",
       "      <td>0.278821</td>\n",
       "    </tr>\n",
       "    <tr>\n",
       "      <th>200-299% FPL</th>\n",
       "      <td>0.134201</td>\n",
       "      <td>0.140149</td>\n",
       "      <td>0.344238</td>\n",
       "      <td>0.031599</td>\n",
       "      <td>0.349814</td>\n",
       "    </tr>\n",
       "    <tr>\n",
       "      <th>300% FPL AND ABOVE</th>\n",
       "      <td>0.221541</td>\n",
       "      <td>0.072611</td>\n",
       "      <td>0.269686</td>\n",
       "      <td>0.014907</td>\n",
       "      <td>0.421255</td>\n",
       "    </tr>\n",
       "    <tr>\n",
       "      <th>All</th>\n",
       "      <td>0.188625</td>\n",
       "      <td>0.109236</td>\n",
       "      <td>0.294712</td>\n",
       "      <td>0.028343</td>\n",
       "      <td>0.379083</td>\n",
       "    </tr>\n",
       "  </tbody>\n",
       "</table></div>"
      ],
      "text/plain": [
       "general_health      EXCELLENT      FAIR      GOOD      POOR  VERY GOOD\n",
       "poverty_level                                                         \n",
       "0-99% FPL            0.120541  0.210270  0.341622  0.078378   0.249189\n",
       "100-199% FPL         0.118969  0.198895  0.342910  0.060405   0.278821\n",
       "200-299% FPL         0.134201  0.140149  0.344238  0.031599   0.349814\n",
       "300% FPL AND ABOVE   0.221541  0.072611  0.269686  0.014907   0.421255\n",
       "All                  0.188625  0.109236  0.294712  0.028343   0.379083"
      ]
     },
     "execution_count": 9,
     "metadata": {},
     "output_type": "execute_result"
    }
   ],
   "source": [
    "# YOUR CODE HERE\n",
    "\n",
    "pd.crosstab(index=df['poverty_level'], columns=df['general_health'],\n",
    "            normalize='index',margins=True)\n"
   ]
  },
  {
   "cell_type": "markdown",
   "metadata": {},
   "source": [
    "## 🥊 Challenge 8: Grouping\n",
    "\n",
    "Use `groupby()` to get the **means** of the amount of veggies eaten per week (`veg_perweek`) when grouping by `general_health`. Sort the mean from small to large."
   ]
  },
  {
   "cell_type": "code",
   "execution_count": 10,
   "metadata": {},
   "outputs": [
    {
     "data": {
      "text/plain": [
       "general_health\n",
       "FAIR         5.851979\n",
       "POOR         5.961857\n",
       "GOOD         6.092663\n",
       "VERY GOOD    6.521389\n",
       "EXCELLENT    7.136805\n",
       "Name: veg_perweek, dtype: float64"
      ]
     },
     "execution_count": 10,
     "metadata": {},
     "output_type": "execute_result"
    }
   ],
   "source": [
    "# YOUR CODE HERE\n",
    "df['veg_perweek'].groupby(df['general_health']).mean().sort_values()\n"
   ]
  },
  {
   "cell_type": "markdown",
   "metadata": {
    "tags": []
   },
   "source": [
    "## 🥊 Challenge 9: Visualizing Correlations\n",
    "\n",
    "Let's try to find out if there's a correspondence between `fruit_perweek` and `veg_perweek`.\n",
    "\n",
    "Getting the correlations between features is done using `.corr()`. Look up how it works and try it out!"
   ]
  },
  {
   "cell_type": "code",
   "execution_count": 11,
   "metadata": {},
   "outputs": [
    {
     "data": {
      "text/plain": [
       "0.7649229096204797"
      ]
     },
     "execution_count": 11,
     "metadata": {},
     "output_type": "execute_result"
    }
   ],
   "source": [
    "# YOUR CODE HERE\n",
    "df.fruit_perweek.corr(df.veg_perweek)"
   ]
  },
  {
   "cell_type": "markdown",
   "metadata": {},
   "source": [
    "Use Pandas' `.plot()` method to visualize the correlation with a scatterplot.\n",
    "\n",
    "💡 **Tip**: Use the argument `type=scatter` to get a scatterplot."
   ]
  },
  {
   "cell_type": "code",
   "execution_count": 12,
   "metadata": {},
   "outputs": [
    {
     "data": {
      "image/png": "[encoded data removed]",
      "text/plain": [
       "<Figure size 640x480 with 1 Axes>"
      ]
     },
     "metadata": {},
     "output_type": "display_data"
    }
   ],
   "source": [
    "# YOUR CODE HERE\n",
    "df.plot(kind='scatter', x='fruit_perweek', y='veg_perweek');\n"
   ]
  },
  {
   "cell_type": "code",
   "execution_count": 8,
   "metadata": {},
   "outputs": [],
   "source": [
    "df.to_csv('chis_extract.csv',index=False)"
   ]
  }
 ],
 "metadata": {
  "kernelspec": {
   "display_name": "Python 3 (ipykernel)",
   "language": "python",
   "name": "python3"
  },
  "language_info": {
   "codemirror_mode": {
    "name": "ipython",
    "version": 3
   },
   "file_extension": ".py",
   "mimetype": "text/x-python",
   "name": "python",
   "nbconvert_exporter": "python",
   "pygments_lexer": "ipython3",
   "version": "3.8.13"
  }
 },
 "nbformat": 4,
 "nbformat_minor": 4
}
