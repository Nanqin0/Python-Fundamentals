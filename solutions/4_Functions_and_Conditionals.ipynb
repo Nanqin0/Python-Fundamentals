{
 "cells": [
  {
   "cell_type": "markdown",
   "metadata": {
    "tags": []
   },
   "source": [
    "# Python Intermediate: Functions and Conditionals\n",
    "# SOLUTIONS"
   ]
  },
  {
   "cell_type": "markdown",
   "metadata": {},
   "source": [
    "## 🥊 Challenge 1: My First Function\n",
    "\n",
    "Write a function that converts Celsius temperatures to Fahrenheit. It takes in an argument, which is expected to be a temperature in Celcius. The formula for the conversion is:\n",
    "\n",
    "$$F = 1.8 * C + 32$$\n",
    "\n",
    "You can name this function whatever you want. But it makes sense to name it something sensible!"
   ]
  },
  {
   "cell_type": "code",
   "execution_count": 4,
   "metadata": {},
   "outputs": [
    {
     "data": {
      "text/plain": [
       "89.6"
      ]
     },
     "execution_count": 4,
     "metadata": {},
     "output_type": "execute_result"
    }
   ],
   "source": [
    "def convert_temp(celcius):\n",
    "    # write your code here\n",
    "    return celcius * 1.8 + 32\n",
    "\n",
    "convert_temp(32)"
   ]
  },
  {
   "cell_type": "markdown",
   "metadata": {},
   "source": [
    "## 🥊 Challenge 2: Fixing an Elif\n",
    "\n",
    "Consider the following conditional cell. Run the cell multiple times while changing the value that `number` holds, so that different conditions are met. \n",
    "\n",
    "For which numbers does the conditional not work properly? Could you think of a way to fix this?"
   ]
  },
  {
   "cell_type": "code",
   "execution_count": 22,
   "metadata": {
    "tags": []
   },
   "outputs": [
    {
     "name": "stdout",
     "output_type": "stream",
     "text": [
      "80 is greater than 25 and less than or equal to 50.\n"
     ]
    }
   ],
   "source": [
    "number = 80\n",
    "\n",
    "if number > 100:\n",
    "    print(number, 'is greater than 100.')\n",
    "elif number > 50:\n",
    "    print(number, 'is greater than 50 and less than or equal to 100.')\n",
    "elif number > 25:\n",
    "    print(number, 'is greater than 25 and less than or equal to 50.')\n",
    "else:\n",
    "    print(number, 'is less than or equal to 25.')"
   ]
  },
  {
   "cell_type": "markdown",
   "metadata": {},
   "source": [
    "ANSWER: The order of the `if` and `elif` statements matters. After all, when one `if` or `elif` statement is met, all following statements are skipped. \n",
    "\n",
    "This means a best practice is write your code from the most to the least restrictive conditional."
   ]
  },
  {
   "cell_type": "markdown",
   "metadata": {},
   "source": [
    "## 🥊 Challenge 3: Working With Comparison Operators \n",
    "\n",
    "We can also use `<` (smaller than), `>` (greater than), and `!=` (unequal to). \n",
    "Select the `gdpPercap` column and apply a boolean mask to select all values higher than 800."
   ]
  },
  {
   "cell_type": "code",
   "execution_count": null,
   "metadata": {},
   "outputs": [],
   "source": [
    "df['gdpPercap'] > 800"
   ]
  },
  {
   "cell_type": "markdown",
   "metadata": {},
   "source": [
    "## 🥊 Challenge 4: `Apply()` a Conditional Function\n",
    "\n",
    "Let's put everything we've learned together.\n",
    "\n",
    "Say that we want to create a new column in our dataset that classifies our datapoints in terms of the level of development, as measured by per capita gross national income (GNI). [This UN document](https://www.un.org/en/development/desa/policy/wesp/wesp_current/2014wesp_country_classification.pdf) outlines some rules for this.\n",
    "\n",
    "We'll do the following:\n",
    "\n",
    "1. Start a function called `assign_level` that takes in one parameter, `i`.\n",
    "2. Write an if-elif-else statement that checks `i`, based on the following rules:\n",
    "    - If it is more than 12615, `return` the string `high-income`. \n",
    "    - If it is more than 4086 and lower or equal to 12615, `return` the string `upper middle income`. \n",
    "    - If it is more than 1035 and lower or equal to 4086, `return` the string `upper middle income`. \n",
    "    - If it is less than 1035, `return` the string `low-income`. \n",
    "    - Else, return `np.nan` (this is a NaN value).\n",
    "3. Use `.apply()` on the `gniPercap` column, using your new `assign_level` function as the argument. Assign the output to a new column in our DataFrame, called `income_level`.\n"
   ]
  },
  {
   "cell_type": "code",
   "execution_count": 283,
   "metadata": {
    "tags": []
   },
   "outputs": [],
   "source": [
    "# YOUR CODE HERE\n",
    "\n",
    "def assign_level(i):\n",
    "    if i > 12615:\n",
    "        return 'high-income'\n",
    "    elif i < 12615 and i >= 4086:\n",
    "        return 'upper middle income'\n",
    "    elif i < 4086 and i >= 1036:\n",
    "        return 'lower middle income'\n",
    "    elif i < 1036:\n",
    "        return 'low-income'\n",
    "    else:\n",
    "        return np.nan\n",
    "    \n",
    "df['income_level'] = df['gniPercap'].apply(assign_level)"
   ]
  },
  {
   "cell_type": "markdown",
   "metadata": {},
   "source": [
    "If you've done this correctly, the following code should produce a barplot of the different income levels in our data."
   ]
  },
  {
   "cell_type": "code",
   "execution_count": 287,
   "metadata": {},
   "outputs": [
    {
     "data": {
      "text/plain": [
       "<AxesSubplot:>"
      ]
     },
     "execution_count": 287,
     "metadata": {},
     "output_type": "execute_result"
    },
    {
     "data": {
      "image/png": "[encoded data removed]",
      "text/plain": [
       "<Figure size 640x480 with 1 Axes>"
      ]
     },
     "metadata": {},
     "output_type": "display_data"
    }
   ],
   "source": [
    "df['income_level'].value_counts().plot(kind='bar')"
   ]
  }
 ],
 "metadata": {
  "kernelspec": {
   "display_name": "Python 3 (ipykernel)",
   "language": "python",
   "name": "python3"
  },
  "language_info": {
   "codemirror_mode": {
    "name": "ipython",
    "version": 3
   },
   "file_extension": ".py",
   "mimetype": "text/x-python",
   "name": "python",
   "nbconvert_exporter": "python",
   "pygments_lexer": "ipython3",
   "version": "3.8.13"
  }
 },
 "nbformat": 4,
 "nbformat_minor": 4
}
