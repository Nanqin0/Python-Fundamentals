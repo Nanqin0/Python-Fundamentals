{
 "cells": [
  {
   "cell_type": "markdown",
   "metadata": {},
   "source": [
    "# Python Fundamentals II: Control Flow and Functions\n",
    "# SOLUTIONS"
   ]
  },
  {
   "cell_type": "markdown",
   "metadata": {},
   "source": [
    "## 🥊 Challenge 1: Fixing Loop Syntax\n",
    "\n",
    "The following block of code contains **three errors** that are preventing it from running properly. What are the errors? How would you fix them?"
   ]
  },
  {
   "cell_type": "code",
   "execution_count": null,
   "metadata": {},
   "outputs": [],
   "source": [
    "for number in [2, 3, 5]\n",
    "print(n)\n"
   ]
  },
  {
   "cell_type": "markdown",
   "metadata": {},
   "source": [
    "## 🥊 Challenge 2: Looping Through a Series\n",
    "\n",
    "We can loop through a `pandas` Series just like we can through a list.\n",
    "\n",
    "Let's do this for the following DataFrame, which contains a bunch of mountains and their elevation in feet. Proceed as follows:\n",
    "\n",
    "1. Extract the column `elevation` as a Series.\n",
    "2. Loop through the series using a `for` loop.\n",
    "3. Convert each value to meters using the conversion: 1 ft = .304 m.\n",
    "4. Print the results. "
   ]
  },
  {
   "cell_type": "code",
   "execution_count": null,
   "metadata": {},
   "outputs": [
    {
     "data": {
      "text/html": [
       "<div>\n",
       "<style scoped>\n",
       "    .dataframe tbody tr th:only-of-type {\n",
       "        vertical-align: middle;\n",
       "    }\n",
       "\n",
       "    .dataframe tbody tr th {\n",
       "        vertical-align: top;\n",
       "    }\n",
       "\n",
       "    .dataframe thead th {\n",
       "        text-align: right;\n",
       "    }\n",
       "</style>\n",
       "<table border=\"1\" class=\"dataframe\">\n",
       "  <thead>\n",
       "    <tr style=\"text-align: right;\">\n",
       "      <th></th>\n",
       "      <th>mountain</th>\n",
       "      <th>range</th>\n",
       "      <th>elevation</th>\n",
       "    </tr>\n",
       "  </thead>\n",
       "  <tbody>\n",
       "    <tr>\n",
       "      <th>0</th>\n",
       "      <td>Mt. Whitney</td>\n",
       "      <td>Sierra Nevada</td>\n",
       "      <td>14505</td>\n",
       "    </tr>\n",
       "    <tr>\n",
       "      <th>1</th>\n",
       "      <td>Mt. Williamson</td>\n",
       "      <td>Sierra Nevada</td>\n",
       "      <td>14379</td>\n",
       "    </tr>\n",
       "    <tr>\n",
       "      <th>2</th>\n",
       "      <td>White Mountain Peak</td>\n",
       "      <td>White Mountains</td>\n",
       "      <td>14252</td>\n",
       "    </tr>\n",
       "    <tr>\n",
       "      <th>3</th>\n",
       "      <td>North Palisade</td>\n",
       "      <td>Sierra Nevada</td>\n",
       "      <td>14248</td>\n",
       "    </tr>\n",
       "    <tr>\n",
       "      <th>4</th>\n",
       "      <td>Mt. Shasta</td>\n",
       "      <td>Cascade Range</td>\n",
       "      <td>14179</td>\n",
       "    </tr>\n",
       "    <tr>\n",
       "      <th>5</th>\n",
       "      <td>Mt. Humphreys</td>\n",
       "      <td>Sierra Nevada</td>\n",
       "      <td>13992</td>\n",
       "    </tr>\n",
       "  </tbody>\n",
       "</table>\n",
       "</div>"
      ],
      "text/plain": [
       "              mountain            range  elevation\n",
       "0          Mt. Whitney    Sierra Nevada      14505\n",
       "1       Mt. Williamson    Sierra Nevada      14379\n",
       "2  White Mountain Peak  White Mountains      14252\n",
       "3       North Palisade    Sierra Nevada      14248\n",
       "4           Mt. Shasta    Cascade Range      14179\n",
       "5        Mt. Humphreys    Sierra Nevada      13992"
      ]
     },
     "execution_count": 5,
     "metadata": {},
     "output_type": "execute_result"
    }
   ],
   "source": [
    "import pandas as pd\n",
    "\n",
    "mountains_df = pd.DataFrame(\n",
    "    {'mountain': ['Mt. Whitney',\n",
    "                  'Mt. Williamson',\n",
    "                  'White Mountain Peak',\n",
    "                  'North Palisade',\n",
    "                  'Mt. Shasta',\n",
    "                  'Mt. Humphreys'],\n",
    "     'range': ['Sierra Nevada',\n",
    "               'Sierra Nevada',\n",
    "               'White Mountains',\n",
    "               'Sierra Nevada',\n",
    "               'Cascade Range',\n",
    "               'Sierra Nevada'],\n",
    "     'elevation': [14505, 14379, 14252, 14248, 14179, 13992]}\n",
    ")\n",
    "\n",
    "mountains_df"
   ]
  },
  {
   "cell_type": "code",
   "execution_count": null,
   "metadata": {},
   "outputs": [
    {
     "name": "stdout",
     "output_type": "stream",
     "text": [
      "4409.5199999999995\n",
      "4371.215999999999\n",
      "4332.608\n",
      "4331.392\n",
      "4310.416\n",
      "4253.568\n"
     ]
    }
   ],
   "source": [
    "# YOUR CODE HERE\n",
    "for each in mountains_df['elevation']:\n",
    "    print(each * .304)\n"
   ]
  },
  {
   "cell_type": "markdown",
   "metadata": {},
   "source": [
    "## 🥊 Challenge 3: Aggregation Practice\n",
    "\n",
    "Below are a few examples showing the different types of quantities you might aggregate using a for loop. These loops are partially filled out. Finish them and test that they work!"
   ]
  },
  {
   "cell_type": "markdown",
   "metadata": {},
   "source": [
    "1. Find the total length of the strings in the given list. Store this quantity in a variable called `total`."
   ]
  },
  {
   "cell_type": "code",
   "execution_count": 1,
   "metadata": {},
   "outputs": [
    {
     "name": "stdout",
     "output_type": "stream",
     "text": [
      "12\n"
     ]
    }
   ],
   "source": [
    "total = 0\n",
    "words = ['red', 'green', 'blue']\n",
    "\n",
    "for w in words:\n",
    "     total = total + len(w)\n",
    "\n",
    "print(total)"
   ]
  },
  {
   "cell_type": "markdown",
   "metadata": {},
   "source": [
    "2. Find the length of each word in the list, and store these lengths in another list called `lengths`."
   ]
  },
  {
   "cell_type": "code",
   "execution_count": 2,
   "metadata": {},
   "outputs": [
    {
     "name": "stdout",
     "output_type": "stream",
     "text": [
      "['red', 'green', 'blue']\n"
     ]
    }
   ],
   "source": [
    "lengths = []\n",
    "words = ['red', 'green', 'blue']\n",
    "\n",
    "for w in words:\n",
    "    lengths.append(w)\n",
    "\n",
    "print(lengths)"
   ]
  },
  {
   "cell_type": "markdown",
   "metadata": {},
   "source": [
    "3. Concatenate all words into a single string called `result`."
   ]
  },
  {
   "cell_type": "code",
   "execution_count": 6,
   "metadata": {},
   "outputs": [
    {
     "name": "stdout",
     "output_type": "stream",
     "text": [
      "redgreenblue\n"
     ]
    }
   ],
   "source": [
    "words = ['red', 'green', 'blue']\n",
    "result = ''\n",
    "\n",
    "for w in words:\n",
    "    result += w\n",
    "\n",
    "print(result)"
   ]
  },
  {
   "cell_type": "markdown",
   "metadata": {},
   "source": [
    "4. Create an acronym, as a single string, representing the list of words. Each part of the acronym should consist of the first letter of each word, capitalized. For example, your loop should output `\"RGB\"` for the input `[\"red\", \"green\", \"blue\"]`. For this one, write the entire loop yourself!"
   ]
  },
  {
   "cell_type": "code",
   "execution_count": 1,
   "metadata": {},
   "outputs": [
    {
     "data": {
      "text/plain": [
       "'RGB'"
      ]
     },
     "execution_count": 1,
     "metadata": {},
     "output_type": "execute_result"
    }
   ],
   "source": [
    "words = ['red', 'green', 'blue']\n",
    "\n",
    "# YOUR CODE HERE\n",
    "\n",
    "''.join([each[0].upper() for each in words])"
   ]
  },
  {
   "cell_type": "markdown",
   "metadata": {},
   "source": [
    "## 🥊 Challenge 4: Conditionals and Aggregation\n",
    "Below, we've created a list of US Presidents. Create a new list containing all Presidents whose first name starts with the letter J. How many presidents are on this list?\n",
    "\n",
    "**Hint:** The `.split()` string function will be useful for this. Also, remember that strings are indexed: you can access any character of the string using bracket notation!"
   ]
  },
  {
   "cell_type": "code",
   "execution_count": 8,
   "metadata": {},
   "outputs": [],
   "source": [
    "presidents = [\n",
    "    \"George Washington\",\n",
    "    \"John Adams\",\n",
    "    \"Thomas Jefferson\",\n",
    "    \"James Madison\",\n",
    "    \"James Monroe\",\n",
    "    \"John Quincy Adams\",\n",
    "    \"Andrew Jackson\",\n",
    "    \"Martin Van Buren\",\n",
    "    \"William Henry Harrison\",\n",
    "    \"John Tyler\",\n",
    "    \"James K. Polk\",\n",
    "    \"Zachary Taylor\",\n",
    "    \"Millard Fillmore\",\n",
    "    \"Franklin Pierce\",\n",
    "    \"James Buchanan\",\n",
    "    \"Abraham Lincoln\",\n",
    "    \"Andrew Johnson\",\n",
    "    \"Ulysses S. Grant\",\n",
    "    \"Rutherford B. Hayes\",\n",
    "    \"James A. Garfield\",\n",
    "    \"Chester A. Arthur\",\n",
    "    \"Grover Cleveland\",\n",
    "    \"Benjamin Harrison\",\n",
    "    \"Grover Cleveland\",\n",
    "    \"William McKinley\",\n",
    "    \"Theodore Roosevelt\",\n",
    "    \"William Howard Taft\",\n",
    "    \"Woodrow Wilson\",\n",
    "    \"Warren G. Harding\",\n",
    "    \"Calvin Coolidge\",\n",
    "    \"Herbert Hoover\",\n",
    "    \"Franklin D. Roosevelt\",\n",
    "    \"Harry S. Truman\",\n",
    "    \"Dwight D. Eisenhower\",\n",
    "    \"John F. Kennedy\",\n",
    "    \"Lyndon B. Johnson\",\n",
    "    \"Richard Nixon\",\n",
    "    \"Gerald Ford\",\n",
    "    \"Jimmy Carter\",\n",
    "    \"Ronald Reagan\",\n",
    "    \"George H. W. Bush\",\n",
    "    \"Bill Clinton\",\n",
    "    \"George W. Bush\",\n",
    "    \"Barack Obama\",\n",
    "    \"Donald Trump\",\n",
    "    \"Joe Biden\"]"
   ]
  },
  {
   "cell_type": "code",
   "execution_count": 12,
   "metadata": {},
   "outputs": [
    {
     "name": "stdout",
     "output_type": "stream",
     "text": [
      "11\n"
     ]
    }
   ],
   "source": [
    "last_name = []\n",
    "for p in presidents:\n",
    "    if p[0] == 'J':\n",
    "        last_name.append(p)\n",
    "print(len(last_name))"
   ]
  }
 ],
 "metadata": {
  "kernelspec": {
   "display_name": "Python 3 (ipykernel)",
   "language": "python",
   "name": "python3"
  },
  "language_info": {
   "codemirror_mode": {
    "name": "ipython",
    "version": 3
   },
   "file_extension": ".py",
   "mimetype": "text/x-python",
   "name": "python",
   "nbconvert_exporter": "python",
   "pygments_lexer": "ipython3",
   "version": "3.8.13"
  }
 },
 "nbformat": 4,
 "nbformat_minor": 4
}
