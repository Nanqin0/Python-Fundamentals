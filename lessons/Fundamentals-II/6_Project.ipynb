{
 "cells": [
  {
   "cell_type": "markdown",
   "metadata": {},
   "source": [
    "# 🚀 Project\n",
    "\n",
    "* * * \n",
    "\n",
    "### Icons Used In This Notebook\n",
    "🔔 **Question**: A quick question to help you understand what's going on.<br>\n",
    "🥊 **Challenge**: Interactive excersise. We'll work through these in the workshop!<br>\n",
    "💭 **Reflection**: Helping you think about programming.<br>\n",
    "⚠️ **Warning**: Heads-up about tricky stuff or common mistakes.<br>\n",
    "💡 **Tip**: How to do something a bit more efficiently or effectively.<br>\n",
    "🎬 **Demo**: Showing off something more advanced – so you know what Python can be used for!<br>\n",
    "\n",
    "### Learning Objectives\n",
    "1. [🚀 Project](#project)"
   ]
  },
  {
   "cell_type": "markdown",
   "metadata": {},
   "source": [
    "# 🚀 Project\n",
    "\n",
    "### Data: California Health Interview Survey\n",
    "In this section, we will go through an example project. The California Health Interview Survey (CHIS) is the nation's largest state health survey and a critical source of data on Californians as well as on the state's various racial and ethnic groups.\n",
    "\n",
    "We will bring together the basic programming, loading data, and statistical analysis/visualization techniques from this workshop to analyze this data. \n",
    "\n",
    "First, let's import the packages to use in this analysis:"
   ]
  },
  {
   "cell_type": "code",
   "execution_count": null,
   "metadata": {},
   "outputs": [],
   "source": [
    "import numpy as np\n",
    "import pandas as pd\n",
    "import os"
   ]
  },
  {
   "cell_type": "markdown",
   "metadata": {},
   "source": [
    "## 1. Getting the data\n",
    "\n",
    "Before we can get our data, you should know something more about **filepaths**. \n",
    "\n",
    "A filepath is the location of a file on your system. There are two kinds of filepaths:\n",
    "\n",
    "* **absolute**: The filepath from the top level directory (or folder).\n",
    "    * For Macs, these begin with a forward slash, followed by folders separated by a **forward slash**. E.g. `/Users/[USERNAME]/directory/subdirectory/file`.\n",
    "    * For Windows, these begin with a backward slash or, more commonly, a volume, e.g. `C:\\Documents\\directory\\subdirectory\\file`. Note the **backward slash** to separate folders.\n",
    "* **relative**: The filepath relative to the current working directory (i.e. notebook location). Common locations include:\n",
    "    * File in same folder: `./file` or `file` (`.` means 'here').\n",
    "    * Subfolder: `subfolder/file`.\n",
    "    * Higher folder: `../sisterfolder/file` (`..` means 'go up one level in the directory')."
   ]
  },
  {
   "cell_type": "markdown",
   "metadata": {},
   "source": [
    "When you are figuring out what filepath to use, you can use `os.listdir([PATH])` to list all subdirectories in a path. For example, let's see what directories are available to us in the current folder (noted with a dot `.`).\n",
    "\n",
    "🔔 **Question**: In this current folder we're checking out, which items are folders and which are files? (**Hint:** You can double check by looking at the files in JupyterLab/ Jupyter Notebook)."
   ]
  },
  {
   "cell_type": "code",
   "execution_count": null,
   "metadata": {},
   "outputs": [],
   "source": [
    "import os\n",
    "os.listdir('.')"
   ]
  },
  {
   "cell_type": "markdown",
   "metadata": {},
   "source": [
    "Looking up the items in the folder after moving up one level works like this:"
   ]
  },
  {
   "cell_type": "code",
   "execution_count": null,
   "metadata": {},
   "outputs": [],
   "source": [
    "os.listdir('../')"
   ]
  },
  {
   "cell_type": "markdown",
   "metadata": {
    "tags": []
   },
   "source": [
    "### 1.1 Find the Data\n",
    "\n",
    "Use `os.listdir()` to see the files in the \"chis_data\" folder, which is in the \"data\" folder, which is in the main \"Python-Fundamentals\" folder.\n",
    "\n",
    "💡 **Tip**: Remember how to move up in the folder structure? `../../` goes up two folders!\n",
    "\n",
    "💡 **Tip**: You can use Jupyter Lab's File Browser to the left of your screen to get a sense of where the \"chis_data\" folder is."
   ]
  },
  {
   "cell_type": "code",
   "execution_count": null,
   "metadata": {},
   "outputs": [],
   "source": [
    "# YOUR CODE HERE\n"
   ]
  },
  {
   "cell_type": "markdown",
   "metadata": {
    "tags": []
   },
   "source": [
    "### 1.2 Load in a single file\n",
    "\n",
    "We have 3 csv files based on the language in which the Health Interview was held.\n",
    "L\n",
    "et's load in one of these CSV files.\n",
    "\n",
    "1. Read in the `chis_esp.csv` file as a `pandas` object.\n",
    "2. How many rows are there? How many columns?"
   ]
  },
  {
   "cell_type": "code",
   "execution_count": null,
   "metadata": {
    "scrolled": true,
    "tags": []
   },
   "outputs": [],
   "source": [
    "import pandas as pd\n",
    "\n",
    "# Load in file\n",
    "chis_esp = pd.read_csv('../../data/chis_data/chis_esp.csv')"
   ]
  },
  {
   "cell_type": "markdown",
   "metadata": {},
   "source": [
    "### 1.3 Load in Multiple Files\n",
    "\n",
    "It looks like the CSV files we have are sorted by language. We want to combine these files in one big dataframe using a loop.\n",
    "However, we notice that there is a `.txt` file in the directory, which isn't a `pandas` dataframe. This will cause an error in the dataframe processing, so let's use an `if` statement to filter out the `.txt` extension. "
   ]
  },
  {
   "cell_type": "markdown",
   "metadata": {},
   "source": [
    "Slice the last 3 characters of the `test_csv` variable and use the equality operator (`==`) to return `True`.\n",
    "\n",
    "💡 **Tip**: Recall slicing the last elements of a list. For instance, use `some_list[-2:]` to get the last two items."
   ]
  },
  {
   "cell_type": "code",
   "execution_count": null,
   "metadata": {},
   "outputs": [],
   "source": [
    "test_csv = 'chis_esp.csv' # Expression should evaluate True\n",
    "\n",
    "# YOUR CODE HERE\n"
   ]
  },
  {
   "cell_type": "markdown",
   "metadata": {},
   "source": [
    "Now that we have an expression, let's create a for-loop to check if it works over the files in our folder. "
   ]
  },
  {
   "cell_type": "code",
   "execution_count": null,
   "metadata": {},
   "outputs": [],
   "source": [
    "directory = '../../data/chis_data'\n",
    "for file in os.listdir(directory):\n",
    "    if file[-3:] == 'csv': # Fill in the blank to filter for files ending with `.csv`\n",
    "        print(file)"
   ]
  },
  {
   "cell_type": "markdown",
   "metadata": {},
   "source": [
    "## 🥊 Challenge: Putting it all together\n",
    "\n",
    "We've got most of the pieces. Now let's put the puzzle together:\n",
    "1) Initialize an *accumulator* list called `df_list`.\n",
    "2) Reuse the `for`-loop we just created to loop over the csv files in the right folder. But in the final line, instead of `print`ing the file, read it as a DataFrame and `append` the output to our `df_list` list.\n",
    "\n",
    "⚠️ Warning: When calling `read_csv()`, you will need to input the **full filepath**, or the file will not be found!"
   ]
  },
  {
   "cell_type": "code",
   "execution_count": null,
   "metadata": {},
   "outputs": [],
   "source": [
    "# YOUR CODE HERE    \n"
   ]
  },
  {
   "cell_type": "markdown",
   "metadata": {},
   "source": [
    "Finally, look up the [documentation for Pandas](https://pandas.pydata.org/pandas-docs/stable/reference/general_functions.html), and see if you can find a function that **concatenates** the list of DataFrames we have now. We'll save the concatenated list in a variable called `df`."
   ]
  },
  {
   "cell_type": "code",
   "execution_count": null,
   "metadata": {},
   "outputs": [],
   "source": [
    "# YOUR CODE HERE\n"
   ]
  },
  {
   "cell_type": "markdown",
   "metadata": {},
   "source": [
    "🔔 **Question**: Let's take a look at the final data frame.\n",
    "\n",
    "1. How many rows and columns are there in the total dataframe?\n",
    "2. How many numeric columns are there in the dataset?\n",
    "3. Which columns look interesting to you?"
   ]
  },
  {
   "cell_type": "code",
   "execution_count": null,
   "metadata": {},
   "outputs": [],
   "source": [
    "# YOUR CODE HERE\n"
   ]
  },
  {
   "cell_type": "markdown",
   "metadata": {},
   "source": [
    "## 2. Data Processing"
   ]
  },
  {
   "cell_type": "markdown",
   "metadata": {
    "tags": []
   },
   "source": [
    "### 2.1 Exploratory Data Analysis (EDA)\n",
    "\n",
    "Now let's do some Exploratory Data Analysis. One thing we will want to do is count values of interesting features. Run `value_counts()` on the `feel_left_out` column and normalize the output.\n"
   ]
  },
  {
   "cell_type": "code",
   "execution_count": null,
   "metadata": {},
   "outputs": [],
   "source": [
    "# YOUR CODE HERE\n"
   ]
  },
  {
   "cell_type": "markdown",
   "metadata": {},
   "source": [
    "\n",
    "One thing we will want to do is look at potential correlations between features that we think might be interesting to pursue further. \n",
    "\n",
    "Pick two of them, then \n",
    "\n"
   ]
  },
  {
   "cell_type": "markdown",
   "metadata": {},
   "source": [
    "### 2.2 Quantiles\n",
    "\n",
    "We can use the `quantile()` method to calculate the q-th quantile of the data along a specified axis. Try to find the amount of fruits eaten by the top 1% of respondents."
   ]
  },
  {
   "cell_type": "code",
   "execution_count": null,
   "metadata": {},
   "outputs": [],
   "source": [
    "# YOUR CODE HERE\n"
   ]
  },
  {
   "cell_type": "markdown",
   "metadata": {},
   "source": [
    "### 2.3 Cross-tabulate\n",
    "We can use the `crosstab()` method to cross-tabulate poverty level and health. "
   ]
  },
  {
   "cell_type": "code",
   "execution_count": null,
   "metadata": {},
   "outputs": [],
   "source": [
    "pd.crosstab(index=df['poverty_level'], columns=df['general_health'])"
   ]
  },
  {
   "cell_type": "markdown",
   "metadata": {},
   "source": [
    "Look at the crosstab [documentation](https://pandas.pydata.org/docs/reference/api/pandas.crosstab.html) and look for aruments that allow you to get the normalized values, and include subtotals.\n",
    "\n",
    "Get the cross tab of `poverty_level` and `general_health`. Normalize them and print the subtotals. "
   ]
  },
  {
   "cell_type": "code",
   "execution_count": null,
   "metadata": {},
   "outputs": [],
   "source": [
    "# YOUR CODE HERE\n"
   ]
  },
  {
   "cell_type": "markdown",
   "metadata": {},
   "source": [
    "### 2.4 Grouping\n",
    "\n",
    "Use `group_by()` to get the **means** of the amount of veggies eaten per week (`veg_perweek`) when grouping by `general_health`. Sort the mean from small to large."
   ]
  },
  {
   "cell_type": "code",
   "execution_count": null,
   "metadata": {},
   "outputs": [],
   "source": [
    "# YOUR CODE HERE\n"
   ]
  },
  {
   "cell_type": "markdown",
   "metadata": {},
   "source": [
    "### 2.5 Dummy variables\n",
    "We can create dummy variables using the `get_dummies()` method.\n",
    "Use `get_dummies()` to dummify the `general_health` column."
   ]
  },
  {
   "cell_type": "code",
   "execution_count": null,
   "metadata": {},
   "outputs": [],
   "source": [
    "# YOUR CODE HERE\n"
   ]
  },
  {
   "cell_type": "markdown",
   "metadata": {
    "jp-MarkdownHeadingCollapsed": true,
    "tags": []
   },
   "source": [
    "### 2.6 Visualizing Correlations\n",
    "\n",
    "Let's try to find out if there's a correspondence between **poverty level** and **poor general health**.\n",
    "\n",
    "Getting the correlations between features is easily done using `.corr()`"
   ]
  },
  {
   "cell_type": "code",
   "execution_count": null,
   "metadata": {},
   "outputs": [],
   "source": [
    "pov_health.corr()"
   ]
  },
  {
   "cell_type": "markdown",
   "metadata": {},
   "source": [
    "Use [Matplotlib](https://matplotlib.org/) or [Seaborn](https://seaborn.pydata.org/) to visualize the correlation using a barplot. Click on them to read their documentation if you need a refresher!"
   ]
  },
  {
   "cell_type": "code",
   "execution_count": null,
   "metadata": {},
   "outputs": [],
   "source": [
    "# YOUR CODE HERE\n"
   ]
  },
  {
   "cell_type": "markdown",
   "metadata": {},
   "source": [
    "## Writing Files\n",
    "\n",
    "Finally, a `pd.DataFrame` can be exported to a `.csv` (or other filetype) using `df.to_csv()`. This is a method function built-in to every data frame.\n",
    "\n",
    "🔔 **Question**:  Where does `chis_total.csv` get saved? What if you wanted to save it to the \"data\" directory?"
   ]
  },
  {
   "cell_type": "code",
   "execution_count": null,
   "metadata": {},
   "outputs": [],
   "source": [
    "df.to_csv('chis_total.csv') "
   ]
  },
  {
   "cell_type": "markdown",
   "metadata": {},
   "source": [
    "# 🎉 Well done!\n",
    "\n",
    "**This concludes Python Fundamentals II!**\n",
    "\n",
    "Today's project took us through importing multiple csv files, data manipulation, and some basic visualizations and analysis of data. \n",
    "\n",
    "If you were working on this dataset, what would you potentially do next? It could be either an analysis, a new feature to include, a visualization that might help represent the data, etc.\n",
    "\n",
    "### 💡 Tip: More workshops!\n",
    "\n",
    "D-Lab teaches workshops that allow you to practice more with DataFrames and visualization.\n",
    "\n",
    "- To learn more about data wrangling, check out D-Lab's [Python Data Wrangling workshop](https://github.com/dlab-berkeley/Python-Data-Wrangling).\n",
    "- To learn more about data visualization, check out D-Lab's [Python Data Visualization workshop](https://github.com/dlab-berkeley/Python-Data-Visualization)."
   ]
  }
 ],
 "metadata": {
  "kernelspec": {
   "display_name": "Python 3 (ipykernel)",
   "language": "python",
   "name": "python3"
  },
  "language_info": {
   "codemirror_mode": {
    "name": "ipython",
    "version": 3
   },
   "file_extension": ".py",
   "mimetype": "text/x-python",
   "name": "python",
   "nbconvert_exporter": "python",
   "pygments_lexer": "ipython3",
   "version": "3.8.13"
  }
 },
 "nbformat": 4,
 "nbformat_minor": 4
}
