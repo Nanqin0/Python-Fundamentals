{
 "cells": [
  {
   "cell_type": "markdown",
   "metadata": {},
   "source": [
    "# Data Analysis and Visualization\n",
    "\n",
    "* * * \n",
    "\n",
    "### Icons used in this notebook\n",
    "🔔 **Question**: A quick question to help you understand what's going on.<br>\n",
    "🥊 **Challenge**: Interactive excersise. We'll work through these in the workshop!<br>\n",
    "💭 **Reflection**: Helping you think about programming.<br>\n",
    "⚠️ **Warning**: Heads-up about tricky stuff or common mistakes.<br>\n",
    "💡 **Tip**: How to do something a bit more efficiently or effectively.<br>\n",
    "🎬 **Demo**: Showing off something more advanced – so you know what Python can be used for!<br>\n",
    "\n",
    "### Learning Objectives\n",
    "1. [Coding Strategies](#strat)\n",
    "2. [Exploring Data with Pandas](#pandas)\n",
    "3. [Visualizing DataFrames](#vis)"
   ]
  },
  {
   "cell_type": "markdown",
   "metadata": {},
   "source": [
    "<a id='strat'></a>\n",
    "\n",
    "# Coding Strategies\n",
    "\n",
    "First off, let's discuss five best practices for coding."
   ]
  },
  {
   "cell_type": "markdown",
   "metadata": {},
   "source": [
    "### 💡 1: Use comments\n",
    "\n",
    "To help explain your code, you can include **comments** to explain what is going on. Use comments to explain *why* you are using blocks of code and *how* code works. \n",
    "\n",
    "🔔 **Question**: Some code is commented below. What is helpful about the comments? What could be improved?"
   ]
  },
  {
   "cell_type": "code",
   "execution_count": null,
   "metadata": {},
   "outputs": [],
   "source": [
    "import numpy as np\n",
    "\n",
    "#list of proportions\n",
    "proportion_list = [.96821,.78998,.86898,.98981298]\n",
    "\n",
    "for prop in proportion_list:\n",
    "    \n",
    "    percent = prop * 100 #multiply by 100\n",
    "    percent = round(percent,1)\n",
    "    print(percent,'%')\n",
    "\n"
   ]
  },
  {
   "cell_type": "markdown",
   "metadata": {},
   "source": [
    "### 💡 2: Keep lines short\n",
    "Another principle of good Python coding is to keep lines short enough that you don't need to scroll. This is true of both code and comments!\n",
    "\n",
    "You can use **implied line continuation** inside parentheses, most commonly by including line breaks at commas."
   ]
  },
  {
   "cell_type": "code",
   "execution_count": null,
   "metadata": {},
   "outputs": [],
   "source": [
    "a_long_list = ['bannana','apple','pineapple',\n",
    "               'mango','strawberry','guava',\n",
    "               'lychee','peach']"
   ]
  },
  {
   "cell_type": "markdown",
   "metadata": {},
   "source": [
    "### 💡 3: Pythonic Coding\n",
    "\n",
    "**Pythonic coding** means taking advantage of the design of Python to make more readable code. \n",
    "\n",
    "🔔 **Question**: The following two approaches are equivalent. What is happening? Which do you find easier to read?"
   ]
  },
  {
   "cell_type": "code",
   "execution_count": null,
   "metadata": {},
   "outputs": [],
   "source": [
    "s = 'sample.thing'\n",
    "\n",
    "# First approach\n",
    "slist = s.split('.')\n",
    "first_word = slist[0]\n",
    "first_letter = first_word[0]\n",
    "first_upper = first_letter.upper()\n",
    "\n",
    "# Second approach\n",
    "second_upper = s.split('.')[0][0].upper()\n",
    "\n",
    "# Check that they are identical \n",
    "#print(first_upper, second_upper)"
   ]
  },
  {
   "cell_type": "markdown",
   "metadata": {},
   "source": [
    "Generally, the second approach is preferred, when possible. \n",
    "\n",
    "- It uses less lines of code.\n",
    "- It avoids needing to track and remember many variable names.\n",
    "- It is highly readable if you are familiar with Python.\n",
    "\n",
    "However, disadvantages of the second approach are:\n",
    "\n",
    "- It can be harder to follow the steps.\n",
    "- It's harder to debug.\n",
    "\n",
    "One approach is to write out chunks of code the first way when debugging, then condensing them into fewer lines once the debugging is complete."
   ]
  },
  {
   "cell_type": "markdown",
   "metadata": {},
   "source": [
    "### 💡 4: Use Naming Conventions\n",
    "\n",
    "\"The best programmer is the one who can come up with the best names\"\n",
    "\n",
    "* Good names replace comments and make code self-documenting.\n",
    "* variables, functions, files, etc. should consist of complete words. Try to avoid abbreviations.\n",
    "* Use this principle in your coding: frequent -> short, infrequent -> long."
   ]
  },
  {
   "cell_type": "code",
   "execution_count": null,
   "metadata": {},
   "outputs": [],
   "source": [
    "# less ideal\n",
    "a = 1\n",
    "a = 'a string'\n",
    "def a():\n",
    "    pass  # Do something\n",
    "\n",
    "# more ideal\n",
    "count = 1\n",
    "msg = 'a string'\n",
    "def func():\n",
    "    pass  # Do something"
   ]
  },
  {
   "cell_type": "markdown",
   "metadata": {},
   "source": [
    "Even without comments, good names give a good idea of what is going on in your code!"
   ]
  },
  {
   "cell_type": "markdown",
   "metadata": {},
   "source": [
    "Here are some more style guidelines:\n",
    "\n",
    "* joined_lower for functions, methods, attributes.\n",
    "* joined_lower or ALL_CAPS for constants.\n",
    "* StudlyCaps for classes.\n",
    "* camelCase only to conform to pre-existing conventions.\n",
    "\n",
    "Most often you will use the `joined_lower` format for your variables."
   ]
  },
  {
   "cell_type": "markdown",
   "metadata": {},
   "source": [
    "### 💡 5: Plan ahead\n",
    "Planning ahead can help mitigate time spent dealing with bugs and errors in code. General steps for defensive coding are:\n",
    "\n",
    "1. State the goals of your code as clearly as possible.\n",
    "2. Plan out the general logic of steps needed to achieve the goal.\n",
    "3. Translate the steps into code:\n",
    "    1. Build up steps piece by piece.\n",
    "    2. Test frequently to make sure code is working as expected and handle bugs as quickly as possible.\n",
    "4. Check the output."
   ]
  },
  {
   "cell_type": "markdown",
   "metadata": {},
   "source": [
    "## 🥊 Challenge: Make a Function\n",
    "\n",
    "Say you need to write a function that takes in a list of textual data. We've defined a list for you here."
   ]
  },
  {
   "cell_type": "code",
   "execution_count": null,
   "metadata": {},
   "outputs": [],
   "source": [
    "sent_list = ['When I wake up, the other side of the bed is cold.', \n",
    "             'My fingers stretch out, seeking Prim’s warmth but finding only the rough canvas cover of the mattress.',\n",
    "             'She must have had bad dreams and climbed in with our mother.']"
   ]
  },
  {
   "cell_type": "markdown",
   "metadata": {},
   "source": [
    "Your function is supposed to loop through this list, and for each item, split the words on whitespace, lowercase all items in the list, and returns each word. \n",
    "**Use the five strategies defined above** to write your code!\n",
    "\n",
    "1. Use comments to indicate what your code is doing.\n",
    "2. Use short lines.\n",
    "3. Make use of Pythonic coding when splitting and lowercasing.\n",
    "4. Use the common naming conventions we define above.\n",
    "5. Write down the steps you need to take in the text cell below."
   ]
  },
  {
   "cell_type": "markdown",
   "metadata": {},
   "source": [
    "\n",
    "\n",
    "*YOUR TEXT HERE*\n",
    "\n",
    "\n",
    "\n"
   ]
  },
  {
   "cell_type": "code",
   "execution_count": null,
   "metadata": {},
   "outputs": [],
   "source": [
    "# YOUR CODE HERE\n"
   ]
  },
  {
   "cell_type": "markdown",
   "metadata": {},
   "source": [
    "<a id=\"pandas\"></a>\n",
    "# Exploring Data with Pandas\n",
    "\n",
    "We introduced `pandas` in Fundamentals I. It is the most common package used in data analysis, with a focus on data manipulation and processing. We will work some more with `pandas` here, and work towards visualizing our data."
   ]
  },
  {
   "cell_type": "code",
   "execution_count": null,
   "metadata": {},
   "outputs": [],
   "source": [
    "# recall that pandas is frequently imported with the alias pd\n",
    "import pandas as pd\n",
    "import numpy as np"
   ]
  },
  {
   "cell_type": "markdown",
   "metadata": {},
   "source": [
    "We'll use data from the [California Health Interview Survey (CHIS)](https://healthpolicy.ucla.edu/chis/Pages/default.aspx), the nation's largest state health survey. \n",
    "\n",
    "The data has the following columns: \n",
    "\n",
    "- number_sodas: Number of times drank soda per week\n",
    "- poverty_line: Poverty Level as Times of 100% Federal Poverty Line (FPL)\n",
    "- health: General Health Assessment\n",
    "- race_eth: Self-Reported Race Ethnicity\n",
    "- feel_safe: Feeling Safe in the Neighborhood\n",
    "- tenure: Self-Reported Household Tenure\n",
    "- earnings: Earnings Last Month Before Taxes and Deductions\n",
    "- hh_income: Household’s Total Annual Income\n",
    "\n",
    "🔔 **Question**: How many rows are in the data set?"
   ]
  },
  {
   "cell_type": "code",
   "execution_count": null,
   "metadata": {},
   "outputs": [],
   "source": [
    "df = pd.read_csv('../../data/gapminder-FiveYearData.csv')\n",
    "df.head()"
   ]
  },
  {
   "cell_type": "markdown",
   "metadata": {},
   "source": [
    "## DataFrame Methods\n",
    "\n",
    "Just like other objects, `DataFrames` have a series of methods that are associated with them. There are many methods for summarizing `pd.DataFrames`. For example [`df.describe()`](https://pandas.pydata.org/docs/reference/api/pandas.DataFrame.describe.html) will give some summary statistics for a column. Let's look at how `.describe()` works on the `penguins` DataFrame.\n",
    "\n",
    "\n",
    "🔔 **Question**: Why are only some of the columns in the DataFrame visible in the output below?"
   ]
  },
  {
   "cell_type": "code",
   "execution_count": null,
   "metadata": {
    "scrolled": true
   },
   "outputs": [],
   "source": [
    "df.describe()"
   ]
  },
  {
   "cell_type": "markdown",
   "metadata": {},
   "source": [
    "This function is good for summarizing numerical data in a dataset. However, sometimes this might not be enough. For example, what if we wanted the median of the penguin mass rather than the mean? \n",
    "\n",
    "First, let's select just one column to operate on. We can select an individual column with bracket notation. This is analogous to indexing a list.\n",
    "\n",
    "🔔 **Question**: What is the type of the output?"
   ]
  },
  {
   "cell_type": "code",
   "execution_count": null,
   "metadata": {
    "scrolled": true
   },
   "outputs": [],
   "source": [
    "df['lifeExp']"
   ]
  },
  {
   "cell_type": "markdown",
   "metadata": {},
   "source": [
    "A single column of pandas is a `Series` object. This can be treated as a list or other iterable, and allows for you to do calculations over it. \n",
    "\n",
    "We can then look at the [documentation](https://pandas.pydata.org/docs/reference/api/pandas.Series.html) to see the methods and attributes that are available for `Series` objects. If we want the median, we can use the `.median()` function."
   ]
  },
  {
   "cell_type": "code",
   "execution_count": null,
   "metadata": {
    "scrolled": true
   },
   "outputs": [],
   "source": [
    "df['lifeExp'].median()"
   ]
  },
  {
   "cell_type": "markdown",
   "metadata": {},
   "source": [
    "We can also do operations on a column. \n",
    "\n",
    "🔔 **Question**: What will happen in the code below? What is the type/shape of the output?"
   ]
  },
  {
   "cell_type": "code",
   "execution_count": null,
   "metadata": {
    "scrolled": true
   },
   "outputs": [],
   "source": [
    "# What are we doing here?\n",
    "df['gdpPercap'] * df['pop']"
   ]
  },
  {
   "cell_type": "markdown",
   "metadata": {},
   "source": [
    "This is called a **vectorized operation:** where the operation is applied to each element of the column. This allows you to efficiently apply operations to every item of the Series."
   ]
  },
  {
   "cell_type": "markdown",
   "metadata": {},
   "source": [
    "## 🥊 Challenge: Methods\n",
    "\n",
    "For each of the following methods, answer the following questions:\n",
    "1. Is the method operating on a `DataFrame` or a `Series` object?\n",
    "2. What type is the output for all these methods?"
   ]
  },
  {
   "cell_type": "code",
   "execution_count": null,
   "metadata": {},
   "outputs": [],
   "source": [
    "# Counting values\n",
    "df['lifeExp'].value_counts(ascending=True)"
   ]
  },
  {
   "cell_type": "code",
   "execution_count": null,
   "metadata": {},
   "outputs": [],
   "source": [
    "# Retrieve unique values\n",
    "df['continent'].unique()"
   ]
  },
  {
   "cell_type": "code",
   "execution_count": null,
   "metadata": {},
   "outputs": [],
   "source": [
    "# Detect missing values\n",
    "df.isnull()"
   ]
  },
  {
   "cell_type": "code",
   "execution_count": null,
   "metadata": {},
   "outputs": [],
   "source": [
    "# Remove missing values\n",
    "df.dropna()"
   ]
  },
  {
   "cell_type": "code",
   "execution_count": null,
   "metadata": {},
   "outputs": [],
   "source": [
    "# Operate on string values\n",
    "df['country'].str[:4]"
   ]
  },
  {
   "cell_type": "markdown",
   "metadata": {},
   "source": [
    "There are easily several hundred methods asociated with `DataFrames` and `Series`. It is impractical to try to memorize all of them. Often, it's more productive to develop (1) an understanding of what is possible with Python and (2) the ability to learn how to implement new functions by reading documentation and examples!"
   ]
  },
  {
   "cell_type": "markdown",
   "metadata": {},
   "source": [
    "## 🥊 Challenge: Categorical -> Numeric data\n",
    "\n",
    "Recall that in our dataset, we have a 'continent' column that includes the values 'Asia', 'Europe', 'Africa', 'Americas', and 'Oceania'. Let's say that for a model, we want to replace these string values with numbers that will serve as input to the model. There are several ways to do this. Look at the [documentation](https://pandas.pydata.org/docs/reference/api/pandas.Series.html) and see if you can `replace` the strings with a corresponding number."
   ]
  },
  {
   "cell_type": "code",
   "execution_count": null,
   "metadata": {
    "tags": []
   },
   "outputs": [],
   "source": [
    "#YOUR CODE HERE\n",
    "\n"
   ]
  },
  {
   "cell_type": "markdown",
   "metadata": {},
   "source": [
    "## Selecting Columns and Rows\n",
    "\n",
    "We can use `.loc[row, column]` to index columns and rows in the DataFrame. \n",
    "\n",
    "We can use a **Boolean mask** (discussed in the previous notebook) to represent which rows to select. A Boolean mask is an operation that takes as input a series and a condition, and outputs a series with `True` where that condition is met and `False` elsewhere.\n",
    "\n",
    "For example, let's say that we want to measure countries where the life expectancy is under 40.\n"
   ]
  },
  {
   "cell_type": "code",
   "execution_count": null,
   "metadata": {
    "scrolled": true
   },
   "outputs": [],
   "source": [
    "df['lifeExp'] < 40"
   ]
  },
  {
   "cell_type": "markdown",
   "metadata": {},
   "source": [
    "Then to get the subset of the entire `penguins` object, we can pass this Boolean mask to `.loc[]`:"
   ]
  },
  {
   "cell_type": "code",
   "execution_count": null,
   "metadata": {},
   "outputs": [],
   "source": [
    "df.loc[df['lifeExp'] < 40]"
   ]
  },
  {
   "cell_type": "markdown",
   "metadata": {},
   "source": [
    "Now, if you wish to subset this DataFrame for columns as well as rows, you can include a columns argument in `.loc[]` that includes a list of columns to subset. \n",
    "\n",
    "💡 **Tip**: Note the comma that's separating between the rows and columns we're subsetting!"
   ]
  },
  {
   "cell_type": "code",
   "execution_count": null,
   "metadata": {},
   "outputs": [],
   "source": [
    "# Subsetting rows and columns\n",
    "df.loc[df['lifeExp'] < 40, ['country','year','lifeExp']]"
   ]
  },
  {
   "cell_type": "markdown",
   "metadata": {},
   "source": [
    "## 🥊 Challenge: Subsetting a DataFrame\n",
    "\n",
    "1. Modify the `.loc[]` expression above to subset for GDP per capita under 800. Save it to the variable `low_gdp`.\n",
    "2. Calculate the mean life expectancy for this group (**Hint**: use `.mean()`)."
   ]
  },
  {
   "cell_type": "code",
   "execution_count": null,
   "metadata": {},
   "outputs": [],
   "source": [
    "# YOUR CODE HERE\n",
    "\n",
    "\n"
   ]
  },
  {
   "cell_type": "markdown",
   "metadata": {},
   "source": [
    "<a id=\"vis\"></a>\n",
    "# Visualizing DataFrames\n",
    "\n",
    "We often want to look at our data visually. Fortunately, `pandas` also offers some basic plotting functions that can be useful in exploring a data set. In this section, we will cover two basic types of plots: histograms and scatter plots. See the [documentation](https://pandas.pydata.org/docs/reference/api/pandas.DataFrame.plot.html) for further information on plotting and plot customization.\n",
    "\n",
    "### Histograms\n",
    "\n",
    "A histogram shows the distribution of a variable using binned values. We can call this using the syntax: `df[column].plot(kind='hist')`.\n",
    "\n",
    "💡 **Tip**: Use a histogram if you want to show distributions of continuous variables."
   ]
  },
  {
   "cell_type": "code",
   "execution_count": null,
   "metadata": {},
   "outputs": [],
   "source": [
    "print('Plot A: 5 Bins')\n",
    "fig = df['lifeExp'].plot(kind='hist', title='Histogram of life expectancy', bins=5)"
   ]
  },
  {
   "cell_type": "markdown",
   "metadata": {},
   "source": [
    "Note the `bins` keyword argument when calling the histogram. It changes the number of \"bins\" or \"buckets\" in the histogram. Each bin is plotted as a bar whose height corresponds to how many data points are in that bin.\n",
    "\n",
    "🔔 **Question**: Let's plot two more histograms with different amounts of bins. Which of the 3 plots would you pick, and why?"
   ]
  },
  {
   "cell_type": "code",
   "execution_count": null,
   "metadata": {},
   "outputs": [],
   "source": [
    "print('Plot B: 10 Bins')\n",
    "fig = df['lifeExp'].plot(kind='hist', title='Histogram of life expectancy', bins=10)"
   ]
  },
  {
   "cell_type": "code",
   "execution_count": null,
   "metadata": {},
   "outputs": [],
   "source": [
    "print('Plot C: 20 bins')\n",
    "df['lifeExp'].plot(kind='hist', title='Histogram of life expectancy', bins=20)"
   ]
  },
  {
   "cell_type": "markdown",
   "metadata": {},
   "source": [
    "### Bar Plots\n",
    "\n",
    "Bar plots show the relationship between a numeric and a categoric variable. Here, we use the \"country\"  (categorical) and \"lifeExp\" (numeric) columns.\n",
    "\n",
    "💡 **Tip**: Use a bar plot when you want to illustrate differences in frequencies of some category.\n",
    "\n",
    "Let's retrieve the 10 data points with the lowest life expectancy in our data using `.sort_values()`, and then plot those data points in a bar plot.\n"
   ]
  },
  {
   "cell_type": "code",
   "execution_count": null,
   "metadata": {},
   "outputs": [],
   "source": [
    "# Sort values based on low life expectancy, get top-10 \n",
    "low_lifeExp = df.sort_values('lifeExp',ascending=True)[:10]\n",
    "\n",
    "# Plot\n",
    "low_lifeExp.plot.bar(x = 'country', y = 'lifeExp', figsize = (6,4));\n"
   ]
  },
  {
   "cell_type": "markdown",
   "metadata": {},
   "source": [
    "### Scatter Plots\n",
    "\n",
    "Scatter plots visualize the relationship between different variables. We can create a scatter plot by specifying the columns to use for the `x` and `y` axes. Notice that instead of calling it on a single column of data, we are using `df.plot(kind='scatter')`.\n",
    "\n",
    "💡 **Tip**: Use scatter plots when you have two variables that pair well together."
   ]
  },
  {
   "cell_type": "code",
   "execution_count": null,
   "metadata": {},
   "outputs": [],
   "source": [
    "fig = df.plot(kind='scatter',\n",
    "              x='lifeExp',\n",
    "              y='gdpPercap',\n",
    "              title='Relationship between GDP per capita and life expectancy')"
   ]
  },
  {
   "cell_type": "markdown",
   "metadata": {},
   "source": [
    "🔔 **Question**: Do you notice any pattern in the data? What might be causing that pattern?"
   ]
  },
  {
   "cell_type": "markdown",
   "metadata": {
    "tags": []
   },
   "source": [
    "## Plotting with `matplotlib` and `seaborn`\n",
    "\n",
    "So far, we've built plots directly from Pandas DataFrames. On the back end, Pandas uses Matplotlib, a very popular visualization library in Python, in order to do this. But we can also use Matplotlib directly."
   ]
  },
  {
   "cell_type": "markdown",
   "metadata": {
    "tags": []
   },
   "source": [
    "### Creating a boxplot\n",
    "\n",
    "A boxplot (or \"box and whiskers\" plot) displays the distribution and skewness of numerical data by displaying the data quartiles (or percentiles) and averages. This includes the minimum, first quartile, median, third quartile, and maximum. A vertical line goes through the box at the median. The whiskers go from each quartile to the minimum or maximum.\n",
    "\n",
    "💡 **Tip**: Use a boxplot when you want to illustrate variation in a single float or integer, and to identify outliers."
   ]
  },
  {
   "cell_type": "code",
   "execution_count": null,
   "metadata": {
    "scrolled": true
   },
   "outputs": [],
   "source": [
    "import matplotlib.pyplot as plt\n",
    "\n",
    "df.boxplot(column=['lifeExp']);"
   ]
  },
  {
   "cell_type": "markdown",
   "metadata": {},
   "source": [
    "The led line above is the median value in the data; the bottom and top of the box are the first and third quartiles.\n",
    "\n",
    "Let's make boxplots of life expectancy **_by_** continent in the gapminder dataset."
   ]
  },
  {
   "cell_type": "code",
   "execution_count": null,
   "metadata": {
    "scrolled": true
   },
   "outputs": [],
   "source": [
    "# For each continent\n",
    "df.boxplot(column=['lifeExp'], \n",
    "            by = 'continent', \n",
    "            figsize = (5, 4)\n",
    "           )\n",
    "\n",
    "plt.title(\"\");"
   ]
  },
  {
   "cell_type": "markdown",
   "metadata": {},
   "source": [
    "Note the circles, which refer to outliers in the data."
   ]
  },
  {
   "cell_type": "markdown",
   "metadata": {},
   "source": [
    "## Using Seaborn\n",
    "\n",
    "Seaborn is a a library built on top of `matplotlib`. It integrates closely with Pandas data structures. It has three basic level graphing methods: `relplot()`, `distplot()` and `catplot()`, which each has a number of submethods which are basically shorthands for the main methods.\n",
    "\n",
    "<img src=\"https://seaborn.pydata.org/_images/function_overview_8_0.png\">"
   ]
  },
  {
   "cell_type": "markdown",
   "metadata": {},
   "source": [
    "Let's begin with another histogram that counts the amount of times something appears in each one column (the x axis). Seaborn allows allows us to create a more fancy graph. Here, we use an argument to color the data by season (`hue=\"continent\"`), and layer the different seasons on top of each other (`multiple=\"layer\"`)."
   ]
  },
  {
   "cell_type": "code",
   "execution_count": null,
   "metadata": {},
   "outputs": [],
   "source": [
    "import seaborn as sns \n",
    "\n",
    "sns.histplot(              \n",
    "    data=df,         \n",
    "    x='lifeExp',\n",
    "    hue='continent', \n",
    "    multiple='layer',\n",
    "    bins=20\n",
    ");"
   ]
  },
  {
   "cell_type": "markdown",
   "metadata": {},
   "source": [
    "## 🥊 Challenge: `relplot`\n",
    "\n",
    "Let's make a similar scatterplot to the one we made above, this time using Seaborn. \n",
    "\n",
    "1) Have a look at the [documentation](https://seaborn.pydata.org/generated/seaborn.relplot.html) to see how `relplot` works.\n",
    "2) Call `relplot`: it takes x and y strings for arguments, as well as a `kind` argument which should either be \"scatter\" or \"line\".\n",
    "3) Use life expectancy for X, and gdp per capita for Y. Use \"scatter\" for `kind`, and apply colors according to continent using the `hue` argument.\n",
    "\n",
    "💡 **Tip**: Have a look at the plots we created above to check the syntax."
   ]
  },
  {
   "cell_type": "code",
   "execution_count": null,
   "metadata": {},
   "outputs": [],
   "source": [
    "# YOUR CODE HERE\n",
    "\n",
    "\n",
    "\n",
    "\n"
   ]
  },
  {
   "cell_type": "markdown",
   "metadata": {},
   "source": [
    "Seaborn is a a library built on top of matplotlib and integrates closely with pandas data structures. It has three basic level graphing methods: `relplot()`, `distplot()` and `catplot()`, which each has a number of submethods which are basically shorthands for the main methods.\n",
    "\n",
    "<img src=\"https://seaborn.pydata.org/_images/function_overview_8_0.png\">\n"
   ]
  },
  {
   "cell_type": "code",
   "execution_count": null,
   "metadata": {},
   "outputs": [],
   "source": [
    "import seaborn as sns"
   ]
  },
  {
   "cell_type": "markdown",
   "metadata": {},
   "source": [
    "Let's begin with a histogram that counts the amount of times something appears in each one column (the x axis). Let's also colour by season (hue=), and layer the different seasons on top of each other by setting `multiple=\"layer\"`."
   ]
  },
  {
   "cell_type": "code",
   "execution_count": null,
   "metadata": {},
   "outputs": [],
   "source": [
    "sns.histplot(              \n",
    "    data=gap,         \n",
    "    x='lifeExp',\n",
    "    hue='continent', \n",
    "    multiple='layer',\n",
    "    bins=20\n",
    ");"
   ]
  },
  {
   "cell_type": "markdown",
   "metadata": {},
   "source": [
    "A kernel density estimate (KDE) plot is a method for visualizing the distribution of observations in a dataset, analagous to a histogram."
   ]
  },
  {
   "cell_type": "code",
   "execution_count": null,
   "metadata": {},
   "outputs": [],
   "source": [
    "sns.kdeplot(data=gap, x=\"lifeExp\", hue=\"year\");"
   ]
  },
  {
   "cell_type": "markdown",
   "metadata": {},
   "source": [
    "Let's make the same scatterplot we did above using seaborn. We use a `relplot`, which takes x and y strings for arguments, as well as a kind argument which should either be \"scatter\" or \"line\".\n",
    "We take into account two dimentions - the life expectancy and gdp per capita - while applying colours according to continent."
   ]
  },
  {
   "cell_type": "code",
   "execution_count": null,
   "metadata": {},
   "outputs": [],
   "source": [
    "sns.relplot (\n",
    "    data=gap,\n",
    "    kind='scatter',\n",
    "    x='lifeExp',\n",
    "    y='gdpPercap',\n",
    "    hue='continent'\n",
    ");"
   ]
  },
  {
   "cell_type": "markdown",
   "metadata": {},
   "source": [
    "Finally, if we want scatterplots for all continents separately, we can do that using [FacetGrid](https://seaborn.pydata.org/generated/seaborn.FacetGrid.html)."
   ]
  },
  {
   "cell_type": "code",
   "execution_count": null,
   "metadata": {},
   "outputs": [],
   "source": [
    "scatterplot_facet = sns.FacetGrid(gap, col = 'continent', \n",
    "                                  col_wrap = 3, height = 4, sharex = False)\n",
    "scatterplot_facet.map(plt.scatter, 'lifeExp', 'gdpPercap', marker = '.');"
   ]
  }
 ],
 "metadata": {
  "kernelspec": {
   "display_name": "Python 3 (ipykernel)",
   "language": "python",
   "name": "python3"
  },
  "language_info": {
   "codemirror_mode": {
    "name": "ipython",
    "version": 3
   },
   "file_extension": ".py",
   "mimetype": "text/x-python",
   "name": "python",
   "nbconvert_exporter": "python",
   "pygments_lexer": "ipython3",
   "version": "3.8.13"
  }
 },
 "nbformat": 4,
 "nbformat_minor": 4
}
