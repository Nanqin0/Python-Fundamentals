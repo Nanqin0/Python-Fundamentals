{
 "cells": [
  {
   "cell_type": "markdown",
   "metadata": {},
   "source": [
    "# Data Analysis and Visualization\n",
    "\n",
    "* * * \n",
    "\n",
    "### Icons Used In This Notebook\n",
    "🔔 **Question**: A quick question to help you understand what's going on.<br>\n",
    "🥊 **Challenge**: Interactive exercise. We'll work through these in the workshop!<br>\n",
    "💭 **Reflection**: Helping you think about programming.<br>\n",
    "⚠️ **Warning**: Heads-up about tricky stuff or common mistakes.<br>\n",
    "💡 **Tip**: How to do something a bit more efficiently or effectively.<br>\n",
    "🎬 **Demo**: Showing off something more advanced – so you know what Python can be used for!<br>\n",
    "\n",
    "### Learning Objectives\n",
    "1. [Write Your Own Functions](#write) \n",
    "2. [Exploring Data with Pandas](#expl)\n",
    "3. [Visualizing DataFrames](#vis)"
   ]
  },
  {
   "cell_type": "markdown",
   "metadata": {},
   "source": [
    "<a id='write'></a>\n",
    "\n",
    "# Write Your Own Functions\n",
    "\n",
    "Remember, functions are pieces of code that we expect to use over and over again.\n",
    "\n",
    "One of the most useful programming structures in Python is to write our own functions with a custom functionality that is specific to our goals."
   ]
  },
  {
   "cell_type": "markdown",
   "metadata": {},
   "source": [
    "## Basic Function Syntax\n",
    "\n",
    "Writing a function in Python is pretty easy! You need to know a few things:\n",
    "\n",
    "*   Functions begin with the keyword `def`.\n",
    "*   This keyword is followed by the function *name*.\n",
    "    *   The name must obey the same rules as variable names.\n",
    "*   The **arguments** or **parameters** are defined in parentheses as variable names.\n",
    "    *   Use empty parentheses if the function doesn't take any inputs.\n",
    "*   A colon indicates the end of the function *signature* (the first line).\n",
    "*   An indented block of code denotes the start of the *body*.\n",
    "*   The final line should be a `return` statement with the value(s) to be returned from the function.\n",
    "\n",
    "Let's take a look at a simple function:"
   ]
  },
  {
   "cell_type": "code",
   "execution_count": null,
   "metadata": {},
   "outputs": [],
   "source": [
    "def feet_to_meters(feet):\n",
    "    meters = feet * .304\n",
    "    return meters"
   ]
  },
  {
   "cell_type": "markdown",
   "metadata": {},
   "source": [
    "Notice how there is **no output** from running the block of code above. This is because defining a function does not run it. The function needs to be **called**, or run, with appropriate arguments to execute the code it contains. \n",
    "\n",
    "Let's run this function. We can save the output to a variable and print the result."
   ]
  },
  {
   "cell_type": "code",
   "execution_count": null,
   "metadata": {},
   "outputs": [],
   "source": [
    "meters = feet_to_meters(100)\n",
    "print(meters)"
   ]
  },
  {
   "cell_type": "markdown",
   "metadata": {},
   "source": [
    "## 💭 Reflection: Variables and \"Scope\"\n",
    "\n",
    "Note how we've used the name `meters` twice above: both within the function definition, and for the variable that takes the output of the function. What's going on here?\n",
    "\n",
    "Arguments and variables created within the function **only exist within the scope of the function!** So `meters` within the function definition is a *different variable* than `meters` which now holds `30.4`.\n",
    "\n",
    "In fancy words, the variable `meters` in the function definition only exists **within the scope of** that function definition. This is very important to remember!"
   ]
  },
  {
   "cell_type": "markdown",
   "metadata": {},
   "source": [
    "## 🥊 Challenge: My First Function\n",
    "\n",
    "Write a function that converts Celsius temperatures to Fahrenheit. The formula for this conversion is:\n",
    "\n",
    "$$F = 1.8 * C + 32$$\n",
    "\n",
    "You can name this function whatever you want. But it makes sense to name it something sensible!"
   ]
  },
  {
   "cell_type": "code",
   "execution_count": null,
   "metadata": {},
   "outputs": [],
   "source": [
    "def ___:\n",
    "    # YOUR CODE HERE\n",
    "    return ____"
   ]
  },
  {
   "cell_type": "markdown",
   "metadata": {},
   "source": [
    "## 🥊 Challenge: Make a Function\n",
    "\n",
    "Say you need to write a function that takes in a list of text data. We've defined a list for you here."
   ]
  },
  {
   "cell_type": "code",
   "execution_count": null,
   "metadata": {},
   "outputs": [],
   "source": [
    "sent_list = ['When I wake up, the other side of the bed is cold.', \n",
    "             'My fingers stretch out, seeking Prim’s warmth but finding only the rough canvas cover of the mattress.',\n",
    "             'She must have had bad dreams and climbed in with our mother.']"
   ]
  },
  {
   "cell_type": "markdown",
   "metadata": {},
   "source": [
    "Your function is supposed to loop through this list, and for each item, split the words on whitespace, lowercase all items in the list. The function must return all lowercased words in a new list. \n",
    "**Use the discussed strategies** to write your code:\n",
    "\n",
    "1. Use comments to indicate what your code is doing.\n",
    "2. Use short lines.\n",
    "3. Make use of Pythonic coding when splitting and lowercasing.\n",
    "4. Use the common naming conventions we define above.\n",
    "5. Plan ahead: write down your goals in comments before you write the code!\n",
    "\n",
    "💡 **Tip**: This function will require two (nested) for-loops!"
   ]
  },
  {
   "cell_type": "code",
   "execution_count": null,
   "metadata": {},
   "outputs": [],
   "source": [
    "# YOUR CODE HERE\n"
   ]
  },
  {
   "cell_type": "markdown",
   "metadata": {},
   "source": [
    "<a id=\"expl\"></a>\n",
    "\n",
    "# Exploring Data with Pandas\n",
    "\n",
    "We introduced `pandas` in Fundamentals I. It is the most common package used in data analysis, with a focus on data manipulation and processing. We will work some more with `pandas` here, and work towards visualizing our data."
   ]
  },
  {
   "cell_type": "code",
   "execution_count": null,
   "metadata": {},
   "outputs": [],
   "source": [
    "# Recall that pandas is frequently imported with the alias pd\n",
    "import pandas as pd\n",
    "import numpy as np"
   ]
  },
  {
   "cell_type": "markdown",
   "metadata": {},
   "source": [
    "We'll use data from the [California Health Interview Survey (CHIS)](https://healthpolicy.ucla.edu/chis/Pages/default.aspx), the nation's largest state health survey. \n",
    "\n",
    "The data has the following columns: \n",
    "\n",
    "- `number_sodas`: Number of times drank soda per week\n",
    "- `poverty_line`: Poverty Level as Times of 100% Federal Poverty Line (FPL)\n",
    "- `health`: General Health Assessment\n",
    "- `race_eth`: Self-Reported Race Ethnicity\n",
    "- `feel_safe`: Feeling Safe in the Neighborhood\n",
    "- `tenure`: Self-Reported Household Tenure\n",
    "- `earnings`: Earnings Last Month Before Taxes and Deductions\n",
    "- `hh_income`: Household’s Total Annual Income\n",
    "\n",
    "🔔 **Question**: How many rows are in the data set?"
   ]
  },
  {
   "cell_type": "code",
   "execution_count": null,
   "metadata": {},
   "outputs": [],
   "source": [
    "df = pd.read_csv('../../data/gapminder-FiveYearData.csv')\n",
    "df.head()"
   ]
  },
  {
   "cell_type": "markdown",
   "metadata": {},
   "source": [
    "## DataFrame Methods\n",
    "\n",
    "Just like other objects, data frames have a series of methods – functions that work on them specifically.\n",
    "\n",
    "There are many methods for summarizing data frames (which often are assigned as `df`). For example [`df.describe()`](https://pandas.pydata.org/docs/reference/api/pandas.DataFrame.describe.html) will give some summary statistics for a column. Let's look at how `.describe()` works on our `DataFrame`.\n",
    "\n",
    "🔔 **Question**: Why are only some of the columns in the `DataFrame` visible in the output below?"
   ]
  },
  {
   "cell_type": "code",
   "execution_count": null,
   "metadata": {
    "scrolled": true
   },
   "outputs": [],
   "source": [
    "df.describe()"
   ]
  },
  {
   "cell_type": "markdown",
   "metadata": {},
   "source": [
    "This function is good for summarizing numerical data in a dataset. However, sometimes this might not be enough. For example, what if we wanted the median of life expectancy?\n",
    "\n",
    "First, let's select just one column to operate on. We can select an individual column with bracket notation. This is analogous to indexing a list.\n",
    "\n",
    "🔔 **Question**: What is the type of the output?"
   ]
  },
  {
   "cell_type": "code",
   "execution_count": null,
   "metadata": {
    "scrolled": true
   },
   "outputs": [],
   "source": [
    "df['lifeExp']"
   ]
  },
  {
   "cell_type": "markdown",
   "metadata": {},
   "source": [
    "A single column of pandas is a `Series` object. This can be treated as a list or other iterable, and allows for you to do calculations over it. \n",
    "\n",
    "We can then look at the [documentation](https://pandas.pydata.org/docs/reference/api/pandas.Series.html) to see the methods and attributes that are available for `Series` objects. If we want the median, we can use the `.median()` function."
   ]
  },
  {
   "cell_type": "code",
   "execution_count": null,
   "metadata": {
    "scrolled": true
   },
   "outputs": [],
   "source": [
    "df['lifeExp'].median()"
   ]
  },
  {
   "cell_type": "markdown",
   "metadata": {},
   "source": [
    "We can also do operations on a column. \n",
    "\n",
    "🔔 **Question**: What will happen in the code below? What is the type/shape of the output?"
   ]
  },
  {
   "cell_type": "code",
   "execution_count": null,
   "metadata": {
    "scrolled": true
   },
   "outputs": [],
   "source": [
    "# What are we doing here?\n",
    "df['gdpPercap'] * df['pop']"
   ]
  },
  {
   "cell_type": "markdown",
   "metadata": {},
   "source": [
    "This is called a **vectorized operation:** where the operation is applied to each element of the column. This allows you to efficiently apply operations to every item of the `Series`."
   ]
  },
  {
   "cell_type": "markdown",
   "metadata": {},
   "source": [
    "## 🥊 Challenge: Methods\n",
    "\n",
    "For each of the following methods, what type is the output?"
   ]
  },
  {
   "cell_type": "code",
   "execution_count": null,
   "metadata": {},
   "outputs": [],
   "source": [
    "# Counting values\n",
    "df['lifeExp'].value_counts(ascending=True)"
   ]
  },
  {
   "cell_type": "code",
   "execution_count": null,
   "metadata": {},
   "outputs": [],
   "source": [
    "# Detect missing values\n",
    "df.isnull()"
   ]
  },
  {
   "cell_type": "code",
   "execution_count": null,
   "metadata": {},
   "outputs": [],
   "source": [
    "# Remove missing values\n",
    "df.dropna()"
   ]
  },
  {
   "cell_type": "code",
   "execution_count": null,
   "metadata": {},
   "outputs": [],
   "source": [
    "# Operate on string values\n",
    "df['country'].str[:4]"
   ]
  },
  {
   "cell_type": "markdown",
   "metadata": {},
   "source": [
    "💡 **Tip**: There are hundreds of methods associated with `DataFrames` and `Series`. Don't memorize all of them. Instead, get used to new functions by reading documentation and examples!"
   ]
  },
  {
   "cell_type": "markdown",
   "metadata": {},
   "source": [
    "## 🥊 Challenge: Categorical to Numeric data\n",
    "\n",
    "Recall that in our dataset, we have a 'continent' column that includes the values 'Asia', 'Europe', 'Africa', 'Americas', and 'Oceania'. Let's say that for a model, we want to replace these string values with numbers that will serve as input to the model. There are several ways to do this. Look at the [documentation](https://pandas.pydata.org/docs/reference/api/pandas.Series.html) and see if you can `replace` the strings with a corresponding number."
   ]
  },
  {
   "cell_type": "code",
   "execution_count": null,
   "metadata": {
    "tags": []
   },
   "outputs": [],
   "source": [
    "# YOUR CODE HERE\n"
   ]
  },
  {
   "cell_type": "markdown",
   "metadata": {},
   "source": [
    "<a id=\"vis\"></a>\n",
    "# Visualizing DataFrames\n",
    "\n",
    "We often want to look at our data visually. Fortunately, `pandas` also offers some basic plotting functions that can be useful in exploring a data set. In this section, we will cover two basic types of plots: histograms and scatter plots. See the [documentation](https://pandas.pydata.org/docs/reference/api/pandas.DataFrame.plot.html) for further information on plotting and plot customization.\n",
    "\n",
    "### Histograms\n",
    "\n",
    "A histogram shows the distribution of a variable using binned values. We can call this using the syntax: `df[column].plot(kind='hist')`.\n",
    "\n",
    "💡 **Tip**: Use a histogram if you want to show distributions of continuous variables."
   ]
  },
  {
   "cell_type": "code",
   "execution_count": null,
   "metadata": {},
   "outputs": [],
   "source": [
    "print('Plot A: 5 Bins')\n",
    "fig = df['lifeExp'].plot(kind='hist', title='Histogram of life expectancy', bins=5)"
   ]
  },
  {
   "cell_type": "markdown",
   "metadata": {},
   "source": [
    "Note the `bins` keyword argument when calling the histogram. It changes the number of \"bins\" or \"buckets\" in the histogram. Each bin is plotted as a bar whose height corresponds to how many data points are in that bin.\n",
    "\n",
    "🔔 **Question**: Let's plot two more histograms with different amounts of bins. Which of the 3 plots would you pick, and why?"
   ]
  },
  {
   "cell_type": "code",
   "execution_count": null,
   "metadata": {},
   "outputs": [],
   "source": [
    "print('Plot B: 10 Bins')\n",
    "fig = df['lifeExp'].plot(kind='hist', title='Histogram of life expectancy', bins=10)"
   ]
  },
  {
   "cell_type": "code",
   "execution_count": null,
   "metadata": {},
   "outputs": [],
   "source": [
    "print('Plot C: 20 bins')\n",
    "df['lifeExp'].plot(kind='hist', title='Histogram of life expectancy', bins=20)"
   ]
  },
  {
   "cell_type": "markdown",
   "metadata": {},
   "source": [
    "### Bar Plots\n",
    "\n",
    "Bar plots show the relationship between a numeric and a categoric variable. Here, we use the \"country\"  (categorical) and \"lifeExp\" (numeric) columns.\n",
    "\n",
    "💡 **Tip**: Use a bar plot when you want to illustrate differences in frequencies of some category.\n",
    "\n",
    "Let's retrieve the 10 data points with the lowest life expectancy in our data using `.sort_values()`, and then plot those data points in a bar plot.\n"
   ]
  },
  {
   "cell_type": "code",
   "execution_count": null,
   "metadata": {},
   "outputs": [],
   "source": [
    "# Sort values based on low life expectancy, get top 10\n",
    "low_lifeExp = df.sort_values('lifeExp', ascending=True)[:10]\n",
    "\n",
    "# Visualize with bar plot\n",
    "low_lifeExp.plot.bar(x='country', y='lifeExp', figsize=(6,4));"
   ]
  },
  {
   "cell_type": "markdown",
   "metadata": {},
   "source": [
    "### Scatter Plots\n",
    "\n",
    "Scatter plots visualize the relationship between different variables. We can create a scatter plot by specifying the columns to use for the `x` and `y` axes. Notice that instead of calling it on a single column of data, we are using `df.plot(kind='scatter')`.\n",
    "\n",
    "💡 **Tip**: Use scatter plots when you have two variables that pair well together."
   ]
  },
  {
   "cell_type": "code",
   "execution_count": null,
   "metadata": {},
   "outputs": [],
   "source": [
    "fig = df.plot(kind='scatter',\n",
    "              x='lifeExp',\n",
    "              y='gdpPercap',\n",
    "              title='Relationship between GDP per capita and life expectancy')"
   ]
  },
  {
   "cell_type": "markdown",
   "metadata": {},
   "source": [
    "🔔 **Question**: Do you notice any pattern in the data? What might be causing that pattern?"
   ]
  }
 ],
 "metadata": {
  "kernelspec": {
   "display_name": "Python 3 (ipykernel)",
   "language": "python",
   "name": "python3"
  },
  "language_info": {
   "codemirror_mode": {
    "name": "ipython",
    "version": 3
   },
   "file_extension": ".py",
   "mimetype": "text/x-python",
   "name": "python",
   "nbconvert_exporter": "python",
   "pygments_lexer": "ipython3",
   "version": "3.8.13"
  }
 },
 "nbformat": 4,
 "nbformat_minor": 4
}
