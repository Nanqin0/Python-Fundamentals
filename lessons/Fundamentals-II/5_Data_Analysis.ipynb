{
 "cells": [
  {
   "cell_type": "markdown",
   "metadata": {},
   "source": [
    "# Data Analysis and Visualization\n",
    "\n",
    "* * * \n",
    "\n",
    "### Icons used in this notebook\n",
    "🔔 **Question**: A quick question to help you understand what's going on.<br>\n",
    "🥊 **Challenge**: Interactive excersise. We'll work through these in the workshop!<br>\n",
    "💭 **Reflection**: Helping you think about programming.<br>\n",
    "⚠️ **Warning**: Heads-up about tricky stuff or common mistakes.<br>\n",
    "💡 **Tip**: How to do something a bit more efficiently or effectively.<br>\n",
    "🎬 **Demo**: Showing off something more advanced – so you know what Python can be used for!<br>\n",
    "\n",
    "### Learning Objectives\n",
    "1. [Write your own Functions](#write) \n",
    "2. [Coding Strategies](#strat)\n",
    "3. [Exploring Data with Pandas](#pandas)\n",
    "4. [Visualizing DataFrames](#vis)"
   ]
  },
  {
   "cell_type": "markdown",
   "metadata": {},
   "source": [
    "<a id='write'></a>\n",
    "\n",
    "# Write your own Functions\n",
    "\n",
    "Remember, functions are pieces of code that we expect to use over and over again.\n",
    "\n",
    "One of the most useful programming structures in Python is to write our own functions with a custom functionality that is specific to our goals."
   ]
  },
  {
   "cell_type": "markdown",
   "metadata": {},
   "source": [
    "## Basic Function Syntax\n",
    "\n",
    "Writing a function in Python is pretty easy! You need to know a few things:\n",
    "\n",
    "*   Functions begin with the keyword `def`.\n",
    "*   This keyword is followed by the function *name*.\n",
    "    *   The name must obey the same rules as variable names.\n",
    "*   The **arguments** or **parameters** are defined in parentheses as variable names.\n",
    "    *   Use empty parentheses if the function doesn't take any inputs.\n",
    "*   A colon indicates the end of the function *signature* (the first line).\n",
    "*   An indented block of code denotes the start of the *body*.\n",
    "*   The final line should be a `return` statement with the value(s) to be returned from the function.\n",
    "\n",
    "Let's take a look at a simple function:"
   ]
  },
  {
   "cell_type": "code",
   "execution_count": null,
   "metadata": {},
   "outputs": [],
   "source": [
    "def feet_to_meters(feet):\n",
    "    meters = feet * .304\n",
    "    return(meters)"
   ]
  },
  {
   "cell_type": "markdown",
   "metadata": {},
   "source": [
    "Notice how there is **no output** from running the block of code above. This is because defining a function does not run it. The function needs to be **called**, or run, with appropriate arguments to execute the code it contains. \n",
    "\n",
    "Let's run this function. We can save the output to a variable and print the result."
   ]
  },
  {
   "cell_type": "code",
   "execution_count": null,
   "metadata": {},
   "outputs": [],
   "source": [
    "meters = feet_to_meters(100)\n",
    "print(meters)"
   ]
  },
  {
   "cell_type": "markdown",
   "metadata": {},
   "source": [
    "## 💭 Reflection: Variables and \"Scope\"\n",
    "\n",
    "Note how we've used the name `meters` twice above: both within the function definition, and for the variable that takes the output of the function. What's going on here?\n",
    "\n",
    "Arguments and variables created within the function **only exist within the scope of the function!** So `meters` within the function definition is a *different variable* than `meters` which now holds `30.4`.\n",
    "\n",
    "In fancy words, the variable `meters` in the function definition only exists **within the scope of** that function definition. This is very important to remember!"
   ]
  },
  {
   "cell_type": "markdown",
   "metadata": {},
   "source": [
    "## 🥊 Challenge: My First Function\n",
    "\n",
    "Write a function that converts Celsius temperatures to Fahrenheit. The formula for this conversion is:\n",
    "\n",
    "$$F = 1.8 * C + 32$$\n",
    "\n",
    "You can name this function whatever you want. But it makes sense to name it something sensible!"
   ]
  },
  {
   "cell_type": "code",
   "execution_count": null,
   "metadata": {},
   "outputs": [],
   "source": [
    "def ___:\n",
    "    # write your code here\n",
    "    return(____)"
   ]
  },
  {
   "cell_type": "markdown",
   "metadata": {},
   "source": [
    "## Principles of Writing Your Own Functions\n",
    "\n",
    "Function writing is one of the most important skills you can develop as a programmer. However, there is also a lot that can go wrong in the function writing process, leading to time-consuming corrections. Here are some guidelines that can help minimize errors and make the process less painful:\n",
    "\n",
    "1. **Plan**\n",
    "    1. What is the overall goal of the function? Is there a function that exists already that does the same thing? \n",
    "    2. What is going to be the output of the function? (what data type, how many items)?\n",
    "    3. What arguments will you need? What pieces of the function do you need to control?\n",
    "    4. What are the general steps of the program? This can be written in bullet points or \"pseudocode\".\n",
    "2. **Write**\n",
    "    1. Start by writing the code without the function wrapper.\n",
    "    2. Start small. Write small self-contained blocks of code and put the pieces together. You can also consider sub-functions if it is a particularly complex issue.\n",
    "    3. Test each part of the function as it is added. Track the input of the function and how it changes at each step. \n",
    "    4. Wrap the code in the function syntax.\n",
    "3. **Test**\n",
    "    1. Take the function and test *several* cases.\n",
    "    2. Before running test cases, form an expectation of the result. \n",
    "    3. Test the function. Pay attention to both errors and strange results. Make adjustments to account for new cases.\n",
    "    4. Integrate the function with the rest of the code. Are the input arguments the right type? Does the output flow into the rest of the code?"
   ]
  },
  {
   "cell_type": "markdown",
   "metadata": {},
   "source": [
    "Let's go through an example of the function development process.\n",
    "\n",
    "Let's say we have a state name (e.g. California) and we want to generate the postal abbreviation for that state (California --> CA).\n",
    "\n",
    "1. **Plan**\n",
    "    1. Generate two-letter abbreviation for a state\n",
    "    2. Input: string of state name\n",
    "    3. Output: first two letters of string \n",
    "    4. The pseudocode might look like this: \n",
    "        ``` \n",
    "        function\n",
    "            select first two characters in the string\n",
    "            make upper case\n",
    "            return\n",
    "        ```\n",
    "\n",
    "2. **Write**\n",
    "\n",
    "Let's start with our example string `California` and select the first two characters in the string using string indexing:"
   ]
  },
  {
   "cell_type": "code",
   "execution_count": null,
   "metadata": {},
   "outputs": [],
   "source": [
    "ex_state = 'California'\n",
    "#select first two\n",
    "first_two = ex_state[:2]"
   ]
  },
  {
   "cell_type": "markdown",
   "metadata": {},
   "source": [
    "Now we need to make the letters uppercase (And check the output). "
   ]
  },
  {
   "cell_type": "code",
   "execution_count": null,
   "metadata": {},
   "outputs": [],
   "source": [
    "first_two.upper()"
   ]
  },
  {
   "cell_type": "markdown",
   "metadata": {},
   "source": [
    "Now that we've done the individual steps, we can put it together in the function syntax."
   ]
  },
  {
   "cell_type": "code",
   "execution_count": null,
   "metadata": {},
   "outputs": [],
   "source": [
    "def get_state_abbreviation(state):\n",
    "    first_two = state[:2]\n",
    "    abbr = first_two.upper()"
   ]
  },
  {
   "cell_type": "markdown",
   "metadata": {},
   "source": [
    "Now let's test this out:"
   ]
  },
  {
   "cell_type": "code",
   "execution_count": null,
   "metadata": {},
   "outputs": [],
   "source": [
    "print(get_state_abbreviation('California'))"
   ]
  },
  {
   "cell_type": "markdown",
   "metadata": {},
   "source": [
    "🔔 **Question:** Why is the function returning `None`? What do we need to add?"
   ]
  },
  {
   "cell_type": "markdown",
   "metadata": {},
   "source": [
    "## Function Arguments\n",
    "\n",
    "Function **arguments** or **parameters** are specified when defining a function in the parentheses, separated by commas. \n",
    "\n",
    "These arguments become variables when the function is executed. The variables are assigned the values passed to the function. We do operations based on the arguments, and return the result.\n",
    "\n",
    "Let's look at an example function in which we're performing division.\n",
    "\n",
    "**Question:** What is being divided by what in the following lines of code?"
   ]
  },
  {
   "cell_type": "code",
   "execution_count": null,
   "metadata": {},
   "outputs": [],
   "source": [
    "def divide(x, y):\n",
    "    return(x / y)\n",
    "\n",
    "print(divide(4, 6))\n",
    "print(divide(6, 4)) "
   ]
  },
  {
   "cell_type": "markdown",
   "metadata": {},
   "source": [
    "The order of the arguments matter; we got different results because each argument had a different role (numerator and denominator).\n",
    "\n",
    "You can also pass in **keyword arguments**, where each argument is assigned using a name."
   ]
  },
  {
   "cell_type": "code",
   "execution_count": null,
   "metadata": {},
   "outputs": [],
   "source": [
    "print(divide(x=4, y=6))\n",
    "print(divide(y=6, x=4))"
   ]
  },
  {
   "cell_type": "markdown",
   "metadata": {},
   "source": [
    "Are the arguments named appropriately? What does x and y stand for? What could be more clear?\n",
    "\n",
    "Generally, it's good practice to both use well-named arguments and use them in the same order. This is easier to read."
   ]
  },
  {
   "cell_type": "markdown",
   "metadata": {},
   "source": [
    "## Default Arguments\n",
    "\n",
    "We can also specify **default arguments** in functions. When we provide a default argument, the function will use that value when the user does not pass in a value. Default arguments are specified in the function signature.\n",
    "\n",
    "An expanded version of the `divide()` function is provided below. What is the additional parameter doing? What will be the output of `divide(24,5)`?"
   ]
  },
  {
   "cell_type": "code",
   "execution_count": null,
   "metadata": {},
   "outputs": [],
   "source": [
    "# y has default value equal to 10\n",
    "def divide(x, y, z = True):\n",
    "    if z:\n",
    "        return(round(x / y))\n",
    "    else:\n",
    "        return(x/y)"
   ]
  },
  {
   "cell_type": "markdown",
   "metadata": {},
   "source": [
    "We can use default arguments when there are arguments that we will only want to change some of the time. It's good practice to make the default of the argument the item that you will want to use most often.\n",
    "\n",
    "🔔 **Question:** What do you think the best default for the `z` argument above would be? What might be a better name for that argument?"
   ]
  },
  {
   "cell_type": "markdown",
   "metadata": {},
   "source": [
    "<a id='strat'></a>\n",
    "\n",
    "# Coding Strategies\n",
    "\n",
    "Before we move on, let's discuss five best practices for coding. This is especially useful when you are building your own functions."
   ]
  },
  {
   "cell_type": "markdown",
   "metadata": {},
   "source": [
    "### 💡 1: Use comments\n",
    "\n",
    "To help explain your code, you can include **comments** to explain what is going on. Use comments to explain *why* you are using blocks of code and *how* code works. \n",
    "\n",
    "🔔 **Question**: Some code is commented below. What is helpful about the comments? What could be improved?"
   ]
  },
  {
   "cell_type": "code",
   "execution_count": null,
   "metadata": {},
   "outputs": [],
   "source": [
    "import numpy as np\n",
    "\n",
    "#list of proportions\n",
    "proportion_list = [.96821,.78998,.86898,.98981298]\n",
    "\n",
    "for prop in proportion_list:\n",
    "    \n",
    "    percent = prop * 100 #multiply by 100\n",
    "    percent = round(percent,1)\n",
    "    print(percent,'%')\n",
    "\n"
   ]
  },
  {
   "cell_type": "markdown",
   "metadata": {},
   "source": [
    "### 💡 2: Keep lines short\n",
    "Another principle of good Python coding is to keep lines short enough that you don't need to scroll. This is true of both code and comments!\n",
    "\n",
    "You can use **implied line continuation** inside parentheses, most commonly by including line breaks at commas."
   ]
  },
  {
   "cell_type": "code",
   "execution_count": null,
   "metadata": {},
   "outputs": [],
   "source": [
    "a_long_list = ['bannana','apple','pineapple',\n",
    "               'mango','strawberry','guava',\n",
    "               'lychee','peach']"
   ]
  },
  {
   "cell_type": "markdown",
   "metadata": {},
   "source": [
    "### 💡 3: Pythonic Coding\n",
    "\n",
    "**Pythonic coding** means taking advantage of the design of Python to make more readable code. \n",
    "\n",
    "🔔 **Question**: The following two approaches are equivalent. What is happening? Which do you find easier to read?"
   ]
  },
  {
   "cell_type": "code",
   "execution_count": null,
   "metadata": {},
   "outputs": [],
   "source": [
    "s = 'sample.thing'\n",
    "\n",
    "# First approach\n",
    "slist = s.split('.')\n",
    "first_word = slist[0]\n",
    "first_letter = first_word[0]\n",
    "first_upper = first_letter.upper()\n",
    "\n",
    "# Second approach\n",
    "second_upper = s.split('.')[0][0].upper()\n",
    "\n",
    "# Check that they are identical \n",
    "#print(first_upper, second_upper)"
   ]
  },
  {
   "cell_type": "markdown",
   "metadata": {},
   "source": [
    "Generally, the second approach is preferred, when possible. \n",
    "\n",
    "- It uses less lines of code.\n",
    "- It avoids needing to track and remember many variable names.\n",
    "- It is highly readable if you are familiar with Python.\n",
    "\n",
    "However, disadvantages of the second approach are:\n",
    "\n",
    "- It can be harder to follow the steps.\n",
    "- It's harder to debug.\n",
    "\n",
    "One approach is to write out chunks of code the first way when debugging, then condensing them into fewer lines once the debugging is complete."
   ]
  },
  {
   "cell_type": "markdown",
   "metadata": {},
   "source": [
    "### 💡 4: Use Naming Conventions\n",
    "\n",
    "\"The best programmer is the one who can come up with the best names\"\n",
    "\n",
    "* Good names replace comments and make code self-documenting.\n",
    "* variables, functions, files, etc. should consist of complete words. Try to avoid abbreviations.\n",
    "* Use this principle in your coding: frequent -> short, infrequent -> long."
   ]
  },
  {
   "cell_type": "code",
   "execution_count": null,
   "metadata": {},
   "outputs": [],
   "source": [
    "# less ideal\n",
    "a = 1\n",
    "a = 'a string'\n",
    "def a():\n",
    "    pass  # Do something\n",
    "\n",
    "# more ideal\n",
    "count = 1\n",
    "msg = 'a string'\n",
    "def func():\n",
    "    pass  # Do something"
   ]
  },
  {
   "cell_type": "markdown",
   "metadata": {},
   "source": [
    "Even without comments, good names give a good idea of what is going on in your code!"
   ]
  },
  {
   "cell_type": "markdown",
   "metadata": {},
   "source": [
    "Here are some more style guidelines:\n",
    "\n",
    "* joined_lower for functions, methods, attributes.\n",
    "* joined_lower or ALL_CAPS for constants.\n",
    "* StudlyCaps for classes.\n",
    "* camelCase only to conform to pre-existing conventions.\n",
    "\n",
    "Most often you will use the `joined_lower` format for your variables."
   ]
  },
  {
   "cell_type": "markdown",
   "metadata": {},
   "source": [
    "### 💡 5: Plan ahead\n",
    "Planning ahead can help mitigate time spent dealing with bugs and errors in code. General steps for defensive coding are:\n",
    "\n",
    "1. State the goals of your code as clearly as possible.\n",
    "2. Plan out the general logic of steps needed to achieve the goal.\n",
    "3. Translate the steps into code:\n",
    "    1. Build up steps piece by piece.\n",
    "    2. Test frequently to make sure code is working as expected and handle bugs as quickly as possible.\n",
    "4. Check the output."
   ]
  },
  {
   "cell_type": "markdown",
   "metadata": {},
   "source": [
    "## 🥊 Challenge: Make a Function\n",
    "\n",
    "Say you need to write a function that takes in a list of textual data. We've defined a list for you here."
   ]
  },
  {
   "cell_type": "code",
   "execution_count": null,
   "metadata": {},
   "outputs": [],
   "source": [
    "sent_list = ['When I wake up, the other side of the bed is cold.', \n",
    "             'My fingers stretch out, seeking Prim’s warmth but finding only the rough canvas cover of the mattress.',\n",
    "             'She must have had bad dreams and climbed in with our mother.']"
   ]
  },
  {
   "cell_type": "markdown",
   "metadata": {},
   "source": [
    "Your function is supposed to loop through this list, and for each item, split the words on whitespace, lowercase all items in the list. The function must return all lowercased words in a new list. \n",
    "**Use the discussed strategies** to write your code:\n",
    "\n",
    "1. Use comments to indicate what your code is doing.\n",
    "2. Use short lines.\n",
    "3. Make use of Pythonic coding when splitting and lowercasing.\n",
    "4. Use the common naming conventions we define above.\n",
    "5. Plan ahead: write down your goals in comments before you write the code!\n",
    "\n",
    "💡 **Tip**: This function will require two (nested) for-loops!"
   ]
  },
  {
   "cell_type": "code",
   "execution_count": null,
   "metadata": {},
   "outputs": [],
   "source": [
    "# YOUR CODE HERE\n"
   ]
  },
  {
   "cell_type": "markdown",
   "metadata": {},
   "source": [
    "<a id=\"pandas\"></a>\n",
    "# Exploring Data with Pandas\n",
    "\n",
    "We introduced `pandas` in Fundamentals I. It is the most common package used in data analysis, with a focus on data manipulation and processing. We will work some more with `pandas` here, and work towards visualizing our data."
   ]
  },
  {
   "cell_type": "code",
   "execution_count": null,
   "metadata": {},
   "outputs": [],
   "source": [
    "# recall that pandas is frequently imported with the alias pd\n",
    "import pandas as pd\n",
    "import numpy as np"
   ]
  },
  {
   "cell_type": "markdown",
   "metadata": {},
   "source": [
    "We'll use data from the [California Health Interview Survey (CHIS)](https://healthpolicy.ucla.edu/chis/Pages/default.aspx), the nation's largest state health survey. \n",
    "\n",
    "The data has the following columns: \n",
    "\n",
    "- number_sodas: Number of times drank soda per week\n",
    "- poverty_line: Poverty Level as Times of 100% Federal Poverty Line (FPL)\n",
    "- health: General Health Assessment\n",
    "- race_eth: Self-Reported Race Ethnicity\n",
    "- feel_safe: Feeling Safe in the Neighborhood\n",
    "- tenure: Self-Reported Household Tenure\n",
    "- earnings: Earnings Last Month Before Taxes and Deductions\n",
    "- hh_income: Household’s Total Annual Income\n",
    "\n",
    "🔔 **Question**: How many rows are in the data set?"
   ]
  },
  {
   "cell_type": "code",
   "execution_count": null,
   "metadata": {},
   "outputs": [],
   "source": [
    "df = pd.read_csv('../../data/gapminder-FiveYearData.csv')\n",
    "df.head()"
   ]
  },
  {
   "cell_type": "markdown",
   "metadata": {},
   "source": [
    "## DataFrame Methods\n",
    "\n",
    "Just like other objects, `DataFrames` have a series of methods that are associated with them. There are many methods for summarizing `pd.DataFrames`. For example [`df.describe()`](https://pandas.pydata.org/docs/reference/api/pandas.DataFrame.describe.html) will give some summary statistics for a column. Let's look at how `.describe()` works on the `penguins` DataFrame.\n",
    "\n",
    "\n",
    "🔔 **Question**: Why are only some of the columns in the DataFrame visible in the output below?"
   ]
  },
  {
   "cell_type": "code",
   "execution_count": null,
   "metadata": {
    "scrolled": true
   },
   "outputs": [],
   "source": [
    "df.describe()"
   ]
  },
  {
   "cell_type": "markdown",
   "metadata": {},
   "source": [
    "This function is good for summarizing numerical data in a dataset. However, sometimes this might not be enough. For example, what if we wanted the median of the penguin mass rather than the mean? \n",
    "\n",
    "First, let's select just one column to operate on. We can select an individual column with bracket notation. This is analogous to indexing a list.\n",
    "\n",
    "🔔 **Question**: What is the type of the output?"
   ]
  },
  {
   "cell_type": "code",
   "execution_count": null,
   "metadata": {
    "scrolled": true
   },
   "outputs": [],
   "source": [
    "df['lifeExp']"
   ]
  },
  {
   "cell_type": "markdown",
   "metadata": {},
   "source": [
    "A single column of pandas is a `Series` object. This can be treated as a list or other iterable, and allows for you to do calculations over it. \n",
    "\n",
    "We can then look at the [documentation](https://pandas.pydata.org/docs/reference/api/pandas.Series.html) to see the methods and attributes that are available for `Series` objects. If we want the median, we can use the `.median()` function."
   ]
  },
  {
   "cell_type": "code",
   "execution_count": null,
   "metadata": {
    "scrolled": true
   },
   "outputs": [],
   "source": [
    "df['lifeExp'].median()"
   ]
  },
  {
   "cell_type": "markdown",
   "metadata": {},
   "source": [
    "We can also do operations on a column. \n",
    "\n",
    "🔔 **Question**: What will happen in the code below? What is the type/shape of the output?"
   ]
  },
  {
   "cell_type": "code",
   "execution_count": null,
   "metadata": {
    "scrolled": true
   },
   "outputs": [],
   "source": [
    "# What are we doing here?\n",
    "df['gdpPercap'] * df['pop']"
   ]
  },
  {
   "cell_type": "markdown",
   "metadata": {},
   "source": [
    "This is called a **vectorized operation:** where the operation is applied to each element of the column. This allows you to efficiently apply operations to every item of the Series."
   ]
  },
  {
   "cell_type": "markdown",
   "metadata": {},
   "source": [
    "## 🥊 Challenge: Methods\n",
    "\n",
    "For each of the following methods, what type is the output?"
   ]
  },
  {
   "cell_type": "code",
   "execution_count": null,
   "metadata": {},
   "outputs": [],
   "source": [
    "# Counting values\n",
    "df['lifeExp'].value_counts(ascending=True)"
   ]
  },
  {
   "cell_type": "code",
   "execution_count": null,
   "metadata": {},
   "outputs": [],
   "source": [
    "# Detect missing values\n",
    "df.isnull()"
   ]
  },
  {
   "cell_type": "code",
   "execution_count": null,
   "metadata": {},
   "outputs": [],
   "source": [
    "# Remove missing values\n",
    "df.dropna()"
   ]
  },
  {
   "cell_type": "code",
   "execution_count": null,
   "metadata": {},
   "outputs": [],
   "source": [
    "# Operate on string values\n",
    "df['country'].str[:4]"
   ]
  },
  {
   "cell_type": "markdown",
   "metadata": {},
   "source": [
    "There are easily several hundred methods asociated with `DataFrames` and `Series`. It is impractical to try to memorize all of them. Often, it's more productive to develop (1) an understanding of what is possible with Python and (2) the ability to learn how to implement new functions by reading documentation and examples!"
   ]
  },
  {
   "cell_type": "markdown",
   "metadata": {},
   "source": [
    "## 🥊 Challenge: Categorical -> Numeric data\n",
    "\n",
    "Recall that in our dataset, we have a 'continent' column that includes the values 'Asia', 'Europe', 'Africa', 'Americas', and 'Oceania'. Let's say that for a model, we want to replace these string values with numbers that will serve as input to the model. There are several ways to do this. Look at the [documentation](https://pandas.pydata.org/docs/reference/api/pandas.Series.html) and see if you can `replace` the strings with a corresponding number."
   ]
  },
  {
   "cell_type": "code",
   "execution_count": null,
   "metadata": {
    "tags": []
   },
   "outputs": [],
   "source": [
    "#YOUR CODE HERE\n",
    "\n"
   ]
  },
  {
   "cell_type": "markdown",
   "metadata": {},
   "source": [
    "## Selecting Columns and Rows\n",
    "\n",
    "We can use `.loc[row, column]` to index columns and rows in the DataFrame. \n",
    "\n",
    "We can use a **Boolean mask** (discussed in the previous notebook) to represent which rows to select. A Boolean mask is an operation that takes as input a series and a condition, and outputs a series with `True` where that condition is met and `False` elsewhere.\n",
    "\n",
    "For example, let's say that we want to measure countries where the life expectancy is under 40.\n"
   ]
  },
  {
   "cell_type": "code",
   "execution_count": null,
   "metadata": {
    "scrolled": true
   },
   "outputs": [],
   "source": [
    "df['lifeExp'] < 40"
   ]
  },
  {
   "cell_type": "markdown",
   "metadata": {},
   "source": [
    "Then to get the subset of the entire `penguins` object, we can pass this Boolean mask to `.loc[]`:"
   ]
  },
  {
   "cell_type": "code",
   "execution_count": null,
   "metadata": {},
   "outputs": [],
   "source": [
    "df.loc[df['lifeExp'] < 40]"
   ]
  },
  {
   "cell_type": "markdown",
   "metadata": {},
   "source": [
    "Now, if you wish to subset this DataFrame for columns as well as rows, you can include a columns argument in `.loc[]` that includes a list of columns to subset. \n",
    "\n",
    "💡 **Tip**: Note the comma that's separating between the rows and columns we're subsetting!"
   ]
  },
  {
   "cell_type": "code",
   "execution_count": null,
   "metadata": {},
   "outputs": [],
   "source": [
    "# Subsetting rows and columns\n",
    "df.loc[df['lifeExp'] < 40, ['country','year','lifeExp']]"
   ]
  },
  {
   "cell_type": "markdown",
   "metadata": {},
   "source": [
    "## 🥊 Challenge: Subsetting a DataFrame\n",
    "\n",
    "1. Modify the `.loc[]` expression above to subset for GDP per capita under 800. Save it to the variable `low_gdp`.\n",
    "2. Calculate the mean life expectancy for this group (**Hint**: use `.mean()`)."
   ]
  },
  {
   "cell_type": "code",
   "execution_count": null,
   "metadata": {},
   "outputs": [],
   "source": [
    "# YOUR CODE HERE\n",
    "\n",
    "\n"
   ]
  },
  {
   "cell_type": "markdown",
   "metadata": {},
   "source": [
    "<a id=\"vis\"></a>\n",
    "# Visualizing DataFrames\n",
    "\n",
    "We often want to look at our data visually. Fortunately, `pandas` also offers some basic plotting functions that can be useful in exploring a data set. In this section, we will cover two basic types of plots: histograms and scatter plots. See the [documentation](https://pandas.pydata.org/docs/reference/api/pandas.DataFrame.plot.html) for further information on plotting and plot customization.\n",
    "\n",
    "### Histograms\n",
    "\n",
    "A histogram shows the distribution of a variable using binned values. We can call this using the syntax: `df[column].plot(kind='hist')`.\n",
    "\n",
    "💡 **Tip**: Use a histogram if you want to show distributions of continuous variables."
   ]
  },
  {
   "cell_type": "code",
   "execution_count": null,
   "metadata": {},
   "outputs": [],
   "source": [
    "print('Plot A: 5 Bins')\n",
    "fig = df['lifeExp'].plot(kind='hist', title='Histogram of life expectancy', bins=5)"
   ]
  },
  {
   "cell_type": "markdown",
   "metadata": {},
   "source": [
    "Note the `bins` keyword argument when calling the histogram. It changes the number of \"bins\" or \"buckets\" in the histogram. Each bin is plotted as a bar whose height corresponds to how many data points are in that bin.\n",
    "\n",
    "🔔 **Question**: Let's plot two more histograms with different amounts of bins. Which of the 3 plots would you pick, and why?"
   ]
  },
  {
   "cell_type": "code",
   "execution_count": null,
   "metadata": {},
   "outputs": [],
   "source": [
    "print('Plot B: 10 Bins')\n",
    "fig = df['lifeExp'].plot(kind='hist', title='Histogram of life expectancy', bins=10)"
   ]
  },
  {
   "cell_type": "code",
   "execution_count": null,
   "metadata": {},
   "outputs": [],
   "source": [
    "print('Plot C: 20 bins')\n",
    "df['lifeExp'].plot(kind='hist', title='Histogram of life expectancy', bins=20)"
   ]
  },
  {
   "cell_type": "markdown",
   "metadata": {},
   "source": [
    "### Bar Plots\n",
    "\n",
    "Bar plots show the relationship between a numeric and a categoric variable. Here, we use the \"country\"  (categorical) and \"lifeExp\" (numeric) columns.\n",
    "\n",
    "💡 **Tip**: Use a bar plot when you want to illustrate differences in frequencies of some category.\n",
    "\n",
    "Let's retrieve the 10 data points with the lowest life expectancy in our data using `.sort_values()`, and then plot those data points in a bar plot.\n"
   ]
  },
  {
   "cell_type": "code",
   "execution_count": null,
   "metadata": {},
   "outputs": [],
   "source": [
    "# Sort values based on low life expectancy, get top-10 \n",
    "low_lifeExp = df.sort_values('lifeExp',ascending=True)[:10]\n",
    "\n",
    "# Plot\n",
    "low_lifeExp.plot.bar(x = 'country', y = 'lifeExp', figsize = (6,4));\n"
   ]
  },
  {
   "cell_type": "markdown",
   "metadata": {},
   "source": [
    "### Scatter Plots\n",
    "\n",
    "Scatter plots visualize the relationship between different variables. We can create a scatter plot by specifying the columns to use for the `x` and `y` axes. Notice that instead of calling it on a single column of data, we are using `df.plot(kind='scatter')`.\n",
    "\n",
    "💡 **Tip**: Use scatter plots when you have two variables that pair well together."
   ]
  },
  {
   "cell_type": "code",
   "execution_count": null,
   "metadata": {},
   "outputs": [],
   "source": [
    "fig = df.plot(kind='scatter',\n",
    "              x='lifeExp',\n",
    "              y='gdpPercap',\n",
    "              title='Relationship between GDP per capita and life expectancy')"
   ]
  },
  {
   "cell_type": "markdown",
   "metadata": {},
   "source": [
    "🔔 **Question**: Do you notice any pattern in the data? What might be causing that pattern?"
   ]
  },
  {
   "cell_type": "markdown",
   "metadata": {
    "tags": []
   },
   "source": [
    "## `matplotlib` \n",
    "\n",
    "So far, we've built plots directly from Pandas DataFrames. On the back end, Pandas uses Matplotlib, a very popular visualization library in Python, in order to do this. But we can also use Matplotlib directly."
   ]
  },
  {
   "cell_type": "markdown",
   "metadata": {
    "tags": []
   },
   "source": [
    "### Creating a boxplot\n",
    "\n",
    "A boxplot (or \"box and whiskers\" plot) displays the distribution and skewness of numerical data by displaying the data quartiles (or percentiles) and averages. This includes the minimum, first quartile, median, third quartile, and maximum. A vertical line goes through the box at the median. The whiskers go from each quartile to the minimum or maximum.\n",
    "\n",
    "💡 **Tip**: Use a boxplot when you want to illustrate variation in a single float or integer, and to identify outliers."
   ]
  },
  {
   "cell_type": "code",
   "execution_count": null,
   "metadata": {
    "scrolled": true
   },
   "outputs": [],
   "source": [
    "import matplotlib.pyplot as plt\n",
    "\n",
    "df.boxplot(column=['lifeExp']);"
   ]
  },
  {
   "cell_type": "markdown",
   "metadata": {},
   "source": [
    "The led line above is the median value in the data; the bottom and top of the box are the first and third quartiles.\n",
    "\n",
    "Let's make boxplots of life expectancy **_by_** continent in the gapminder dataset."
   ]
  },
  {
   "cell_type": "code",
   "execution_count": null,
   "metadata": {
    "scrolled": true
   },
   "outputs": [],
   "source": [
    "# For each continent\n",
    "df.boxplot(column=['lifeExp'], \n",
    "            by = 'continent', \n",
    "            figsize = (5, 4)\n",
    "           )\n",
    "\n",
    "plt.title(\"\");"
   ]
  },
  {
   "cell_type": "markdown",
   "metadata": {},
   "source": [
    "Note the circles, which refer to outliers in the data."
   ]
  }
 ],
 "metadata": {
  "kernelspec": {
   "display_name": "Python 3 (ipykernel)",
   "language": "python",
   "name": "python3"
  },
  "language_info": {
   "codemirror_mode": {
    "name": "ipython",
    "version": 3
   },
   "file_extension": ".py",
   "mimetype": "text/x-python",
   "name": "python",
   "nbconvert_exporter": "python",
   "pygments_lexer": "ipython3",
   "version": "3.8.13"
  }
 },
 "nbformat": 4,
 "nbformat_minor": 4
}
