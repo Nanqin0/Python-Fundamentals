{
 "cells": [
  {
   "cell_type": "markdown",
   "metadata": {},
   "source": [
    "# 4 – Control Flow and Functions\n",
    "\n",
    "* * * \n",
    "\n",
    "### Icons used in this notebook\n",
    "🔔 **Question**: A quick question to help you understand what's going on.<br>\n",
    "🥊 **Challenge**: Interactive excersise. We'll work through these in the workshop!<br>\n",
    "💭 **Reflection**: Helping you think about programming.<br>\n",
    "⚠️ **Warning**: Heads-up about tricky stuff or common mistakes.<br>\n",
    "💡 **Tip**: How to do something a bit more efficiently or effectively.<br>\n",
    "🎬 **Demo**: Showing off something more advanced – so you know what Python can be used for!<br>\n",
    "\n",
    "### Learning Objectives\n",
    "1. [Loops](#loops)\n",
    "2. [Control Flow](#cond)\n",
    "3. [Functions and Arguments](#functions)\n",
    "4. [Write Your Own Functions](#build)\n",
    "5. [Style: how to Write Good Code](#style)\n"
   ]
  },
  {
   "cell_type": "markdown",
   "metadata": {
    "jp-MarkdownHeadingCollapsed": true,
    "tags": []
   },
   "source": [
    "## 💭 Reflection: Vocabulary recap\n",
    "**Variables** are names attached to particular objects. To create a variable, you just assign it a value and then start using it. Assignment is done with a single equals sign (=): `n = 300`\n",
    "\n",
    "**Statements** are instructions that a Python interpreter can execute. They end with a NEWLINE character. That means each line in Python is a statement. For instance, `print('Hello')` is a statement; `x = 20` is a statement; `print(x)` is a statement.\n",
    "\n",
    "**Functions** perform actions on things. `print()` is one of the most familiar. You can often identify a function because of its trailing round parentheses.  \n",
    "\n",
    "**Arguments** are the \"things\" we perform the action on. They can be values, mathematical expressions, text, variables, datasets, or even other functions! Arguments go inside the trailing parentheses of functions when we call them. \n",
    "\n",
    "**Methods** are type-specific functions. Different data types and structures have functions that only apply to that type/structure (i.e., floating-point numbers aka decimals, integers, strings, lists, dictionaries, data frames, etc.).\n",
    "\n",
    "Check out our Python glossary [here](https://github.com/dlab-berkeley/Python-Fundamentals/blob/main/glossary.md)."
   ]
  },
  {
   "cell_type": "markdown",
   "metadata": {},
   "source": [
    "<a id='loops'></a>\n",
    "\n",
    "# Loops\n",
    "\n",
    "Let's say we have three tire pressure measurements: `40.9`, `35.2`, and `28.4`. We want to round each measurement to a whole number. How would we do this using the tools available to us?\n",
    "\n",
    "Here's one way:"
   ]
  },
  {
   "cell_type": "code",
   "execution_count": null,
   "metadata": {},
   "outputs": [],
   "source": [
    "tire1 = 40.9\n",
    "tire2 = 35.2\n",
    "tire3 = 28.4\n",
    "\n",
    "print(round(tire1))\n",
    "print(round(tire2))\n",
    "print(round(tire3))"
   ]
  },
  {
   "cell_type": "markdown",
   "metadata": {},
   "source": [
    "Here's another:"
   ]
  },
  {
   "cell_type": "code",
   "execution_count": null,
   "metadata": {},
   "outputs": [],
   "source": [
    "# We could also use a list\n",
    "tires = [40.9, 35.2, 28.4]\n",
    "print(round(tires[0]), round(tires[1]), round(tires[2]))"
   ]
  },
  {
   "cell_type": "markdown",
   "metadata": {},
   "source": [
    "**Question:** Which method do you prefer?"
   ]
  },
  {
   "cell_type": "markdown",
   "metadata": {},
   "source": [
    "Let's say that we have 1000 tire pressures in a list. Using this method you would have to round each value separately.\n",
    "\n",
    "Our current approach is not particularly scalable. It's also not very flexible. For example, what if you want to round every tire pressure to two decimal places?"
   ]
  },
  {
   "cell_type": "markdown",
   "metadata": {},
   "source": [
    "## Loops for repeated computation\n",
    "\n",
    "The strength of using computers is their speed. We can leverage this by facilitating repeated computation with **loops**. In programming, there are generally two kinds of loops: for loops and while loops. \n",
    "\n",
    "A **for loop** tells Python to execute some statements once *for* each value in a list, a character string, or some other set of values. Specifically, we structure our computation as: \"**for** each thing in this group, **do** these operations\".\n",
    "\n",
    "**Question:** How would we formulate this statement for the tire pressure problem above?\n",
    "\n",
    "The other major type of loop is a [while](https://www.geeksforgeeks.org/python-while-loop/) loop. We don't use these loops frequently in this type of programming, but we may encounter them. A while loop means 'while Condition A is true, repeat Computation'.\n",
    "\n",
    "Let's take a look at the syntax of a for loop using the above example:"
   ]
  },
  {
   "cell_type": "code",
   "execution_count": null,
   "metadata": {},
   "outputs": [],
   "source": [
    "# We use a variable containing a list with the values to be iterated through\n",
    "tires = [41,35,28]\n",
    "\n",
    "for pressure in tires:\n",
    "    print(round(pressure))\n",
    "\n",
    "print('the loop has ended')"
   ]
  },
  {
   "cell_type": "markdown",
   "metadata": {},
   "source": [
    "One nice thing about Python is that its syntax is amenable to interpreting things in plain language. In the above example, it's easy to read it as: \"for each pressure in tires, print out the rounded pressure\".\n",
    "\n",
    "(This requires that you use good names for your variables, though!)."
   ]
  },
  {
   "cell_type": "markdown",
   "metadata": {},
   "source": [
    "## Loop Syntax\n",
    "\n",
    "Let's break down the syntax of the for loop more closely.\n",
    "\n",
    "*   The colon at the end of the first line signals the start of a *block* of statements.\n",
    "*   The indented line(s) following the colon indicate the lines to run as a part of the loop (also known as the body).\n",
    "*   Unindented lines following the loop will execute **after** all iterations of the for loop are complete.\n",
    "*   `for loop_variable in collection:` The loop variable is what gets plugged into the calculations in the body of the loop, and the collection is the group of values being looped through.\n",
    "*   As with all variables, loop variables are:\n",
    "    *   Created on demand.\n",
    "    *   Meaningless: their names can be anything at all.\n",
    "    *   Placeholders for the loop."
   ]
  },
  {
   "cell_type": "markdown",
   "metadata": {},
   "source": [
    "## 🥊 Challenge: Fixing Loop Syntax\n",
    "\n",
    "The following block of code contains **three errors** that are preventing it from running properly. What are the errors? How would you fix them?"
   ]
  },
  {
   "cell_type": "code",
   "execution_count": null,
   "metadata": {},
   "outputs": [],
   "source": [
    "for number in [2, 3, 5]\n",
    "print(n)\n"
   ]
  },
  {
   "cell_type": "markdown",
   "metadata": {},
   "source": [
    "## Loops with Strings, Series, and `range`\n",
    "\n",
    "Loops can loop over any iterable data type. An **iterable** is any data type that can be iterated over, like a sequence. Generally anything that can be indexed (e.g. accessed with `values[i]`) is an iterable.\n",
    "\n",
    "For example, a string is iterable, so it is possible to loop through a string!\n",
    "\n",
    "Let's take a look at an example:"
   ]
  },
  {
   "cell_type": "code",
   "execution_count": null,
   "metadata": {},
   "outputs": [],
   "source": [
    "example_string = 'yosemite'\n",
    "\n",
    "for char in example_string:\n",
    "    print(char.upper())"
   ]
  },
  {
   "cell_type": "markdown",
   "metadata": {},
   "source": [
    "## 🥊 Challenge: Looping Through a Series\n",
    "\n",
    "We can loop through a `pandas` Series just like we can through a list.\n",
    "\n",
    "Let's do this for the following DataFrame, which contains a bunch of mountains and their elevation in feet. Proceed as follows:\n",
    "\n",
    "1. Extract the column `elevation` as a Series.\n",
    "2. Loop through the series using a `for` loop.\n",
    "3. Convert each value to meters using the conversion: 1 ft = .304 m.\n",
    "4. Print the results. "
   ]
  },
  {
   "cell_type": "code",
   "execution_count": null,
   "metadata": {},
   "outputs": [],
   "source": [
    "import pandas as pd\n",
    "\n",
    "mountains_df = pd.DataFrame(\n",
    "    {'mountain': ['Mt. Whitney',\n",
    "                  'Mt. Williamson',\n",
    "                  'White Mountain Peak',\n",
    "                  'North Palisade',\n",
    "                  'Mt. Shasta',\n",
    "                  'Mt. Humphreys'],\n",
    "     'range': ['Sierra Nevada',\n",
    "               'Sierra Nevada',\n",
    "               'White Mountains',\n",
    "               'Sierra Nevada',\n",
    "               'Cascade Range',\n",
    "               'Sierra Nevada'],\n",
    "     'elevation': [14505, 14379, 14252, 14248, 14179, 13992]}\n",
    ")\n",
    "\n",
    "mountains_df"
   ]
  },
  {
   "cell_type": "code",
   "execution_count": null,
   "metadata": {},
   "outputs": [],
   "source": [
    "# YOUR CODE HERE\n",
    "\n",
    "\n"
   ]
  },
  {
   "cell_type": "markdown",
   "metadata": {},
   "source": [
    "## Aggregating Values with Loops\n",
    "\n",
    "A common strategy in programs is to:\n",
    "1.  Initialize an *accumulator* variable appropriate to the datatype of the output:\n",
    "    * `int` : `0`\n",
    "    * `str` : `''`\n",
    "    * `list` : `[]`\n",
    "2.  Update the variable with values from a collection through a for loop. Typical update operations are:\n",
    "    * `int` : `+`\n",
    "    * `str` : `+`\n",
    "    * `list` : `.append()`\n",
    "    \n",
    "The result of this is a single list, number, or string with a summary value for the entire collection being looped over.\n",
    "\n",
    "Returning to the tire pressure example, we can make a new list with all of the tire pressures rounded:"
   ]
  },
  {
   "cell_type": "code",
   "execution_count": null,
   "metadata": {},
   "outputs": [],
   "source": [
    "rounded_pressures = []\n",
    "\n",
    "for pressure in tires: \n",
    "    rounded = round(pressure)\n",
    "    rounded_pressures.append(rounded)\n",
    "\n",
    "print('Rounded tire pressures:', rounded_pressures)"
   ]
  },
  {
   "cell_type": "markdown",
   "metadata": {},
   "source": [
    "## 🥊 Challenge: Aggregation Practice\n",
    "\n",
    "Below are a few examples showing the different types of quantities you might aggregate using a for loop. These loops are partially filled out. Finish them and test that they work!"
   ]
  },
  {
   "cell_type": "markdown",
   "metadata": {},
   "source": [
    "1. Find the total length of the strings in the given list. Store this quantity in a variable called `total`."
   ]
  },
  {
   "cell_type": "code",
   "execution_count": null,
   "metadata": {},
   "outputs": [],
   "source": [
    "total = 0\n",
    "words = ['red', 'green', 'blue']\n",
    "\n",
    "for w in words:\n",
    "    ____ = ____ + len(w)\n",
    "\n",
    "print(total)"
   ]
  },
  {
   "cell_type": "markdown",
   "metadata": {},
   "source": [
    "2. Find the length of each word in the list, and store these lengths in another list called `lengths`."
   ]
  },
  {
   "cell_type": "code",
   "execution_count": null,
   "metadata": {},
   "outputs": [],
   "source": [
    "lengths = ____\n",
    "words = ['red', 'green', 'blue']\n",
    "\n",
    "for w in words:\n",
    "    lengths.____(____)\n",
    "\n",
    "print(lengths)"
   ]
  },
  {
   "cell_type": "markdown",
   "metadata": {},
   "source": [
    "3. Concatenate all words into a single string called `result`."
   ]
  },
  {
   "cell_type": "code",
   "execution_count": null,
   "metadata": {},
   "outputs": [],
   "source": [
    "words = ['red', 'green', 'blue']\n",
    "result = ____\n",
    "\n",
    "for ____ in ____:\n",
    "    ____\n",
    "\n",
    "print(result)"
   ]
  },
  {
   "cell_type": "markdown",
   "metadata": {},
   "source": [
    "4. Create an acronym, as a single string, representing the list of words. Each part of the acronym should consist of the first letter of each word, capitalized. For example, your loop should output `\"RGB\"` for the input `[\"red\", \"green\", \"blue\"]`. For this one, write the entire loop yourself!"
   ]
  },
  {
   "cell_type": "code",
   "execution_count": null,
   "metadata": {},
   "outputs": [],
   "source": [
    "words = ['red', 'green', 'blue']\n",
    "\n",
    "# YOUR CODE HERE\n",
    "\n",
    "''.join([each[0].upper() for each in words])"
   ]
  },
  {
   "cell_type": "markdown",
   "metadata": {},
   "source": [
    "### 💡  Best practices with loops\n",
    "\n",
    "1. Whenever you are repeating an operation, consider using a loop.\n",
    "2. Loops can take long to run so are not always ideal.\n",
    "3. When possible, limit the size and number of loops in your code.\n",
    "4. When dealing with DataFrames, you can typically avoid loops using so-called \"vectorized\" solutions. More on this in the next notebook."
   ]
  },
  {
   "cell_type": "markdown",
   "metadata": {},
   "source": [
    "<a id='cond'></a>\n",
    "\n",
    "# Control Flow\n",
    "\n",
    "**Booleans** are a fundamental data type in programming. Booleans are varibles that are **binary**: they can either be `True` or `False`.\n",
    "\n",
    "Why do we use these? They're very useful for **control flow**: changing the course of a program depending on certain conditions. Booleans allow decision making in these contexts.\n",
    "\n",
    "In Python, `True` and `False` are written with capital letters, and usually colored green in Jupyter notebooks:"
   ]
  },
  {
   "cell_type": "code",
   "execution_count": null,
   "metadata": {},
   "outputs": [],
   "source": [
    "yes = True\n",
    "no = False"
   ]
  },
  {
   "cell_type": "markdown",
   "metadata": {},
   "source": [
    "Booleans are commonly seen in the results of inequalities. Predict the outcome of the inequalities printed below, then run the code.\n",
    "\n",
    "💡 **Tip**: Equality is signaled in Python (and many other languages) by the double equals sign `==`. This is distinct from the **assignment operator** (single equals sign `=`) used in variable assignment (e.g. `year = 1996`)"
   ]
  },
  {
   "cell_type": "code",
   "execution_count": null,
   "metadata": {},
   "outputs": [],
   "source": [
    "# Greater than \n",
    "print('Is 3 > 5?', 3 > 5)\n",
    "\n",
    "# Less than\n",
    "print('Is 3 < 5?', 3 < 5)\n",
    "\n",
    "# Exactly equal to\n",
    "print('Is ice == ice?', 'ice' == 'ice')"
   ]
  },
  {
   "cell_type": "markdown",
   "metadata": {},
   "source": [
    "You can also specify *not* using the `!` operator:"
   ]
  },
  {
   "cell_type": "code",
   "execution_count": null,
   "metadata": {},
   "outputs": [],
   "source": [
    "print('Is ice != water?', 'ice' != 'water')"
   ]
  },
  {
   "cell_type": "markdown",
   "metadata": {},
   "source": [
    "Furthermore, you can *negate* a Boolean expression with the keyword `not`. Predit the outcomes for the examples below:\n",
    "\n",
    "💡 **Tip**: Recall `yes=True` and `no=False`."
   ]
  },
  {
   "cell_type": "code",
   "execution_count": null,
   "metadata": {},
   "outputs": [],
   "source": [
    "print(yes)\n",
    "print(not yes)"
   ]
  },
  {
   "cell_type": "markdown",
   "metadata": {},
   "source": [
    "💡 **Tip**: Comparisons for strings are based on alphanumeric order: numbers first, then capital letters, followed by lowercase letters."
   ]
  },
  {
   "cell_type": "markdown",
   "metadata": {},
   "source": [
    "The operators `and` and `or` can also be used to compare Boolean values with logic. What do each of the following statements do?"
   ]
  },
  {
   "cell_type": "code",
   "execution_count": null,
   "metadata": {},
   "outputs": [],
   "source": [
    "a = True\n",
    "b = False\n",
    "\n",
    "print(a and b)\n",
    "\n",
    "print(a or b)"
   ]
  },
  {
   "cell_type": "markdown",
   "metadata": {},
   "source": [
    "Notice that when you are combining Boolean expressions, parentheses are used to indicate order of evaluation. The innermost parentheses are evaluated first, then the later ones. For example, compare the two lines below. \n",
    "\n",
    "🔔 **Question**: Why are the outputs different? Write the order of evaluation for each line below.\n"
   ]
  },
  {
   "cell_type": "code",
   "execution_count": null,
   "metadata": {},
   "outputs": [],
   "source": [
    "print(not (a and b))\n",
    "\n",
    "print(not a and b)"
   ]
  },
  {
   "cell_type": "markdown",
   "metadata": {},
   "source": [
    "## 🥊 Challenge: Boolean Errors\n",
    "\n",
    "1. The following cell gives error(s). Identify each error and how to fix it. \n",
    "2. What is the output of the cell?"
   ]
  },
  {
   "cell_type": "code",
   "execution_count": null,
   "metadata": {},
   "outputs": [],
   "source": [
    "number_of_trees = 14\n",
    "number_of_shrubs = 8\n",
    "has_flowers = TRUE\n",
    "\n",
    "print((number_of_trees > 14) and (number_of_trees = number_of_shrubs) or not (has_flowers))"
   ]
  },
  {
   "cell_type": "markdown",
   "metadata": {},
   "source": [
    "## Boolean Masks\n",
    "\n",
    "A **boolean mask** takes a conditional statement and generates a series with `True` where the condition is met, and `False` where the condition is not met. This is useful for working with tabular data like data frames.\n",
    "\n",
    "It's often helpful to look at an example. Let's say we're working with a mountains `DataFrame` and we want to know which mountains have an elevation over 14200 feet. We can use a Boolean mask for this."
   ]
  },
  {
   "cell_type": "code",
   "execution_count": null,
   "metadata": {},
   "outputs": [],
   "source": [
    "import pandas as pd\n",
    "\n",
    "mountains_df = pd.DataFrame(\n",
    "    {'mountain': ['Mt. Whitney',\n",
    "                  'Mt. Williamson',\n",
    "                  'White Mountain Peak',\n",
    "                  'North Palisade',\n",
    "                  'Mt. Shasta',\n",
    "                  'Mt. Humphreys'],\n",
    "     'range': ['Sierra Nevada',\n",
    "               'Sierra Nevada',\n",
    "               'White Mountains',\n",
    "               'Sierra Nevada',\n",
    "               'Cascade Range',\n",
    "               'Sierra Nevada'],\n",
    "     'elevation': [14505, 14379, 14252, 14248, 14179, 13992]}\n",
    ")"
   ]
  },
  {
   "cell_type": "code",
   "execution_count": null,
   "metadata": {
    "scrolled": true
   },
   "outputs": [],
   "source": [
    "# Select the elevation column and apply a boolean mask\n",
    "mountains_df['elevation'] > 14200"
   ]
  },
  {
   "cell_type": "markdown",
   "metadata": {},
   "source": [
    "Let's add this as a column to `mountains_df`. We can add a column by assigning a series to a new column name in bracket notation. "
   ]
  },
  {
   "cell_type": "code",
   "execution_count": null,
   "metadata": {},
   "outputs": [],
   "source": [
    "mountains_df['over_14200'] = mountains_df['elevation'] > 14200\n",
    "mountains_df"
   ]
  },
  {
   "cell_type": "markdown",
   "metadata": {},
   "source": [
    "🔔 **Question**: What does the following code do? What does the result represent? "
   ]
  },
  {
   "cell_type": "code",
   "execution_count": null,
   "metadata": {},
   "outputs": [],
   "source": [
    "sum(mountains_df['elevation'] > 14200)"
   ]
  },
  {
   "cell_type": "markdown",
   "metadata": {},
   "source": [
    "Using Boolean mask and sum is a quick trick that is useful for summarizing column data. \n",
    "\n",
    "If we want to see the proportion of the data that satisfies the condition, we can take this one step further. \n",
    "\n",
    "🔔 **Question**: Do you understand the code below?"
   ]
  },
  {
   "cell_type": "code",
   "execution_count": null,
   "metadata": {},
   "outputs": [],
   "source": [
    "sum(mountains_df['elevation'] > 14200) / len(mountains_df['elevation'])"
   ]
  },
  {
   "cell_type": "markdown",
   "metadata": {},
   "source": [
    "## Conditionals: If-Statements\n",
    "\n",
    "A fundamental structure in programming is the **conditional**. These blocks allow different blocks of code to run, *conditional* on specific things being true.\n",
    "\n",
    "The most widely used conditional is the **if-statement**. An if-statement controls whether some block of code is executed or not. Its structure is similar to that of a for loop: \n",
    "\n",
    "*   The first line opens with the `if` keyword and contains a Boolean variable or expression. It ends with a colon. If the expression evaluates to `True`, the block of code will run.\n",
    "*   The body, containing whatever code to execute if the condition is met, is indented.\n",
    "\n",
    "So, if the Boolean expression is `True`, the body of an if-statement is run. If not, it's skipped. Let's look at an example:"
   ]
  },
  {
   "cell_type": "code",
   "execution_count": null,
   "metadata": {},
   "outputs": [],
   "source": [
    "number = 105\n",
    "\n",
    "# Body is executed\n",
    "if number > 100:\n",
    "    print(number, 'is greater than 100.')\n",
    "\n",
    "# Body is not executed\n",
    "if number > 110:\n",
    "    print(number, 'is greater than 110.')"
   ]
  },
  {
   "cell_type": "markdown",
   "metadata": {},
   "source": [
    "## Conditionals and Loops\n",
    "\n",
    "Conditionals are particularly useful when we're iterating through a list, and want to perform some operation only on specific components of that list that satisfy a certain condition.\n",
    "\n",
    "🔔 **Question**: what will the output of the following code be?"
   ]
  },
  {
   "cell_type": "code",
   "execution_count": null,
   "metadata": {},
   "outputs": [],
   "source": [
    "numbers = [12, 20, 43, 88, 97, 100, 105, 110]\n",
    "\n",
    "for number in numbers:\n",
    "    if number > 100:\n",
    "        print(number, 'is greater than 100.')"
   ]
  },
  {
   "cell_type": "markdown",
   "metadata": {},
   "source": [
    "## Conditionals: Else-statements\n",
    "\n",
    "Else-statements supplement if-statements. They allow us to specify an alternative block of code to run if the if-statement's conditional evaluates to `False`.\n",
    "\n",
    "🔔 **Question**: What is the difference between the following cell and the previous if statement. How will that affect the output?"
   ]
  },
  {
   "cell_type": "code",
   "execution_count": null,
   "metadata": {},
   "outputs": [],
   "source": [
    "numbers = [12, 20, 43, 88, 97, 100, 105, 110]\n",
    "\n",
    "for number in numbers:\n",
    "    if number > 100:\n",
    "        print(number, 'is greater than 100.')\n",
    "    else:\n",
    "        print(number, 'is less than or equal to 100.')"
   ]
  },
  {
   "cell_type": "markdown",
   "metadata": {},
   "source": [
    "## Conditionals: Else-if Statements\n",
    "\n",
    "We may want to check several conditionals at the same time. Else-if (Elif-) statements allow us to specify as many conditional checks as we'd like in the same block.\n",
    "\n",
    "Elif-statements must follow an if-statement. They only are checked if the if-statement fails. Then, each elif-statement is checked, with their corresponding bodies run when the conditional evaluates to `True`.\n",
    "\n",
    "An else statement at the end can act as a \"catch all\", when the if statement and all following else-if statements fail.\n",
    "\n",
    "In Python, else if statements are indicated by the `elif` keyword. Consider the following conditional cell."
   ]
  },
  {
   "cell_type": "code",
   "execution_count": null,
   "metadata": {},
   "outputs": [],
   "source": [
    "numbers = [12, 20, 43, 88, 97, 100, 105, 110]\n",
    "\n",
    "for number in numbers:\n",
    "    if number > 100:\n",
    "        print(number, 'is greater than 100.')\n",
    "    elif number > 50:\n",
    "        print(number, 'is greater than 50.')\n",
    "    elif number > 25:\n",
    "        print(number, 'is greater than 25.')\n",
    "    else:\n",
    "        print(number, 'is less than or equal to 25.')"
   ]
  },
  {
   "cell_type": "markdown",
   "metadata": {},
   "source": [
    "## 🥊 Challenge: Conditionals Practice\n",
    "\n",
    "The `scores` list contains numeric grades that we'd like to assign letter grades to.\n",
    "\n",
    "Run the code. Does the result match your expectations? If not, why?\n",
    "\n",
    "Consider:\n",
    "1. How many 'A' grades do you expect based on the input? How many are in the output?\n",
    "2. Are there multiple outputs per score? \n",
    "3. Are the scores assigned the correct letter grades?"
   ]
  },
  {
   "cell_type": "code",
   "execution_count": null,
   "metadata": {},
   "outputs": [],
   "source": [
    "scores = [85, 99, 77,68]\n",
    "\n",
    "for score in scores:\n",
    "    if score >= 80:\n",
    "        print(score, 'is a B.')\n",
    "    elif score >= 90:\n",
    "        print(score, 'is an A.')\n",
    "    if score >= 70:\n",
    "        print(score, 'is a C.')\n",
    "    else:\n",
    "        print(score, 'is a D.')"
   ]
  },
  {
   "cell_type": "markdown",
   "metadata": {},
   "source": [
    "The order of the if and elif statements matters. When one if/elif statement is met, all following statements are skipped.  If there are multiple if statements, then each statement is evaluated separately. These kinds of errors won't give errors in the code, but they will give results that might not make sense, which can take longer to find and debug."
   ]
  },
  {
   "cell_type": "markdown",
   "metadata": {},
   "source": [
    "## 🥊 Challenge: Conditionals and Aggregation\n",
    "Below, we've created a list of US Presidents. Create a a new list containing all Presidents whose first name starts with the letter J. How many presidents are on this list?\n",
    "\n",
    "**Hint:** The `.split()` string function will be useful for this. Also, remember that strings are indexed: you can access any character of the string using bracket notation!"
   ]
  },
  {
   "cell_type": "code",
   "execution_count": null,
   "metadata": {},
   "outputs": [],
   "source": [
    "presidents = [\n",
    "    \"George Washington\",\n",
    "    \"John Adams\",\n",
    "    \"Thomas Jefferson\",\n",
    "    \"James Madison\",\n",
    "    \"James Monroe\",\n",
    "    \"John Quincy Adams\",\n",
    "    \"Andrew Jackson\",\n",
    "    \"Martin Van Buren\",\n",
    "    \"William Henry Harrison\",\n",
    "    \"John Tyler\",\n",
    "    \"James K. Polk\",\n",
    "    \"Zachary Taylor\",\n",
    "    \"Millard Fillmore\",\n",
    "    \"Franklin Pierce\",\n",
    "    \"James Buchanan\",\n",
    "    \"Abraham Lincoln\",\n",
    "    \"Andrew Johnson\",\n",
    "    \"Ulysses S. Grant\",\n",
    "    \"Rutherford B. Hayes\",\n",
    "    \"James A. Garfield\",\n",
    "    \"Chester A. Arthur\",\n",
    "    \"Grover Cleveland\",\n",
    "    \"Benjamin Harrison\",\n",
    "    \"Grover Cleveland\",\n",
    "    \"William McKinley\",\n",
    "    \"Theodore Roosevelt\",\n",
    "    \"William Howard Taft\",\n",
    "    \"Woodrow Wilson\",\n",
    "    \"Warren G. Harding\",\n",
    "    \"Calvin Coolidge\",\n",
    "    \"Herbert Hoover\",\n",
    "    \"Franklin D. Roosevelt\",\n",
    "    \"Harry S. Truman\",\n",
    "    \"Dwight D. Eisenhower\",\n",
    "    \"John F. Kennedy\",\n",
    "    \"Lyndon B. Johnson\",\n",
    "    \"Richard Nixon\",\n",
    "    \"Gerald Ford\",\n",
    "    \"Jimmy Carter\",\n",
    "    \"Ronald Reagan\",\n",
    "    \"George H. W. Bush\",\n",
    "    \"Bill Clinton\",\n",
    "    \"George W. Bush\",\n",
    "    \"Barack Obama\",\n",
    "    \"Donald Trump\",\n",
    "    \"Joe Biden\"]"
   ]
  },
  {
   "cell_type": "code",
   "execution_count": null,
   "metadata": {},
   "outputs": [],
   "source": [
    "last_name_b = ___\n",
    "for p in presidents:\n",
    "    if ___\n",
    "        ____.append(___)\n",
    "print(last_name_b)"
   ]
  },
  {
   "cell_type": "markdown",
   "metadata": {},
   "source": [
    "<a id='functions'></a>\n",
    "\n",
    "# Functions\n",
    "\n",
    "**Functions** are a core part of programming that allows us to run complex operations over and over without needing to write the code over and over again. **Arguments**, or values passed to a function, allow us to be more specific about how functions work.\n",
    "\n",
    "For example, a (made-up) function `multiply_by_five(2)` may take a single argument 2 and multiply it by five. An alternative function `multiply(2, 5)` may take two arguments, meaning it's generalizable to other multiplication tasks.\n"
   ]
  },
  {
   "cell_type": "markdown",
   "metadata": {},
   "source": [
    "⚠️ **Warning**: A function without the proper number of arguments will give an error, which will give some information about what arguments you need for the function to be successful.\n",
    "\n",
    "🔔 **Question**: Look at the error below. From the error message, how many arguments does the function take?"
   ]
  },
  {
   "cell_type": "code",
   "execution_count": null,
   "metadata": {},
   "outputs": [],
   "source": [
    "len()"
   ]
  },
  {
   "cell_type": "markdown",
   "metadata": {},
   "source": [
    "Below, we use a function name without parentheses. What does the output say? "
   ]
  },
  {
   "cell_type": "code",
   "execution_count": null,
   "metadata": {},
   "outputs": [],
   "source": [
    "round"
   ]
  },
  {
   "cell_type": "markdown",
   "metadata": {},
   "source": [
    "💡 **Tip**: This is referring to the stored function in memory. In order for the function to actually run, it must be called with `()`."
   ]
  },
  {
   "cell_type": "markdown",
   "metadata": {},
   "source": [
    "## Nesting Functions\n",
    "\n",
    "Functions can be nested by placing them inside of each other. In this case, the inner function is evaluated first, followed by outer function(s)."
   ]
  },
  {
   "cell_type": "code",
   "execution_count": null,
   "metadata": {},
   "outputs": [],
   "source": [
    "print(round(3.14))"
   ]
  },
  {
   "cell_type": "markdown",
   "metadata": {},
   "source": [
    "This requires that the output of the inner function be appropriate input for the outer function. The following code will have an error:"
   ]
  },
  {
   "cell_type": "code",
   "execution_count": null,
   "metadata": {},
   "outputs": [],
   "source": [
    "len(round(3.14))"
   ]
  },
  {
   "cell_type": "markdown",
   "metadata": {},
   "source": [
    "## 🥊 Challenge: Errors in Nested Functions\n",
    "\n",
    "The following code gives an error. \n",
    "\n",
    "1. What type of error is it? \n",
    "2. Put your cursor on the rightmost parenthesis. Jupyter will highlight the associated left parenthesis in <span style=\"color:green\">green</span>. What could you do to fix this error?"
   ]
  },
  {
   "cell_type": "code",
   "execution_count": null,
   "metadata": {},
   "outputs": [],
   "source": [
    "print(max(len('hi'), len('hello'))"
   ]
  },
  {
   "cell_type": "markdown",
   "metadata": {},
   "source": [
    "🔔 **Question**: `max()` takes two integers or floats as input and compares them to return the maximum value as output. In this case, which values is it comparing?"
   ]
  },
  {
   "cell_type": "markdown",
   "metadata": {},
   "source": [
    "## Default Arguments\n",
    "\n",
    "Some functions do not require you to enter a value for each argument. In these cases, it will use a **default argument** specified in the function.\n",
    "\n",
    "*   For example, `round()` will round a number. It accepts two arguments: the number, and the number of decimal places to round off to.\n",
    "*   By default, it rounds to a whole number.\n",
    "\n",
    "🔔 **Question**: Where could we look to find out what the default arguments are?"
   ]
  },
  {
   "cell_type": "code",
   "execution_count": null,
   "metadata": {},
   "outputs": [],
   "source": [
    "round(3.712)"
   ]
  },
  {
   "cell_type": "markdown",
   "metadata": {},
   "source": [
    "We can specify the number of decimal places we want:"
   ]
  },
  {
   "cell_type": "code",
   "execution_count": null,
   "metadata": {},
   "outputs": [],
   "source": [
    "round(3.712, 1)"
   ]
  },
  {
   "cell_type": "markdown",
   "metadata": {},
   "source": [
    "The order of arguments matters if we do not specify the so-called **keywords**. Let's have a look at the documentation."
   ]
  },
  {
   "cell_type": "code",
   "execution_count": null,
   "metadata": {},
   "outputs": [],
   "source": [
    "?round"
   ]
  },
  {
   "cell_type": "markdown",
   "metadata": {},
   "source": [
    "The **keywords** are the parameter names in between the brackets before the `=` sign. In this case, these are `number` and `ndigits`.\n",
    "\n",
    "We can't just reverse the order of the arguments in `round()`: this will result in an error."
   ]
  },
  {
   "cell_type": "code",
   "execution_count": null,
   "metadata": {},
   "outputs": [],
   "source": [
    "#this works\n",
    "round(3.000, 2)"
   ]
  },
  {
   "cell_type": "code",
   "execution_count": null,
   "metadata": {},
   "outputs": [],
   "source": [
    "#this doesn't\n",
    "round(2, 3.000)"
   ]
  },
  {
   "cell_type": "markdown",
   "metadata": {},
   "source": [
    "However, if we specify the **keywords** that we can find in the documentation, we can use any order we want."
   ]
  },
  {
   "cell_type": "code",
   "execution_count": null,
   "metadata": {},
   "outputs": [],
   "source": [
    "round(ndigits=2, number=3.000)"
   ]
  },
  {
   "cell_type": "markdown",
   "metadata": {},
   "source": [
    "⚠️ **Warning**: If you specify one keyword for one argument when calling the function, you need to specify the keywords for all arguments!"
   ]
  },
  {
   "cell_type": "markdown",
   "metadata": {
    "tags": []
   },
   "source": [
    "#### Reminder: You can use the Built-in Function `help` to Get Help for a Function. You can also use a question mark:"
   ]
  },
  {
   "cell_type": "code",
   "execution_count": null,
   "metadata": {},
   "outputs": [],
   "source": [
    "help(round)"
   ]
  },
  {
   "cell_type": "code",
   "execution_count": null,
   "metadata": {},
   "outputs": [],
   "source": [
    "round?"
   ]
  },
  {
   "cell_type": "markdown",
   "metadata": {},
   "source": [
    "## Every Function Returns a Value\n",
    "\n",
    "*   Every [function call](https://github.com/dlab-berkeley/Python-Fundamentals/blob/main/glossary.md) produces some result.\n",
    "*   If the function doesn't have a useful result to return,\n",
    "    it usually returns the special value `None`.\n",
    "* Unless the goal of the function is to print results, you usually want to save the output so you can refer to it later"
   ]
  },
  {
   "cell_type": "code",
   "execution_count": null,
   "metadata": {},
   "outputs": [],
   "source": [
    "output = len('Getting the length of a sentence can be pretty useful!')\n",
    "print('The length is', output)"
   ]
  },
  {
   "cell_type": "markdown",
   "metadata": {},
   "source": [
    "## 🥊 Challenge: Nested Functions\n",
    "\n",
    "1. Predict what each of the `print` statements in the program below will print. Run the code. If it doesn't match your expectations, write out each step in the code.\n",
    "2. Does `max(str(len(rich)), poor)` run or produce an error message?\n",
    "   If it runs, does its result make any sense?"
   ]
  },
  {
   "cell_type": "code",
   "execution_count": null,
   "metadata": {},
   "outputs": [],
   "source": [
    "rich = 'gold'\n",
    "poor = 'tin'\n",
    "print(max(rich, poor))\n",
    "print(max(len(rich), len(poor)))"
   ]
  },
  {
   "cell_type": "markdown",
   "metadata": {},
   "source": [
    "<a id='build'></a>\n",
    "\n",
    "# Write your own Functions\n",
    "\n",
    "Remember, functions are pieces of code that we expect to use over and over again.\n",
    "\n",
    "One of the most useful programming structures in Python is to write our own functions with a custom functionality that is specific to our goals."
   ]
  },
  {
   "cell_type": "markdown",
   "metadata": {},
   "source": [
    "## Basic Function Syntax\n",
    "\n",
    "Writing a function in Python is pretty easy! You need to know a few things:\n",
    "\n",
    "*   Functions begin with the keyword `def`.\n",
    "*   This keyword is followed by the function *name*.\n",
    "    *   The name must obey the same rules as variable names.\n",
    "*   The **arguments** or **parameters** are defined in parentheses as variable names.\n",
    "    *   Use empty parentheses if the function doesn't take any inputs.\n",
    "*   A colon indicates the end of the function *signature* (the first line).\n",
    "*   An indented block of code denotes the start of the *body*.\n",
    "*   The final line should be a `return` statement with the value(s) to be returned from the function.\n",
    "\n",
    "Let's take a look at a simple function:"
   ]
  },
  {
   "cell_type": "code",
   "execution_count": null,
   "metadata": {},
   "outputs": [],
   "source": [
    "def feet_to_meters(feet):\n",
    "    meters = feet * .304\n",
    "    return(meters)"
   ]
  },
  {
   "cell_type": "markdown",
   "metadata": {},
   "source": [
    "Notice how there is **no output** from running the block of code above. This is because defining a function does not run it. The function needs to be **called**, or run, with appropriate arguments to execute the code it contains. \n",
    "\n",
    "Let's run this function. We can save the output to a variable and print the result."
   ]
  },
  {
   "cell_type": "code",
   "execution_count": null,
   "metadata": {},
   "outputs": [],
   "source": [
    "meters = feet_to_meters(100)\n",
    "print(meters)"
   ]
  },
  {
   "cell_type": "markdown",
   "metadata": {},
   "source": [
    "## 💭 Reflection: Variables and \"Scope\"\n",
    "\n",
    "Note how we've used the name `meters` twice above: both within the function definition, and for the variable that takes the output of the function. What's going on here?\n",
    "\n",
    "Arguments and variables created within the function **only exist within the scope of the function!** So `meters` within the function definition is a *different variable* than `meters` which now holds `30.4`.\n",
    "\n",
    "In fancy words, the variable `meters` in the function definition only exists **within the scope of** that function definition. This is very important to remember!"
   ]
  },
  {
   "cell_type": "markdown",
   "metadata": {},
   "source": [
    "## 🥊 Challenge: My First Function\n",
    "\n",
    "Write a function that converts Celsius temperatures to Fahrenheit. The formula for this conversion is:\n",
    "\n",
    "$$F = 1.8 * C + 32$$\n",
    "\n",
    "You can name this function whatever you want. But it makes sense to name it something sensible!"
   ]
  },
  {
   "cell_type": "code",
   "execution_count": null,
   "metadata": {},
   "outputs": [],
   "source": [
    "def ___:\n",
    "    # write your code here\n",
    "    return(____)"
   ]
  },
  {
   "cell_type": "markdown",
   "metadata": {},
   "source": [
    "## Principles of Writing Your Own Functions\n",
    "\n",
    "Function writing is one of the most important skills you can develop as a programmer. However, there is also a lot that can go wrong in the function writing process, leading to time-consuming corrections. Here are some guidelines that can help minimize errors and make the process less painful:\n",
    "\n",
    "1. **Plan**\n",
    "    1. What is the overall goal of the function? Is there a function that exists already that does the same thing? \n",
    "    2. What is going to be the output of the function? (what data type, how many items)?\n",
    "    3. What arguments will you need? What pieces of the function do you need to control?\n",
    "    4. What are the general steps of the program? This can be written in bullet points or \"pseudocode\".\n",
    "2. **Write**\n",
    "    1. Start by writing the code without the function wrapper.\n",
    "    2. Start small. Write small self-contained blocks of code and put the pieces together. You can also consider sub-functions if it is a particularly complex issue.\n",
    "    3. Test each part of the function as it is added. Track the input of the function and how it changes at each step. \n",
    "    4. Wrap the code in the function syntax.\n",
    "3. **Test**\n",
    "    1. Take the function and test *several* cases.\n",
    "    2. Before running test cases, form an expectation of the result. \n",
    "    3. Test the function. Pay attention to both errors and strange results. Make adjustments to account for new cases.\n",
    "    4. Integrate the function with the rest of the code. Are the input arguments the right type? Does the output flow into the rest of the code?"
   ]
  },
  {
   "cell_type": "markdown",
   "metadata": {},
   "source": [
    "Let's go through an example of the function development process.\n",
    "\n",
    "Let's say we have a state name (e.g. California) and we want to generate the postal abbreviation for that state (California --> CA).\n",
    "\n",
    "1. **Plan**\n",
    "    1. Generate two-letter abbreviation for a state\n",
    "    2. Input: string of state name\n",
    "    3. Output: first two letters of string \n",
    "    4. The pseudocode might look like this: \n",
    "        ``` \n",
    "        function\n",
    "            select first two characters in the string\n",
    "            make upper case\n",
    "            return\n",
    "        ```\n",
    "\n",
    "2. **Write**\n",
    "\n",
    "Let's start with our example string `California` and select the first two characters in the string using string indexing:"
   ]
  },
  {
   "cell_type": "code",
   "execution_count": null,
   "metadata": {},
   "outputs": [],
   "source": [
    "ex_state = 'California'\n",
    "#select first two\n",
    "first_two = ex_state[:2]"
   ]
  },
  {
   "cell_type": "markdown",
   "metadata": {},
   "source": [
    "Now we need to make the letters uppercase (And check the output). "
   ]
  },
  {
   "cell_type": "code",
   "execution_count": null,
   "metadata": {},
   "outputs": [],
   "source": [
    "first_two.upper()"
   ]
  },
  {
   "cell_type": "markdown",
   "metadata": {},
   "source": [
    "Now that we've done the individual steps, we can put it together in the function syntax."
   ]
  },
  {
   "cell_type": "code",
   "execution_count": null,
   "metadata": {},
   "outputs": [],
   "source": [
    "def get_state_abbreviation(state):\n",
    "    first_two = state[:2]\n",
    "    abbr = first_two.upper()"
   ]
  },
  {
   "cell_type": "markdown",
   "metadata": {},
   "source": [
    "Now let's test this out:"
   ]
  },
  {
   "cell_type": "code",
   "execution_count": null,
   "metadata": {},
   "outputs": [],
   "source": [
    "print(get_state_abbreviation('California'))"
   ]
  },
  {
   "cell_type": "markdown",
   "metadata": {},
   "source": [
    "When we print the result, we get `None`. What step needs to be added? Let's add a statement to our definition above so that we can print the result. \n",
    "\n",
    "Now that we've got a working example let's test it on more examples:"
   ]
  },
  {
   "cell_type": "code",
   "execution_count": null,
   "metadata": {},
   "outputs": [],
   "source": [
    "get_state_abbreviation('Washington')\n",
    "get_state_abbreviation('california')"
   ]
  },
  {
   "cell_type": "markdown",
   "metadata": {},
   "source": [
    "## 🥊 Challenge: Modifying a function \n",
    "\n",
    "Now let's check our `get_state_abbreviation()` function for `Michigan` and `Minnesota`. What happens in the case where the states have the same first two letters? \n",
    "\n",
    "Write down a revised plan for the function to account for cases like the above, following the steps outlined in the previous section. Don't worry about writing the code for the function at this point. What additional structures or information might you need in order to accommodate cases like Michigan/Minnesota or Maine/Maryland?\n"
   ]
  },
  {
   "cell_type": "code",
   "execution_count": null,
   "metadata": {},
   "outputs": [],
   "source": [
    "#original abbreviating function\n",
    "def get_state_abbreviation(state):\n",
    "    first_two = state[:2]\n",
    "    abbr = first_two.upper()\n",
    "    return(abbr)"
   ]
  },
  {
   "cell_type": "code",
   "execution_count": null,
   "metadata": {},
   "outputs": [],
   "source": [
    "# YOUR CODE HERE\n"
   ]
  },
  {
   "cell_type": "markdown",
   "metadata": {},
   "source": [
    "## Function Arguments\n",
    "\n",
    "Function **arguments** or **parameters** are specified when defining a function in the parentheses, separated by commas. \n",
    "\n",
    "These arguments become variables when the function is executed. The variables are assigned the values passed to the function. We do operations based on the arguments, and return the result.\n",
    "\n",
    "Let's look at an example function in which we're performing division.\n",
    "\n",
    "**Question:** What is being divided by what in the following lines of code?"
   ]
  },
  {
   "cell_type": "code",
   "execution_count": null,
   "metadata": {},
   "outputs": [],
   "source": [
    "def divide(x, y):\n",
    "    return(x / y)\n",
    "\n",
    "print(divide(4, 6))\n",
    "print(divide(6, 4)) "
   ]
  },
  {
   "cell_type": "markdown",
   "metadata": {},
   "source": [
    "The order of the arguments matter; we got different results because each argument had a different role (numerator and denominator).\n",
    "\n",
    "You can also pass in **keyword arguments**, where each argument is assigned using a name."
   ]
  },
  {
   "cell_type": "code",
   "execution_count": null,
   "metadata": {},
   "outputs": [],
   "source": [
    "print(divide(x=4, y=6))\n",
    "print(divide(y=6, x=4))"
   ]
  },
  {
   "cell_type": "markdown",
   "metadata": {},
   "source": [
    "Are the arguments named appropriately? What does x and y stand for? What could be more clear?\n",
    "\n",
    "Generally, it's good practice to both use well-named arguments and use them in the same order. This is easier to read."
   ]
  },
  {
   "cell_type": "markdown",
   "metadata": {},
   "source": [
    "## Default Arguments\n",
    "\n",
    "We can also specify **default arguments** in functions. When we provide a default argument, the function will use that value when the user does not pass in a value. Default arguments are specified in the function signature.\n",
    "\n",
    "An expanded version of the `divide()` function is provided below. What is the additional parameter doing? What will be the output of `divide(24,5)`?"
   ]
  },
  {
   "cell_type": "code",
   "execution_count": null,
   "metadata": {},
   "outputs": [],
   "source": [
    "# y has default value equal to 10\n",
    "def divide(x, y, z = True):\n",
    "    if z:\n",
    "        return(round(x / y))\n",
    "    else:\n",
    "        return(x/y)"
   ]
  },
  {
   "cell_type": "markdown",
   "metadata": {},
   "source": [
    "We can use default arguments when there are arguments that we will only want to change some of the time. It's good practice to make the default of the argument the item that you will want to use most often.\n",
    "\n",
    "**Question:** What do you think the best default for the `z` argument above would be? What might be a better name for that argument?"
   ]
  },
  {
   "cell_type": "markdown",
   "metadata": {},
   "source": [
    "## 🥊 Challenge: More Errors!\n",
    "\n",
    "Why do the following lines return errors?\n",
    "\n",
    "**Hint**: Think about what happens inside the function, and how the arguments fit into the function."
   ]
  },
  {
   "cell_type": "code",
   "execution_count": null,
   "metadata": {},
   "outputs": [],
   "source": [
    "divide(z=False,10, 4)"
   ]
  },
  {
   "cell_type": "code",
   "execution_count": null,
   "metadata": {},
   "outputs": [],
   "source": [
    "divide(4, y='10')"
   ]
  },
  {
   "cell_type": "code",
   "execution_count": null,
   "metadata": {},
   "outputs": [],
   "source": [
    "divide(4)"
   ]
  },
  {
   "cell_type": "markdown",
   "metadata": {},
   "source": [
    "There's a lot of different permutations of arguments in functions, so keeping them organized will be helpful to both yourself and other people interacting with your code."
   ]
  }
 ],
 "metadata": {
  "kernelspec": {
   "display_name": "Python 3 (ipykernel)",
   "language": "python",
   "name": "python3"
  },
  "language_info": {
   "codemirror_mode": {
    "name": "ipython",
    "version": 3
   },
   "file_extension": ".py",
   "mimetype": "text/x-python",
   "name": "python",
   "nbconvert_exporter": "python",
   "pygments_lexer": "ipython3",
   "version": "3.8.13"
  }
 },
 "nbformat": 4,
 "nbformat_minor": 4
}
