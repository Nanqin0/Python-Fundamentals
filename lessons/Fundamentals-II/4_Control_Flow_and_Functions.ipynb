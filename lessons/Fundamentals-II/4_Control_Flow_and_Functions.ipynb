{
 "cells": [
  {
   "cell_type": "markdown",
   "metadata": {},
   "source": [
    "# Control Flow and Functions\n",
    "\n",
    "* * * \n",
    "\n",
    "### Icons Used In This Notebook\n",
    "🔔 **Question**: A quick question to help you understand what's going on.<br>\n",
    "🥊 **Challenge**: Interactive exercise. We'll work through these in the workshop!<br>\n",
    "💭 **Reflection**: Helping you think about programming.<br>\n",
    "⚠️ **Warning**: Heads-up about tricky stuff or common mistakes.<br>\n",
    "💡 **Tip**: How to do something a bit more efficiently or effectively.<br>\n",
    "🎬 **Demo**: Showing off something more advanced – so you know what Python can be used for!<br>\n",
    "\n",
    "### Learning Objectives\n",
    "1. [Reflection: Vocabulary Recap](#recap) \n",
    "2. [Loops](#loops)\n",
    "3. [Conditionals](#cond)\n",
    "4. [Functions and Arguments](#func)"
   ]
  },
  {
   "cell_type": "markdown",
   "metadata": {
    "jp-MarkdownHeadingCollapsed": true,
    "tags": []
   },
   "source": [
    "<a id='loops'></a>\n",
    "\n",
    "# 💭 Reflection: Vocabulary Recap\n",
    "\n",
    "**Variables** are names attached to particular values.\n",
    "   * To create a variable, you assign it a value and then start using it.\n",
    "   * Assignment is done with a single equals sign `=`.\n",
    "   * When we write `n = 300`, we are assigning 300 to the variable `n` via the assignment operator `=`.\n",
    "\n",
    "**Statements** are instructions that a Python interpreter can execute.\n",
    "   * They end with a NEWLINE character. This means each line in Python is a statement.\n",
    "   * For instance, `print('Hello')` is a statement; `x = 20` is a statement; and `x + y + z` is a statement. \n",
    "    \n",
    "**Functions** perform actions on \"things\".\n",
    "   * `print()` `len()`, and `type()`, are some of the most commonly used functions.\n",
    "   * You can identify a function because of its trailing round parentheses.  \n",
    "\n",
    "**Arguments** are the \"things\" we perform the action on within a function.\n",
    "   * They can be variables, datasets, or even other functions!\n",
    "   * Arguments go inside the trailing parentheses of functions when we call them.\n",
    "   * Arguments are also called inputs or parameters.\n",
    "\n",
    "**Methods** are type-specific functions.\n",
    "   * Different data types and structures have functions that only apply to them.\n",
    "   * For instance, strings have methods that only apply to them (lowercasing, uppercasing, etc.) that won't work with other data types.\n",
    "   * Methods are accessed using dot notation – e.g. `some_string.lower()`.\n",
    "\n",
    "Check out our [Python glossary](https://github.com/dlab-berkeley/Python-Fundamentals/blob/main/glossary.md) for definitions to other key vocabulary."
   ]
  },
  {
   "cell_type": "markdown",
   "metadata": {},
   "source": [
    "<a id='loops'></a>\n",
    "\n",
    "# Loops\n",
    "\n",
    "Let's say we have three tire pressure measurements: `40.9`, `35.2`, and `28.4`. We want to round each measurement to a whole number. How would we do this using the tools available to us?\n",
    "\n",
    "Here's one way:"
   ]
  },
  {
   "cell_type": "code",
   "execution_count": null,
   "metadata": {},
   "outputs": [],
   "source": [
    "tire1 = 40.9\n",
    "tire2 = 35.2\n",
    "tire3 = 28.4\n",
    "\n",
    "print(round(tire1))\n",
    "print(round(tire2))\n",
    "print(round(tire3))"
   ]
  },
  {
   "cell_type": "markdown",
   "metadata": {},
   "source": [
    "Here's another:"
   ]
  },
  {
   "cell_type": "code",
   "execution_count": null,
   "metadata": {},
   "outputs": [],
   "source": [
    "# We could also use a list\n",
    "tires = [40.9, 35.2, 28.4]\n",
    "print(round(tires[0]), round(tires[1]), round(tires[2]))"
   ]
  },
  {
   "cell_type": "markdown",
   "metadata": {},
   "source": [
    "🔔 **Question:** Which method do you prefer?"
   ]
  },
  {
   "cell_type": "markdown",
   "metadata": {},
   "source": [
    "Let's say that we have 1000 tire pressures in a list. Using either method would require rounding each value separately.\n",
    "\n",
    "Our current approach is not particularly scalable. It's also not very flexible. For example, what if you want to round every tire pressure to two decimal places?"
   ]
  },
  {
   "cell_type": "markdown",
   "metadata": {},
   "source": [
    "## Loops for Repeated Computation\n",
    "\n",
    "The strength of using computers is their speed. We can leverage this by facilitating repeated computation with **loops**. In programming, there are generally two kinds of loops: for loops and while loops. \n",
    "\n",
    "A **[for loop](https://www.w3schools.com/python/python_for_loops.asp)** executes some statements once *for* each value in an interable (like a list or a string). It says: \"*for* each thing in this group, *do* these operations\".\n",
    "\n",
    "A **[while loop](https://www.w3schools.com/python/python_while_loops.asp)** says: \"*while* Condition A is true, *do* these operations\".  We don't use these loops frequently in this type of programming so we won't cover them here.\n",
    "\n",
    "Let's take a look at the syntax of a for loop using the above example:"
   ]
  },
  {
   "cell_type": "code",
   "execution_count": null,
   "metadata": {},
   "outputs": [],
   "source": [
    "# We use a variable containing a list with the values to be iterated through\n",
    "tires = [41, 35, 28]\n",
    "\n",
    "# Initialize the loop\n",
    "for pressure in tires:\n",
    "    print(round(pressure))\n",
    "\n",
    "# This will only be printed when the loop has ended!\n",
    "print('The loop has ended.')"
   ]
  },
  {
   "cell_type": "markdown",
   "metadata": {},
   "source": [
    "Note that the above example is pretty easy to read:\n",
    "\n",
    "\"**for** each pressure **in** tires, print out the rounded pressure\".\n",
    "\n",
    "Of course, this requires that you use good names for your variables, though!"
   ]
  },
  {
   "cell_type": "markdown",
   "metadata": {},
   "source": [
    "## Loop Syntax\n",
    "\n",
    "Let's break down the syntax of the `for` loop more closely.\n",
    "\n",
    "*   The colon at the end of the first line signals the start of a *block* of statements.\n",
    "*   The indented line(s) following the colon indicate the lines to run as a part of the loop (also known as the body).\n",
    "*   Unindented lines following the loop will execute **after** all iterations of the for loop are complete.\n",
    "*   `for loop_variable in collection:` The loop variable is what gets plugged into the calculations in the body of the loop, and the collection is the group of values being looped through.\n",
    "*   Loop variables:\n",
    "    *   Are created on demand.\n",
    "    *   Can have any name (though your code is more readable if these names are meaningful!).\n",
    "    *   Act as placeholders for the loop."
   ]
  },
  {
   "cell_type": "markdown",
   "metadata": {},
   "source": [
    "## 🥊 Challenge: Fixing Loop Syntax\n",
    "\n",
    "The following block of code contains **three errors** that are preventing it from running properly. What are the errors? How would you fix them?"
   ]
  },
  {
   "cell_type": "code",
   "execution_count": null,
   "metadata": {},
   "outputs": [],
   "source": [
    "for number in [2, 3, 5]\n",
    "print(n)\n"
   ]
  },
  {
   "cell_type": "markdown",
   "metadata": {},
   "source": [
    "## Loops with Strings, Series, and `range`\n",
    "\n",
    "Loops can loop over any iterable data type. An **iterable** is any data type that can be iterated over, like a sequence. Generally, anything that can be indexed (e.g. accessed with `values[i]`) is an iterable.\n",
    "\n",
    "For example, a string is iterable, so it is possible to loop through a string!\n",
    "\n",
    "Let's take a look at an example:"
   ]
  },
  {
   "cell_type": "code",
   "execution_count": null,
   "metadata": {},
   "outputs": [],
   "source": [
    "example_string = 'yosemite'\n",
    "\n",
    "for char in example_string:\n",
    "    # Use the upper() method on char\n",
    "    print(char.upper())"
   ]
  },
  {
   "cell_type": "markdown",
   "metadata": {},
   "source": [
    "## 🥊 Challenge: Looping Through a Series\n",
    "\n",
    "We can loop through a `pandas` Series just like we can through a list.\n",
    "\n",
    "Let's do this for the following DataFrame, which contains a bunch of mountains and their elevation in feet. Proceed as follows:\n",
    "\n",
    "1. Extract the column `elevation` as a Series.\n",
    "2. Loop through the series using a `for` loop.\n",
    "3. Convert each value to meters using the conversion: 1 ft = .304 m.\n",
    "4. Print the results. "
   ]
  },
  {
   "cell_type": "code",
   "execution_count": null,
   "metadata": {},
   "outputs": [],
   "source": [
    "import pandas as pd\n",
    "\n",
    "mountains_df = pd.DataFrame(\n",
    "    {'mountain': ['Mt. Whitney',\n",
    "                  'Mt. Williamson',\n",
    "                  'White Mountain Peak',\n",
    "                  'North Palisade',\n",
    "                  'Mt. Shasta',\n",
    "                  'Mt. Humphreys'],\n",
    "     'range': ['Sierra Nevada',\n",
    "               'Sierra Nevada',\n",
    "               'White Mountains',\n",
    "               'Sierra Nevada',\n",
    "               'Cascade Range',\n",
    "               'Sierra Nevada'],\n",
    "     'elevation': [14505, 14379, 14252, 14248, 14179, 13992]}\n",
    ")\n",
    "\n",
    "mountains_df"
   ]
  },
  {
   "cell_type": "code",
   "execution_count": null,
   "metadata": {},
   "outputs": [],
   "source": [
    "# YOUR CODE HERE\n"
   ]
  },
  {
   "cell_type": "markdown",
   "metadata": {},
   "source": [
    "💡 **Tip**: Using for-loops in Pandas is generally not advisable. We can loop over data much more efficiently using something called [**vectorization**](https://www.geeksforgeeks.org/vectorized-operations-in-numpy/). We can tell Pandas to multiple the whole column, and it will multiply each element individually! "
   ]
  },
  {
   "cell_type": "code",
   "execution_count": null,
   "metadata": {},
   "outputs": [],
   "source": [
    "mountains_df.elevation * .304"
   ]
  },
  {
   "cell_type": "markdown",
   "metadata": {},
   "source": [
    "## Aggregating Values with Loops\n",
    "\n",
    "A common strategy in programs is to:\n",
    "1.  Initialize an *accumulator* variable appropriate to the datatype of the output:\n",
    "    * `int` : `0`\n",
    "    * `str` : `''`\n",
    "    * `list` : `[]`\n",
    "2.  Update the variable with values from a collection through a for loop. Typical update operations are:\n",
    "    * `int` : `+`\n",
    "    * `str` : `+`\n",
    "    * `list` : `.append()`\n",
    "    \n",
    "The result of this is a single list, number, or string with a summary value for the entire collection being looped over.\n",
    "\n",
    "Returning to the tire pressure example, we can make a new list with all of the tire pressures rounded:"
   ]
  },
  {
   "cell_type": "code",
   "execution_count": null,
   "metadata": {},
   "outputs": [],
   "source": [
    "rounded_pressures = []\n",
    "\n",
    "for pressure in tires: \n",
    "    rounded = round(pressure)\n",
    "    rounded_pressures.append(rounded)\n",
    "\n",
    "print('Rounded tire pressures:', rounded_pressures)"
   ]
  },
  {
   "cell_type": "markdown",
   "metadata": {},
   "source": [
    "## 🥊 Challenge: Aggregation Practice\n",
    "\n",
    "Below are a few examples showing the different types of quantities you might aggregate using a for loop. These loops are partially filled out. Finish them and test that they work!"
   ]
  },
  {
   "cell_type": "markdown",
   "metadata": {},
   "source": [
    "1. Find the total length of the strings in the given list. Store this quantity in a variable called `total`."
   ]
  },
  {
   "cell_type": "code",
   "execution_count": null,
   "metadata": {},
   "outputs": [],
   "source": [
    "total = 0\n",
    "words = ['red', 'green', 'blue']\n",
    "\n",
    "for w in words:\n",
    "    ____ = ____ + len(w)\n",
    "\n",
    "print(total)"
   ]
  },
  {
   "cell_type": "markdown",
   "metadata": {},
   "source": [
    "2. Find the length of each word in the list, and store these lengths in another list called `lengths`."
   ]
  },
  {
   "cell_type": "code",
   "execution_count": null,
   "metadata": {},
   "outputs": [],
   "source": [
    "lengths = ____\n",
    "words = ['red', 'green', 'blue']\n",
    "\n",
    "for w in words:\n",
    "    lengths.____(____)\n",
    "\n",
    "print(lengths)"
   ]
  },
  {
   "cell_type": "markdown",
   "metadata": {},
   "source": [
    "3. Concatenate all words into a single string called `result`."
   ]
  },
  {
   "cell_type": "code",
   "execution_count": null,
   "metadata": {},
   "outputs": [],
   "source": [
    "words = ['red', 'green', 'blue']\n",
    "result = ____\n",
    "\n",
    "for ____ in ____:\n",
    "    ____\n",
    "\n",
    "print(result)"
   ]
  },
  {
   "cell_type": "markdown",
   "metadata": {},
   "source": [
    "4. Create an acronym, as a single string, representing the list of words. Each part of the acronym should consist of the first letter of each word, capitalized. For example, your loop should output `\"RGB\"` for the input `[\"red\", \"green\", \"blue\"]`. For this one, write the entire loop yourself!"
   ]
  },
  {
   "cell_type": "code",
   "execution_count": null,
   "metadata": {},
   "outputs": [],
   "source": [
    "words = ['red', 'green', 'blue']\n",
    "\n",
    "# YOUR CODE HERE\n"
   ]
  },
  {
   "cell_type": "markdown",
   "metadata": {},
   "source": [
    "💡 **Tip**: Python runs loops without showing you all the steps it takes. If you want to visualize all steps, check out [pythontutor.com](https://pythontutor.com/python-debugger.html#mode=edit). Try copy-pasting one of your answers in the last challenge!"
   ]
  },
  {
   "cell_type": "markdown",
   "metadata": {},
   "source": [
    "<a id='cond'></a>\n",
    "\n",
    "# Conditionals\n",
    "\n",
    "**Booleans** are a fundamental data type in programming. Booleans are variables that are **binary**: they can either be `True` or `False` (written with capital letters).\n",
    "\n",
    "Why do we use these? They're very useful for **control flow**: changing the course of a program depending on certain conditions. Booleans allow decision making in these contexts.\n",
    "\n",
    "## Boolean Masks\n",
    "\n",
    "A **boolean mask** allows you to use Booleans in data frames. It returns a `Series` object containing `True` and `False` values you can then use for other purposes. \n",
    "\n",
    "Let's say we're working with a `DataFrame` containing information about mountains."
   ]
  },
  {
   "cell_type": "code",
   "execution_count": null,
   "metadata": {},
   "outputs": [],
   "source": [
    "import pandas as pd\n",
    "\n",
    "mountains_df = pd.DataFrame(\n",
    "    {'mountain': ['Mt. Whitney',\n",
    "                  'Mt. Williamson',\n",
    "                  'White Mountain Peak',\n",
    "                  'North Palisade',\n",
    "                  'Mt. Shasta',\n",
    "                  'Mt. Humphreys'],\n",
    "     'range': ['Sierra Nevada',\n",
    "               'Sierra Nevada',\n",
    "               'White Mountains',\n",
    "               'Sierra Nevada',\n",
    "               'Cascade Range',\n",
    "               'Sierra Nevada'],\n",
    "     'elevation': [14505, 14379, 14252, 14248, 14179, 13992]}\n",
    ")"
   ]
  },
  {
   "cell_type": "markdown",
   "metadata": {},
   "source": [
    "Let's use some boolean masks with different **comparison operators**. These are operators than are used to compare two values.\n",
    "\n",
    "First, equality. This is signaled in Python (and many other languages) by the double equals sign `==`. It's distinct from the assignment operator (single equals sign `=`) used in variable assignment. "
   ]
  },
  {
   "cell_type": "code",
   "execution_count": null,
   "metadata": {},
   "outputs": [],
   "source": [
    "mountains_df['range'] == 'Sierra Nevada'"
   ]
  },
  {
   "cell_type": "markdown",
   "metadata": {},
   "source": [
    "We can also use `<` (smaller than), `>` (greater than), and `!=` (unequal to). For instance:"
   ]
  },
  {
   "cell_type": "code",
   "execution_count": null,
   "metadata": {
    "scrolled": true
   },
   "outputs": [],
   "source": [
    "# Select the elevation column and apply a boolean mask\n",
    "mountains_df['elevation'] > 14200"
   ]
  },
  {
   "cell_type": "markdown",
   "metadata": {},
   "source": [
    "Let's add this last `Series` as a column to `mountains_df`. We can add a column by assigning a series to a new column name in bracket notation. "
   ]
  },
  {
   "cell_type": "code",
   "execution_count": null,
   "metadata": {},
   "outputs": [],
   "source": [
    "mountains_df['over_14200'] = mountains_df['elevation'] > 14200\n",
    "mountains_df"
   ]
  },
  {
   "cell_type": "markdown",
   "metadata": {},
   "source": [
    "🔔 **Question**: Do you understand the code below?"
   ]
  },
  {
   "cell_type": "code",
   "execution_count": null,
   "metadata": {},
   "outputs": [],
   "source": [
    "sum(mountains_df['elevation'] > 14200) / len(mountains_df['elevation'])"
   ]
  },
  {
   "cell_type": "markdown",
   "metadata": {},
   "source": [
    "💡 **Tip**: Python also has \"logic operators\" such as `and` and `or` than can be used to compare Boolean values with logic. See [here](https://www.w3schools.com/python/python_operators.asp) for a list of all operators!"
   ]
  },
  {
   "cell_type": "markdown",
   "metadata": {},
   "source": [
    "## If-Statements\n",
    "\n",
    "A fundamental structure in programming is the **conditional**. These blocks allow different blocks of code to run, *conditional* on specific things being true.\n",
    "\n",
    "The most widely used conditional is the **if-statement**. An if-statement controls whether some block of code is executed or not. Its structure is similar to that of a for loop: \n",
    "\n",
    "*   The first line opens with the `if` keyword and contains a Boolean variable or expression. It ends with a colon. If the expression evaluates to `True`, the block of code will run.\n",
    "*   The body, containing whatever code to execute if the condition is met, is indented.\n",
    "\n",
    "So, if the Boolean expression is `True`, the body of an if-statement is run. If not, it's skipped. Let's look at an example:"
   ]
  },
  {
   "cell_type": "code",
   "execution_count": null,
   "metadata": {},
   "outputs": [],
   "source": [
    "number = 105"
   ]
  },
  {
   "cell_type": "code",
   "execution_count": null,
   "metadata": {},
   "outputs": [],
   "source": [
    "# Body is executed\n",
    "if number > 100:\n",
    "    print(number, 'is greater than 100.')"
   ]
  },
  {
   "cell_type": "code",
   "execution_count": null,
   "metadata": {},
   "outputs": [],
   "source": [
    "# Body is not executed\n",
    "if number > 110:\n",
    "    print(number, 'is greater than 110.')"
   ]
  },
  {
   "cell_type": "markdown",
   "metadata": {},
   "source": [
    "## Conditionals and Loops\n",
    "\n",
    "Conditionals are particularly useful when we're iterating through a list, and want to perform some operation only on specific components of that list that satisfy a certain condition.\n",
    "\n",
    "🔔 **Question**: what will the output of the following code be?"
   ]
  },
  {
   "cell_type": "code",
   "execution_count": null,
   "metadata": {},
   "outputs": [],
   "source": [
    "numbers = [12, 20, 43, 88, 97, 100, 105, 110]\n",
    "\n",
    "for number in numbers:\n",
    "    if number > 100:\n",
    "        print(number, 'is greater than 100.')"
   ]
  },
  {
   "cell_type": "markdown",
   "metadata": {},
   "source": [
    "## Conditionals: Else-statements\n",
    "\n",
    "Else-statements supplement if-statements. They allow us to specify an alternative block of code to run if the if-statement's conditional evaluates to `False`.\n",
    "\n",
    "🔔 **Question**: What is the difference between the following cell and the previous if statement. How will that affect the output?"
   ]
  },
  {
   "cell_type": "code",
   "execution_count": null,
   "metadata": {},
   "outputs": [],
   "source": [
    "numbers = [12, 20, 43, 88, 97, 100, 105, 110]\n",
    "\n",
    "for number in numbers:\n",
    "    if number > 100:\n",
    "        print(number, 'is greater than 100.')\n",
    "    else:\n",
    "        print(number, 'is less than or equal to 100.')"
   ]
  },
  {
   "cell_type": "markdown",
   "metadata": {},
   "source": [
    "## Conditionals: Else-if Statements\n",
    "\n",
    "We may want to check several conditionals at the same time. **Else-if (Elif-)** statements allow us to specify as many conditional checks as we'd like in the same block.\n",
    "\n",
    "Elif-statements must follow an if-statement. They only are checked if the if-statement fails. Then, each elif-statement is checked, with their corresponding bodies run when the conditional evaluates to `True`.\n",
    "\n",
    "An else statement at the end can act as a \"catch all\", when the if statement and all following else-if statements fail.\n",
    "\n",
    "In Python, else if statements are indicated by the `elif` keyword. Consider the following conditional cell."
   ]
  },
  {
   "cell_type": "code",
   "execution_count": null,
   "metadata": {},
   "outputs": [],
   "source": [
    "numbers = [12, 20, 43, 88, 97, 100, 105, 110]\n",
    "\n",
    "for number in numbers:\n",
    "    if number > 100:\n",
    "        print(number, 'is greater than 100.')\n",
    "    elif number > 50:\n",
    "        print(number, 'is greater than 50.')\n",
    "    elif number > 25:\n",
    "        print(number, 'is greater than 25.')\n",
    "    else:\n",
    "        print(number, 'is less than or equal to 25.')"
   ]
  },
  {
   "cell_type": "markdown",
   "metadata": {},
   "source": [
    "The order of the if and elif statements matters. When one if/elif statement is met, all following statements are skipped.  If there are multiple if statements, then each statement is evaluated separately. These kinds of errors won't give errors in the code, but they will give results that might not make sense, which can take longer to find and debug."
   ]
  },
  {
   "cell_type": "markdown",
   "metadata": {},
   "source": [
    "## 🥊 Challenge: Conditionals and Aggregation\n",
    "Below, we've created a list of US Presidents. Create a new list containing all Presidents whose first name starts with the letter J. How many presidents are on this list?\n",
    "\n",
    "**Hint:** The `.split()` string function will be useful for this. Also, remember that strings are indexed: you can access any character of the string using bracket notation!"
   ]
  },
  {
   "cell_type": "code",
   "execution_count": null,
   "metadata": {},
   "outputs": [],
   "source": [
    "presidents = [\n",
    "    \"George Washington\",\n",
    "    \"John Adams\",\n",
    "    \"Thomas Jefferson\",\n",
    "    \"James Madison\",\n",
    "    \"James Monroe\",\n",
    "    \"John Quincy Adams\",\n",
    "    \"Andrew Jackson\",\n",
    "    \"Martin Van Buren\",\n",
    "    \"William Henry Harrison\",\n",
    "    \"John Tyler\",\n",
    "    \"James K. Polk\",\n",
    "    \"Zachary Taylor\",\n",
    "    \"Millard Fillmore\",\n",
    "    \"Franklin Pierce\",\n",
    "    \"James Buchanan\",\n",
    "    \"Abraham Lincoln\",\n",
    "    \"Andrew Johnson\",\n",
    "    \"Ulysses S. Grant\",\n",
    "    \"Rutherford B. Hayes\",\n",
    "    \"James A. Garfield\",\n",
    "    \"Chester A. Arthur\",\n",
    "    \"Grover Cleveland\",\n",
    "    \"Benjamin Harrison\",\n",
    "    \"Grover Cleveland\",\n",
    "    \"William McKinley\",\n",
    "    \"Theodore Roosevelt\",\n",
    "    \"William Howard Taft\",\n",
    "    \"Woodrow Wilson\",\n",
    "    \"Warren G. Harding\",\n",
    "    \"Calvin Coolidge\",\n",
    "    \"Herbert Hoover\",\n",
    "    \"Franklin D. Roosevelt\",\n",
    "    \"Harry S. Truman\",\n",
    "    \"Dwight D. Eisenhower\",\n",
    "    \"John F. Kennedy\",\n",
    "    \"Lyndon B. Johnson\",\n",
    "    \"Richard Nixon\",\n",
    "    \"Gerald Ford\",\n",
    "    \"Jimmy Carter\",\n",
    "    \"Ronald Reagan\",\n",
    "    \"George H. W. Bush\",\n",
    "    \"Bill Clinton\",\n",
    "    \"George W. Bush\",\n",
    "    \"Barack Obama\",\n",
    "    \"Donald Trump\",\n",
    "    \"Joe Biden\"]"
   ]
  },
  {
   "cell_type": "code",
   "execution_count": null,
   "metadata": {},
   "outputs": [],
   "source": [
    "last_name_b = ___\n",
    "for p in presidents:\n",
    "    if ___\n",
    "        ____.append(___)\n",
    "print(last_name_b)"
   ]
  },
  {
   "cell_type": "markdown",
   "metadata": {
    "tags": []
   },
   "source": [
    "<a id='func'></a>\n",
    "\n",
    "# Functions and Arguments\n",
    "\n",
    "As you might have noticed, **Functions** are a core part of programming that allows us to run complex operations over and over without needing to write the code over and over again. **Arguments**, or values passed to a function, allow us to be more specific about how functions work."
   ]
  },
  {
   "cell_type": "markdown",
   "metadata": {
    "tags": []
   },
   "source": [
    "🔔 **Question**: Look at the error below. From the error message, how many arguments does the function take?"
   ]
  },
  {
   "cell_type": "code",
   "execution_count": null,
   "metadata": {},
   "outputs": [],
   "source": [
    "len()"
   ]
  },
  {
   "cell_type": "markdown",
   "metadata": {},
   "source": [
    "Below, we use a function name without parentheses. What does the output say? "
   ]
  },
  {
   "cell_type": "code",
   "execution_count": null,
   "metadata": {},
   "outputs": [],
   "source": [
    "round"
   ]
  },
  {
   "cell_type": "markdown",
   "metadata": {},
   "source": [
    "💡 **Tip**: This is referring to the stored function in memory. In order for the function to actually run, it must be called with `()`."
   ]
  },
  {
   "cell_type": "markdown",
   "metadata": {},
   "source": [
    "## Default Arguments\n",
    "\n",
    "⚠️ **Warning**: A function without the proper number of arguments will give an error, which will give some information about what arguments you need for the function to be successful.\n",
    "\n",
    "Luckily, some functions do not require you to enter a value for each argument. In these cases, it will use a **default argument** specified in the function.\n",
    "\n",
    "*   For example, `round()` will round a number. It accepts two arguments: the number, and the number of decimal places to round off to.\n",
    "*   By default, it rounds to a whole number."
   ]
  },
  {
   "cell_type": "code",
   "execution_count": null,
   "metadata": {},
   "outputs": [],
   "source": [
    "round(3.712)"
   ]
  },
  {
   "cell_type": "markdown",
   "metadata": {},
   "source": [
    "We can specify the number of decimal places we want:"
   ]
  },
  {
   "cell_type": "code",
   "execution_count": null,
   "metadata": {},
   "outputs": [],
   "source": [
    "round(3.712, 1)"
   ]
  },
  {
   "cell_type": "markdown",
   "metadata": {},
   "source": [
    "The order of arguments matters if we do not specify the so-called **keywords**. Let's have a look at the documentation."
   ]
  },
  {
   "cell_type": "code",
   "execution_count": null,
   "metadata": {},
   "outputs": [],
   "source": [
    "?round"
   ]
  },
  {
   "cell_type": "markdown",
   "metadata": {},
   "source": [
    "The **keywords** are the parameter names in between the brackets before the `=` sign. In this case, these are `number` and `ndigits`.\n",
    "\n",
    "We can't just reverse the order of the arguments in `round()`: this will result in an error."
   ]
  },
  {
   "cell_type": "code",
   "execution_count": null,
   "metadata": {},
   "outputs": [],
   "source": [
    "# This works\n",
    "round(3.000, 2)"
   ]
  },
  {
   "cell_type": "code",
   "execution_count": null,
   "metadata": {},
   "outputs": [],
   "source": [
    "# This doesn't\n",
    "round(2, 3.000)"
   ]
  },
  {
   "cell_type": "markdown",
   "metadata": {},
   "source": [
    "However, if we specify the **keywords** that we can find in the documentation, we can use any order we want."
   ]
  },
  {
   "cell_type": "code",
   "execution_count": null,
   "metadata": {},
   "outputs": [],
   "source": [
    "round(ndigits=2, number=3.000)"
   ]
  },
  {
   "cell_type": "markdown",
   "metadata": {},
   "source": [
    "⚠️ **Warning**: If you specify one keyword for one argument when calling the function, you need to specify the keywords for all arguments!"
   ]
  },
  {
   "cell_type": "markdown",
   "metadata": {
    "tags": []
   },
   "source": [
    "💡 **Tip:** You can use the Built-in Function `help` to Get Help for a Function. You can also use a question mark:"
   ]
  },
  {
   "cell_type": "code",
   "execution_count": null,
   "metadata": {},
   "outputs": [],
   "source": [
    "help(round)"
   ]
  },
  {
   "cell_type": "code",
   "execution_count": null,
   "metadata": {},
   "outputs": [],
   "source": [
    "round?"
   ]
  },
  {
   "cell_type": "markdown",
   "metadata": {},
   "source": [
    "## Every Function Returns a Value\n",
    "\n",
    "*   Every [function call](https://github.com/dlab-berkeley/Python-Fundamentals/blob/main/glossary.md) produces some result.\n",
    "*   If the function doesn't have a useful result to return,\n",
    "    it usually returns the special value `None`.\n",
    "* Unless the goal of the function is to print results, you usually want to save the output so you can refer to it later"
   ]
  },
  {
   "cell_type": "code",
   "execution_count": null,
   "metadata": {},
   "outputs": [],
   "source": [
    "output = len('Getting the length of a sentence can be pretty useful!')\n",
    "print('The length is', output)"
   ]
  }
 ],
 "metadata": {
  "kernelspec": {
   "display_name": "Python 3 (ipykernel)",
   "language": "python",
   "name": "python3"
  },
  "language_info": {
   "codemirror_mode": {
    "name": "ipython",
    "version": 3
   },
   "file_extension": ".py",
   "mimetype": "text/x-python",
   "name": "python",
   "nbconvert_exporter": "python",
   "pygments_lexer": "ipython3",
   "version": "3.8.13"
  }
 },
 "nbformat": 4,
 "nbformat_minor": 4
}
