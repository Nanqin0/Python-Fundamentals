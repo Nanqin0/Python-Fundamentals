{
 "cells": [
  {
   "cell_type": "markdown",
   "metadata": {
    "tags": []
   },
   "source": [
    "# Introduction to Pandas and 🚀 Project\n",
    "\n",
    "* * * \n",
    "\n",
    "### Icons used in this notebook\n",
    "🔔 **Question**: A quick question to help you understand what's going on.<br>\n",
    "🥊 **Challenge**: Interactive excersise. We'll work through these in the workshop!<br>\n",
    "💭 **Reflection**: Helping you think about programming.<br>\n",
    "⚠️ **Warning**: Heads-up about tricky stuff or common mistakes.<br>\n",
    "💡 **Tip**: How to do something a bit more efficiently or effectively.<br>\n",
    "🎬 **Demo**: Showing off something more advanced – so you know what Python can be used for!<br>\n",
    "\n",
    "### Learning Objectives\n",
    "1. [Importing Libraries](#lib)\n",
    "2. [Importing Data from Files](#data)\n",
    "3. [Working with Pandas](#pandas)\n",
    "4. [🚀 Project](#project)\n"
   ]
  },
  {
   "cell_type": "markdown",
   "metadata": {},
   "source": [
    "<a id='lib'></a>\n",
    "\n",
    "# Importing Libraries\n",
    "\n",
    "A **library** refers to a reusable chunk of code. Usually, a Python library contains a collection of related functionalities.\n",
    "\n",
    "We have already been using Python's [standard library](https://docs.python.org/3/library/) - it comes ready and loaded with Python. We've also used `pandas` to work with data frames. Today, we will expand on our Pandas knowledge and do our first data science project.\n",
    "\n",
    "Before we can use a library like Pandas, we have to **import** it into the current session.\n",
    "Importing is done with the `import` keyword. We simply run `import [PACKAGE_NAME]`, and everything inside the package becomes available to use.\n",
    "\n",
    "Let's import the `numpy` module, which has a lot of useful functions for working with numerical data. Let's access a function from this module using dot notation."
   ]
  },
  {
   "cell_type": "code",
   "execution_count": null,
   "metadata": {},
   "outputs": [],
   "source": [
    "import numpy\n",
    "\n",
    "print('The mean of [1,4,5] is:', numpy.mean([1,4,5]))"
   ]
  },
  {
   "cell_type": "markdown",
   "metadata": {},
   "source": [
    "For many packages, like `numpy`, there is an **alias**, or nickname that they are often imported as. For common packages (especially those with long names), it saves a lot of typing when you use a nickname. For example, `numpy` is usually imported as below:"
   ]
  },
  {
   "cell_type": "code",
   "execution_count": null,
   "metadata": {},
   "outputs": [],
   "source": [
    "import numpy as np\n",
    "\n",
    "print('mean of [1,4,5] is:', np.mean([1,4,5]))"
   ]
  },
  {
   "cell_type": "markdown",
   "metadata": {},
   "source": [
    "There are very common abbreviations used for some of the more popular libraries, including:\n",
    "\n",
    "* `pandas` -> `pd`\n",
    "* `numpy` -> `np`\n",
    "* `matplotlib` -> `plt`\n",
    "* `statsmodels.api` -> `sm`\n",
    "\n",
    "⚠️ **Warning**: Sometimes aliases can make programs harder to understand, since readers must learn your program's aliases. Be very intentional about using aliases!"
   ]
  },
  {
   "cell_type": "markdown",
   "metadata": {},
   "source": [
    "### Help!\n",
    "\n",
    "How do we know what we can do with `numpy`? Usually, packages provide **documentation** which explain these components. We can access this documentation with the `help` function:"
   ]
  },
  {
   "cell_type": "code",
   "execution_count": null,
   "metadata": {},
   "outputs": [],
   "source": [
    "help(numpy)"
   ]
  },
  {
   "cell_type": "markdown",
   "metadata": {},
   "source": [
    "You can also view documentation [online](https://docs.python.org/3/library/math.html). \n",
    "\n",
    "Being comfortable sifting through documentation is a **very** important skill!"
   ]
  },
  {
   "cell_type": "markdown",
   "metadata": {},
   "source": [
    "🔔 **Question**: You are curious about what is available in the `math` module, so you run `help(math)`. However, you get an error. What went wrong?"
   ]
  },
  {
   "cell_type": "code",
   "execution_count": null,
   "metadata": {
    "tags": []
   },
   "outputs": [],
   "source": [
    "help(math)"
   ]
  },
  {
   "cell_type": "markdown",
   "metadata": {},
   "source": [
    "### Importing Specific Components of a Library\n",
    "\n",
    "We generally want to import only what we need from a library. To do so, we use the `from` keyword. This allows us to import a specific module, function, or variable, and then refer to it directly without the library name as prefix.\n",
    "\n",
    "Specifically, we use the syntax `from [PACKAGE_NAME] import [COMPONENT]`.\n",
    "\n",
    "Let's do this with the `numpy` module. From the `numpy.random` module we want to import the `shuffle()` function, which will shuffle a list of items.\n"
   ]
  },
  {
   "cell_type": "code",
   "execution_count": null,
   "metadata": {},
   "outputs": [],
   "source": [
    "from numpy.random import shuffle\n",
    "test = [1,2,3,4]\n",
    "shuffle(test)\n",
    "print(test)"
   ]
  },
  {
   "cell_type": "markdown",
   "metadata": {},
   "source": [
    "🔔 **Question**: There is another module caled `random` in the Python standard library. Knowing that, why might we not want to run `from numpy import random` and `import random` in the same notebook?"
   ]
  },
  {
   "cell_type": "markdown",
   "metadata": {},
   "source": [
    "## 🥊 Challenge: Locating the Right Library\n",
    "\n",
    "You want to select a random value from a list of data.\n",
    "\n",
    "1. What [standard library](https://docs.python.org/3/library/) would you most expect to help? Look at the documentation and find it.\n",
    "2. Which **function** would you select from that library? 💡 **Tip**: Look at \"Functions for sequences\" in the documentation.\n",
    "3. Import the library, and apply the function to the following list."
   ]
  },
  {
   "cell_type": "code",
   "execution_count": null,
   "metadata": {},
   "outputs": [],
   "source": [
    "ids = [1, 2, 3, 4, 5, 6]"
   ]
  },
  {
   "cell_type": "code",
   "execution_count": null,
   "metadata": {},
   "outputs": [],
   "source": [
    "# YOUR CODE HERE\n",
    "\n"
   ]
  },
  {
   "cell_type": "markdown",
   "metadata": {
    "tags": []
   },
   "source": [
    "<a id='data'></a>\n",
    "\n",
    "# Importing data from files\n",
    "\n",
    "No set of basic skills is complete without learning how to import data from files. "
   ]
  },
  {
   "cell_type": "markdown",
   "metadata": {},
   "source": [
    "## Getting your bearings\n",
    "\n",
    "Before we can get our data, we first have to figure out where the file is on our hard disk! \n",
    "\n",
    "We can use `!pwd` to check the location of your \"working directory\" (the folder on your computer that Python is currently connected to). "
   ]
  },
  {
   "cell_type": "code",
   "execution_count": null,
   "metadata": {
    "scrolled": true
   },
   "outputs": [],
   "source": [
    "# print working directory\n",
    "!pwd"
   ]
  },
  {
   "cell_type": "markdown",
   "metadata": {},
   "source": [
    "⚠️ **Warning**: Navigating file paths can be *pretty confusing* 😵‍💫, but it's an important skill! \n"
   ]
  },
  {
   "cell_type": "markdown",
   "metadata": {},
   "source": [
    "## Import a .csv file"
   ]
  },
  {
   "cell_type": "markdown",
   "metadata": {},
   "source": [
    "As data scientists, we'll mostly be working with **Comma Seperated Values (.csv)** files. \n",
    "\n",
    "Comma separated values files are common because they are relatively small and look good in spreadsheet software. A comma separated values file is just a text file that contains data but that has commas (or other separators) to indicate column breaks.\n",
    "\n",
    "`pandas` comes with a function [`.read_csv()`](https://pandas.pydata.org/docs/reference/api/pandas.read_csv.html)\n",
    "that makes it really easy to import .csv files.\n",
    "\n",
    "💡 **Tip**: Let's have a look at a .csv file in our File Browser!"
   ]
  },
  {
   "cell_type": "markdown",
   "metadata": {},
   "source": [
    "### Wait, how do I get my files?\n",
    "\n",
    "The file we want to import are inside a folder called \"Data\", which is inside of the main \"Python-Fundamentals\" folder. As you can see in the file path, this directory is two folders \"up\" from where we currently are. \n",
    "\n",
    "💡 **Tip**: Let's use the File Browser to the left of our screen, as well as our Finder (Mac) / File Explorer (Windows), to orient ourselves. \n",
    "\n",
    "Have a look at the \"gapminder-FiveYearData.csv\" file we are importing below.\n",
    "\n",
    "* The `read_csv()` function takes a string as its main argument. This string consists of the file path pointing to the file.\n",
    "* `../` means 'go up one level in the folder'.\n",
    "* `../../` means 'go up two levels in the folder'.\n",
    "* `data/` means 'go into a folder called \"data\".\n",
    "* `gapminder-FiveYearData.csv` is the file name we are accessing within that \"data\" folder."
   ]
  },
  {
   "cell_type": "code",
   "execution_count": null,
   "metadata": {},
   "outputs": [],
   "source": [
    "import pandas as pd\n",
    "\n",
    "df = pd.read_csv('../../data/gapminder-FiveYearData.csv')\n",
    "df.head()"
   ]
  },
  {
   "cell_type": "markdown",
   "metadata": {},
   "source": [
    "🔔 **Question**: What does the [gapminder-FiveYearData](https://en.wikipedia.org/wiki/Gapminder_Foundation) dataset seem to be about?"
   ]
  },
  {
   "cell_type": "markdown",
   "metadata": {},
   "source": [
    "<a id='pandas'></a>\n",
    "\n",
    "# Working with Pandas\n",
    "\n",
    "Pandas has hundreds of useful ways for us to work with Data Frames. We will cover a couple of general topics here."
   ]
  },
  {
   "cell_type": "markdown",
   "metadata": {
    "tags": []
   },
   "source": [
    "## Slicing Columns\n",
    "We can choose a single column by selecting the name of that column. The act of obtaining a particular subset of a data frame is often referred to as **slicing**. This uses bracket notation to select part of the data.\n",
    "\n",
    "Check it out:"
   ]
  },
  {
   "cell_type": "code",
   "execution_count": null,
   "metadata": {},
   "outputs": [],
   "source": [
    "df['country']"
   ]
  },
  {
   "cell_type": "markdown",
   "metadata": {},
   "source": [
    "`pandas` calls this a `Series` object. It's like a list, except it's labeled. \n",
    "\n",
    "You can slice a Series object just like you can with a list!"
   ]
  },
  {
   "cell_type": "code",
   "execution_count": null,
   "metadata": {},
   "outputs": [],
   "source": [
    "gap_country = df['country']\n",
    "gap_country[0]"
   ]
  },
  {
   "cell_type": "markdown",
   "metadata": {},
   "source": [
    "`DataFrame` objects also have methods, including those for [merging](https://pandas.pydata.org/docs/reference/api/pandas.DataFrame.merge.html?highlight=merge#pandas.DataFrame.merge), [aggregation](https://pandas.pydata.org/docs/reference/api/pandas.DataFrame.groupby.html), [nulls](https://pandas.pydata.org/docs/reference/api/pandas.DataFrame.groupby.html), and others. Many of these functions operate on a single column of the DataFrame. For example, we can identify the number of unique values in each column by using `.nunique()`, and what those unique values are by using `.unique()`:"
   ]
  },
  {
   "cell_type": "code",
   "execution_count": null,
   "metadata": {},
   "outputs": [],
   "source": [
    "#number of unique countries in the df\n",
    "print(df['country'].nunique())\n",
    "\n",
    "#unique countries in the df\n",
    "print(df['country'].unique())"
   ]
  },
  {
   "cell_type": "markdown",
   "metadata": {},
   "source": [
    "## `.head()`, `.describe()`, and `.value_counts()`\n",
    "\n",
    "The `.head()` method will show the first five rows of a Data Frame by default. Put an integer in the parentheses to specify a different number of rows. \n",
    "\n",
    "`.describe()` provides basic summary statistics. \n",
    "\n",
    "`.value_counts()` counts frequencies."
   ]
  },
  {
   "cell_type": "code",
   "execution_count": null,
   "metadata": {},
   "outputs": [],
   "source": [
    "# View the first 3 rows\n",
    "df.head(3)"
   ]
  },
  {
   "cell_type": "code",
   "execution_count": null,
   "metadata": {},
   "outputs": [],
   "source": [
    "# Produce some quick summary statistics\n",
    "df.describe()"
   ]
  },
  {
   "cell_type": "markdown",
   "metadata": {},
   "source": [
    "Now, we can investigate how many of each category?"
   ]
  },
  {
   "cell_type": "code",
   "execution_count": null,
   "metadata": {},
   "outputs": [],
   "source": [
    "# How many letters by each writer?\n",
    "df['year'].value_counts()"
   ]
  },
  {
   "cell_type": "markdown",
   "metadata": {},
   "source": [
    "## Column names\n",
    "\n",
    "You can call [attributes](https://medium.com/@shawnnkoski/pandas-attributes-867a169e6d9b) of a Pandas variable by using \"dot notation\" - it's like a method, but without the parentheses. \n",
    "\n",
    "💡 **Tip**: Attributes are **features** of data. Methods **allow you to do something** with data. \n",
    "\n",
    "💡 **Tip**: A method is written with parenteses: e.g. `gap.value_counts()`. An attribute is written without parentheses: e.g. `gap.columns`.\n"
   ]
  },
  {
   "cell_type": "code",
   "execution_count": null,
   "metadata": {},
   "outputs": [],
   "source": [
    "# List the column names using the .columns *attribute*\n",
    "df.columns"
   ]
  },
  {
   "cell_type": "markdown",
   "metadata": {},
   "source": [
    "🔔 **Question**: Here's another popular attribute: `shape`. What do you think it does?"
   ]
  },
  {
   "cell_type": "code",
   "execution_count": null,
   "metadata": {},
   "outputs": [],
   "source": [
    "df.shape"
   ]
  },
  {
   "cell_type": "markdown",
   "metadata": {},
   "source": [
    "## Slicing Rows\n",
    "\n",
    "You can slice rows of a DataFrame like you would a string or a list. If we just want three rows: "
   ]
  },
  {
   "cell_type": "code",
   "execution_count": null,
   "metadata": {},
   "outputs": [],
   "source": [
    "df[6:9]"
   ]
  },
  {
   "cell_type": "markdown",
   "metadata": {},
   "source": [
    "## `loc[]` and `.iloc[]`\n",
    "\n",
    "`pandas` has two very popular methods to access data: `loc[]` and `iloc[]`. The difference is that one is **label-based**, and the other is **position-based**. \n",
    "\n",
    "What does that mean?\n",
    "\n",
    "* `loc[]` looks for label names in your index (the leftmost, unnamed column in our Data Frame).\n",
    "* `iloc[]` works much like accessing a list, where we use an integer to select a position in the list. \n",
    "\n",
    "🔔 **Question**: Do you see the difference in the next two cells? What do you think is going on?"
   ]
  },
  {
   "cell_type": "code",
   "execution_count": null,
   "metadata": {},
   "outputs": [],
   "source": [
    "df.loc[6:9]"
   ]
  },
  {
   "cell_type": "code",
   "execution_count": null,
   "metadata": {},
   "outputs": [],
   "source": [
    "df.iloc[6:9]"
   ]
  },
  {
   "cell_type": "markdown",
   "metadata": {},
   "source": [
    "### Non-Consecutive Rows \n",
    "We can also use `.loc()` and `.iloc()` to return non-consecutive rows. Pass in **integers** as a double list. \n",
    "\n",
    "For example, to get the 4th, 12th, and 29th rows using `iloc[]`: "
   ]
  },
  {
   "cell_type": "code",
   "execution_count": null,
   "metadata": {},
   "outputs": [],
   "source": [
    "df.iloc[[3, 11, 28]]"
   ]
  },
  {
   "cell_type": "markdown",
   "metadata": {},
   "source": [
    "<a id='iloc-select'></a>\n",
    "\n",
    "### Rows and Columns\n",
    "\n",
    "We can even pass in a second interior list to `iloc[]` to specify columns as well!"
   ]
  },
  {
   "cell_type": "code",
   "execution_count": null,
   "metadata": {},
   "outputs": [],
   "source": [
    "df.iloc[[3, 11, 28], [0,3]]"
   ]
  },
  {
   "cell_type": "markdown",
   "metadata": {},
   "source": [
    "While `.iloc()` requires integers, regular `.loc()` allows you to pass in column names:"
   ]
  },
  {
   "cell_type": "code",
   "execution_count": null,
   "metadata": {},
   "outputs": [],
   "source": [
    "df.loc[[3, 11, 28], ['country', 'year']]"
   ]
  },
  {
   "cell_type": "markdown",
   "metadata": {},
   "source": [
    "## Conditional Subsetting\n",
    "\n",
    "What is we want a subset based on a condition? For example, what if we just wanted a subset for data only when country is equal to Egypt? "
   ]
  },
  {
   "cell_type": "code",
   "execution_count": null,
   "metadata": {},
   "outputs": [],
   "source": [
    "df['country'] == 'Egypt'"
   ]
  },
  {
   "cell_type": "markdown",
   "metadata": {},
   "source": [
    "💡 **Tip**: Fancy terminology alert: this above Series is called a \"Boolean mask\". It's like a list of True/False labels that we can use to filter our Data Frame for a certain condition! *We'll cover this further in Python Fundamentals II.*\n",
    "\n",
    "Here, we use `.loc[]` to subset our Data Frame *with the fancy Boolean mask 🪄 we just created*. "
   ]
  },
  {
   "cell_type": "code",
   "execution_count": null,
   "metadata": {},
   "outputs": [],
   "source": [
    "# Dataframe just of data points in Egypt...\n",
    "e = df.loc[df['country'] == 'Egypt']\n",
    "e"
   ]
  },
  {
   "cell_type": "code",
   "execution_count": null,
   "metadata": {},
   "outputs": [],
   "source": [
    "# Data frame just of 2002\n",
    "am = df.loc[df['year'] == 2002]\n",
    "am.head()"
   ]
  },
  {
   "cell_type": "code",
   "execution_count": null,
   "metadata": {
    "scrolled": true
   },
   "outputs": [],
   "source": [
    "# Data frame that includes both South Africa as the destination AND Lesotho \n",
    "both = df.loc[(df['country'] == 'South Africa') | \n",
    "              (df['country'] == 'Lesotho')]\n",
    "both"
   ]
  },
  {
   "cell_type": "markdown",
   "metadata": {},
   "source": [
    "Learn more by [reading the documentation here](https://pandas.pydata.org/pandas-docs/stable/user_guide/indexing.html) - what is the difference between `&` and `|` ?"
   ]
  },
  {
   "cell_type": "markdown",
   "metadata": {},
   "source": [
    "💡 **Tip**: You can learn more about Pandas DataFrames in D-Lab's [**Python Data Wrangling**](https://github.com/dlab-berkeley/Python-Data-Wrangling) workshop. [Register now](https://dlab.berkeley.edu/training/upcoming-workshops).\n"
   ]
  },
  {
   "cell_type": "markdown",
   "metadata": {},
   "source": [
    "## Creating a new Column\n",
    "\n",
    "To create a new column, use the [] brackets with the new column name at the left side of the assignment. Note that we can just throw in another column which we do some calculations on:"
   ]
  },
  {
   "cell_type": "code",
   "execution_count": null,
   "metadata": {},
   "outputs": [],
   "source": [
    "df['lifeExp_rounded'] = df['lifeExp'].round()\n",
    "df.head()"
   ]
  },
  {
   "cell_type": "markdown",
   "metadata": {
    "tags": []
   },
   "source": [
    "<a id='project'></a>\n",
    "\n",
    "# 🚀 Project"
   ]
  },
  {
   "cell_type": "markdown",
   "metadata": {},
   "source": [
    "Time for your first data science project in Python!\n",
    "\n",
    "* Time: 30 minutes.\n",
    "* The helper will be in a **breakout room**: Join them if you want to work there, or ask questions about the code!\n",
    "* The instructor will stay in the **main room**: Feel free to ask questions here as well.\n",
    "\n",
    "### Data: Music reviews\n",
    "\n",
    "Our dataset will consist of music reviews. It consists of a range of music albums and their reviews by different review magazines. \n",
    "\n",
    "This dataset is separated by tab breaks instead of commas. However, tab separated files can be stored in a .csv file just the same - we just need to add the `\"\\t\"` argument to the `sep = ` parameter."
   ]
  },
  {
   "cell_type": "code",
   "execution_count": null,
   "metadata": {
    "scrolled": true
   },
   "outputs": [],
   "source": [
    "import pandas as pd\n",
    "music = pd.read_csv('../../data/music_reviews.csv', sep = '\\t')\n",
    "music.head()"
   ]
  },
  {
   "cell_type": "markdown",
   "metadata": {},
   "source": [
    "## 🥊 Challenge: `.describe()`\n",
    "\n",
    "Use the `.describe()` method to find the average review score for all albums in this dataset."
   ]
  },
  {
   "cell_type": "code",
   "execution_count": null,
   "metadata": {},
   "outputs": [],
   "source": [
    "## YOUR CODE HERE\n",
    "\n"
   ]
  },
  {
   "cell_type": "markdown",
   "metadata": {},
   "source": [
    "Rename the \"album\" column name to \"ALBUM\" and the \"body\" column name to \"Body\"."
   ]
  },
  {
   "cell_type": "code",
   "execution_count": null,
   "metadata": {},
   "outputs": [],
   "source": [
    "## YOUR CODE HERE\n",
    "\n"
   ]
  },
  {
   "cell_type": "code",
   "execution_count": null,
   "metadata": {},
   "outputs": [],
   "source": [
    "# See if it worked\n",
    "music.head()"
   ]
  },
  {
   "cell_type": "markdown",
   "metadata": {},
   "source": [
    "## 🥊 Challenge: Slice It! \n",
    "\n",
    "Slice music to return just the 3rd, 4th, and 5th reviews (note that they start on 0)."
   ]
  },
  {
   "cell_type": "code",
   "execution_count": null,
   "metadata": {},
   "outputs": [],
   "source": [
    "## YOUR CODE HERE\n",
    "\n"
   ]
  },
  {
   "cell_type": "markdown",
   "metadata": {},
   "source": [
    "## 🥊 Challenge: `iloc`\n",
    "\n",
    "Use `.iloc` to return just reviews at index 1, 82, 988, 4002. Also return the last review - without looking up what the last index is!."
   ]
  },
  {
   "cell_type": "code",
   "execution_count": null,
   "metadata": {},
   "outputs": [],
   "source": [
    "## YOUR CODE HERE\n",
    "\n"
   ]
  },
  {
   "cell_type": "markdown",
   "metadata": {},
   "source": [
    "## 🥊 Challenge: `iloc` Slice and Stride\n",
    "\n",
    "Use `.iloc` to return every 40th album between reviews 20 and 200 (including the upper bound)."
   ]
  },
  {
   "cell_type": "code",
   "execution_count": null,
   "metadata": {},
   "outputs": [],
   "source": [
    "## YOUR CODE HERE\n",
    "\n"
   ]
  },
  {
   "cell_type": "markdown",
   "metadata": {},
   "source": [
    "## 🥊 Challenge: `iloc` Rows and Columns\n",
    "\n",
    "Use `iloc` to extract the last five rows in the music data set but only the \"artist\", \"ALBUM\", and \"score\" columns - in that order!\n",
    "\n",
    "💡 **Tip**: Remember how to select columns using `iloc`? If not, go back [here](#iloc-select)."
   ]
  },
  {
   "cell_type": "code",
   "execution_count": null,
   "metadata": {},
   "outputs": [],
   "source": [
    "## YOUR CODE HERE\n",
    "\n"
   ]
  },
  {
   "cell_type": "markdown",
   "metadata": {},
   "source": [
    "## 🥊 Challenge: `.loc` Rows and Columns \n",
    "\n",
    "Use `loc` to extract the first 5 rows in your DataFrame – but only the \"artist\", \"ALBUM\", and \"score\" columns - in that order!"
   ]
  },
  {
   "cell_type": "code",
   "execution_count": null,
   "metadata": {},
   "outputs": [],
   "source": [
    "## YOUR CODE HERE\n",
    "\n"
   ]
  },
  {
   "cell_type": "markdown",
   "metadata": {},
   "source": [
    "## 🥊 Challenge: Create New Column\n",
    "\n",
    "Create a new column in your DataFrame named \"score_int\" that is a copy of \"score\" - but converted to an integer.\n",
    "\n",
    "💡 **Tip**: Look up a Pandas method to change the datatype of a column!"
   ]
  },
  {
   "cell_type": "code",
   "execution_count": null,
   "metadata": {},
   "outputs": [],
   "source": [
    "## YOUR CODE HERE\n",
    "\n"
   ]
  },
  {
   "cell_type": "markdown",
   "metadata": {},
   "source": [
    "## 🥊 Challenge: Create New Column with Calculation\n",
    "\n",
    "Create a new column in your DataFrame named \"decimal\" that is a copy of \"score_int\" but that is divided by 100."
   ]
  },
  {
   "cell_type": "code",
   "execution_count": null,
   "metadata": {
    "scrolled": true
   },
   "outputs": [],
   "source": [
    "## YOUR CODE HERE\n",
    "\n"
   ]
  },
  {
   "cell_type": "markdown",
   "metadata": {},
   "source": [
    "## 🥊 Challenge: `.value_counts()`\n",
    "\n",
    "Use `.value_counts()` to sum the total number of reviews for each critic. Return only the top 20. \n",
    "\n",
    "💡 **Tip**: Have another look at the original DataFrame if you need to remind yourself which column can be useful here!"
   ]
  },
  {
   "cell_type": "code",
   "execution_count": null,
   "metadata": {},
   "outputs": [],
   "source": [
    "## YOUR CODE HERE\n",
    "\n"
   ]
  },
  {
   "cell_type": "markdown",
   "metadata": {
    "tags": []
   },
   "source": [
    "## 🥊 <span style=\"color:red\">Bonus Challenge:</span> `.value_counts()`\n",
    "\n",
    "If you are done and still have time, go have a look at the [`groupby()` method](https://pandas.pydata.org/pandas-docs/stable/reference/api/pandas.DataFrame.groupby.html). Try to use it in order to answer the following question:\n",
    "\n",
    "#### *Which genre has the highest score?*\n",
    "\n",
    "💡 **Tip**: \n",
    "* Use the `.groupby()` method on your DataFrame to sort it by `genre`. Save it in a variable.\n",
    "* Subset this variable (use the square brackets!) to get the `score` column.\n",
    "* Use the `.mean()` method on this subset to get the **average score** per genre.\n"
   ]
  },
  {
   "cell_type": "code",
   "execution_count": null,
   "metadata": {},
   "outputs": [],
   "source": [
    "# YOUR CODE HERE\n",
    "\n"
   ]
  },
  {
   "cell_type": "markdown",
   "metadata": {},
   "source": [
    "# 🎉 Well done!\n",
    "\n",
    "**This concludes Python Fundamentals I!**\n",
    "\n",
    "Today's project took us through importing multiple csv files, data manipulation, and some basic visualizations and analysis of data. \n",
    "\n",
    "If you were working on this dataset, what would you potentially do next? It could be either an analysis, a new feature to include, a visualization that might help represent the data, etc.\n",
    "\n",
    "### 💡 Tip: More workshops!\n",
    "\n",
    "D-Lab teaches workshops that allow you to practice more with DataFrames and visualization.\n",
    "\n",
    "- To learn more about data wrangling, check out D-Lab's [Python Data Wrangling workshop](https://github.com/dlab-berkeley/Python-Data-Wrangling).\n",
    "- To learn more about data visualization, check out D-Lab's [Python Data Visualization workshop](https://github.com/dlab-berkeley/Python-Data-Visualization)."
   ]
  }
 ],
 "metadata": {
  "kernelspec": {
   "display_name": "Python 3 (ipykernel)",
   "language": "python",
   "name": "python3"
  },
  "language_info": {
   "codemirror_mode": {
    "name": "ipython",
    "version": 3
   },
   "file_extension": ".py",
   "mimetype": "text/x-python",
   "name": "python",
   "nbconvert_exporter": "python",
   "pygments_lexer": "ipython3",
   "version": "3.8.13"
  },
  "toc": {
   "base_numbering": 1,
   "nav_menu": {},
   "number_sections": false,
   "sideBar": true,
   "skip_h1_title": false,
   "title_cell": "Table of Contents",
   "title_sidebar": "Contents",
   "toc_cell": false,
   "toc_position": {},
   "toc_section_display": true,
   "toc_window_display": false
  },
  "varInspector": {
   "cols": {
    "lenName": 16,
    "lenType": 16,
    "lenVar": 40
   },
   "kernels_config": {
    "python": {
     "delete_cmd_postfix": "",
     "delete_cmd_prefix": "del ",
     "library": "var_list.py",
     "varRefreshCmd": "print(var_dic_list())"
    },
    "r": {
     "delete_cmd_postfix": ") ",
     "delete_cmd_prefix": "rm(",
     "library": "var_list.r",
     "varRefreshCmd": "cat(var_dic_list()) "
    }
   },
   "types_to_exclude": [
    "module",
    "function",
    "builtin_function_or_method",
    "instance",
    "_Feature"
   ],
   "window_display": false
  }
 },
 "nbformat": 4,
 "nbformat_minor": 4
}
