{
 "cells": [
  {
   "cell_type": "markdown",
   "metadata": {},
   "source": [
    "# Data Types and Structures\n",
    "\n",
    "* * * \n",
    "\n",
    "### Icons Used In This Notebook\n",
    "🔔 **Question**: A quick question to help you understand what's going on.<br>\n",
    "🥊 **Challenge**: Interactive exercise. We'll work through these in the workshop!<br>\n",
    "💭 **Reflection**: Helping you think about programming.<br>\n",
    "⚠️ **Warning**: Heads-up about tricky stuff or common mistakes.<br>\n",
    "💡 **Tip**: How to do something a bit more efficiently or effectively.<br>\n",
    "🎬 **Demo**: Showing off something more advanced – so you know what Python can be used for!<br>\n",
    "\n",
    "### Learning Objectives\n",
    "1. [Reflection: Data Types](#dtypes) \n",
    "2. [Methods](#methods)\n",
    "3. [Lists: Ordered Data Structures](#lists)\n",
    "4. [Dictonaries: Mappings of Keys and Values](#dicts)\n",
    "5. [Data Frames: Spreadsheets in Python](#df)\n",
    "6. [Demo: Grouping and Plotting Data Frames](#group)"
   ]
  },
  {
   "cell_type": "markdown",
   "metadata": {},
   "source": [
    "<a id='dtypes'></a>\n",
    "\n",
    "# 💭 Reflection: Data Types\n",
    "\n",
    "**Data types** are categories of data items. Programming languages need separate data types, because operations or functions might behave differently depending on what data types they're working with. \n",
    "\n",
    "There are a variety of data types in Python (see the picture below). Some of the most important types include integers, floats, strings, and Booleans.\n",
    "\n",
    "There are also **data structures** such as lists and dictionaries, which are ways of organizing data.\n",
    "\n",
    "<img src=\"../../img/Python-data-structure.jpeg\" alt=\"data_types\" width=\"500\"/>"
   ]
  },
  {
   "cell_type": "markdown",
   "metadata": {
    "tags": []
   },
   "source": [
    "We use the `type()` **function** to identify what the type is of a current variable. Functions are signified by parentheses following them, which contain any inputs to the function.\n",
    "\n",
    "🔔 **Question:** Let's check the types of two variables below. What do you think the type for each variable will be?"
   ]
  },
  {
   "cell_type": "code",
   "execution_count": null,
   "metadata": {},
   "outputs": [],
   "source": [
    "my_fav_num = 3.14159\n",
    "print(type(my_fav_num))\n",
    "\n",
    "shape = 'diamond'\n",
    "print(type(shape))"
   ]
  },
  {
   "cell_type": "markdown",
   "metadata": {},
   "source": [
    "## Data Types in Python\n",
    "\n",
    "Here are some of the most common types you'll encounter while using Python (and programming languages in general):\n",
    "\n",
    "* **int**: Integers (e.g., `a = 2`).\n",
    "* **float**: Decimal numbers (e.g., `a = 2.01`).\n",
    "* **str**: Strings, which denotes text (e.g., `a = \"2\"` or `a = '2'`).\n",
    "\n",
    "Operations and functions work differently for different types. For example, subtraction works with numeric types like floats, but not with strings.\n",
    "\n",
    "💡 **Tip:** For strings you can use double or single quotes, as long as you are consistent."
   ]
  },
  {
   "cell_type": "code",
   "execution_count": null,
   "metadata": {
    "scrolled": true
   },
   "outputs": [],
   "source": [
    "# Subtraction with floats\n",
    "print(my_fav_num - 2.0)"
   ]
  },
  {
   "cell_type": "code",
   "execution_count": null,
   "metadata": {},
   "outputs": [],
   "source": [
    "# Subtraction with strings?\n",
    "print(shape - 'a')"
   ]
  },
  {
   "cell_type": "markdown",
   "metadata": {},
   "source": [
    "In contrast, addition works differently for strings and numbers."
   ]
  },
  {
   "cell_type": "code",
   "execution_count": null,
   "metadata": {},
   "outputs": [],
   "source": [
    "# Addition with floats\n",
    "print(my_fav_num + 2.0)\n",
    "\n",
    "# Addition with strings\n",
    "print(shape + '-ing')"
   ]
  },
  {
   "cell_type": "markdown",
   "metadata": {},
   "source": [
    "## Type Conversion\n",
    "\n",
    "Types can get confusing. For instance, we can write a number as either an integer or a string. Python treats these differently, even if to us the value is the same:"
   ]
  },
  {
   "cell_type": "code",
   "execution_count": null,
   "metadata": {
    "scrolled": true
   },
   "outputs": [],
   "source": [
    "a = '3'\n",
    "b = 3\n",
    "\n",
    "print(b - a)"
   ]
  },
  {
   "cell_type": "markdown",
   "metadata": {},
   "source": [
    "Even though our intention is to do numeric subtraction, the type of `a` is a string, which results in an error. \n",
    "\n",
    "🔔 **Question:** Let's check the type of each variable using `type()`. What do you predict the types of each variable is?"
   ]
  },
  {
   "cell_type": "code",
   "execution_count": null,
   "metadata": {
    "scrolled": true
   },
   "outputs": [],
   "source": [
    "print(type(b))\n",
    "print(type(a))"
   ]
  },
  {
   "cell_type": "markdown",
   "metadata": {},
   "source": [
    "As we can predict from the line where we assigned the variable, `a` is a string. If we could convert this to an integer, the operation will work. \n",
    "\n",
    "We can do this with **type conversion**. The `int()` function will convert the input to an integer:"
   ]
  },
  {
   "cell_type": "code",
   "execution_count": null,
   "metadata": {},
   "outputs": [],
   "source": [
    "print(int(a))\n",
    "type(int(a))"
   ]
  },
  {
   "cell_type": "code",
   "execution_count": null,
   "metadata": {},
   "outputs": [],
   "source": [
    "print(b - int(a))"
   ]
  },
  {
   "cell_type": "markdown",
   "metadata": {},
   "source": [
    "There are other type conversion functions.\n",
    "\n",
    "- `str()` converts a variable to a string.\n",
    "- `float()` converts a variable to a float. \n",
    "\n",
    "⚠️ **Warning:** If the value cannot be converted to that type, the function will return a `ValueError`. Run the cell below."
   ]
  },
  {
   "cell_type": "code",
   "execution_count": null,
   "metadata": {},
   "outputs": [],
   "source": [
    "int('letters')"
   ]
  },
  {
   "cell_type": "markdown",
   "metadata": {},
   "source": [
    "In the above case, the error means that `letters` cannot be interpreted as a number."
   ]
  },
  {
   "cell_type": "markdown",
   "metadata": {},
   "source": [
    "## 🥊 Challenge: String to integer\n",
    "\n",
    "Try converting `pi` to an int type. Do you run into an error? How do you fix it?\n",
    "\n",
    "💡 **Tip**: consider using multiple conversion functions."
   ]
  },
  {
   "cell_type": "code",
   "execution_count": null,
   "metadata": {},
   "outputs": [],
   "source": [
    "pi = '3.14'\n",
    "\n",
    "# YOUR CODE HERE\n"
   ]
  },
  {
   "cell_type": "markdown",
   "metadata": {
    "tags": []
   },
   "source": [
    "<a id='methods'></a>\n",
    "\n",
    "# Methods\n",
    "\n",
    "A **method** is a piece of code that executes on a particular type of object. They allow you to do different things with different types of objects.\n",
    "\n",
    "For instance, we can use a method to turn a string variable into lowercase or uppercase. The lowercase and uppercase methods don't exist for ints, though - they operate on a specific data type. That's why we use a separate name for them (in contrast to just referring to them as functions).\n",
    "\n",
    "You can access methods with **dot notation**. It looks like this: `variable.method()`\n",
    "\n",
    "Let's look at the built-in method [`upper()`](https://python-reference.readthedocs.io/en/latest/docs/str/upper.html), which can be applied to strings:"
   ]
  },
  {
   "cell_type": "code",
   "execution_count": null,
   "metadata": {},
   "outputs": [],
   "source": [
    "giraffe_variable = 'Giraffe'\n",
    "giraffe_variable.upper()"
   ]
  },
  {
   "cell_type": "markdown",
   "metadata": {},
   "source": [
    "🔔 **Question**: What do you think the below cell does?"
   ]
  },
  {
   "cell_type": "code",
   "execution_count": null,
   "metadata": {},
   "outputs": [],
   "source": [
    "giraffe_variable.lower()"
   ]
  },
  {
   "cell_type": "markdown",
   "metadata": {},
   "source": [
    "💡 **Tip**: The takeaway here is that you can run methods on variables that hold a data value, or on the data values directly!"
   ]
  },
  {
   "cell_type": "markdown",
   "metadata": {
    "tags": []
   },
   "source": [
    "## Chaining Methods\n",
    "\n",
    "Methods can be **chained** in a single line. This is fine, as long as the output of one method directly feeds into the input of the next. These lines can be read sequentially left to right. \n",
    "\n",
    "🥊 **Challenge**: Don't run the next code cell yet! Have a look at the two methods that `giraffe` goes through in the following line. What do you think the final output will be?"
   ]
  },
  {
   "cell_type": "code",
   "execution_count": null,
   "metadata": {},
   "outputs": [],
   "source": [
    "'giraffe'.upper().lower()"
   ]
  },
  {
   "cell_type": "markdown",
   "metadata": {},
   "source": [
    "## Methods Can Accept Arguments\n",
    "\n",
    "Did you notice those parentheses at the end of these functions? They're empty for now. This means we are calling the method without any additional specifications. \n",
    "\n",
    "Many methods can be called like this. However, methods (and functions in general) can often take **additional values** in order to alter their behavior.\n",
    "\n",
    "First, let's save a string in a variable."
   ]
  },
  {
   "cell_type": "code",
   "execution_count": null,
   "metadata": {},
   "outputs": [],
   "source": [
    "sentence = 'Welcome to the workshop! Lesson number one: Nothing stays but the chorus.'"
   ]
  },
  {
   "cell_type": "markdown",
   "metadata": {},
   "source": [
    "🥊 **Challenge**: Let's use another method called `.split()` on `sentence1`. Try it now - what do you think is going on with this function?"
   ]
  },
  {
   "cell_type": "code",
   "execution_count": null,
   "metadata": {},
   "outputs": [],
   "source": [
    "# YOUR CODE HERE\n"
   ]
  },
  {
   "cell_type": "markdown",
   "metadata": {},
   "source": [
    "If we run the following cell, we'll see the documentation for the `.split()` method. Run it now!"
   ]
  },
  {
   "cell_type": "code",
   "execution_count": null,
   "metadata": {},
   "outputs": [],
   "source": [
    "sentence.split?"
   ]
  },
  {
   "cell_type": "markdown",
   "metadata": {},
   "source": [
    "There's a bunch of information here. What we're looking for is the stuff inside the parentheses after `.split`. These are further specifications you can make when calling the method. \n",
    "\n",
    "These specifications are called **parameters**. The values you pass in here are called **arguments**. Think of parameters as little settings you can tweak when calling a method.\n",
    "\n",
    "The documentation gives you information on the parameters. The first one is `sep`: \"The delimiter according which to split the string\". \n",
    "\n",
    "⚠️ **Warning**: Often times, documentation is not super clear for beginners. But for this delimiter, you can feed in a alphanumeric character that will be searched for in order to split the sentence."
   ]
  },
  {
   "cell_type": "markdown",
   "metadata": {},
   "source": [
    "## 🥊 Challenge: Method to the Madness\n",
    "\n",
    "Try using `sep='!'` in between the parenthesis of `.split()`. What is the output?"
   ]
  },
  {
   "cell_type": "code",
   "execution_count": null,
   "metadata": {},
   "outputs": [],
   "source": [
    "# YOUR CODE HERE\n"
   ]
  },
  {
   "cell_type": "markdown",
   "metadata": {},
   "source": [
    "## 🥊 Challenge: Replacing a character\n",
    "\n",
    "Let's say we have a bunch of filenames with spaces in them. However, we want to remove spaces `' '` and replace them with underscores `_`. Use the [string methods](https://docs.python.org/3/library/stdtypes.html#string-methods) documentation and identify an appropriate method. Use that method to get the result: `\"Firstname_Lastname.csv\""
   ]
  },
  {
   "cell_type": "code",
   "execution_count": null,
   "metadata": {},
   "outputs": [],
   "source": [
    "name = 'Firstname Lastname.csv'"
   ]
  },
  {
   "cell_type": "code",
   "execution_count": null,
   "metadata": {},
   "outputs": [],
   "source": [
    "# YOUR CODE HERE\n"
   ]
  },
  {
   "cell_type": "markdown",
   "metadata": {},
   "source": [
    "<a id='lists'></a>\n",
    "\n",
    "# Lists: Ordered Data Structures\n",
    "\n",
    "Lists are a collection of **ordered** items. Lists have a length, and the items inside can be **indexed**, or accessed based on their positions.\n",
    "\n",
    "A list is an **iterable**: an object with multiple values that can be iterated through. Specifically, we can proceed through each value of the list, one by one. Other examples of iterables in Python are tuples, and even strings.\n",
    "\n",
    "One nice thing about lists is that they can contain different types of data. For example, the entries of a list can be integers, floats, strings, and even other lists!\n",
    "\n",
    "We specify a list with square brackets: `[]` and commas separating each entry in the list."
   ]
  },
  {
   "cell_type": "code",
   "execution_count": null,
   "metadata": {},
   "outputs": [],
   "source": [
    "country_list = ['Ethiopia', 'Canada', 'Thailand', 'Denmark', 'Japan']\n",
    "type(country_list)"
   ]
  },
  {
   "cell_type": "markdown",
   "metadata": {},
   "source": [
    "`len()` gives the number of items in a list. What is the output of the line below?"
   ]
  },
  {
   "cell_type": "code",
   "execution_count": null,
   "metadata": {},
   "outputs": [],
   "source": [
    "len(country_list)"
   ]
  },
  {
   "cell_type": "markdown",
   "metadata": {},
   "source": [
    "## Indexing and Slicing Lists\n",
    "\n",
    "Let's say we only want one element, or a portion of a list. We can do so by telling Python which elements we want (e.g., we want the first, second, and third entries). This is called **indexing** the list.\n",
    "\n",
    "You can index a list using square brackets following the list name, using the notation `[start:stop]`. \n",
    "\n",
    "⚠️ **Warning:** Note we're using square brackets instead of parentheses! \n",
    "\n",
    "The colon indicates that you want to access all entries between the two endpoints. If one side of the colon is empty, it indicates using one end of the list as the starting or ending points. "
   ]
  },
  {
   "cell_type": "markdown",
   "metadata": {},
   "source": [
    "🔔 **Question:** Look at the index we create for `country_list` below. What do you think will be printed?"
   ]
  },
  {
   "cell_type": "code",
   "execution_count": null,
   "metadata": {},
   "outputs": [],
   "source": [
    "country_list[1]"
   ]
  },
  {
   "cell_type": "markdown",
   "metadata": {},
   "source": [
    "💡 **Tip** : Python is *zero*-indexed, meaning the first entry has index zero, not one! In addition, the `stop` index indicates 'up to but not including'. So, in `list[start:stop]`, `list[stop]` is not included."
   ]
  },
  {
   "cell_type": "markdown",
   "metadata": {},
   "source": [
    "🔔 **Question:** You can also use negative numbers to indicate starting points relative to the last entry in the list. What do you think the following cell will print?"
   ]
  },
  {
   "cell_type": "code",
   "execution_count": null,
   "metadata": {},
   "outputs": [],
   "source": [
    "country_list[-1]"
   ]
  },
  {
   "cell_type": "markdown",
   "metadata": {},
   "source": [
    "Getting multiple items from a list can be done with **slicing**. We specify the start index and the end index, separated by a colon."
   ]
  },
  {
   "cell_type": "code",
   "execution_count": null,
   "metadata": {},
   "outputs": [],
   "source": [
    "country_list[1:3]"
   ]
  },
  {
   "cell_type": "markdown",
   "metadata": {
    "tags": []
   },
   "source": [
    "## 🥊 Challenge: Slicing Lists\n",
    "\n",
    "Look at the list below. Slice the **fourth and fifth** element from it. That's the ones with text instead of numbers!"
   ]
  },
  {
   "cell_type": "code",
   "execution_count": null,
   "metadata": {},
   "outputs": [],
   "source": [
    "thing = [1, 3, 8, 'elephant', 'banana', 2]\n",
    "\n",
    "# YOUR CODE HERE\n"
   ]
  },
  {
   "cell_type": "markdown",
   "metadata": {},
   "source": [
    "## List Methods\n",
    "\n",
    "Recall that methods are functions that operate specifically on objects with a particular data type. They are accessed via dot notation (`object.method()`). \n",
    "\n",
    "Lists have their own methods that perform operations specific to lists. The most common method is the `append()` method, which adds an item to the end of a list. \n",
    "\n",
    "The code below adds a country to `country_list` using `append()`:"
   ]
  },
  {
   "cell_type": "code",
   "execution_count": null,
   "metadata": {},
   "outputs": [],
   "source": [
    "print(country_list)"
   ]
  },
  {
   "cell_type": "code",
   "execution_count": null,
   "metadata": {},
   "outputs": [],
   "source": [
    "country_list.append('USA')"
   ]
  },
  {
   "cell_type": "code",
   "execution_count": null,
   "metadata": {},
   "outputs": [],
   "source": [
    "print(country_list)"
   ]
  },
  {
   "cell_type": "markdown",
   "metadata": {},
   "source": [
    "Note that the `append()` method operates **in-place**: it modifies the object it is applied to. This is not always the case in Python - some methods return an object that must be stored in its own variable."
   ]
  },
  {
   "cell_type": "markdown",
   "metadata": {},
   "source": [
    "## 🥊 Challenge: Documentation\n",
    "\n",
    "There are many other useful list methods. Have a look at the Python [documentation](https://docs.python.org/3/tutorial/datastructures.html#more-on-lists) and use **two methods** on our `country_list`!"
   ]
  },
  {
   "cell_type": "code",
   "execution_count": null,
   "metadata": {},
   "outputs": [],
   "source": [
    "# YOUR CODE HERE\n"
   ]
  },
  {
   "cell_type": "markdown",
   "metadata": {
    "tags": []
   },
   "source": [
    "## 🥊 Challenge: Google & Stack Overflow\n",
    "\n",
    "Here's a challenge: in the string below, try to change `C-Lab` to `D-Lab`!\n",
    "\n",
    "If you're a Python wizard, you might be able to solve this. But for most of us this seems a bit too complicated - so let's do a Google search! \n",
    "\n",
    "**It's completely normal to Google for errors, and every programmer does it.**\n",
    "\n",
    "1. Enter in Google the name of the computer language and your question (in this case: \"Python Changing one character in a string\").\n",
    "2. Read and compare the results you find.\n",
    "\n",
    "Often when you Google something, the most relevant and helpful result will be someone asking a similar question on a website called **Stack Overflow**. \n",
    "\n",
    "Stack Overflow is a great resource by which people can ask and answer questions. Have a look at the different answers and go with the approach that works best for you."
   ]
  },
  {
   "cell_type": "code",
   "execution_count": null,
   "metadata": {},
   "outputs": [],
   "source": [
    "s = 'Welcome to C-Lab!'\n",
    "\n",
    "# YOUR CODE HERE\n"
   ]
  },
  {
   "cell_type": "markdown",
   "metadata": {},
   "source": [
    "<a id='dicts'></a>\n",
    "\n",
    "# Dictionaries: Mappings of Keys and Values\n",
    "\n",
    "Dictionaries are organized in pairs of keys and values. The **keys** can be used to access the **values**. They're most useful when you have unordered data organized in pairs. This occurs, for example, in storing metadata (data describing other data).\n",
    "\n",
    "Keys must be ints, floats, or strings, and are unordered. Values, however, can be any data type.\n",
    "\n",
    "Dictionaries are specified in Python using curly braces. **Colons separate the keys and values**. \n",
    "\n",
    "Let's take a look at an example dictionary:"
   ]
  },
  {
   "cell_type": "code",
   "execution_count": null,
   "metadata": {},
   "outputs": [],
   "source": [
    "# An example dictionary\n",
    "example_dict = {\n",
    "    'name': 'Beyoncé Giselle Knowles-Carter',\n",
    "    'year of birth': 1981,\n",
    "    'place of birth': 'Houston, Texas'}\n",
    "\n",
    "example_dict['year of birth']"
   ]
  },
  {
   "cell_type": "markdown",
   "metadata": {},
   "source": [
    "Like lists, dictionaries have their own methods. One of them is the `keys()` method. What is the type of the output of `.keys()`?"
   ]
  },
  {
   "cell_type": "code",
   "execution_count": null,
   "metadata": {},
   "outputs": [],
   "source": [
    "print(example_dict.keys())\n",
    "type(example_dict.keys())"
   ]
  },
  {
   "cell_type": "markdown",
   "metadata": {},
   "source": [
    "`dict_keys` is a type that we haven't encountered before, so it will be hard to work with this type directly. However, recall that we can use type conversion to change the type of a variable. We can **cast** (or change the type of) the dictionary keys to a list, which is a type that we are more familiar with:"
   ]
  },
  {
   "cell_type": "code",
   "execution_count": null,
   "metadata": {},
   "outputs": [],
   "source": [
    "list(example_dict.keys())"
   ]
  },
  {
   "cell_type": "markdown",
   "metadata": {},
   "source": [
    "## 🥊 Challenge: Creating a Dictionary\n",
    "\n",
    "Let's create a dictionary called `fruits` that takes in a list of items as its values.\n",
    "\n",
    "1) Use the variables we're defining below - `fruit`, `length` and `color` - as **values**. \n",
    "2) Choose an appropriately named string for each of the **keys**.\n",
    "3) Finally, print the keys in the dictionary."
   ]
  },
  {
   "cell_type": "code",
   "execution_count": null,
   "metadata": {},
   "outputs": [],
   "source": [
    "fruit = ['apple', 'orange', 'mango']\n",
    "length = [3.2, 2.1, 3.1]\n",
    "color = ['red', 'orange', 'yellow']\n",
    "\n",
    "# YOUR CODE HERE\n",
    "fruits = ..."
   ]
  },
  {
   "cell_type": "markdown",
   "metadata": {},
   "source": [
    "<a id='df'></a>\n",
    "\n",
    "# Data Frames: Spreadsheets in Python\n",
    "\n",
    "A common data structure you've likely already encountered is **tabular data**. Think of an Excel sheet: each column corresponds to a different feature of each datapoint, while rows correspond to different samples.\n",
    "\n",
    "In scientific programming, tabular data is often called a **data frame**. In Python, there a specialized library called Pandas, which contains an object `DataFrame` that implements this data structure.\n",
    "\n",
    "We're going to explore `pandas` more closely in the next part, but let's try creating a `DataFrame` object right now. \n",
    "\n",
    "First, **paste the dictionary you created in the Challenge above.**"
   ]
  },
  {
   "cell_type": "code",
   "execution_count": null,
   "metadata": {},
   "outputs": [],
   "source": [
    "# YOUR CODE HERE\n"
   ]
  },
  {
   "cell_type": "markdown",
   "metadata": {},
   "source": [
    "Next, we `import` the `pandas` **library** (we will cover libraries in more detail in the next notebook) and pass in the dictionary to the `pd.DataFrame()` function, storing the result in a variable called `df`."
   ]
  },
  {
   "cell_type": "code",
   "execution_count": null,
   "metadata": {},
   "outputs": [],
   "source": [
    "import pandas as pd\n",
    "\n",
    "df = pd.DataFrame(fruits)\n",
    "df"
   ]
  },
  {
   "cell_type": "markdown",
   "metadata": {},
   "source": [
    "Note that the keys of our dictionary became column names, and the values became cells, in the `DataFrame`. In addition, there is an **index** on the left that keeps track of the row.\n",
    "\n",
    "💡 **Tip**: Objects can also have **attributes**, or variables associated with the data type. We can get the number of columns and rows with `df.shape`, an attribute of the dataframe. "
   ]
  },
  {
   "cell_type": "markdown",
   "metadata": {},
   "source": [
    "🔔 **Question**: How many rows and columns does this dataframe have? "
   ]
  },
  {
   "cell_type": "code",
   "execution_count": null,
   "metadata": {},
   "outputs": [],
   "source": [
    "df.shape"
   ]
  },
  {
   "cell_type": "markdown",
   "metadata": {},
   "source": [
    "## 🥊 Challenge: Building a DataFrame\n",
    "\n",
    "The following code gives an error. Why does it have an error? \n",
    "\n",
    "💡 **Tip:** Google the line at the bottom of the error message if you need help!"
   ]
  },
  {
   "cell_type": "code",
   "execution_count": null,
   "metadata": {},
   "outputs": [],
   "source": [
    "fruit = ['apple', 'orange']\n",
    "length = [3.2, 2.1, 3.1]\n",
    "color = ['red', 'orange', 'yellow']\n",
    "\n",
    "fruit_dict = {\n",
    "    'fruit': fruit,\n",
    "    'length': length,\n",
    "    'color': color}\n",
    "\n",
    "df_fruit = pd.DataFrame(fruit_dict)"
   ]
  },
  {
   "cell_type": "code",
   "execution_count": null,
   "metadata": {},
   "outputs": [],
   "source": [
    "# YOUR CODE HERE\n"
   ]
  },
  {
   "cell_type": "markdown",
   "metadata": {},
   "source": [
    "## 💡 Tip: Other Data Structures\n",
    "\n",
    "There are many more data structures in Python that you may run across. We covered lists, dictionaries, and DataFrames above. There are several more that you may run across but we will not cover in this workshop. They include:\n",
    "\n",
    "* **tuple**: Similar to a list, but values can't be changed onced it is made. Tuples are **immutable**.\n",
    "* **set**: An unordered list, which can only contain **unique** values.\n",
    "* **range**: A sequence of numbers, often in an arithmetic sequence. \n",
    "* And many [more](https://docs.python.org/3/library/stdtypes.html#immutable-sequence-types)!\n",
    "\n",
    "We often interact with these more often as the output of functions rather than writing them ourselves, but it's good to be aware of them. "
   ]
  },
  {
   "cell_type": "markdown",
   "metadata": {},
   "source": [
    "<a id='group'></a>\n",
    "\n",
    "# 🎬 Demo: Grouping and Plotting Data Frames\n",
    "\n",
    "Our data, once more, comes from the California Health Interview Survey (CHIS), the nation's largest state health survey.\n",
    "\n",
    "This time, we'll create a plot of the people in the data who never feel safe, and group these people by ethnicity."
   ]
  },
  {
   "cell_type": "code",
   "execution_count": null,
   "metadata": {},
   "outputs": [],
   "source": [
    "import pandas as pd\n",
    "import matplotlib.pyplot as plt\n",
    "\n",
    "chis_df = pd.read_csv('../../data/chis_extract.csv')\n",
    "chis_df.head()"
   ]
  },
  {
   "cell_type": "code",
   "execution_count": null,
   "metadata": {},
   "outputs": [],
   "source": [
    "# Grouping by race and ethnicity, get the \"feel safe\" column, count the values\n",
    "chis_grouped = chis_df.groupby('ethnicity')['feel_safe_neighborhood'].value_counts()\n",
    "\n",
    "# Pivot the table and put it in a new DataFrame\n",
    "ag = chis_grouped.unstack()\n",
    "\n",
    "# Divide each column by the sum of the rows in order to get normalized values\n",
    "m = ag.div(ag.sum(axis=1), axis=0) * 100\n",
    "\n",
    "# Plot the normalized amount of \n",
    "m['NONE OF THE TIME'].sort_values().plot(kind='barh')\n",
    "plt.title('Feeling safe none of the time, sorted by ethnicity')\n",
    "plt.xlabel('Percentage of group');\n",
    "plt.ylabel('Race/Ethnicity');"
   ]
  }
 ],
 "metadata": {
  "kernelspec": {
   "display_name": "Python 3 (ipykernel)",
   "language": "python",
   "name": "python3"
  },
  "language_info": {
   "codemirror_mode": {
    "name": "ipython",
    "version": 3
   },
   "file_extension": ".py",
   "mimetype": "text/x-python",
   "name": "python",
   "nbconvert_exporter": "python",
   "pygments_lexer": "ipython3",
   "version": "3.8.12"
  },
  "toc": {
   "base_numbering": 1,
   "nav_menu": {},
   "number_sections": false,
   "sideBar": true,
   "skip_h1_title": false,
   "title_cell": "Table of Contents",
   "title_sidebar": "Contents",
   "toc_cell": false,
   "toc_position": {},
   "toc_section_display": true,
   "toc_window_display": true
  },
  "varInspector": {
   "cols": {
    "lenName": 16,
    "lenType": 16,
    "lenVar": 40
   },
   "kernels_config": {
    "python": {
     "delete_cmd_postfix": "",
     "delete_cmd_prefix": "del ",
     "library": "var_list.py",
     "varRefreshCmd": "print(var_dic_list())"
    },
    "r": {
     "delete_cmd_postfix": ") ",
     "delete_cmd_prefix": "rm(",
     "library": "var_list.r",
     "varRefreshCmd": "cat(var_dic_list()) "
    }
   },
   "types_to_exclude": [
    "module",
    "function",
    "builtin_function_or_method",
    "instance",
    "_Feature"
   ],
   "window_display": false
  }
 },
 "nbformat": 4,
 "nbformat_minor": 4
}
