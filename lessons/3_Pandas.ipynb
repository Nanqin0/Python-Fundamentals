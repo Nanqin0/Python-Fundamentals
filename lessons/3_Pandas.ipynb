{
 "cells": [
  {
   "cell_type": "markdown",
   "metadata": {
    "tags": []
   },
   "source": [
    "# Python Fundamentals: Introduction to Pandas\n",
    "\n",
    "* * * \n",
    "\n",
    "<div class=\"alert alert-success\">  \n",
    "    \n",
    "### Learning Objectives \n",
    "    \n",
    "* Import libraries in Python.\n",
    "* Import .csv files into a Pandas `DataFrame`.\n",
    "* Use common `DataFrame` methods.\n",
    "* Select rows and columns from a `DataFrame` using conditions.\n",
    "</div>\n",
    "\n",
    "\n",
    "### Icons Used in This Notebook\n",
    "🔔 **Question**: A quick question to help you understand what's going on.<br>\n",
    "🥊 **Challenge**: Interactive exercise. We'll work through these in the workshop!<br>\n",
    "⚠️ **Warning**: Heads-up about tricky stuff or common mistakes.<br>\n",
    "💡 **Tip**: How to do something a bit more efficiently or effectively.<br>\n",
    "🎬 **Demo**: Showing off something more advanced – so you know what Python can be used for!<br>\n",
    "\n",
    "### Sections\n",
    "1. [Libraries](#lib)\n",
    "2. [Data Frames: Spreadsheets in Python](#df)\n",
    "3. [Demo: Grouping and Plotting Data Frames](#group)"
   ]
  },
  {
   "cell_type": "markdown",
   "metadata": {
    "tags": []
   },
   "source": [
    "<a id='lib'></a>\n",
    "\n",
    "## Libraries\n",
    "\n",
    "A **library** refers to a reusable chunk of code. Usually, a Python library contains a collection of related functionalities.\n",
    "\n",
    "We have already been using Python's [standard library](https://docs.python.org/3/library/) - it comes ready and loaded with Python. We've also used `pandas` to work with data frames. Today, we will expand on our Pandas knowledge and do our first data science project."
   ]
  },
  {
   "cell_type": "markdown",
   "metadata": {},
   "source": [
    "### Installing Libraries\n",
    "\n",
    "The most common option is to install a library directly using the command line. One way to do this is to go to Jupyter Launcher by clicking on the `+` symbol in the top left of Jupyter Labs, then select Terminal.\n",
    "\n",
    "You can then use `pip`, a Python package installer, to install new packages. Simply run `pip install [PACKAGE_NAME]`, and the package will be installed.\n",
    "\n",
    "💡 **Tip**: You can also install packages within a Jupyter notebook. Create a new cell, and run the command `!pip install [PACKAGE_NAME]`."
   ]
  },
  {
   "cell_type": "markdown",
   "metadata": {},
   "source": [
    "### Importing Libraries \n",
    "Before we can use a library like Pandas, we have to **import** it into the current session.\n",
    "Importing is done with the `import` keyword. We simply run `import [PACKAGE_NAME]`, and everything inside the package becomes available to use.\n",
    "\n",
    "Let's import the `numpy` module, which has a lot of useful functions for working with numerical data. Let's access a function from this module using dot notation."
   ]
  },
  {
   "cell_type": "code",
   "execution_count": null,
   "metadata": {},
   "outputs": [],
   "source": [
    "import numpy\n",
    "\n",
    "print('The mean of [1, 4, 5] is:', numpy.mean([1, 4, 5]))"
   ]
  },
  {
   "cell_type": "markdown",
   "metadata": {},
   "source": [
    "For many packages, like `numpy`, there is an **alias**, or nickname that they are often imported as. For common packages (especially those with long names), it saves a lot of typing when you use a nickname. For example, `numpy` is usually imported as below:"
   ]
  },
  {
   "cell_type": "code",
   "execution_count": null,
   "metadata": {},
   "outputs": [],
   "source": [
    "import numpy as np\n",
    "\n",
    "print('mean of [1, 4, 5] is:', np.mean([1, 4, 5]))"
   ]
  },
  {
   "cell_type": "markdown",
   "metadata": {},
   "source": [
    "There are very common abbreviations used for some of the more popular libraries, including:\n",
    "\n",
    "* `pandas` -> `pd`\n",
    "* `numpy` -> `np`\n",
    "* `matplotlib` -> `plt`\n",
    "* `statsmodels.api` -> `sm`\n",
    "\n",
    "⚠️ **Warning**: Sometimes aliases can make programs harder to understand, since readers must learn your program's aliases. Be very intentional about using aliases!"
   ]
  },
  {
   "cell_type": "markdown",
   "metadata": {},
   "source": [
    "### Help!\n",
    "\n",
    "How do we know what we can do with `numpy`? Usually, packages provide **documentation** which explain these components. Let's have a look at the documentation [online](https://docs.python.org/3/library/math.html). \n",
    "\n",
    "Being comfortable sifting through documentation is a **very** important skill!\n"
   ]
  },
  {
   "cell_type": "markdown",
   "metadata": {},
   "source": [
    "## 🥊 Challenge 1: Locating the Right Library\n",
    "\n",
    "You want to select a random value from a list of data.\n",
    "\n",
    "1. What [standard library](https://docs.python.org/3/library/) would you most expect to help? Look at the documentation and find it.\n",
    "2. Which **function** would you select from that library? 💡 **Tip**: Look at \"Functions for sequences\" in the documentation.\n",
    "3. Import the library, and apply the function to the following list."
   ]
  },
  {
   "cell_type": "code",
   "execution_count": null,
   "metadata": {},
   "outputs": [],
   "source": [
    "years = [1952, 1957, 1962, 1967, 1972, 1977]"
   ]
  },
  {
   "cell_type": "code",
   "execution_count": null,
   "metadata": {},
   "outputs": [],
   "source": [
    "# YOUR CODE HERE\n"
   ]
  },
  {
   "cell_type": "markdown",
   "metadata": {},
   "source": [
    "<a id='df'></a>\n",
    "\n",
    "# Data Frames: Spreadsheets in Python\n",
    "\n",
    "**Tabular data** is everywhere. Think of an Excel sheet: each column corresponds to a different feature of each datapoint, while rows correspond to different samples.\n",
    "\n",
    "In scientific programming, tabular data is often called a **data frame**. In Python, there a specialized library called Pandas, which contains an object `DataFrame` that implements this data structure."
   ]
  },
  {
   "cell_type": "markdown",
   "metadata": {},
   "source": [
    "## 🥊 Challenge 2: From Dictionary to Data Frame\n",
    "\n",
    "You can easily build a data frame from a dictionary. However, the following code gives an error. Why does it have an error? \n",
    "\n",
    "💡 **Tip:** Google the line at the bottom of the error message if you need help!"
   ]
  },
  {
   "cell_type": "code",
   "execution_count": null,
   "metadata": {},
   "outputs": [],
   "source": [
    "country = ['Afghanistan', 'Greece']\n",
    "continent = ['Asia', 'Europe', 'Africa']\n",
    "life_exp = [28.801, 76.670, 46.027]\n",
    "\n",
    "country_dict = {\n",
    "    'fruit': country,\n",
    "    'length': continent,\n",
    "    'color': life_exp}\n",
    "\n",
    "pd.DataFrame(country_dict)"
   ]
  },
  {
   "cell_type": "markdown",
   "metadata": {},
   "source": [
    "## Finding Data\n",
    "\n",
    "For the rest of this workshop we will work with the [gapminder-FiveYearData](https://en.wikipedia.org/wiki/Gapminder_Foundation) dataset. The dataset contains data for 142 countries, with values for life expectancy, GDP per capita, and population, every five years, from 1952 to 2007.\n",
    "\n",
    "First of all, we have to figure out where the data is located! \n",
    "\n",
    "We can use the magic command `%pwd` to check the location of your \"working directory\" (the folder on your computer that Python is currently connected to). "
   ]
  },
  {
   "cell_type": "code",
   "execution_count": null,
   "metadata": {
    "scrolled": true
   },
   "outputs": [],
   "source": [
    "# print working directory\n",
    "%pwd"
   ]
  },
  {
   "cell_type": "markdown",
   "metadata": {},
   "source": [
    "## Importing .csv Files"
   ]
  },
  {
   "cell_type": "markdown",
   "metadata": {},
   "source": [
    "The file we want to import are inside a folder called \"data\", which is inside of the main \"Python-Fundamentals\" folder. As you can see in the file path, this directory is one folder \"up\" from where we currently are. \n",
    "\n",
    "💡 **Tip**: Let's use the File Browser to the left of our screen, as well as our Finder (Mac) / File Explorer (Windows), to orient ourselves. \n",
    "\n",
    "In the cell below, we:\n",
    "* `import` the `pandas` **library**.\n",
    "* Use the `read_csv()` method, which takes a string as its main argument. This string consists of the file path pointing to the file.\n",
    "* `../` means 'go up one level in the folder'.\n",
    "* `data/` means 'go into a folder called \"data\".\n",
    "* `gapminder-FiveYearData.csv` is the file name we are accessing within that \"data\" folder."
   ]
  },
  {
   "cell_type": "code",
   "execution_count": null,
   "metadata": {},
   "outputs": [],
   "source": [
    "import pandas as pd\n",
    "\n",
    "df = pd.read_csv('../data/gapminder-FiveYearData.csv')\n",
    "df.head()"
   ]
  },
  {
   "cell_type": "markdown",
   "metadata": {},
   "source": [
    "Objects can also have **attributes**, or variables associated with the data type. We can get the number of columns and rows with `df.shape`, an attribute of the dataframe. "
   ]
  },
  {
   "cell_type": "code",
   "execution_count": null,
   "metadata": {},
   "outputs": [],
   "source": [
    "df.shape"
   ]
  },
  {
   "cell_type": "markdown",
   "metadata": {},
   "source": [
    "## More on .csv Files\n",
    "As data scientists, we'll often be working with these **Comma Seperated Values (.csv)** files. \n",
    "\n",
    "Comma separated values files are common because they are relatively small and look good in spreadsheet software. A comma separated values file is just a text file that contains data but that has commas (or other separators) to indicate column breaks.\n",
    "\n",
    "As you see, `pandas` comes with a function [`.read_csv()`](https://pandas.pydata.org/docs/reference/api/pandas.read_csv.html)\n",
    "that makes it really easy to import .csv files.\n",
    "\n",
    "💡 **Tip**: Let's have a look at a .csv file in our File Browser!"
   ]
  },
  {
   "cell_type": "markdown",
   "metadata": {
    "tags": []
   },
   "source": [
    "## Slicing Columns\n",
    "Now that we have our data, we can choose a single column by selecting the name of that column. The act of obtaining a particular subset of a data frame is often referred to as **slicing**. This uses bracket notation to select part of the data.\n",
    "\n",
    "Check it out:"
   ]
  },
  {
   "cell_type": "code",
   "execution_count": null,
   "metadata": {},
   "outputs": [],
   "source": [
    "df['country']"
   ]
  },
  {
   "cell_type": "markdown",
   "metadata": {},
   "source": [
    "`pandas` calls this a `Series` object. It's like a list, except it's labeled. \n",
    "\n",
    "You can slice a Series object just like you can with a list!"
   ]
  },
  {
   "cell_type": "code",
   "execution_count": null,
   "metadata": {},
   "outputs": [],
   "source": [
    "gap_country = df['country']\n",
    "gap_country[0]"
   ]
  },
  {
   "cell_type": "markdown",
   "metadata": {},
   "source": [
    "`DataFrame` objects also have methods, including those for [merging](https://pandas.pydata.org/docs/reference/api/pandas.DataFrame.merge.html?highlight=merge#pandas.DataFrame.merge), [aggregation](https://pandas.pydata.org/docs/reference/api/pandas.DataFrame.groupby.html), and others. Many of these functions operate on a single column of the DataFrame. For example, we can identify the number of unique values in each column by using `.nunique()`:"
   ]
  },
  {
   "cell_type": "code",
   "execution_count": null,
   "metadata": {},
   "outputs": [],
   "source": [
    "print(df['country'].nunique())"
   ]
  },
  {
   "cell_type": "markdown",
   "metadata": {},
   "source": [
    "## More Methods: `.head()`, `.describe()`, and `.value_counts()`\n",
    "\n",
    "The `.head()` method will show the first five rows of a Data Frame by default. Put an integer in the parentheses to specify a different number of rows. \n",
    "\n",
    "`.describe()` provides basic summary statistics. \n",
    "\n",
    "`.value_counts()` counts frequencies."
   ]
  },
  {
   "cell_type": "code",
   "execution_count": null,
   "metadata": {},
   "outputs": [],
   "source": [
    "# View the first 3 rows\n",
    "df.head(3)"
   ]
  },
  {
   "cell_type": "code",
   "execution_count": null,
   "metadata": {},
   "outputs": [],
   "source": [
    "# Produce some quick summary statistics\n",
    "df.describe()"
   ]
  },
  {
   "cell_type": "markdown",
   "metadata": {},
   "source": [
    "Now, we can investigate how many of each category?"
   ]
  },
  {
   "cell_type": "code",
   "execution_count": null,
   "metadata": {},
   "outputs": [],
   "source": [
    "# How many letters by each writer?\n",
    "df['year'].value_counts()"
   ]
  },
  {
   "cell_type": "markdown",
   "metadata": {},
   "source": [
    "## 🥊 Challenge 3: Putting Methods in Order\n",
    "\n",
    "In the following code we want to to find the most frequently occurring continent in the data. Put the following code fragments in the right order!"
   ]
  },
  {
   "cell_type": "code",
   "execution_count": null,
   "metadata": {},
   "outputs": [],
   "source": [
    ".head(1)\n",
    ".value_counts()\n",
    "df['continent']"
   ]
  },
  {
   "cell_type": "markdown",
   "metadata": {},
   "source": [
    "## Column Names\n",
    "\n",
    "You can call [attributes](https://medium.com/@shawnnkoski/pandas-attributes-867a169e6d9b) of a Pandas variable by using \"dot notation\" - it's like a method, but without the parentheses. \n",
    "\n",
    "💡 **Tip**: Attributes are **features** of data. Methods **allow you to do something** with data. \n",
    "\n",
    "💡 **Tip**: A method is written with parenteses: e.g. `gap.value_counts()`. An attribute is written without parentheses: e.g. `gap.columns`.\n"
   ]
  },
  {
   "cell_type": "code",
   "execution_count": null,
   "metadata": {},
   "outputs": [],
   "source": [
    "# List the column names using the .columns *attribute*\n",
    "df.columns"
   ]
  },
  {
   "cell_type": "markdown",
   "metadata": {},
   "source": [
    "🔔 **Question**: Here's another popular attribute: `shape`. What do you think it does?"
   ]
  },
  {
   "cell_type": "code",
   "execution_count": null,
   "metadata": {},
   "outputs": [],
   "source": [
    "df.shape"
   ]
  },
  {
   "cell_type": "markdown",
   "metadata": {},
   "source": [
    "## Slicing Rows\n",
    "\n",
    "You can slice rows of a DataFrame like you would a string or a list. If we just want three rows: "
   ]
  },
  {
   "cell_type": "code",
   "execution_count": null,
   "metadata": {},
   "outputs": [],
   "source": [
    "df[6:9]"
   ]
  },
  {
   "cell_type": "markdown",
   "metadata": {},
   "source": [
    "## Conditional Subsetting\n",
    "\n",
    "What if we operate on our dataset based on some condition? For example, what if we just wanted a subset for data only when country is equal to Egypt? Or only observations from a particular year?\n",
    "\n",
    "We can use so-called **value comparison operators** for this. They include the following:\n",
    "* `<` less than\n",
    "* `>` greater than\n",
    "* `<=` less than or equal to\n",
    "* `>=` greater than or equal to\n",
    "* `==` equal \n",
    "* `!=` not equal\n",
    "\n",
    "For instance, to get only the rows that include data points from Egypt:"
   ]
  },
  {
   "cell_type": "code",
   "execution_count": null,
   "metadata": {},
   "outputs": [],
   "source": [
    "df['country'] == 'Egypt'"
   ]
  },
  {
   "cell_type": "markdown",
   "metadata": {},
   "source": [
    "💡 **Tip**: Fancy terminology alert: the above Series is called a **Boolean mask**. It's like a list of True/False labels that we can use to filter our Data Frame for a certain condition! We'll cover this further in Python Intermediate.\n",
    "\n",
    "Here, we subset our Data Frame with the fancy Boolean mask we just created. "
   ]
  },
  {
   "cell_type": "code",
   "execution_count": null,
   "metadata": {},
   "outputs": [],
   "source": [
    "# Getting only the data points from Egypt\n",
    "df[df['country'] == 'Egypt']"
   ]
  },
  {
   "cell_type": "markdown",
   "metadata": {},
   "source": [
    "Note that the output of this operation is a **new data frame**! We can assign it to a new variable so we can work with this subsetted data frame. Let's do it again:"
   ]
  },
  {
   "cell_type": "code",
   "execution_count": null,
   "metadata": {},
   "outputs": [],
   "source": [
    "# Creating a new data frame with data from 2002\n",
    "year_2002_df = df[df['country'] == 'Egypt']\n",
    "year_2002_df.head()"
   ]
  },
  {
   "cell_type": "markdown",
   "metadata": {
    "tags": []
   },
   "source": [
    "## 🥊 Challenge 4: Subsetting Data Frames\n",
    "\n",
    "Subset the data frame to include only people with a life expectancy lower than 50."
   ]
  },
  {
   "cell_type": "code",
   "execution_count": null,
   "metadata": {},
   "outputs": [],
   "source": [
    "# YOUR CODE HERE\n"
   ]
  },
  {
   "cell_type": "markdown",
   "metadata": {},
   "source": [
    "## Creating a New Column\n",
    "\n",
    "To create a new column, use the `[]` brackets with the new column name at the left side of the assignment. Note that we can just throw in another column which we do some calculations on:"
   ]
  },
  {
   "cell_type": "code",
   "execution_count": null,
   "metadata": {},
   "outputs": [],
   "source": [
    "df['lifeExp_rounded'] = df['lifeExp'].round()\n",
    "df.head()"
   ]
  },
  {
   "cell_type": "markdown",
   "metadata": {},
   "source": [
    "## 🥊 Challenge 5: Calculating Mean Life Expectancy\n",
    "\n",
    "Let's make use of subsetting to do some calculation! Calculate the **mean life expectancy** for a continent of your choice. \n",
    "\n",
    "This means you will have to:\n",
    "1. Subset the `continent` column using a Boolean mask. Check out the code cells under \"Conditional Subsetting\" for a refresher.\n",
    "2. Take the `lifeExp` column from that subset.\n",
    "3. Apply a Pandas method to get the mean from that column.\n",
    "\n",
    "Some of you might be able to solve this straight away. For others, it may seem a bit too complicated. \n",
    "If that's the case, let's do a Google search! \n",
    "\n",
    "**It's completely normal to Google for errors, and every programmer does it.**\n",
    "\n",
    "1. Enter in Google the name of the computer language or package, and your question (for instance: \"Pandas calculate mean\").\n",
    "2. Read and compare the results you find.\n",
    "3. Try 'em out!"
   ]
  },
  {
   "cell_type": "code",
   "execution_count": null,
   "metadata": {},
   "outputs": [],
   "source": [
    "# YOUR CODE HERE\n",
    "\n"
   ]
  },
  {
   "cell_type": "markdown",
   "metadata": {
    "tags": []
   },
   "source": [
    "<a id='group'></a>\n",
    "\n",
    "# 🎬 Demo: Grouping and Plotting Data Frames\n",
    "\n",
    "There is a lot more you can do in Pandas. Take your learning further with D-Lab's [**Python Intermediate**](https://github.com/dlab-berkeley/Python-Intermediate-Pilot) or [**Python Data Wrangling**](https://github.com/dlab-berkeley/Python-Data-Wrangling) workshops. \n",
    "\n",
    "[Register now](https://dlab.berkeley.edu/training/upcoming-workshops) to learn more skills in Pandas, such as `groupby()` a powerful operation that allows you to split data into groups based on some criteria. \n",
    "\n",
    "Here's a small demo of what you'll learn:"
   ]
  },
  {
   "cell_type": "code",
   "execution_count": null,
   "metadata": {},
   "outputs": [],
   "source": [
    "import matplotlib.pyplot as plt\n",
    "\n",
    "# Create new column with life expectancy sorted into 5 bins\n",
    "df['lifeExpBins'] = pd.cut(df['lifeExp'], 5)\n",
    "\n",
    "# Grouping by continent, get the \"gdpPercap\" column\n",
    "df_grouped = df.groupby('continent')['lifeExpBins'].value_counts()\n",
    "\n",
    "# Pivot the table and put it in a new DataFrame\n",
    "ag = df_grouped.unstack()\n",
    "\n",
    "# Plot barchart\n",
    "ag.plot.bar();"
   ]
  },
  {
   "cell_type": "markdown",
   "metadata": {},
   "source": [
    "# 🎉 Well Done!\n",
    "\n",
    "Today's project took us through basic data manipulation and analysis using Pandas. \n",
    "\n",
    "### 💡 Tip: More Workshops!\n",
    "\n",
    "D-Lab teaches workshops that allow you to practice more with DataFrames and visualization.\n",
    "\n",
    "- To continue your learning in Python, check out D-Lab's [Python Intermediate workshop](https://github.com/dlab-berkeley/Python-Intermediate-Pilot).\n",
    "- To learn more about data wrangling, check out D-Lab's [Python Data Wrangling workshop](https://github.com/dlab-berkeley/Python-Data-Wrangling).\n",
    "- To learn more about data visualization, check out D-Lab's [Python Data Visualization workshop](https://github.com/dlab-berkeley/Python-Data-Visualization)."
   ]
  },
  {
   "cell_type": "markdown",
   "metadata": {
    "jp-MarkdownHeadingCollapsed": true,
    "tags": []
   },
   "source": [
    "<div class=\"alert alert-success\">\n",
    "\n",
    "## ❗ Key Points\n",
    "\n",
    "* Import a library into Python using `import <libraryname>`.\n",
    "* Data frames allow you to work with tabular data (think Excel in Python).\n",
    "* A .csv file is just a text file that contains data separated by commas.\n",
    "* Use the `pandas` library to work with data frames.\n",
    "* Data frames are typically assigned as `df`.\n",
    "* `DataFrame` columns can be indexed using square brackets - e.g. `df[last_name]` indexes a column called \"last_name\" in `df`.\n",
    "* Use the `.describe()` method on a `DataFrame` to get basic summary statistics.\n",
    "    \n",
    "</div>"
   ]
  }
 ],
 "metadata": {
  "kernelspec": {
   "display_name": "Python 3 (ipykernel)",
   "language": "python",
   "name": "python3"
  },
  "language_info": {
   "codemirror_mode": {
    "name": "ipython",
    "version": 3
   },
   "file_extension": ".py",
   "mimetype": "text/x-python",
   "name": "python",
   "nbconvert_exporter": "python",
   "pygments_lexer": "ipython3",
   "version": "3.8.13"
  },
  "toc": {
   "base_numbering": 1,
   "nav_menu": {},
   "number_sections": false,
   "sideBar": true,
   "skip_h1_title": false,
   "title_cell": "Table of Contents",
   "title_sidebar": "Contents",
   "toc_cell": false,
   "toc_position": {},
   "toc_section_display": true,
   "toc_window_display": false
  },
  "varInspector": {
   "cols": {
    "lenName": 16,
    "lenType": 16,
    "lenVar": 40
   },
   "kernels_config": {
    "python": {
     "delete_cmd_postfix": "",
     "delete_cmd_prefix": "del ",
     "library": "var_list.py",
     "varRefreshCmd": "print(var_dic_list())"
    },
    "r": {
     "delete_cmd_postfix": ") ",
     "delete_cmd_prefix": "rm(",
     "library": "var_list.r",
     "varRefreshCmd": "cat(var_dic_list()) "
    }
   },
   "types_to_exclude": [
    "module",
    "function",
    "builtin_function_or_method",
    "instance",
    "_Feature"
   ],
   "window_display": false
  }
 },
 "nbformat": 4,
 "nbformat_minor": 4
}
