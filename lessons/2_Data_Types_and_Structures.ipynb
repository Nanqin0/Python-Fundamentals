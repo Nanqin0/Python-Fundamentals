{
 "cells": [
  {
   "cell_type": "markdown",
   "metadata": {},
   "source": [
    "# Python Fundamentals: Data Types and Structures\n",
    "\n",
    "* * * \n",
    "\n",
    "<div class=\"alert alert-success\">  \n",
    "    \n",
    "### Learning Objectives \n",
    "    \n",
    "* Distinguish between the main data types in Python.\n",
    "* Distinguish between the main data structures in Python.     \n",
    "* Use methods on different data types.\n",
    "* Recognize arguments when using methods.\n",
    "</div>\n",
    "\n",
    "\n",
    "### Icons Used in This Notebook\n",
    "🔔 **Question**: A quick question to help you understand what's going on.<br>\n",
    "🥊 **Challenge**: Interactive exercise. We'll work through these in the workshop!<br>\n",
    "💡 **Tip**: How to do something a bit more efficiently or effectively.<br>\n",
    "⚠️ **Warning:** Heads-up about tricky stuff or common mistakes.<br>\n",
    "\n",
    "### Sections\n",
    "1. [Data Types in Python](#dtypes) \n",
    "2. [Methods](#methods)\n",
    "3. [Lists: Ordered Data Structures](#lists)\n",
    "4. [Dictonaries: Key-Value Pairs](#dicts)"
   ]
  },
  {
   "cell_type": "markdown",
   "metadata": {},
   "source": [
    "<a id='dtypes'></a>\n",
    "\n",
    "# Data Types in Python\n",
    "\n",
    "**Data types** are categories of data items. Programming languages need separate data types, because operations or functions might behave differently depending on what data types they're working with. \n",
    "\n",
    "There are a variety of data types in Python (see the picture below). Some of the most important types include integers, floats, strings, and Booleans. \n",
    "\n",
    "There are also data types such as lists and dictionaries. They offer ways of organizing data and are sometimes called **data structures**.\n",
    "\n",
    "<img src=\"../img/Python-data-structure.jpeg\" alt=\"data_types\" width=\"700\"/>"
   ]
  },
  {
   "cell_type": "markdown",
   "metadata": {
    "tags": []
   },
   "source": [
    "We use the `type()` **function** to identify what the type is of a current variable. Functions are signified by parentheses following them, which contain any inputs to the function.\n",
    "\n",
    "🔔 **Question:** Let's check the types of two variables below. What do you think the type for each variable will be?"
   ]
  },
  {
   "cell_type": "code",
   "execution_count": null,
   "metadata": {},
   "outputs": [],
   "source": [
    "life_exp = 28.021\n",
    "type(life_exp)"
   ]
  },
  {
   "cell_type": "code",
   "execution_count": null,
   "metadata": {},
   "outputs": [],
   "source": [
    "continent = 'Asia'\n",
    "type(continent)"
   ]
  },
  {
   "cell_type": "markdown",
   "metadata": {},
   "source": [
    "Here are some of the most common data types you'll encounter while using Python (and programming languages in general):\n",
    "\n",
    "* **int**: Integers (e.g., `a = 2`).\n",
    "* **float**: Decimal numbers (e.g., `a = 2.01`).\n",
    "* **str**: Strings, which denotes text (e.g., `a = \"2\"` or `a = '2'`).\n",
    "\n",
    "Operations and functions work differently for different types. For example, subtraction works with numeric types like floats, but not with strings."
   ]
  },
  {
   "cell_type": "code",
   "execution_count": null,
   "metadata": {
    "scrolled": true
   },
   "outputs": [],
   "source": [
    "# Subtraction with floats\n",
    "life_exp - 2.0"
   ]
  },
  {
   "cell_type": "code",
   "execution_count": null,
   "metadata": {},
   "outputs": [],
   "source": [
    "# Subtraction with strings?\n",
    "continent - 2"
   ]
  },
  {
   "cell_type": "markdown",
   "metadata": {},
   "source": [
    "In contrast, addition works for both strings and numbers:"
   ]
  },
  {
   "cell_type": "code",
   "execution_count": null,
   "metadata": {},
   "outputs": [],
   "source": [
    "# Addition with floats\n",
    "life_exp + 2.0"
   ]
  },
  {
   "cell_type": "code",
   "execution_count": null,
   "metadata": {},
   "outputs": [],
   "source": [
    "# Addition with strings\n",
    "'South-' + continent"
   ]
  },
  {
   "cell_type": "markdown",
   "metadata": {},
   "source": [
    "### 💡 Tip: Guidelines for Variable Names\n",
    "\n",
    "- Python is case-sensitive (`life_exp` and `Life_exp` are two separate variables).\n",
    "- Use meaningful variable names (e.g. `continent` is more informative than `a_variable`). Ideally, you should be able to tell what is going on in the code and variables without having to run it.\n",
    "- There are different styles of writing variables, like **snake case** (`life_exp`) and **camel case** (`lifeExp`). You're free to choose, but be consistent. \n",
    "- Don't use variable names that refer to existing variables and functions in Python (e.g., `print`, `sum`, `str`)."
   ]
  },
  {
   "cell_type": "markdown",
   "metadata": {},
   "source": [
    "## Type Conversion\n",
    "\n",
    "Types can get confusing. For instance, we can write a number as either an integer or a string. Python treats these differently, even if to us the value is the same:"
   ]
  },
  {
   "cell_type": "code",
   "execution_count": null,
   "metadata": {
    "scrolled": true
   },
   "outputs": [],
   "source": [
    "a = '3'\n",
    "b = 3\n",
    "\n",
    "b - a"
   ]
  },
  {
   "cell_type": "markdown",
   "metadata": {},
   "source": [
    "Even though our intention is to do numeric subtraction, the type of `a` is a string, which results in an error. \n",
    "\n",
    "🔔 **Question:** Let's check the type of each variable using `type()`. What do you predict the types of each variable is?"
   ]
  },
  {
   "cell_type": "code",
   "execution_count": null,
   "metadata": {},
   "outputs": [],
   "source": [
    "type(a)"
   ]
  },
  {
   "cell_type": "code",
   "execution_count": null,
   "metadata": {
    "scrolled": true
   },
   "outputs": [],
   "source": [
    "type(b)"
   ]
  },
  {
   "cell_type": "markdown",
   "metadata": {},
   "source": [
    "As we can predict from the line where we assigned the variable, `a` is a string. If we could convert this to an integer, the operation will work. \n",
    "\n",
    "We can do this with **type conversion**. The `int()` function will convert the input to an integer:"
   ]
  },
  {
   "cell_type": "code",
   "execution_count": null,
   "metadata": {},
   "outputs": [],
   "source": [
    "int(a)"
   ]
  },
  {
   "cell_type": "code",
   "execution_count": null,
   "metadata": {},
   "outputs": [],
   "source": [
    "type(int(a))"
   ]
  },
  {
   "cell_type": "code",
   "execution_count": null,
   "metadata": {},
   "outputs": [],
   "source": [
    "b - int(a)"
   ]
  },
  {
   "cell_type": "markdown",
   "metadata": {},
   "source": [
    "There are other type conversion functions.\n",
    "\n",
    "- `str()` converts a variable to a string.\n",
    "- `float()` converts a variable to a float. \n",
    "\n",
    "If the value cannot be converted to that type, the function will return a `ValueError`. Run the cell below."
   ]
  },
  {
   "cell_type": "code",
   "execution_count": null,
   "metadata": {},
   "outputs": [],
   "source": [
    "int('Netherlands')"
   ]
  },
  {
   "cell_type": "markdown",
   "metadata": {},
   "source": [
    "In the above case, the error means that **non-numeric characters** cannot be interpreted as a number."
   ]
  },
  {
   "cell_type": "markdown",
   "metadata": {},
   "source": [
    "## 🥊 Challenge 1: String to Integer\n",
    "\n",
    "Try converting `pi` to an int type. Do you run into an error? How do you fix it?\n",
    "\n",
    "💡 **Tip**: consider using multiple conversion functions."
   ]
  },
  {
   "cell_type": "code",
   "execution_count": null,
   "metadata": {},
   "outputs": [],
   "source": [
    "pi = '3.14'\n",
    "\n",
    "# YOUR CODE HERE\n"
   ]
  },
  {
   "cell_type": "markdown",
   "metadata": {
    "tags": []
   },
   "source": [
    "<a id='func'></a>\n",
    "\n",
    "# Functions\n",
    "\n",
    "A **function** is a reusable block of code that performs a specific task. They allow us to run operations over and over without needing to write the code over and over again. \n",
    "\n",
    "Functions can be recognized by their trailing parentheses `()`. The data you want to apply the function to goes inside those parentheses!"
   ]
  },
  {
   "cell_type": "markdown",
   "metadata": {},
   "source": [
    "## 🥊 Challenge 2: Using a Function\n",
    "\n",
    "Google \"Python len()\" and find a resource that tells you how to use it. Come back here and use `len()` on the variable we have set below."
   ]
  },
  {
   "cell_type": "code",
   "execution_count": null,
   "metadata": {},
   "outputs": [],
   "source": [
    "country = 'Zimbabwe'\n",
    "\n",
    "# YOUR CODE HERE\n",
    "\n"
   ]
  },
  {
   "cell_type": "markdown",
   "metadata": {
    "tags": []
   },
   "source": [
    "<a id='methods'></a>\n",
    "\n",
    "# Methods\n",
    "\n",
    "A **method** is a special type of function: one that executes on a **particular type of object**, like a string or an integer. They allow you to do different things with different objects.\n",
    "\n",
    "For instance, we can use a method to turn a string variable into lowercase or uppercase. The lowercase and uppercase methods don't exist for `int`s, though. That's why we call them methods instead of functions.\n",
    "\n",
    "You can access methods with **dot notation**. It looks like this: `variable.method()`\n",
    "\n",
    "Let's look at the built-in method [`upper()`](https://python-reference.readthedocs.io/en/latest/docs/str/upper.html), which can be applied to strings:"
   ]
  },
  {
   "cell_type": "code",
   "execution_count": null,
   "metadata": {},
   "outputs": [],
   "source": [
    "country = 'Greece'\n",
    "country.upper()"
   ]
  },
  {
   "cell_type": "markdown",
   "metadata": {},
   "source": [
    "🔔 **Question**: What do you think the below cell does?"
   ]
  },
  {
   "cell_type": "code",
   "execution_count": null,
   "metadata": {},
   "outputs": [],
   "source": [
    "country.lower()"
   ]
  },
  {
   "cell_type": "markdown",
   "metadata": {},
   "source": [
    "Note that you can run methods on variables that hold a data value, or on the data values directly!"
   ]
  },
  {
   "cell_type": "markdown",
   "metadata": {
    "tags": []
   },
   "source": [
    "## 🥊 Challenge 3: Chaining Methods\n",
    "\n",
    "Methods can be **chained** in a single line. This is fine, as long as the output of one method directly feeds into the input of the next. These lines can be read sequentially left to right. \n",
    "\n",
    "Don't run the next code cell yet! Use your search engine to look up the two methods that `country` goes through first. What do you think the final output will be?"
   ]
  },
  {
   "cell_type": "code",
   "execution_count": null,
   "metadata": {},
   "outputs": [],
   "source": [
    "country.lower().startswith('g')"
   ]
  },
  {
   "cell_type": "markdown",
   "metadata": {},
   "source": [
    "## Adding Arguments\n",
    "\n",
    "Notice that in the previous cell, `lower()` doesn't take any values in between the brackets, but `startswith()` does.\n",
    "\n",
    "Methods (and functions in general) can often take values in order to alter their behavior. These values, that go in between the brackets, are called **arguments**."
   ]
  },
  {
   "cell_type": "markdown",
   "metadata": {},
   "source": [
    "## 🥊 Challenge 4: Time to Split\n",
    "\n",
    "First, let's save a string in a variable."
   ]
  },
  {
   "cell_type": "code",
   "execution_count": null,
   "metadata": {},
   "outputs": [],
   "source": [
    "sentence = 'The capital of Brazil is Brasília. It has a tropical savanna climate.'"
   ]
  },
  {
   "cell_type": "markdown",
   "metadata": {},
   "source": [
    "Let's look at the [documentation](https://docs.python.org/3/library/stdtypes.html#str.split) for the `.split()` method. Try to use this method on `sentence`. What does it look like this method does?"
   ]
  },
  {
   "cell_type": "code",
   "execution_count": null,
   "metadata": {},
   "outputs": [],
   "source": [
    "# YOUR CODE HERE\n"
   ]
  },
  {
   "cell_type": "markdown",
   "metadata": {},
   "source": [
    "Finally, try using `sep='.'` in between the parenthesis of `.split()`, when applying it to `sentence`. What is the output?"
   ]
  },
  {
   "cell_type": "code",
   "execution_count": null,
   "metadata": {},
   "outputs": [],
   "source": [
    "# YOUR CODE HERE\n"
   ]
  },
  {
   "cell_type": "markdown",
   "metadata": {},
   "source": [
    "<a id='lists'></a>\n",
    "\n",
    "# Lists: Ordered Data Structures\n",
    "\n",
    "A **data structure** is a specialized format for organizing, processing, retrieving and storing data.\n",
    "\n",
    "Lists are a collection of **ordered** items. Lists have a length, and the items inside can be **indexed**, or accessed based on their positions.\n",
    "\n",
    "A list is an **iterable**: an object with multiple values that can be iterated through. Specifically, we can proceed through each value of the list, one by one. Other examples of iterables in Python are tuples, and even strings.\n",
    "\n",
    "One nice thing about lists is that they can contain different types of data. For example, the entries of a list can be integers, floats, strings, and even other lists!\n",
    "\n",
    "We specify a list with square brackets: `[]` and commas separating each entry in the list."
   ]
  },
  {
   "cell_type": "code",
   "execution_count": null,
   "metadata": {},
   "outputs": [],
   "source": [
    "country_list = ['Ethiopia', 'Canada', 'Thailand', 'Denmark', 'Japan']\n",
    "type(country_list)"
   ]
  },
  {
   "cell_type": "markdown",
   "metadata": {},
   "source": [
    "🔔 **Question:** `len()` gives the number of items in a list. What is the output of the line below?"
   ]
  },
  {
   "cell_type": "code",
   "execution_count": null,
   "metadata": {},
   "outputs": [],
   "source": [
    "len(country_list)"
   ]
  },
  {
   "cell_type": "markdown",
   "metadata": {},
   "source": [
    "## Indexing and Slicing Lists\n",
    "\n",
    "Let's say we only want one element, or a portion of a list. We can do so by telling Python which elements we want (e.g., we want the first, second, and third entries). This is called **indexing** the list."
   ]
  },
  {
   "cell_type": "markdown",
   "metadata": {},
   "source": [
    "🔔 **Question:** Look at the index we create for `country_list` below. What do you think will be printed?"
   ]
  },
  {
   "cell_type": "code",
   "execution_count": null,
   "metadata": {},
   "outputs": [],
   "source": [
    "country_list[1]"
   ]
  },
  {
   "cell_type": "markdown",
   "metadata": {},
   "source": [
    "⚠️ **Warning:** Python is **zero**-indexed, meaning the first entry has index zero, not one! In addition, the `stop` index indicates 'up to but not including'. So, in `list[start:stop]`, `list[stop]` is not included."
   ]
  },
  {
   "cell_type": "markdown",
   "metadata": {},
   "source": [
    "Getting multiple items from a list can be done with **slicing**. We specify the start index and the end index, separated by a colon.\n",
    "\n",
    "You can index a list using square brackets following the list name, using the notation `[start:stop]`. Note we're using square brackets instead of parentheses! \n",
    "\n",
    "The colon indicates that you want to access all entries between the two endpoints. If one side of the colon is empty, it indicates using one end of the list as the starting or ending points. "
   ]
  },
  {
   "cell_type": "markdown",
   "metadata": {},
   "source": [
    "🔔 **Question:** Can you guess what the output of these statements will be?"
   ]
  },
  {
   "cell_type": "code",
   "execution_count": null,
   "metadata": {},
   "outputs": [],
   "source": [
    "country_list[1:3]"
   ]
  },
  {
   "cell_type": "code",
   "execution_count": null,
   "metadata": {},
   "outputs": [],
   "source": [
    "country_list[2:5]"
   ]
  },
  {
   "cell_type": "code",
   "execution_count": null,
   "metadata": {},
   "outputs": [],
   "source": [
    "country_list[3:]"
   ]
  },
  {
   "cell_type": "markdown",
   "metadata": {
    "tags": []
   },
   "source": [
    "## 🥊 Challenge 5: Slicing Lists\n",
    "\n",
    "Say we have a list and we want to get rid of the string values. Slice the list to retrieve these elements."
   ]
  },
  {
   "cell_type": "code",
   "execution_count": null,
   "metadata": {},
   "outputs": [],
   "source": [
    "years = [1990, 1994, 2002, 'Missing', 'NaN']\n",
    "\n",
    "# YOUR CODE HERE\n"
   ]
  },
  {
   "cell_type": "markdown",
   "metadata": {},
   "source": [
    "## List Methods\n",
    "\n",
    "Recall that methods are functions that operate specifically on objects with a particular data type. They are accessed via dot notation (`object.method()`). \n",
    "\n",
    "Lists have their own methods that perform operations specific to lists. The most common method is the `append()` method, which adds an item to the end of a list. \n",
    "\n",
    "The code below adds a country to `country_list` using `append()`:"
   ]
  },
  {
   "cell_type": "code",
   "execution_count": null,
   "metadata": {},
   "outputs": [],
   "source": [
    "print(country_list)"
   ]
  },
  {
   "cell_type": "code",
   "execution_count": null,
   "metadata": {},
   "outputs": [],
   "source": [
    "country_list.append('USA')"
   ]
  },
  {
   "cell_type": "code",
   "execution_count": null,
   "metadata": {},
   "outputs": [],
   "source": [
    "print(country_list)"
   ]
  },
  {
   "cell_type": "markdown",
   "metadata": {},
   "source": [
    "<a id='dicts'></a>\n",
    "\n",
    "# Dictionaries: Key-Value Pairs\n",
    "\n",
    "Dictionaries are organized in pairs of keys and values. The **keys** can be used to access the **values**. They're most useful when you have unordered data organized in pairs. This occurs, for example, in storing metadata (data describing other data).\n",
    "\n",
    "Dictionaries are specified in Python using curly braces. **Colons separate the keys and values**. \n",
    "\n",
    "Let's take a look at an example dictionary:"
   ]
  },
  {
   "cell_type": "code",
   "execution_count": null,
   "metadata": {},
   "outputs": [],
   "source": [
    "# An example dictionary\n",
    "example_dict = {\n",
    "    'country': 'Afghanistan',\n",
    "    'year': 1952,\n",
    "    'population': 8425333}"
   ]
  },
  {
   "cell_type": "markdown",
   "metadata": {},
   "source": [
    "We can access the items of a dictionary by referring to its key name, inside square brackets. "
   ]
  },
  {
   "cell_type": "code",
   "execution_count": null,
   "metadata": {},
   "outputs": [],
   "source": [
    "example_dict['year']"
   ]
  },
  {
   "cell_type": "markdown",
   "metadata": {},
   "source": [
    "## 🥊 Challenge 6: Creating a Dictionary\n",
    "\n",
    "Let's create a dictionary called `country_dict` that takes in a list of items as its values.\n",
    "\n",
    "1) Use the variables we're defining below - `country`, `continent` and `life_expectancy` - as **values**. \n",
    "2) Choose an appropriately named string for each of the **keys**.\n",
    "3) Finally, print the keys in the dictionary."
   ]
  },
  {
   "cell_type": "code",
   "execution_count": null,
   "metadata": {},
   "outputs": [],
   "source": [
    "country = ['Afghanistan', 'Greece', 'Liberia']\n",
    "continent = ['Asia', 'Europe', 'Africa']\n",
    "life_exp = [28.801, 76.670, 46.027]\n",
    "\n",
    "# YOUR CODE HERE\n",
    "country_dict = ..."
   ]
  },
  {
   "cell_type": "markdown",
   "metadata": {
    "jp-MarkdownHeadingCollapsed": true,
    "tags": []
   },
   "source": [
    "<div class=\"alert alert-success\">\n",
    "\n",
    "## ❗ Key Points\n",
    "\n",
    "* Methods are functions that only work on certain data types.\n",
    "* Lists are a collection of ordered items, which can contain different data types.\n",
    "* List indices start at 0, not 1.\n",
    "* The `.append()` method adds an item to a list.\n",
    "* Lists can be indexed using square brackets - e.g. `some_list[0]` indexes the first item of `some_list`. \n",
    "* Dictionaries are mappings of key-value pairs. \n",
    "* Dictionary values can be accessed using square brackets – e.g. `some_dict['name']` accesses the value corresponding to the 'name' key.\n",
    "    \n",
    "</div>"
   ]
  }
 ],
 "metadata": {
  "kernelspec": {
   "display_name": "Python 3 (ipykernel)",
   "language": "python",
   "name": "python3"
  },
  "language_info": {
   "codemirror_mode": {
    "name": "ipython",
    "version": 3
   },
   "file_extension": ".py",
   "mimetype": "text/x-python",
   "name": "python",
   "nbconvert_exporter": "python",
   "pygments_lexer": "ipython3",
   "version": "3.8.13"
  },
  "toc": {
   "base_numbering": 1,
   "nav_menu": {},
   "number_sections": false,
   "sideBar": true,
   "skip_h1_title": false,
   "title_cell": "Table of Contents",
   "title_sidebar": "Contents",
   "toc_cell": false,
   "toc_position": {},
   "toc_section_display": true,
   "toc_window_display": true
  },
  "varInspector": {
   "cols": {
    "lenName": 16,
    "lenType": 16,
    "lenVar": 40
   },
   "kernels_config": {
    "python": {
     "delete_cmd_postfix": "",
     "delete_cmd_prefix": "del ",
     "library": "var_list.py",
     "varRefreshCmd": "print(var_dic_list())"
    },
    "r": {
     "delete_cmd_postfix": ") ",
     "delete_cmd_prefix": "rm(",
     "library": "var_list.r",
     "varRefreshCmd": "cat(var_dic_list()) "
    }
   },
   "types_to_exclude": [
    "module",
    "function",
    "builtin_function_or_method",
    "instance",
    "_Feature"
   ],
   "window_display": false
  }
 },
 "nbformat": 4,
 "nbformat_minor": 4
}
