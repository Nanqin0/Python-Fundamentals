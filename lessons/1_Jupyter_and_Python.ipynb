{
 "cells": [
  {
   "cell_type": "markdown",
   "metadata": {},
   "source": [
    "# Jupyter and Python\n",
    "\n",
    "* * * \n",
    "\n",
    "### Icons Used In This Notebook\n",
    "🔔 **Question**: A quick question to help you understand what's going on.<br>\n",
    "🥊 **Challenge**: Interactive exercise. We'll work through these in the workshop!<br>\n",
    "⚠️ **Warning**: Heads-up about tricky stuff or common mistakes.<br>\n",
    "💡 **Tip**: How to do something a bit more efficiently or effectively.<br>\n",
    "🎬 **Demo**: Showing off something more advanced – so you know what Python can be used for!<br>\n",
    "\n",
    "### Learning Objectives\n",
    "1. [What it Means to \"Know How to Code\"](#how_to_code)\n",
    "2. [Working with Jupyter notebooks](#jupyter)\n",
    "3. [Variables in Python](#variables)\n",
    "4. [Calculating with Variables](#calculate)\n",
    "5. [Demo: Working with Data](#demo)"
   ]
  },
  {
   "cell_type": "markdown",
   "metadata": {
    "jp-MarkdownHeadingCollapsed": true,
    "tags": []
   },
   "source": [
    "<a id='how_to_code'></a>\n",
    "# What it Means to \"Know How to Code\"\n",
    "\n",
    "Python is a general-purpose, powerful, and high-level programming language. It can be used for many tasks, including building websites and software, automating tasks, conducting data analyses, and more.\n",
    "\n",
    "This workshop will take you through the fundamentals of Python, with a focus on data analysis. However, knowing **how to code** is a general, extendible skill. To \"know\" Python, R, Matlab, or any other language is not a matter of memorization, but about having a set of problem solving skills.\n",
    "\n",
    "A programmer knows:\n",
    "\n",
    "1) General structures and programming logic\n",
    "2) How to find and use new functions\n",
    "3) How to work through novel problems\n",
    "\n",
    "It is these three aspects we want to give you an intuition for.\n",
    "\n",
    "When you're programming, most of your time will be spent debugging, looking stuff up (like program-specific syntax, [documentation](https://github.com/dlab-berkeley/python-intensive/blob/master/glossary.md#documentation) for packages, useful functions, etc.), or testing. Relatively little time is actually spent typing out the code - most of it goes into the thinking, planning, and testing."
   ]
  },
  {
   "cell_type": "markdown",
   "metadata": {},
   "source": [
    "<a id='jupyter'></a>\n",
    "# Working with Jupyter Notebooks\n",
    "\n",
    "We use Jupyter Notebooks as our interface for coding. This format allows us to compile all aspects of a data project in one place, making it easier to show the entire process of a project to your intended audience! \n",
    "\n",
    "In Jupyter notebook documents, code and text are divided into cells which can each be run separately.\n",
    "\n",
    "Jupyter notebooks consist of **Markdown cells** and **code cells**. You can change the type of a cell in the top of the screen where it says \"Markdown\" or \"Code\"."
   ]
  },
  {
   "cell_type": "markdown",
   "metadata": {
    "tags": []
   },
   "source": [
    "## Markdown cells\n",
    "\n",
    "This cell is written in **Markdown**, a simple markup language. We use it to narrate the workshop and provide context. \n",
    "\n",
    "Markdown has its own syntax, which is fairly straighforward. Here's a [cheatsheet](https://github.com/adam-p/markdown-here/wiki/Markdown-Cheatsheet) if you want to know more. You can also double-click on any of the Markdown cells in the notebook to see how they are made."
   ]
  },
  {
   "cell_type": "markdown",
   "metadata": {},
   "source": [
    "**💡 Tip:** Double click this text cell to see the Markdown code rendering the output. Press **Shift + Enter** to go back to the formatted text."
   ]
  },
  {
   "cell_type": "markdown",
   "metadata": {
    "tags": []
   },
   "source": [
    "### 💡 Tip: Command Mode & Edit Mode \n",
    "\n",
    "If you want to create new empty cells, you can use the `+` button at the top of the notebook. \n",
    "\n",
    "Enter **Edit Mode** by pressing **Enter** or using the mouse to click on a cell’s editor area. Edit Mode allows you to edit cells.<br>\n",
    "Enter **Command Mode** by pressing **Esc** or using the mouse to click outside a cell's editor area. Command Mode allows you to use shortcut keys:\n",
    "\n",
    "* **a**: Add cell above  \n",
    "* **b**: Add cell below  \n",
    "* **dd**: delete cell (also click Edit -> Undo Cell Operation if needed)\n",
    "* **m**: Convert cell to Markdown  \n",
    "* **y**: Convert cell to Code  "
   ]
  },
  {
   "cell_type": "markdown",
   "metadata": {},
   "source": [
    "## Code cells\n",
    "\n",
    "The cell below is a code cell. Press **Shift + Enter** on it to run the code and advance to the next cell.<br>"
   ]
  },
  {
   "cell_type": "code",
   "execution_count": null,
   "metadata": {},
   "outputs": [],
   "source": [
    "print('Welcome to D-Lab!')"
   ]
  },
  {
   "cell_type": "markdown",
   "metadata": {},
   "source": [
    "`print()` is a **function**. A function is like a little program that performs an action on some value or data. You can often identify a function because of its trailing round parentheses `()`. This function just prints out whatever you put in between the parentheses."
   ]
  },
  {
   "cell_type": "markdown",
   "metadata": {},
   "source": [
    "🥊 **Challenge**: Write your own `print` statement in the code cell below. Follow the syntax of the example above, and change the text in the quotation marks."
   ]
  },
  {
   "cell_type": "code",
   "execution_count": null,
   "metadata": {},
   "outputs": [],
   "source": [
    "# Write your own awesome print statement here!\n"
   ]
  },
  {
   "cell_type": "markdown",
   "metadata": {},
   "source": [
    "🔔 **Question:** What does the below code cell do? What does the `print(a)` statement do?"
   ]
  },
  {
   "cell_type": "code",
   "execution_count": null,
   "metadata": {},
   "outputs": [],
   "source": [
    "a = 1 + 2\n",
    "print(a)"
   ]
  },
  {
   "cell_type": "markdown",
   "metadata": {},
   "source": [
    "You can enter the same line over and over again into the interpreter."
   ]
  },
  {
   "cell_type": "markdown",
   "metadata": {},
   "source": [
    "🥊 **Challenge**:  Try using **Control + Enter** to run the following cell three times. What is the output? Run the cell one more time. Is the output the same?"
   ]
  },
  {
   "cell_type": "code",
   "execution_count": null,
   "metadata": {},
   "outputs": [],
   "source": [
    "a = a + 1\n",
    "print(a)"
   ]
  },
  {
   "cell_type": "markdown",
   "metadata": {},
   "source": [
    "### 💡 Tip: Output in Jupyter\n",
    "\n",
    "You don't always need a print statement. Jupyter will automatically output the result of the **last evaluation** in a cell to your screen. When you just want to check what value a certain variable holds, you can just type the variable name and run the cell. Let's try it:"
   ]
  },
  {
   "cell_type": "code",
   "execution_count": null,
   "metadata": {},
   "outputs": [],
   "source": [
    "a"
   ]
  },
  {
   "cell_type": "markdown",
   "metadata": {
    "tags": []
   },
   "source": [
    "## The Kernel\n",
    "\n",
    "One of the tabs in the Jupyter menu is \"Kernel\". This kernel is the computational engine that executes the code contained in a Jupyter Notebook. Each time you run a code block, the kernel processes that block, executes the code, and keeps a record of what was run.\n",
    " \n",
    "⚠️ **Warning:** Jupyter remembers all lines of code it executed, **even if it's not currently displayed in the notebook**. Deleting a line of code or changing it to Markdown does not delete it from the notebook's memory if it has already been run! This can cause a lot of confusion."
   ]
  },
  {
   "cell_type": "markdown",
   "metadata": {},
   "source": [
    "### Clearing the Kernel\n",
    "\n",
    "To clear your session in a Jupyter notebook, use `Kernel -> Restart` in the menu. The kernel is basically the program actually running the code, so if you reset the kernel, it's as if you just opened up the notebook for the first time. All of the outputs are forgotten, and the variables are reset.\n",
    "\n",
    "🔔 **Question:** First, run the cell below. What is the output?"
   ]
  },
  {
   "cell_type": "code",
   "execution_count": null,
   "metadata": {},
   "outputs": [],
   "source": [
    "mystring = 'And three shall be the count.'\n",
    "\n",
    "print(mystring)"
   ]
  },
  {
   "cell_type": "markdown",
   "metadata": {},
   "source": [
    "🔔 **Question:** Now use `Kernel -> Restart` in the menu! Then run the code below. What happens?"
   ]
  },
  {
   "cell_type": "code",
   "execution_count": null,
   "metadata": {},
   "outputs": [],
   "source": [
    "print(mystring)"
   ]
  },
  {
   "cell_type": "markdown",
   "metadata": {},
   "source": [
    "Note that the error message tells you where the error happened (with an arrow, no less!). It is telling us that `mystring` is not defined, since we just reset the kernel."
   ]
  },
  {
   "cell_type": "markdown",
   "metadata": {},
   "source": [
    "💡 **Tip**: The number next to each code cell is a **counter**. It gives you a record of what order you ran your cells in. To reset the counter, you have to reset the kernel."
   ]
  },
  {
   "cell_type": "markdown",
   "metadata": {},
   "source": [
    "## Jupyter Autocomplete\n",
    "\n",
    "Jupyter notebooks also allow for tab completion, just like many command line interpreters and text editors. If you begin typing the name of something (e.g., a variable, a file in the current directory, etc.) that already exists, you can simply hit **Tab** and Jupyter will autocomplete it for you. If there is more than one possibility, it will show them to you and you can choose from there. For example:"
   ]
  },
  {
   "cell_type": "code",
   "execution_count": null,
   "metadata": {},
   "outputs": [],
   "source": [
    "test_me = 1\n",
    "test_me_2 = 2"
   ]
  },
  {
   "cell_type": "markdown",
   "metadata": {},
   "source": [
    "🔔 **Question:** Try typing `te`, and see what happens when you hit `TAB`! What are you seeing?"
   ]
  },
  {
   "cell_type": "code",
   "execution_count": null,
   "metadata": {},
   "outputs": [],
   "source": [
    "# YOUR CODE HERE\n",
    "\n"
   ]
  },
  {
   "cell_type": "markdown",
   "metadata": {
    "tags": []
   },
   "source": [
    "## Exiting Jupyter\n",
    "\n",
    "When you close your Jupyter notebook window, all of your values will be lost. But you can save your code for a later time.\n",
    "\n",
    "First go to `File -> Close and Shutdown Notebook` in order to shut down the notebook you are using and close its window. Once all notebooks are shut down, you can shut down the entire Jupyter server by closing Anaconda Navigator. You may get a warning dialog box alerting you that Jupyter Notebook is still running. Just click **Quit** to shut everything down."
   ]
  },
  {
   "cell_type": "markdown",
   "metadata": {},
   "source": [
    "<a id='variables'></a>\n",
    "\n",
    "# Variables in Python\n",
    "\n",
    "You may have noticed our usage of the equals sign, `=`, in previous cells to create \"placeholders\" for certain values. We were creating **variables**.\n",
    "\n",
    "*   Variables are containers for values that we want to refer to again later in the code.\n",
    "*   In Python, the `=` symbol assigns the value on the right to the name on the left.\n",
    "*   The variable is created when a value is assigned to it. When you call the variable, it will refer to whatever value it currently holds.\n",
    "\n",
    "Here's Python code that assigns a year to a variable `year` and a month in quotation marks to a variable `month`."
   ]
  },
  {
   "cell_type": "code",
   "execution_count": null,
   "metadata": {},
   "outputs": [],
   "source": [
    "year = 2020\n",
    "month = 'July'\n",
    "\n",
    "# Printing our new variables\n",
    "print(year)\n",
    "print(month)"
   ]
  },
  {
   "cell_type": "markdown",
   "metadata": {},
   "source": [
    "💡 **Tip:** To see which variables we have assigned, use the magic commands `%who` and `%whos`. Magic commands are Jupyter-specific: [read about all of them here](https://ipython.readthedocs.io/en/stable/interactive/magics.html). There are a lot of really useful ones!"
   ]
  },
  {
   "cell_type": "code",
   "execution_count": null,
   "metadata": {},
   "outputs": [],
   "source": [
    "# This is a magic command\n",
    "%whos"
   ]
  },
  {
   "cell_type": "markdown",
   "metadata": {},
   "source": [
    "⚠️ **Warning**: If your kernel crashes (or if you reset it), you will **lose the variables** that have been set!"
   ]
  },
  {
   "cell_type": "markdown",
   "metadata": {},
   "source": [
    "## Any Comments?\n",
    "\n",
    "You might have seen a pound sign `#` at the beginning of the code celll above. This is a **comment**, meaning that line of your code won't run.\n",
    "\n",
    "🔔 **Question:** Try running the cell below, then comment out the last two lines and run it again. What changes?\n"
   ]
  },
  {
   "cell_type": "code",
   "execution_count": null,
   "metadata": {},
   "outputs": [],
   "source": [
    "print(1 + 1)\n",
    "\n",
    "This line should be commented\n",
    "this_variable_too = 'a' * 'b'"
   ]
  },
  {
   "cell_type": "markdown",
   "metadata": {},
   "source": [
    "## Indenting\n",
    "\n",
    "Consistent indentation is essential in Python. Python pays close attention to blank spaces, and uses this to understand how you're structuring code. So, you're only supposed to add spaces or indents in places where Python expects you to - otherwise, you'll run into an error.\n",
    "\n",
    "💡 To move multiple lines of code at once, you can select them and then hit `Control + ]` to indent them (move to the right), or `Control + [` to dedent them (move to the left).\n",
    "\n",
    "💡 **Tip**: If you are on a Mac, use `Command` instead of `Control`.\n",
    "\n",
    "🔔 **Question:** Read the error message down below. What is the error type? How can we fix it?"
   ]
  },
  {
   "cell_type": "code",
   "execution_count": null,
   "metadata": {},
   "outputs": [],
   "source": [
    "move_me = 1\n",
    "    move_me_too = 'abc'"
   ]
  },
  {
   "cell_type": "markdown",
   "metadata": {
    "tags": []
   },
   "source": [
    "## Naming Variables\n",
    "\n",
    "Variable names ***must*** follow a few rules:\n",
    "\n",
    "* They cannot start with a digit.\n",
    "* They cannot contain spaces, quotation marks, or other punctuation.\n",
    "* They *may* contain an underscore (typically used to separate words in long variable names).\n",
    "    \n",
    "Ignoring these rules will result in an error in Python. "
   ]
  },
  {
   "cell_type": "markdown",
   "metadata": {},
   "source": [
    "### 💡 Tip: Guidelines for Variable Names\n",
    "\n",
    "*   Python is case-sensitive (`A_variable` and `a_variable` are two separate variables).\n",
    "*   Use meaningful variable names (e.g. `year` is more informative than `a_variable`). Ideally, you should be able to tell what is going on in the code and variables without having to run it.\n",
    "*   There are different styles of writing variables, like **snake case** (`start_year`) and **camel case** (`startYear`). You're free to choose, but be consistent  (e.g avoid `startYear` and `stop_year`). \n",
    "*   Don't use variable names that refer to existing variables and functions in Python (e.g., `print`, `sum`, `str`)."
   ]
  },
  {
   "cell_type": "markdown",
   "metadata": {},
   "source": [
    "## 🥊 Challenge: Debugging Variable Names\n",
    "\n",
    "The following two blocks of code include variable names that cause an error. For each block of code, consider the following questions:\n",
    "1. Which **rule** is being broken? Can you find this information in the error message?\n",
    "2. What **guidelines** aren't being followed? \n",
    "3. How would you change the code?"
   ]
  },
  {
   "cell_type": "code",
   "execution_count": null,
   "metadata": {},
   "outputs": [],
   "source": [
    "1a = 'Washington'\n",
    "b-2 = 'Olympia'\n",
    "\n",
    "print('The capital of', 1a, 'is', b-2)"
   ]
  },
  {
   "cell_type": "code",
   "execution_count": null,
   "metadata": {},
   "outputs": [],
   "source": [
    "A_variable = 2012\n",
    "anotherVariable = 42\n",
    "print(a_variable - anotherVariable)"
   ]
  },
  {
   "cell_type": "markdown",
   "metadata": {
    "tags": []
   },
   "source": [
    "## Debugging\n",
    "\n",
    "You've seen two types of errors by now: `SyntaxError` (you're writing something wrong) and `NameError` (the variable, function, or module you're calling doesn't exist). There are many other errors which we will go over later. For now, just remember: <span style=\"color:red\">**error messages are your friend!**</span>\n",
    "\n",
    "When you want to try and debug an error, think of the following:\n",
    "\n",
    "1. **Read the errors!** They often point to what's wrong, and in which line the error is found. \n",
    "2. **Check your syntax.** You might just be spelling something wrong.\n",
    "3. **Read the documentation.** You might just be using a function in a wrong way. Get into the habit of reading documentation. It looks daunting at first but will get easier over time. \n",
    "4. **Make it smaller.** If you're dealing with large chunks of code, it can help to split it up. This will allow you to hone in on where the error occurs.\n",
    "5. **Print statements.** Printing out the state of your code can be very helpful to spot bugs that don't produce an error message, but cause incorrect output. This is sometimes called a *confidence check*."
   ]
  },
  {
   "cell_type": "markdown",
   "metadata": {},
   "source": [
    "<a id='calculate'></a>\n",
    "# Calculating with Variables\n",
    "\n",
    "*   The key feature of variables is that we can use them just as if they were values.\n",
    "*   **Operators** (special symbols that perform calculations) are shown in purple in a Jupyter Notebook. These are special symbols that tell Python to perform certain operations.\n",
    "* **Functions** are processes that perform multiple operations on variables. We will cover these in a later notebook. \n",
    "\n",
    "Let's check out some common operations below. \n",
    "\n",
    "🔔 **Question:** What outputs do you expect for each line below? Note what values get substituted in for the variables in each operation. "
   ]
  },
  {
   "cell_type": "code",
   "execution_count": null,
   "metadata": {},
   "outputs": [],
   "source": [
    "apples = 15\n",
    "students = 5\n",
    "\n",
    "# Addition\n",
    "apples = apples + 3\n",
    "print('Addition', apples)\n",
    "\n",
    "# Subtraction\n",
    "apples = apples - 3\n",
    "print('Subtraction:', apples)\n",
    "\n",
    "# Multiplication\n",
    "print('Multiplication:', apples * students)\n",
    "\n",
    "# Division\n",
    "print('Division:', apples / students)\n",
    "\n",
    "# Exponentiation\n",
    "print('Exponentiation:', students**2)"
   ]
  },
  {
   "cell_type": "markdown",
   "metadata": {},
   "source": [
    "## 🥊 Challenge: Swapping Values\n",
    "\n",
    "Let's say we have two variables and we want to swap the values for each of them. \n",
    "\n",
    "Does the following method accomplish the goal?\n",
    "\n",
    "💡 **Tip**: What is the value of first and last at the end of the cell?"
   ]
  },
  {
   "cell_type": "code",
   "execution_count": null,
   "metadata": {},
   "outputs": [],
   "source": [
    "first = 'a'\n",
    "last = 'z'\n",
    "\n",
    "first = last\n",
    "last = first"
   ]
  },
  {
   "cell_type": "markdown",
   "metadata": {},
   "source": [
    "Using a third temporary variable (you could call it `temp`), swap the first and last variables, so that `first = 'z'` and `last = 'a'`."
   ]
  },
  {
   "cell_type": "code",
   "execution_count": null,
   "metadata": {},
   "outputs": [],
   "source": [
    "first = 'a'\n",
    "last = 'z'\n",
    "\n",
    "# YOUR CODE HERE\n"
   ]
  },
  {
   "cell_type": "markdown",
   "metadata": {},
   "source": [
    "This is a common technique that is used for swapping variables around. However, often we might choose to just use new variables, rather than overwrite the ones here. Can you think of a reason why we might avoid overwriting a variable? How about a reason why we *would* overwrite a variable?"
   ]
  },
  {
   "cell_type": "markdown",
   "metadata": {
    "tags": []
   },
   "source": [
    "<a id='demo'></a>\n",
    "\n",
    "# 🎬 Demo: Working with Data\n",
    "\n",
    "To cap off this session, here's a demo to see what reproducible data science with Python looks like.\n",
    "Just run the code cell below, and don't worry if you don't understand everything!\n",
    "\n",
    "* We'll be using a `pandas` data frame to store and manipulate the data - you'll learn more about `pandas` in the next workshop!\n",
    "* Our data comes from the California Health Interview Survey (CHIS), the nation's largest state health survey. The data has been altered for demonstration purposes.\n",
    "\n",
    "Let's have a look at the data:"
   ]
  },
  {
   "cell_type": "code",
   "execution_count": null,
   "metadata": {},
   "outputs": [],
   "source": [
    "import pandas as pd\n",
    "\n",
    "# Reading in a comma-seperated values file\n",
    "chis_df = pd.read_csv('../data/chis_extract.csv')\n",
    "chis_df.head()"
   ]
  },
  {
   "cell_type": "markdown",
   "metadata": {},
   "source": [
    "Looks like we have a bunch of information here. Let's focus on the column for the number of fruit people eat per day (the \"fruit_perweek\" column), and whether people rent or own a house (the \"tenure\" column).\n",
    "\n",
    "In the next steps, we'll...\n",
    "\n",
    "1. Check out if there's a correlation between variables\n",
    "2. Plot that correlation"
   ]
  },
  {
   "cell_type": "code",
   "execution_count": null,
   "metadata": {},
   "outputs": [],
   "source": [
    "# Getting the correlation\n",
    "chis_df['fruit_perweek'].corr(chis_df['veg_perweek'])"
   ]
  },
  {
   "cell_type": "code",
   "execution_count": null,
   "metadata": {},
   "outputs": [],
   "source": [
    "# Plotting\n",
    "chis_df.plot(kind='scatter', x='fruit_perweek', y='veg_perweek');"
   ]
  },
  {
   "cell_type": "markdown",
   "metadata": {},
   "source": [
    "Looks like people who own a house drink fewer sodas on average. There might be a confounding variable that could explain this..."
   ]
  }
 ],
 "metadata": {
  "kernelspec": {
   "display_name": "Python 3 (ipykernel)",
   "language": "python",
   "name": "python3"
  },
  "language_info": {
   "codemirror_mode": {
    "name": "ipython",
    "version": 3
   },
   "file_extension": ".py",
   "mimetype": "text/x-python",
   "name": "python",
   "nbconvert_exporter": "python",
   "pygments_lexer": "ipython3",
   "version": "3.8.13"
  }
 },
 "nbformat": 4,
 "nbformat_minor": 4
}
