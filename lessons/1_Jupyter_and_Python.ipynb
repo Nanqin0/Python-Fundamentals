{
 "cells": [
  {
   "cell_type": "markdown",
   "metadata": {},
   "source": [
    "# Python Fundamentals: Introduction to Jupyter and Python\n",
    "\n",
    "* * * \n",
    "<div class=\"alert alert-success\">  \n",
    "    \n",
    "### Learning Objectives \n",
    "    \n",
    "* Run and edit Jupyter Notebooks.\n",
    "* Assign and calculate with variables in Python.\n",
    "* Getting help when dealing with error messages. \n",
    "</div>\n",
    "\n",
    "### Icons Used in This Notebook\n",
    "🔔 **Question**: A quick question to help you understand what's going on.<br>\n",
    "🥊 **Challenge**: Interactive exercise. We'll work through these in the workshop!<br>\n",
    "💡 **Tip**: How to do something a bit more efficiently or effectively.<br>\n",
    "🎬 **Demo**: Showing off something more advanced – so you know what Python can be used for!<br>\n",
    "\n",
    "### Sections\n",
    "1. [This Workshop](#this)\n",
    "2. [Working With Jupyter Notebooks](#jupyter)\n",
    "3. [Variables in Python](#variables)\n",
    "4. [Calculating With Variables](#calculate)\n",
    "5. [Demo: Working With Data Frames](#demo)"
   ]
  },
  {
   "cell_type": "markdown",
   "metadata": {},
   "source": [
    "<a id='this'></a>\n",
    "\n",
    "# This Workshop\n",
    "\n",
    "Python is a general-purpose, powerful, and high-level programming language. It can be used for many tasks, including building websites and software, automating tasks, conducting data analyses, and more.\n",
    "\n",
    "The best way to learn how to code is to do something useful, so this introduction to Python is built around **data analysis**.\n",
    "\n",
    "The data we will be using in this workshop comes from [Gapminder](https://www.gapminder.org/), an independent educational non-proﬁt. The dataset contains data for 142 countries, with values for life expectancy, GDP per capita, and population, every five years, from 1952 to 2007. It looks like this:\n",
    "\n",
    "<img src=\"../img/gap_ex.png\" alt=\"gapminder_data\" width=\"500\"/>\n",
    "\n",
    "Imagine you're a data scientist wanting to perform an exploratory data analysis on this dataset, using the basics of Python. By the end of this workshop series, you'll be able to do so."
   ]
  },
  {
   "cell_type": "markdown",
   "metadata": {},
   "source": [
    "<a id='jupyter'></a>\n",
    "# Working With Jupyter\n",
    "\n",
    "We use Jupyter Lab as our interface for coding. The document you are looking at is called a **Notebook**: it allows us to compile all aspects of a data project in one place, making it easier to show the entire process of a project to your intended audience! \n",
    "\n",
    "In Jupyter Notebook documents, code and text are divided into cells which can each be run separately.\n",
    "\n",
    "Jupyter Notebooks consist of **code cells** and **Markdown cells**. You can change the type of a cell in the top of the screen where it says \"Markdown\" or \"Code\"."
   ]
  },
  {
   "cell_type": "markdown",
   "metadata": {},
   "source": [
    "## Code Cells\n",
    "\n",
    "The cell below is a code cell. Press **Shift + Enter** on it to run the code and advance to the next cell.<br>"
   ]
  },
  {
   "cell_type": "code",
   "execution_count": null,
   "metadata": {},
   "outputs": [],
   "source": [
    "print('Welcome to D-Lab!')"
   ]
  },
  {
   "cell_type": "markdown",
   "metadata": {},
   "source": [
    "The previous cell contains a **statement**. This is an instruction that the Python interpreter can execute.\n",
    "\n",
    "`print()` is a **function**. A function is like a little program that performs an action on some value or data. You can often identify a function because of its trailing round parentheses `()`. The `print()` function just prints out whatever you put in between the parentheses."
   ]
  },
  {
   "cell_type": "markdown",
   "metadata": {},
   "source": [
    "## 🥊 Challenge 1 : My First Print Statement \n",
    "\n",
    "Write your own `print` statement in the code cell below. Follow the syntax of the example above, and change the text in the quotation marks."
   ]
  },
  {
   "cell_type": "code",
   "execution_count": null,
   "metadata": {},
   "outputs": [],
   "source": [
    "# Write your own awesome print statement here!\n"
   ]
  },
  {
   "cell_type": "markdown",
   "metadata": {},
   "source": [
    "🔔 **Question:** What does the below code cell do?"
   ]
  },
  {
   "cell_type": "code",
   "execution_count": null,
   "metadata": {},
   "outputs": [],
   "source": [
    "a = 1 + 2\n",
    "print(a)"
   ]
  },
  {
   "cell_type": "markdown",
   "metadata": {},
   "source": [
    "## 🥊 Challenge 2: Executing Cells Multiple Times\n",
    "\n",
    "Try using **Shift + Enter** to run the following cell three times. What is the output?"
   ]
  },
  {
   "cell_type": "code",
   "execution_count": null,
   "metadata": {},
   "outputs": [],
   "source": [
    "a = a + 1\n",
    "print(a)"
   ]
  },
  {
   "cell_type": "markdown",
   "metadata": {},
   "source": [
    "💡 **Tip:** In Jupyter, you don't always need a print statement. Jupyter will automatically output the result of the **last evaluation** in a cell to your screen. When you just want to check what value a certain variable holds, you can just type the variable name and run the cell. Let's try it:"
   ]
  },
  {
   "cell_type": "code",
   "execution_count": null,
   "metadata": {},
   "outputs": [],
   "source": [
    "a"
   ]
  },
  {
   "cell_type": "markdown",
   "metadata": {},
   "source": [
    "## Don't Forget the Brackets\n",
    "\n",
    "Below, we use a function name without parentheses. What does the output say? "
   ]
  },
  {
   "cell_type": "code",
   "execution_count": null,
   "metadata": {},
   "outputs": [],
   "source": [
    "print"
   ]
  },
  {
   "cell_type": "markdown",
   "metadata": {},
   "source": [
    "💡 **Tip**: This is referring to the stored function in memory. In order for the function to actually run, it must be called with `()`."
   ]
  },
  {
   "cell_type": "markdown",
   "metadata": {
    "tags": []
   },
   "source": [
    "## Markdown Cells\n",
    "\n",
    "This cell is written in **Markdown**, a simple markup language. We use it to narrate the workshop and provide context. \n",
    "\n",
    "Markdown has its own syntax, which is fairly straighforward. Here's a [cheatsheet](https://github.com/adam-p/markdown-here/wiki/Markdown-Cheatsheet) if you want to know more. You can also double-click on any of the Markdown cells in the Notebook to see how they are made."
   ]
  },
  {
   "cell_type": "markdown",
   "metadata": {},
   "source": [
    "**💡 Tip:** Double click this text cell to see the Markdown code rendering the output. Press **Shift + Enter** to go back to the formatted text."
   ]
  },
  {
   "cell_type": "markdown",
   "metadata": {
    "tags": []
   },
   "source": [
    "### 💡 Tip: Command Mode and Edit Mode \n",
    "\n",
    "If you want to create new empty cells, you can use the `+` button at the top of the Notebook. \n",
    "\n",
    "Enter **Edit Mode** by pressing **Enter** or using the mouse to click on a cell’s editor area. Edit Mode allows you to edit cells.<br>\n",
    "Enter **Command Mode** by pressing **Esc** or using the mouse to click outside a cell's editor area. Command Mode allows you to use shortcut keys:\n",
    "\n",
    "* **a**: Add cell above  \n",
    "* **b**: Add cell below  \n",
    "* **dd**: delete cell (also click `Edit -> Undo Cell Operation` if needed)\n",
    "* **m**: Convert cell to Markdown  \n",
    "* **y**: Convert cell to Code  "
   ]
  },
  {
   "cell_type": "markdown",
   "metadata": {
    "tags": []
   },
   "source": [
    "## The Kernel\n",
    "\n",
    "One of the tabs in the Jupyter menu is \"Kernel\". This kernel is the computational engine that executes the code contained in a Jupyter Notebook. Each time you run a code block, the kernel processes that block, executes the code, and keeps a record of what was run.\n",
    " \n",
    "💡 **Tip**: Jupyter remembers all lines of code it executed, **even if it's not currently displayed in the Notebook**. Deleting a line of code or changing it to Markdown does not delete it from the Notebook's memory if it has already been run! This can cause a lot of confusion."
   ]
  },
  {
   "cell_type": "markdown",
   "metadata": {},
   "source": [
    "### Restarting the Kernel\n",
    "\n",
    "To clear your session in a Jupyter Notebook, use `Kernel -> Restart` in the menu. The kernel is basically the program actually running the code, so if you reset the kernel, it's as if you just opened up the Notebook for the first time. **All of the variables you set are lost.**\n",
    "\n",
    "First, run the cell below. What is the output?"
   ]
  },
  {
   "cell_type": "code",
   "execution_count": null,
   "metadata": {},
   "outputs": [],
   "source": [
    "mystring = 'I am just a string.'\n",
    "\n",
    "print(mystring)"
   ]
  },
  {
   "cell_type": "markdown",
   "metadata": {},
   "source": [
    " Now use `Kernel -> Restart` in the menu! Then run the code below. What happens?"
   ]
  },
  {
   "cell_type": "code",
   "execution_count": null,
   "metadata": {},
   "outputs": [],
   "source": [
    "print(mystring)"
   ]
  },
  {
   "cell_type": "markdown",
   "metadata": {},
   "source": [
    "Note that the error message tells you where the error happened (with an arrow, no less!). It is telling us that `mystring` is not defined, since we just reset the kernel."
   ]
  },
  {
   "cell_type": "markdown",
   "metadata": {},
   "source": [
    "💡 **Tip**: The number next to each code cell is a **counter**. It gives you a record of what order you ran your cells in. To reset the counter, you have to reset the kernel."
   ]
  },
  {
   "cell_type": "markdown",
   "metadata": {},
   "source": [
    "## Jupyter Autocomplete\n",
    "\n",
    "Jupyter Notebooks also allow for tab completion, just like many command line interpreters and text editors. If you begin typing the name of something (e.g., a variable, a file in the current directory, etc.) that already exists, you can simply hit **Tab** and Jupyter will autocomplete it for you. If there is more than one possibility, it will show them to you and you can choose from there. For example:"
   ]
  },
  {
   "cell_type": "code",
   "execution_count": null,
   "metadata": {},
   "outputs": [],
   "source": [
    "test_me = 1\n",
    "test_me_2 = 2"
   ]
  },
  {
   "cell_type": "markdown",
   "metadata": {},
   "source": [
    "🔔 **Question:** Try typing `te`, and see what happens when you hit `TAB`! What are you seeing?"
   ]
  },
  {
   "cell_type": "code",
   "execution_count": null,
   "metadata": {},
   "outputs": [],
   "source": [
    "# YOUR CODE HERE\n",
    "\n"
   ]
  },
  {
   "cell_type": "markdown",
   "metadata": {
    "tags": []
   },
   "source": [
    "## Exiting Jupyter\n",
    "\n",
    "When you close your Jupyter Notebook window, all of your values will be lost. But you can save your code for a later time.\n",
    "\n",
    "First go to `File -> Close and Shutdown Notebook` in order to shut down the Notebook you are using and close its window. Once all Notebooks are shut down, you can shut down the entire Jupyter server by closing Anaconda Navigator. You may get a warning dialog box alerting you that Jupyter is still running. Just click **Quit** to shut everything down."
   ]
  },
  {
   "cell_type": "markdown",
   "metadata": {},
   "source": [
    "<a id='variables'></a>\n",
    "\n",
    "# Variables in Python\n",
    "\n",
    "You may have noticed our usage of the equals sign, `=`, in previous cells to create \"placeholders\" for certain values. We were creating **variables**.\n",
    "\n",
    "*   Variables are containers for values that we want to refer to again later in the code.\n",
    "*   In Python, the `=` symbol assigns the value on the right to the name on the left.\n",
    "*   The variable is created when a value is assigned to it. When you call the variable, it will refer to whatever value it currently holds.\n",
    "\n",
    "Here's Python code that assigns a year to a variable `year` and a month in quotation marks to a variable `month`."
   ]
  },
  {
   "cell_type": "code",
   "execution_count": null,
   "metadata": {},
   "outputs": [],
   "source": [
    "year = 1972\n",
    "country = 'Afghanistan'\n",
    "\n",
    "# Printing our new variables\n",
    "print(year)\n",
    "print(country)"
   ]
  },
  {
   "cell_type": "markdown",
   "metadata": {},
   "source": [
    "💡 **Tip:** To see which variables we have assigned, use the magic commands `%who` and `%whos`. Magic commands are Jupyter-specific: [read about all of them here](https://ipython.readthedocs.io/en/stable/interactive/magics.html). There are a lot of really useful ones!"
   ]
  },
  {
   "cell_type": "code",
   "execution_count": null,
   "metadata": {},
   "outputs": [],
   "source": [
    "# This is a magic command\n",
    "%whos"
   ]
  },
  {
   "cell_type": "markdown",
   "metadata": {},
   "source": [
    "💡 **Tip**: If your kernel crashes (or if you reset it), you will **lose the variables** that have been set!"
   ]
  },
  {
   "cell_type": "markdown",
   "metadata": {},
   "source": [
    "## Any Comments?\n",
    "\n",
    "You might have seen a pound sign `#` at the beginning of the code celll above. This is a **comment**, meaning that line of your code won't run.\n",
    "\n",
    "🔔 **Question:** Try running the cell below, then comment out the last two lines and run it again. What changes?\n"
   ]
  },
  {
   "cell_type": "code",
   "execution_count": null,
   "metadata": {},
   "outputs": [],
   "source": [
    "print(1 + 1)\n",
    "\n",
    "This line should be commented\n",
    "this_variable_too = 'a' * 'b'"
   ]
  },
  {
   "cell_type": "markdown",
   "metadata": {
    "tags": []
   },
   "source": [
    "## Indenting\n",
    "\n",
    "Consistent indentation is essential in Python. Python pays close attention to blank spaces, and uses this to understand how you're structuring code. So, you're only supposed to add spaces or indents in places where Python expects you to - otherwise, you'll run into an error."
   ]
  },
  {
   "cell_type": "markdown",
   "metadata": {},
   "source": [
    "## 🥊 Challenge 3: Indenting\n",
    "\n",
    "Read the error message down below. What is the error type? How can we fix it?"
   ]
  },
  {
   "cell_type": "code",
   "execution_count": null,
   "metadata": {},
   "outputs": [],
   "source": [
    "right_indent = 1\n",
    "    wrong_indent = 'abc'"
   ]
  },
  {
   "cell_type": "markdown",
   "metadata": {
    "tags": []
   },
   "source": [
    "## Naming Variables\n",
    "\n",
    "Variable names ***must*** follow a few rules:\n",
    "\n",
    "* They cannot start with a digit.\n",
    "* They cannot contain spaces, quotation marks, or other punctuation.\n",
    "* They *may* contain an underscore (typically used to separate words in long variable names).\n",
    "    \n",
    "Ignoring these rules will result in an error in Python. "
   ]
  },
  {
   "cell_type": "markdown",
   "metadata": {},
   "source": [
    "## 🥊 Challenge 4: Debugging Variable Names\n",
    "\n",
    "The following two blocks of code include variable names that cause an error. For each block of code, consider the following questions:\n",
    "1. Which rule is being broken? Can you find this information in the error message?\n",
    "2. What guidelines aren't being followed? \n",
    "3. How would you change the code?"
   ]
  },
  {
   "cell_type": "code",
   "execution_count": null,
   "metadata": {},
   "outputs": [],
   "source": [
    "country-1 = 'Zimbabwe'\n",
    "2b = 'Africa'\n",
    "\n",
    "print(country-1, 'is a country in', 2b)"
   ]
  },
  {
   "cell_type": "code",
   "execution_count": null,
   "metadata": {},
   "outputs": [],
   "source": [
    "avg_Age = 30.332\n",
    "anotherVariable = 28.801\n",
    "print(avg_age - another_variable)"
   ]
  },
  {
   "cell_type": "markdown",
   "metadata": {
    "tags": []
   },
   "source": [
    "## Debugging\n",
    "\n",
    "You've seen two types of errors by now: `SyntaxError` (you're writing something wrong) and `NameError` (the variable, function, or module you're calling doesn't exist). There are many other errors which we will go over later. For now, just remember: <span style=\"color:red\">**error messages are your friend!**</span>\n",
    "\n",
    "When you want to try and debug an error, think of the following:\n",
    "\n",
    "1. **Read the errors!** Especially the end of the error message. It gives you a summary about what went wrong, and in which line the error is found. \n",
    "2. **Check your syntax.** You might just be spelling something wrong.\n",
    "3. **Read the documentation.** You might just be using a function in a wrong way. Get into the habit of reading documentation. It looks daunting at first but will get easier over time. \n",
    "\n",
    "💡 **Tip:** When you're programming, most of your time will be spent debugging, looking stuff up (like program-specific syntax, [documentation](https://github.com/dlab-berkeley/python-intensive/blob/master/glossary.md#documentation) for packages, useful functions, etc.), or testing. Relatively little time is actually spent typing out the code."
   ]
  },
  {
   "cell_type": "markdown",
   "metadata": {
    "tags": []
   },
   "source": [
    "## 🥊 Challenge 5: What The...\n",
    "\n",
    "What does the following error seem to tell you? Google the error and see if you can fix it!"
   ]
  },
  {
   "cell_type": "code",
   "execution_count": 1,
   "metadata": {},
   "outputs": [
    {
     "ename": "SyntaxError",
     "evalue": "EOL while scanning string literal (2323373726.py, line 1)",
     "output_type": "error",
     "traceback": [
      "\u001b[0;36m  Input \u001b[0;32mIn [1]\u001b[0;36m\u001b[0m\n\u001b[0;31m    print(\"something went wrong')\u001b[0m\n\u001b[0m                                 ^\u001b[0m\n\u001b[0;31mSyntaxError\u001b[0m\u001b[0;31m:\u001b[0m EOL while scanning string literal\n"
     ]
    }
   ],
   "source": [
    "print('something went wrong)"
   ]
  },
  {
   "cell_type": "markdown",
   "metadata": {},
   "source": [
    "<a id='calculate'></a>\n",
    "# Calculating With Variables\n",
    "\n",
    "*   The key feature of variables is that we can use them just as if they were values.\n",
    "*   **Operators** (special symbols that perform calculations) are shown in purple in a Jupyter Notebook. These are special symbols that tell Python to perform certain operations.\n",
    "* **Functions** are processes that perform operations on variables. Python has built-in functions like `print()` that are always available to use.\n",
    "\n",
    "Let's check out some common operations below. \n",
    "\n",
    "🔔 **Question:** What outputs do you expect for each line below? Note what values get substituted in for the variables in each operation. "
   ]
  },
  {
   "cell_type": "code",
   "execution_count": null,
   "metadata": {},
   "outputs": [],
   "source": [
    "year = 1952\n",
    "pop = 60000\n",
    "gdpPercap = 241\n",
    "gdpTotal = 14460000\n",
    "\n",
    "# Addition\n",
    "year = year + 3\n",
    "print('Addition', year)\n",
    "\n",
    "# Subtraction\n",
    "year = year - 3\n",
    "print('Subtraction:', year)\n",
    "\n",
    "# Multiplication\n",
    "print('Multiplication:', pop * gdpPercap)\n",
    "\n",
    "# Division\n",
    "print('Division:', gdpTotal / pop)"
   ]
  },
  {
   "cell_type": "markdown",
   "metadata": {},
   "source": [
    "💡 **Tip**: As you can see above, comments can be useful as reminders to yourself when writing code. Feel free to add comments to the code cells in these Notebooks!"
   ]
  },
  {
   "cell_type": "markdown",
   "metadata": {},
   "source": [
    "## 🥊 Challenge 6: Swapping Values\n",
    "\n",
    "Let's say we have two variables and we want to swap the values for each of them. \n",
    "\n",
    "Does the following method accomplish the goal?\n",
    "\n",
    "💡 **Tip**: What is the value of first and last at the end of the cell?"
   ]
  },
  {
   "cell_type": "code",
   "execution_count": null,
   "metadata": {},
   "outputs": [],
   "source": [
    "start = 1997\n",
    "end = 1952\n",
    "\n",
    "start = end\n",
    "end = start"
   ]
  },
  {
   "cell_type": "markdown",
   "metadata": {},
   "source": [
    "Using a third temporary variable (you could call it `temp`), swap the first and last variables, so that `start = 1952` and `end = 1997`."
   ]
  },
  {
   "cell_type": "code",
   "execution_count": null,
   "metadata": {},
   "outputs": [],
   "source": [
    "start = 1997\n",
    "end = 1952\n",
    "\n",
    "# YOUR CODE HERE\n"
   ]
  },
  {
   "cell_type": "markdown",
   "metadata": {},
   "source": [
    "This is a common technique that is used for swapping variables around. However, often we might choose to just use new variables, rather than overwrite the ones here."
   ]
  },
  {
   "cell_type": "markdown",
   "metadata": {
    "tags": []
   },
   "source": [
    "<a id='demo'></a>\n",
    "\n",
    "# 🎬 Demo: Working With Data Frames\n",
    "\n",
    "To cap off this session, here's a demo to see what reproducible data science with Python looks like.\n",
    "Just run the code cell below, and don't worry if you don't understand everything!\n",
    "\n",
    "We'll be using a `pandas` data frame to store and manipulate the data - you'll learn more about `pandas` in the next workshop!\n",
    "\n",
    "Let's have a look at the data:"
   ]
  },
  {
   "cell_type": "code",
   "execution_count": null,
   "metadata": {},
   "outputs": [],
   "source": [
    "import pandas as pd\n",
    "\n",
    "# Reading in a comma-seperated values file\n",
    "chis_df = pd.read_csv('../data/gapminder-FiveYearData.csv')\n",
    "chis_df.head()"
   ]
  },
  {
   "cell_type": "markdown",
   "metadata": {},
   "source": [
    "Let's focus on the relation between GDP per capita (`gdpPercap`) and life expectancy (`lifeExp`). Using `pandas`, we can:\n",
    "\n",
    "1. Check out if there's a correlation between variables.\n",
    "2. Plot that correlation."
   ]
  },
  {
   "cell_type": "code",
   "execution_count": null,
   "metadata": {},
   "outputs": [],
   "source": [
    "# Getting the correlation\n",
    "df['lifeExp'].corr(df['gdpPercap'])"
   ]
  },
  {
   "cell_type": "code",
   "execution_count": null,
   "metadata": {},
   "outputs": [],
   "source": [
    "# Plotting\n",
    "df.plot(kind='scatter', x='lifeExp', y='gdpPercap');"
   ]
  },
  {
   "cell_type": "markdown",
   "metadata": {
    "jp-MarkdownHeadingCollapsed": true,
    "tags": []
   },
   "source": [
    "<div class=\"alert alert-success\">\n",
    "\n",
    "## ❗ Key Points\n",
    "\n",
    "* Jupyter has markdown and code cells. Change the type of cell in the dropdown box on top of your screen.\n",
    "* Use `variable = value` to assign a value to a variable in order to record it in memory.\n",
    "* `print()` is a built-in function. Functions can be recognized by their trailing parenthesis. \n",
    "* Use `print(variable)` to display the value of `variable`.\n",
    "* Use `# some kind of explanation` to add comments to your code.\n",
    "* In the menu bar, go to `Kernel -> Restart Kernel` to restart Python. All your assigned variables will be lost.\n",
    "     \n",
    "</div>"
   ]
  }
 ],
 "metadata": {
  "kernelspec": {
   "display_name": "Python 3 (ipykernel)",
   "language": "python",
   "name": "python3"
  },
  "language_info": {
   "codemirror_mode": {
    "name": "ipython",
    "version": 3
   },
   "file_extension": ".py",
   "mimetype": "text/x-python",
   "name": "python",
   "nbconvert_exporter": "python",
   "pygments_lexer": "ipython3",
   "version": "3.8.13"
  }
 },
 "nbformat": 4,
 "nbformat_minor": 4
}
